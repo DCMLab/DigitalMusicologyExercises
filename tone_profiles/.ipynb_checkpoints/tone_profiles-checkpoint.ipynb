{
 "cells": [
  {
   "cell_type": "code",
   "execution_count": 1,
   "metadata": {},
   "outputs": [
    {
     "ename": "ModuleNotFoundError",
     "evalue": "No module named 'pandas'",
     "output_type": "error",
     "traceback": [
      "\u001b[0;31m---------------------------------------------------------------------------\u001b[0m",
      "\u001b[0;31mModuleNotFoundError\u001b[0m                       Traceback (most recent call last)",
      "\u001b[0;32m<ipython-input-1-ea7809ff91cf>\u001b[0m in \u001b[0;36m<module>\u001b[0;34m\u001b[0m\n\u001b[0;32m----> 1\u001b[0;31m \u001b[0;32mimport\u001b[0m \u001b[0mpandas\u001b[0m \u001b[0;32mas\u001b[0m \u001b[0mpd\u001b[0m\u001b[0;34m\u001b[0m\u001b[0;34m\u001b[0m\u001b[0m\n\u001b[0m\u001b[1;32m      2\u001b[0m \u001b[0;32mfrom\u001b[0m \u001b[0mfractions\u001b[0m \u001b[0;32mimport\u001b[0m \u001b[0mFraction\u001b[0m\u001b[0;34m\u001b[0m\u001b[0;34m\u001b[0m\u001b[0m\n\u001b[1;32m      3\u001b[0m \u001b[0;32mimport\u001b[0m \u001b[0mcufflinks\u001b[0m \u001b[0;32mas\u001b[0m \u001b[0mcf\u001b[0m\u001b[0;34m\u001b[0m\u001b[0;34m\u001b[0m\u001b[0m\n\u001b[1;32m      4\u001b[0m \u001b[0mcf\u001b[0m\u001b[0;34m.\u001b[0m\u001b[0mgo_offline\u001b[0m\u001b[0;34m(\u001b[0m\u001b[0;34m)\u001b[0m\u001b[0;34m\u001b[0m\u001b[0;34m\u001b[0m\u001b[0m\n\u001b[1;32m      5\u001b[0m \u001b[0mcf\u001b[0m\u001b[0;34m.\u001b[0m\u001b[0mset_config_file\u001b[0m\u001b[0;34m(\u001b[0m\u001b[0mtheme\u001b[0m\u001b[0;34m=\u001b[0m\u001b[0;34m'white'\u001b[0m\u001b[0;34m)\u001b[0m\u001b[0;34m\u001b[0m\u001b[0;34m\u001b[0m\u001b[0m\n",
      "\u001b[0;31mModuleNotFoundError\u001b[0m: No module named 'pandas'"
     ]
    }
   ],
   "source": [
    "import pandas as pd\n",
    "from fractions import Fraction\n",
    "import cufflinks as cf\n",
    "cf.go_offline()\n",
    "cf.set_config_file(theme='white')"
   ]
  },
  {
   "cell_type": "markdown",
   "metadata": {},
   "source": [
    "### Helpers"
   ]
  },
  {
   "cell_type": "code",
   "execution_count": null,
   "metadata": {},
   "outputs": [],
   "source": [
    "PITCH_NAMES = {0: 'F', 1: 'C', 2: 'G', 3: 'D', 4: 'A', 5: 'E', 6: 'B'}\n",
    "\n",
    "def tpc2name(tpc):\n",
    "    \"\"\"Return name of a tonal pitch class where\n",
    "       0 = C, -1 = F, -2 = Bb, 1 = G etc.\n",
    "    \"\"\"\n",
    "    try:\n",
    "        tpc = int(tpc) + 1 # to make the lowest name F = 0 instead of -1\n",
    "    except:\n",
    "        raise ValueError(f\"'{tpc}' is not a TPC.\")\n",
    "\n",
    "    acc = abs(tpc // 7) * 'b' if tpc < 0 else tpc // 7 * '#'\n",
    "    return PITCH_NAMES[tpc % 7] + acc"
   ]
  },
  {
   "cell_type": "markdown",
   "metadata": {},
   "source": [
    "# Loading the note lists for ~700 compositions\n",
    "\n",
    "* id: which piece\n",
    "* mn: measure number (=bar number)\n",
    "* onset: distance from the measure's beginning (expressed as fraction of a whole note, so that 1/4 = quarter note)\n",
    "* duration: duration (expressed as fraction of a whole note, so that 1/4 = quarter note)\n",
    "* tpc: tonal pitch class, expressed on the line of fifth with (any) C = 0 (see below)\n",
    "* midi: pitch expressed as piano key with 60 = C4\n",
    "* keysig: Key signature of the score, 3 = 3 sharps; -3 = 3 flats\n",
    "* timesig: Time signature of the score (question: why isn't this column conserved as a string, instead of parsing the fraction?)\n",
    "\n",
    "### TPC (extends in both directions)\n",
    "\n",
    "|tpc|pitch|accidental|\n",
    "|---|-----|----------|\n",
    "|-9|B|$\\flat\\flat$|\n",
    "|-8|F|$\\flat$|\n",
    "|-7|C|$\\flat$|\n",
    "|-6|G|$\\flat$|\n",
    "|-5|D|$\\flat$|\n",
    "|-4|A|$\\flat$|\n",
    "|-3|E|$\\flat$|\n",
    "|-2|B|$\\flat$|\n",
    "|-1|F||\n",
    "|0|C||\n",
    "|1|G||\n",
    "|2|D||\n",
    "|3|A||\n",
    "|4|E||\n",
    "|5|B||\n",
    "|6|F|$\\sharp$|\n",
    "|7|C|$\\sharp$|\n",
    "|8|G|$\\sharp$|\n",
    "|9|D|$\\sharp$|\n",
    "|10|A|$\\sharp$|\n",
    "|11|E|$\\sharp$|\n",
    "|12|B|$\\sharp$|\n",
    "|13|F|$\\sharp\\sharp$|\n"
   ]
  },
  {
   "cell_type": "code",
   "execution_count": null,
   "metadata": {},
   "outputs": [],
   "source": [
    "dtypes = dict({col: int for col in ['id', 'mn', 'tpc', 'midi']}, timesig=str)\n",
    "converters = {col: Fraction for col in ['onset', 'duration']}\n",
    "notes = pd.read_csv('note_list.tsv', sep='\\t', dtype=dtypes, converters=converters)\n",
    "print(notes.shape)\n",
    "notes.head(5)"
   ]
  },
  {
   "cell_type": "markdown",
   "metadata": {},
   "source": [
    "# Counting notes "
   ]
  },
  {
   "cell_type": "code",
   "execution_count": null,
   "metadata": {},
   "outputs": [],
   "source": [
    "notes.midi.value_counts().iplot('bar', title='Distribution of MIDI pitches over the corpus', xTitle='midi', yTitle='counts')"
   ]
  },
  {
   "cell_type": "code",
   "execution_count": null,
   "metadata": {},
   "outputs": [],
   "source": [
    "notes.tpc.value_counts()\\\n",
    "        .sort_index()\\\n",
    "        .rename(tpc2name)\\\n",
    "        .iplot('bar', title='Distribution of tonal pitch classes over the corpus', xTitle='Note name', yTitle='Counts')"
   ]
  },
  {
   "cell_type": "code",
   "execution_count": null,
   "metadata": {},
   "outputs": [],
   "source": [
    "notes['pc'] = notes.midi.map(lambda x: x%12)\n",
    "notes.pc.value_counts().iplot('bar', title='All MIDI pitches after projecting them into one octave (= Chromatic pitch classes)', xTitle='Chromatic pitch class', yTitle='Counts')"
   ]
  },
  {
   "cell_type": "markdown",
   "metadata": {},
   "source": [
    "As noted in class, this distribution shows how often every key of the piano is pressed if you play all notes of all pieces in the middle octave. The plot reveals that\n",
    "\n",
    "* the white keys [0, 2, 4, 5, 7, 9, 11] will be pressed more frequently than the black keys [1, 3, 6, 8, 10],\n",
    "* Bb/A# is the most frequent black key,\n",
    "* B/Cb  is the least frequent white key.\n",
    "\n",
    "### How many notes in one piece?"
   ]
  },
  {
   "cell_type": "code",
   "execution_count": null,
   "metadata": {},
   "outputs": [],
   "source": [
    "notes.groupby('id').size().iplot('hist', bins=50, title='Histogram showing the number of notes per piece', xTitle='bin size = 200 notes', yTitle='Count of pieces')"
   ]
  },
  {
   "cell_type": "markdown",
   "metadata": {},
   "source": [
    "### Tone counts per piece"
   ]
  },
  {
   "cell_type": "code",
   "execution_count": null,
   "metadata": {},
   "outputs": [],
   "source": [
    "norm = lambda df: df.div(df.sum(axis=1), axis=0)"
   ]
  },
  {
   "cell_type": "code",
   "execution_count": null,
   "metadata": {},
   "outputs": [],
   "source": [
    "pc_counts = notes.groupby('id').pc.value_counts().unstack()\n",
    "pc_counts = norm(pc_counts)\n",
    "pc_counts.head(10)"
   ]
  },
  {
   "cell_type": "markdown",
   "metadata": {},
   "source": [
    "Cufflinks uses the index for the x-axis and every column as one trace. That's why the DataFrame needs to be transposed for this plot:"
   ]
  },
  {
   "cell_type": "code",
   "execution_count": null,
   "metadata": {},
   "outputs": [],
   "source": [
    "pc_counts.T.iplot(title='Normalised pitch class count distributions of all pieces', xTitle='Chromatic pitch class', yTitle=\"Fraction of piece's note count\")"
   ]
  },
  {
   "cell_type": "markdown",
   "metadata": {},
   "source": [
    "### Tone durations per piece"
   ]
  },
  {
   "cell_type": "code",
   "execution_count": null,
   "metadata": {},
   "outputs": [],
   "source": [
    "pc_durations = notes.groupby(['id', 'pc']).duration.sum().unstack()\n",
    "pc_durations = norm(pc_durations).astype(float)\n",
    "pc_durations.T.iplot(title='Normalised pitch class duration distributions of all pieces', xTitle='Chromatic pitch class', yTitle='Fraction of summed durations')"
   ]
  },
  {
   "cell_type": "markdown",
   "metadata": {},
   "source": [
    "# Assignment: Tonal Hierarchy\n",
    "\n",
    "* As you see, different pieces favour different sets of pitches.\n",
    "* Use your knowledge about tonal hierarchies to infer from the data for every piece its global key, that is\n",
    "    * its root\n",
    "    * whether it is in minor or major.\n",
    "* Use the distributions of pitch durations rather than those of pitch counts.\n",
    "* Small caveat: You can expect the root and the fifth above it to be the two most frequent pitches, but in many cases, the fifth is more frequent than the root. Why do you think is that and how can we solve the problem?\n",
    "* Solve the problem with the MIDI information (i.e., pitch classes) and compare it to the ground truth. Note that from the chromatic pitch class that you name as root, you can only guess the correct tonal pitch class.\n",
    "\n",
    "## Additional task for digging deeper\n",
    "\n",
    "How does the task change if we use tonal pitch classes for finding the key?\n",
    "\n",
    "### Hint 1\n",
    "\n",
    "One way to go at it would consist in transposing the tone distributions to set the root to 0. You can apply this function to rotate a row by n:"
   ]
  },
  {
   "cell_type": "code",
   "execution_count": null,
   "metadata": {},
   "outputs": [],
   "source": [
    "import numpy as np\n",
    "rotate_series = lambda row, n: pd.Series(np.roll(row, n))"
   ]
  },
  {
   "cell_type": "markdown",
   "metadata": {},
   "source": [
    "### Hint 2\n",
    "This is what the mean of the ground truth for major and minor looks like:"
   ]
  },
  {
   "cell_type": "code",
   "execution_count": null,
   "metadata": {},
   "outputs": [],
   "source": [
    "major_mean_pc_duration = {\n",
    " 0: 0.1792334741300649,\n",
    " 1: 0.016194246522623856,\n",
    " 2: 0.12655280537743901,\n",
    " 3: 0.025386044326330903,\n",
    " 4: 0.12121976418935039,\n",
    " 5: 0.09207725352852898,\n",
    " 6: 0.02930039349131656,\n",
    " 7: 0.19473155624848157,\n",
    " 8: 0.02324467767869272,\n",
    " 9: 0.09867587704734578,\n",
    " 10: 0.024848467922041463,\n",
    " 11: 0.08326001666922679}\n",
    "\n",
    "minor_mean_pc_duration = {\n",
    " 0: 0.16195224046022005,\n",
    " 1: 0.03014516030424735,\n",
    " 2: 0.08993909167778845,\n",
    " 3: 0.1261668911358516,\n",
    " 4: 0.02821709371392731,\n",
    " 5: 0.12078263380972043,\n",
    " 6: 0.023455154424039615,\n",
    " 7: 0.16359499887584905,\n",
    " 8: 0.08642460807252482,\n",
    " 9: 0.032053164535953325,\n",
    " 10: 0.10712390344531529,\n",
    " 11: 0.039598903486405754}\n",
    "pd.Series(major_mean_pc_duration).iplot('bar', title='major')\n",
    "pd.Series(minor_mean_pc_duration).iplot('bar', title='minor')"
   ]
  },
  {
   "cell_type": "markdown",
   "metadata": {},
   "source": [
    "### Loading the ground truth"
   ]
  },
  {
   "cell_type": "code",
   "execution_count": null,
   "metadata": {},
   "outputs": [],
   "source": [
    "keys = pd.read_csv('keys.tsv', sep='\\t', index_col=0)\n",
    "keys['mode'] = keys.globalkey.str.isupper().replace({True: 'major', False:'minor'})\n",
    "keys.head(11)"
   ]
  }
 ],
 "metadata": {
  "kernelspec": {
   "display_name": "pitch_profiles",
   "language": "python",
   "name": "pitch_profiles"
  },
  "language_info": {
   "codemirror_mode": {
    "name": "ipython",
    "version": 3
   },
   "file_extension": ".py",
   "mimetype": "text/x-python",
   "name": "python",
   "nbconvert_exporter": "python",
   "pygments_lexer": "ipython3",
   "version": "3.8.8"
  }
 },
 "nbformat": 4,
 "nbformat_minor": 4
}
