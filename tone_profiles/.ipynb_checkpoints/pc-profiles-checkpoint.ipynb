{
 "cells": [
  {
   "cell_type": "markdown",
   "metadata": {},
   "source": [
    "# Digital Musicology Exercise: Plotting Pitch Class Histograms\n",
    "Note that it is generally a good idea to use [seaborn](http://seaborn.pydata.org) for statistical plotting. "
   ]
  },
  {
   "cell_type": "markdown",
   "metadata": {},
   "source": [
    "## Step 1: Read the data"
   ]
  },
  {
   "cell_type": "code",
   "execution_count": null,
   "metadata": {
    "collapsed": true
   },
   "outputs": [],
   "source": []
  },
  {
   "cell_type": "markdown",
   "metadata": {},
   "source": [
    "## Step 2: Create new colums for the root and mode of the piece\n",
    "Translate the keys into a pitch class of its root and a mode. It might be the easiest to write a dictionary by hand that does the job."
   ]
  },
  {
   "cell_type": "code",
   "execution_count": null,
   "metadata": {
    "collapsed": true
   },
   "outputs": [],
   "source": []
  },
  {
   "cell_type": "markdown",
   "metadata": {},
   "source": [
    "## Step 3: Create one new column for each pitch class\n",
    "1. Translate the sequences of spelled pitches into lists of pitch classes.\n",
    "2. Count the pitch classes of the pieces and write the counts in the data frame."
   ]
  },
  {
   "cell_type": "code",
   "execution_count": null,
   "metadata": {
    "collapsed": true
   },
   "outputs": [],
   "source": []
  },
  {
   "cell_type": "markdown",
   "metadata": {},
   "source": [
    "## Step 4: Plot your first pitch class histogram and pitch class distribution\n",
    "1. What do you expect to see?\n",
    "1. Plot a pitch class histogram in chromatic order.\n",
    "1. What do you see? Can you guess the key of the piece from its pitch class histogram?\n",
    "1. Normalize the pitch class histogram to obtain a pitch class distribution and plot it."
   ]
  },
  {
   "cell_type": "code",
   "execution_count": null,
   "metadata": {
    "collapsed": true
   },
   "outputs": [],
   "source": []
  },
  {
   "cell_type": "markdown",
   "metadata": {},
   "source": [
    "## Step 5: Plot the averaged pitch class distribution for the major and the minor mode\n",
    "1. Which important transformation do you have to apply before the averaging?\n",
    "2. Plot the averaged distributions. Can you show everything in one figure? \n",
    "3. Would it also make sense to plot averaged pitch class histograms?"
   ]
  },
  {
   "cell_type": "code",
   "execution_count": null,
   "metadata": {
    "collapsed": true
   },
   "outputs": [],
   "source": []
  },
  {
   "cell_type": "markdown",
   "metadata": {},
   "source": [
    "## Step 6: Extend the plot above to show the diffusion of each pitch class\n",
    "1. Decide to either use error bars, boxplots, or violin plots. What is the difference between them? Violin plots are of cause the most fancy figures... \n",
    "1. What do you see?"
   ]
  },
  {
   "cell_type": "code",
   "execution_count": null,
   "metadata": {
    "collapsed": true
   },
   "outputs": [],
   "source": []
  }
 ],
 "metadata": {
  "kernelspec": {
   "display_name": "Python [default]",
   "language": "python",
   "name": "python3"
  },
  "language_info": {
   "codemirror_mode": {
    "name": "ipython",
    "version": 3
   },
   "file_extension": ".py",
   "mimetype": "text/x-python",
   "name": "python",
   "nbconvert_exporter": "python",
   "pygments_lexer": "ipython3",
   "version": "3.6.0"
  }
 },
 "nbformat": 4,
 "nbformat_minor": 2
}
