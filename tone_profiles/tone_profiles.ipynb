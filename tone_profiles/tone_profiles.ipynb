{
 "cells": [
  {
   "cell_type": "code",
   "execution_count": 1,
   "metadata": {},
   "outputs": [
    {
     "data": {
      "text/html": [
       "        <script type=\"text/javascript\">\n",
       "        window.PlotlyConfig = {MathJaxConfig: 'local'};\n",
       "        if (window.MathJax) {MathJax.Hub.Config({SVG: {font: \"STIX-Web\"}});}\n",
       "        if (typeof require !== 'undefined') {\n",
       "        require.undef(\"plotly\");\n",
       "        requirejs.config({\n",
       "            paths: {\n",
       "                'plotly': ['https://cdn.plot.ly/plotly-latest.min']\n",
       "            }\n",
       "        });\n",
       "        require(['plotly'], function(Plotly) {\n",
       "            window._Plotly = Plotly;\n",
       "        });\n",
       "        }\n",
       "        </script>\n",
       "        "
      ]
     },
     "metadata": {},
     "output_type": "display_data"
    }
   ],
   "source": [
    "import pandas as pd\n",
    "from fractions import Fraction\n",
    "import cufflinks as cf\n",
    "cf.go_offline()\n",
    "cf.set_config_file(theme='white')"
   ]
  },
  {
   "cell_type": "markdown",
   "metadata": {},
   "source": [
    "### Helpers"
   ]
  },
  {
   "cell_type": "code",
   "execution_count": 2,
   "metadata": {},
   "outputs": [],
   "source": [
    "PITCH_NAMES = {0: 'F', 1: 'C', 2: 'G', 3: 'D', 4: 'A', 5: 'E', 6: 'B'}\n",
    "\n",
    "def tpc2name(tpc):\n",
    "    \"\"\"Return name of a tonal pitch class where\n",
    "       0 = C, -1 = F, -2 = Bb, 1 = G etc.\n",
    "    \"\"\"\n",
    "    try:\n",
    "        tpc = int(tpc) + 1 # to make the lowest name F = 0 instead of -1\n",
    "    except:\n",
    "        raise ValueError(f\"'{tpc}' is not a TPC.\")\n",
    "\n",
    "    acc = abs(tpc // 7) * 'b' if tpc < 0 else tpc // 7 * '#'\n",
    "    return PITCH_NAMES[tpc % 7] + acc"
   ]
  },
  {
   "cell_type": "markdown",
   "metadata": {},
   "source": [
    "# Loading the note lists for ~700 compositions\n",
    "\n",
    "* id: which piece\n",
    "* mn: measure number (=bar number)\n",
    "* onset: distance from the measure's beginning (expressed as fraction of a whole note, so that 1/4 = quarter note)\n",
    "* duration: duration (expressed as fraction of a whole note, so that 1/4 = quarter note)\n",
    "* tpc: tonal pitch class, expressed on the line of fifth with (any) C = 0 (see below)\n",
    "* midi: pitch expressed as piano key with 60 = C4\n",
    "* keysig: Key signature of the score, 3 = 3 sharps; -3 = 3 flats\n",
    "* timesig: Time signature of the score (question: why isn't this column conserved as a string, instead of parsing the fraction?)\n",
    "\n",
    "### TPC (extends in both directions)\n",
    "\n",
    "|tpc|pitch|accidental|\n",
    "|---|-----|----------|\n",
    "|-9|B|$\\flat\\flat$|\n",
    "|-8|F|$\\flat$|\n",
    "|-7|C|$\\flat$|\n",
    "|-6|G|$\\flat$|\n",
    "|-5|D|$\\flat$|\n",
    "|-4|A|$\\flat$|\n",
    "|-3|E|$\\flat$|\n",
    "|-2|B|$\\flat$|\n",
    "|-1|F||\n",
    "|0|C||\n",
    "|1|G||\n",
    "|2|D||\n",
    "|3|A||\n",
    "|4|E||\n",
    "|5|B||\n",
    "|6|F|$\\sharp$|\n",
    "|7|C|$\\sharp$|\n",
    "|8|G|$\\sharp$|\n",
    "|9|D|$\\sharp$|\n",
    "|10|A|$\\sharp$|\n",
    "|11|E|$\\sharp$|\n",
    "|12|B|$\\sharp$|\n",
    "|13|F|$\\sharp\\sharp$|\n"
   ]
  },
  {
   "cell_type": "code",
   "execution_count": 3,
   "metadata": {},
   "outputs": [
    {
     "name": "stdout",
     "output_type": "stream",
     "text": [
      "(65534, 7)\n"
     ]
    },
    {
     "data": {
      "text/html": [
       "<div>\n",
       "<style scoped>\n",
       "    .dataframe tbody tr th:only-of-type {\n",
       "        vertical-align: middle;\n",
       "    }\n",
       "\n",
       "    .dataframe tbody tr th {\n",
       "        vertical-align: top;\n",
       "    }\n",
       "\n",
       "    .dataframe thead th {\n",
       "        text-align: right;\n",
       "    }\n",
       "</style>\n",
       "<table border=\"1\" class=\"dataframe\">\n",
       "  <thead>\n",
       "    <tr style=\"text-align: right;\">\n",
       "      <th></th>\n",
       "      <th>id</th>\n",
       "      <th>mn</th>\n",
       "      <th>onset</th>\n",
       "      <th>duration</th>\n",
       "      <th>tpc</th>\n",
       "      <th>midi</th>\n",
       "      <th>timesig</th>\n",
       "    </tr>\n",
       "  </thead>\n",
       "  <tbody>\n",
       "    <tr>\n",
       "      <th>0</th>\n",
       "      <td>0</td>\n",
       "      <td>1</td>\n",
       "      <td>0</td>\n",
       "      <td>1/16</td>\n",
       "      <td>3</td>\n",
       "      <td>45</td>\n",
       "      <td>12/8</td>\n",
       "    </tr>\n",
       "    <tr>\n",
       "      <th>1</th>\n",
       "      <td>0</td>\n",
       "      <td>1</td>\n",
       "      <td>1/16</td>\n",
       "      <td>1/16</td>\n",
       "      <td>7</td>\n",
       "      <td>49</td>\n",
       "      <td>12/8</td>\n",
       "    </tr>\n",
       "    <tr>\n",
       "      <th>2</th>\n",
       "      <td>0</td>\n",
       "      <td>1</td>\n",
       "      <td>1/8</td>\n",
       "      <td>1/16</td>\n",
       "      <td>4</td>\n",
       "      <td>52</td>\n",
       "      <td>12/8</td>\n",
       "    </tr>\n",
       "    <tr>\n",
       "      <th>3</th>\n",
       "      <td>0</td>\n",
       "      <td>1</td>\n",
       "      <td>3/16</td>\n",
       "      <td>1/16</td>\n",
       "      <td>3</td>\n",
       "      <td>57</td>\n",
       "      <td>12/8</td>\n",
       "    </tr>\n",
       "    <tr>\n",
       "      <th>4</th>\n",
       "      <td>0</td>\n",
       "      <td>1</td>\n",
       "      <td>1/4</td>\n",
       "      <td>1/16</td>\n",
       "      <td>8</td>\n",
       "      <td>56</td>\n",
       "      <td>12/8</td>\n",
       "    </tr>\n",
       "  </tbody>\n",
       "</table>\n",
       "</div>"
      ],
      "text/plain": [
       "   id  mn onset duration  tpc  midi timesig\n",
       "0   0   1     0     1/16    3    45    12/8\n",
       "1   0   1  1/16     1/16    7    49    12/8\n",
       "2   0   1   1/8     1/16    4    52    12/8\n",
       "3   0   1  3/16     1/16    3    57    12/8\n",
       "4   0   1   1/4     1/16    8    56    12/8"
      ]
     },
     "execution_count": 3,
     "metadata": {},
     "output_type": "execute_result"
    }
   ],
   "source": [
    "dtypes = dict({col: int for col in ['id', 'mn', 'tpc', 'midi']}, timesig=str)\n",
    "converters = {col: Fraction for col in ['onset', 'duration']}\n",
    "notes = pd.read_csv('note_list.tsv', sep='\\t', dtype=dtypes, converters=converters)\n",
    "print(notes.shape)\n",
    "notes.head(5)"
   ]
  },
  {
   "cell_type": "markdown",
   "metadata": {},
   "source": [
    "# Counting notes "
   ]
  },
  {
   "cell_type": "code",
   "execution_count": 4,
   "metadata": {},
   "outputs": [
    {
     "data": {
      "application/vnd.plotly.v1+json": {
       "config": {
        "linkText": "Export to plot.ly",
        "plotlyServerURL": "https://plot.ly",
        "showLink": true
       },
       "data": [
        {
         "marker": {
          "color": "rgba(255, 153, 51, 0.6)",
          "line": {
           "color": "rgba(255, 153, 51, 1.0)",
           "width": 1
          }
         },
         "name": "midi",
         "orientation": "v",
         "text": "",
         "type": "bar",
         "x": [
          69,
          74,
          67,
          72,
          76,
          71,
          57,
          55,
          64,
          62,
          52,
          60,
          50,
          59,
          65,
          79,
          70,
          73,
          77,
          53,
          48,
          54,
          66,
          58,
          78,
          75,
          47,
          68,
          81,
          45,
          56,
          61,
          63,
          51,
          49,
          43,
          80,
          46,
          83,
          82,
          40,
          44,
          84,
          41,
          42,
          38,
          36,
          39,
          85,
          86,
          37,
          89,
          87,
          88,
          33,
          31,
          35,
          34,
          32
         ],
         "y": [
          3104,
          2993,
          2687,
          2620,
          2586,
          2508,
          2456,
          2416,
          2371,
          2210,
          2131,
          2017,
          1983,
          1754,
          1710,
          1693,
          1685,
          1545,
          1532,
          1516,
          1456,
          1390,
          1385,
          1293,
          1261,
          1222,
          1152,
          1149,
          1127,
          1098,
          1082,
          1020,
          938,
          831,
          739,
          713,
          591,
          584,
          415,
          377,
          353,
          325,
          320,
          269,
          247,
          212,
          117,
          75,
          53,
          49,
          39,
          37,
          32,
          24,
          17,
          10,
          9,
          5,
          1
         ]
        }
       ],
       "layout": {
        "legend": {
         "bgcolor": "#FFFFFF",
         "font": {
          "color": "#4D5663"
         }
        },
        "paper_bgcolor": "#FFFFFF",
        "plot_bgcolor": "#FFFFFF",
        "template": {
         "data": {
          "bar": [
           {
            "error_x": {
             "color": "#2a3f5f"
            },
            "error_y": {
             "color": "#2a3f5f"
            },
            "marker": {
             "line": {
              "color": "#E5ECF6",
              "width": 0.5
             }
            },
            "type": "bar"
           }
          ],
          "barpolar": [
           {
            "marker": {
             "line": {
              "color": "#E5ECF6",
              "width": 0.5
             }
            },
            "type": "barpolar"
           }
          ],
          "carpet": [
           {
            "aaxis": {
             "endlinecolor": "#2a3f5f",
             "gridcolor": "white",
             "linecolor": "white",
             "minorgridcolor": "white",
             "startlinecolor": "#2a3f5f"
            },
            "baxis": {
             "endlinecolor": "#2a3f5f",
             "gridcolor": "white",
             "linecolor": "white",
             "minorgridcolor": "white",
             "startlinecolor": "#2a3f5f"
            },
            "type": "carpet"
           }
          ],
          "choropleth": [
           {
            "colorbar": {
             "outlinewidth": 0,
             "ticks": ""
            },
            "type": "choropleth"
           }
          ],
          "contour": [
           {
            "colorbar": {
             "outlinewidth": 0,
             "ticks": ""
            },
            "colorscale": [
             [
              0,
              "#0d0887"
             ],
             [
              0.1111111111111111,
              "#46039f"
             ],
             [
              0.2222222222222222,
              "#7201a8"
             ],
             [
              0.3333333333333333,
              "#9c179e"
             ],
             [
              0.4444444444444444,
              "#bd3786"
             ],
             [
              0.5555555555555556,
              "#d8576b"
             ],
             [
              0.6666666666666666,
              "#ed7953"
             ],
             [
              0.7777777777777778,
              "#fb9f3a"
             ],
             [
              0.8888888888888888,
              "#fdca26"
             ],
             [
              1,
              "#f0f921"
             ]
            ],
            "type": "contour"
           }
          ],
          "contourcarpet": [
           {
            "colorbar": {
             "outlinewidth": 0,
             "ticks": ""
            },
            "type": "contourcarpet"
           }
          ],
          "heatmap": [
           {
            "colorbar": {
             "outlinewidth": 0,
             "ticks": ""
            },
            "colorscale": [
             [
              0,
              "#0d0887"
             ],
             [
              0.1111111111111111,
              "#46039f"
             ],
             [
              0.2222222222222222,
              "#7201a8"
             ],
             [
              0.3333333333333333,
              "#9c179e"
             ],
             [
              0.4444444444444444,
              "#bd3786"
             ],
             [
              0.5555555555555556,
              "#d8576b"
             ],
             [
              0.6666666666666666,
              "#ed7953"
             ],
             [
              0.7777777777777778,
              "#fb9f3a"
             ],
             [
              0.8888888888888888,
              "#fdca26"
             ],
             [
              1,
              "#f0f921"
             ]
            ],
            "type": "heatmap"
           }
          ],
          "heatmapgl": [
           {
            "colorbar": {
             "outlinewidth": 0,
             "ticks": ""
            },
            "colorscale": [
             [
              0,
              "#0d0887"
             ],
             [
              0.1111111111111111,
              "#46039f"
             ],
             [
              0.2222222222222222,
              "#7201a8"
             ],
             [
              0.3333333333333333,
              "#9c179e"
             ],
             [
              0.4444444444444444,
              "#bd3786"
             ],
             [
              0.5555555555555556,
              "#d8576b"
             ],
             [
              0.6666666666666666,
              "#ed7953"
             ],
             [
              0.7777777777777778,
              "#fb9f3a"
             ],
             [
              0.8888888888888888,
              "#fdca26"
             ],
             [
              1,
              "#f0f921"
             ]
            ],
            "type": "heatmapgl"
           }
          ],
          "histogram": [
           {
            "marker": {
             "colorbar": {
              "outlinewidth": 0,
              "ticks": ""
             }
            },
            "type": "histogram"
           }
          ],
          "histogram2d": [
           {
            "colorbar": {
             "outlinewidth": 0,
             "ticks": ""
            },
            "colorscale": [
             [
              0,
              "#0d0887"
             ],
             [
              0.1111111111111111,
              "#46039f"
             ],
             [
              0.2222222222222222,
              "#7201a8"
             ],
             [
              0.3333333333333333,
              "#9c179e"
             ],
             [
              0.4444444444444444,
              "#bd3786"
             ],
             [
              0.5555555555555556,
              "#d8576b"
             ],
             [
              0.6666666666666666,
              "#ed7953"
             ],
             [
              0.7777777777777778,
              "#fb9f3a"
             ],
             [
              0.8888888888888888,
              "#fdca26"
             ],
             [
              1,
              "#f0f921"
             ]
            ],
            "type": "histogram2d"
           }
          ],
          "histogram2dcontour": [
           {
            "colorbar": {
             "outlinewidth": 0,
             "ticks": ""
            },
            "colorscale": [
             [
              0,
              "#0d0887"
             ],
             [
              0.1111111111111111,
              "#46039f"
             ],
             [
              0.2222222222222222,
              "#7201a8"
             ],
             [
              0.3333333333333333,
              "#9c179e"
             ],
             [
              0.4444444444444444,
              "#bd3786"
             ],
             [
              0.5555555555555556,
              "#d8576b"
             ],
             [
              0.6666666666666666,
              "#ed7953"
             ],
             [
              0.7777777777777778,
              "#fb9f3a"
             ],
             [
              0.8888888888888888,
              "#fdca26"
             ],
             [
              1,
              "#f0f921"
             ]
            ],
            "type": "histogram2dcontour"
           }
          ],
          "mesh3d": [
           {
            "colorbar": {
             "outlinewidth": 0,
             "ticks": ""
            },
            "type": "mesh3d"
           }
          ],
          "parcoords": [
           {
            "line": {
             "colorbar": {
              "outlinewidth": 0,
              "ticks": ""
             }
            },
            "type": "parcoords"
           }
          ],
          "pie": [
           {
            "automargin": true,
            "type": "pie"
           }
          ],
          "scatter": [
           {
            "marker": {
             "colorbar": {
              "outlinewidth": 0,
              "ticks": ""
             }
            },
            "type": "scatter"
           }
          ],
          "scatter3d": [
           {
            "line": {
             "colorbar": {
              "outlinewidth": 0,
              "ticks": ""
             }
            },
            "marker": {
             "colorbar": {
              "outlinewidth": 0,
              "ticks": ""
             }
            },
            "type": "scatter3d"
           }
          ],
          "scattercarpet": [
           {
            "marker": {
             "colorbar": {
              "outlinewidth": 0,
              "ticks": ""
             }
            },
            "type": "scattercarpet"
           }
          ],
          "scattergeo": [
           {
            "marker": {
             "colorbar": {
              "outlinewidth": 0,
              "ticks": ""
             }
            },
            "type": "scattergeo"
           }
          ],
          "scattergl": [
           {
            "marker": {
             "colorbar": {
              "outlinewidth": 0,
              "ticks": ""
             }
            },
            "type": "scattergl"
           }
          ],
          "scattermapbox": [
           {
            "marker": {
             "colorbar": {
              "outlinewidth": 0,
              "ticks": ""
             }
            },
            "type": "scattermapbox"
           }
          ],
          "scatterpolar": [
           {
            "marker": {
             "colorbar": {
              "outlinewidth": 0,
              "ticks": ""
             }
            },
            "type": "scatterpolar"
           }
          ],
          "scatterpolargl": [
           {
            "marker": {
             "colorbar": {
              "outlinewidth": 0,
              "ticks": ""
             }
            },
            "type": "scatterpolargl"
           }
          ],
          "scatterternary": [
           {
            "marker": {
             "colorbar": {
              "outlinewidth": 0,
              "ticks": ""
             }
            },
            "type": "scatterternary"
           }
          ],
          "surface": [
           {
            "colorbar": {
             "outlinewidth": 0,
             "ticks": ""
            },
            "colorscale": [
             [
              0,
              "#0d0887"
             ],
             [
              0.1111111111111111,
              "#46039f"
             ],
             [
              0.2222222222222222,
              "#7201a8"
             ],
             [
              0.3333333333333333,
              "#9c179e"
             ],
             [
              0.4444444444444444,
              "#bd3786"
             ],
             [
              0.5555555555555556,
              "#d8576b"
             ],
             [
              0.6666666666666666,
              "#ed7953"
             ],
             [
              0.7777777777777778,
              "#fb9f3a"
             ],
             [
              0.8888888888888888,
              "#fdca26"
             ],
             [
              1,
              "#f0f921"
             ]
            ],
            "type": "surface"
           }
          ],
          "table": [
           {
            "cells": {
             "fill": {
              "color": "#EBF0F8"
             },
             "line": {
              "color": "white"
             }
            },
            "header": {
             "fill": {
              "color": "#C8D4E3"
             },
             "line": {
              "color": "white"
             }
            },
            "type": "table"
           }
          ]
         },
         "layout": {
          "annotationdefaults": {
           "arrowcolor": "#2a3f5f",
           "arrowhead": 0,
           "arrowwidth": 1
          },
          "autotypenumbers": "strict",
          "coloraxis": {
           "colorbar": {
            "outlinewidth": 0,
            "ticks": ""
           }
          },
          "colorscale": {
           "diverging": [
            [
             0,
             "#8e0152"
            ],
            [
             0.1,
             "#c51b7d"
            ],
            [
             0.2,
             "#de77ae"
            ],
            [
             0.3,
             "#f1b6da"
            ],
            [
             0.4,
             "#fde0ef"
            ],
            [
             0.5,
             "#f7f7f7"
            ],
            [
             0.6,
             "#e6f5d0"
            ],
            [
             0.7,
             "#b8e186"
            ],
            [
             0.8,
             "#7fbc41"
            ],
            [
             0.9,
             "#4d9221"
            ],
            [
             1,
             "#276419"
            ]
           ],
           "sequential": [
            [
             0,
             "#0d0887"
            ],
            [
             0.1111111111111111,
             "#46039f"
            ],
            [
             0.2222222222222222,
             "#7201a8"
            ],
            [
             0.3333333333333333,
             "#9c179e"
            ],
            [
             0.4444444444444444,
             "#bd3786"
            ],
            [
             0.5555555555555556,
             "#d8576b"
            ],
            [
             0.6666666666666666,
             "#ed7953"
            ],
            [
             0.7777777777777778,
             "#fb9f3a"
            ],
            [
             0.8888888888888888,
             "#fdca26"
            ],
            [
             1,
             "#f0f921"
            ]
           ],
           "sequentialminus": [
            [
             0,
             "#0d0887"
            ],
            [
             0.1111111111111111,
             "#46039f"
            ],
            [
             0.2222222222222222,
             "#7201a8"
            ],
            [
             0.3333333333333333,
             "#9c179e"
            ],
            [
             0.4444444444444444,
             "#bd3786"
            ],
            [
             0.5555555555555556,
             "#d8576b"
            ],
            [
             0.6666666666666666,
             "#ed7953"
            ],
            [
             0.7777777777777778,
             "#fb9f3a"
            ],
            [
             0.8888888888888888,
             "#fdca26"
            ],
            [
             1,
             "#f0f921"
            ]
           ]
          },
          "colorway": [
           "#636efa",
           "#EF553B",
           "#00cc96",
           "#ab63fa",
           "#FFA15A",
           "#19d3f3",
           "#FF6692",
           "#B6E880",
           "#FF97FF",
           "#FECB52"
          ],
          "font": {
           "color": "#2a3f5f"
          },
          "geo": {
           "bgcolor": "white",
           "lakecolor": "white",
           "landcolor": "#E5ECF6",
           "showlakes": true,
           "showland": true,
           "subunitcolor": "white"
          },
          "hoverlabel": {
           "align": "left"
          },
          "hovermode": "closest",
          "mapbox": {
           "style": "light"
          },
          "paper_bgcolor": "white",
          "plot_bgcolor": "#E5ECF6",
          "polar": {
           "angularaxis": {
            "gridcolor": "white",
            "linecolor": "white",
            "ticks": ""
           },
           "bgcolor": "#E5ECF6",
           "radialaxis": {
            "gridcolor": "white",
            "linecolor": "white",
            "ticks": ""
           }
          },
          "scene": {
           "xaxis": {
            "backgroundcolor": "#E5ECF6",
            "gridcolor": "white",
            "gridwidth": 2,
            "linecolor": "white",
            "showbackground": true,
            "ticks": "",
            "zerolinecolor": "white"
           },
           "yaxis": {
            "backgroundcolor": "#E5ECF6",
            "gridcolor": "white",
            "gridwidth": 2,
            "linecolor": "white",
            "showbackground": true,
            "ticks": "",
            "zerolinecolor": "white"
           },
           "zaxis": {
            "backgroundcolor": "#E5ECF6",
            "gridcolor": "white",
            "gridwidth": 2,
            "linecolor": "white",
            "showbackground": true,
            "ticks": "",
            "zerolinecolor": "white"
           }
          },
          "shapedefaults": {
           "line": {
            "color": "#2a3f5f"
           }
          },
          "ternary": {
           "aaxis": {
            "gridcolor": "white",
            "linecolor": "white",
            "ticks": ""
           },
           "baxis": {
            "gridcolor": "white",
            "linecolor": "white",
            "ticks": ""
           },
           "bgcolor": "#E5ECF6",
           "caxis": {
            "gridcolor": "white",
            "linecolor": "white",
            "ticks": ""
           }
          },
          "title": {
           "x": 0.05
          },
          "xaxis": {
           "automargin": true,
           "gridcolor": "white",
           "linecolor": "white",
           "ticks": "",
           "title": {
            "standoff": 15
           },
           "zerolinecolor": "white",
           "zerolinewidth": 2
          },
          "yaxis": {
           "automargin": true,
           "gridcolor": "white",
           "linecolor": "white",
           "ticks": "",
           "title": {
            "standoff": 15
           },
           "zerolinecolor": "white",
           "zerolinewidth": 2
          }
         }
        },
        "title": {
         "font": {
          "color": "#4D5663"
         },
         "text": "Distribution of MIDI pitches over the corpus"
        },
        "xaxis": {
         "gridcolor": "#E1E5ED",
         "showgrid": true,
         "tickfont": {
          "color": "#4D5663"
         },
         "title": {
          "font": {
           "color": "#4D5663"
          },
          "text": "midi"
         },
         "zerolinecolor": "#E1E5ED"
        },
        "yaxis": {
         "gridcolor": "#E1E5ED",
         "showgrid": true,
         "tickfont": {
          "color": "#4D5663"
         },
         "title": {
          "font": {
           "color": "#4D5663"
          },
          "text": "counts"
         },
         "zerolinecolor": "#E1E5ED"
        }
       }
      },
      "text/html": [
       "<div>                            <div id=\"6e0b03a1-0a68-424f-834b-fe945e9ed3e4\" class=\"plotly-graph-div\" style=\"height:525px; width:100%;\"></div>            <script type=\"text/javascript\">                require([\"plotly\"], function(Plotly) {                    window.PLOTLYENV=window.PLOTLYENV || {};\n",
       "                    window.PLOTLYENV.BASE_URL='https://plot.ly';                                    if (document.getElementById(\"6e0b03a1-0a68-424f-834b-fe945e9ed3e4\")) {                    Plotly.newPlot(                        \"6e0b03a1-0a68-424f-834b-fe945e9ed3e4\",                        [{\"marker\": {\"color\": \"rgba(255, 153, 51, 0.6)\", \"line\": {\"color\": \"rgba(255, 153, 51, 1.0)\", \"width\": 1}}, \"name\": \"midi\", \"orientation\": \"v\", \"text\": \"\", \"type\": \"bar\", \"x\": [69, 74, 67, 72, 76, 71, 57, 55, 64, 62, 52, 60, 50, 59, 65, 79, 70, 73, 77, 53, 48, 54, 66, 58, 78, 75, 47, 68, 81, 45, 56, 61, 63, 51, 49, 43, 80, 46, 83, 82, 40, 44, 84, 41, 42, 38, 36, 39, 85, 86, 37, 89, 87, 88, 33, 31, 35, 34, 32], \"y\": [3104, 2993, 2687, 2620, 2586, 2508, 2456, 2416, 2371, 2210, 2131, 2017, 1983, 1754, 1710, 1693, 1685, 1545, 1532, 1516, 1456, 1390, 1385, 1293, 1261, 1222, 1152, 1149, 1127, 1098, 1082, 1020, 938, 831, 739, 713, 591, 584, 415, 377, 353, 325, 320, 269, 247, 212, 117, 75, 53, 49, 39, 37, 32, 24, 17, 10, 9, 5, 1]}],                        {\"legend\": {\"bgcolor\": \"#FFFFFF\", \"font\": {\"color\": \"#4D5663\"}}, \"paper_bgcolor\": \"#FFFFFF\", \"plot_bgcolor\": \"#FFFFFF\", \"template\": {\"data\": {\"bar\": [{\"error_x\": {\"color\": \"#2a3f5f\"}, \"error_y\": {\"color\": \"#2a3f5f\"}, \"marker\": {\"line\": {\"color\": \"#E5ECF6\", \"width\": 0.5}}, \"type\": \"bar\"}], \"barpolar\": [{\"marker\": {\"line\": {\"color\": \"#E5ECF6\", \"width\": 0.5}}, \"type\": \"barpolar\"}], \"carpet\": [{\"aaxis\": {\"endlinecolor\": \"#2a3f5f\", \"gridcolor\": \"white\", \"linecolor\": \"white\", \"minorgridcolor\": \"white\", \"startlinecolor\": \"#2a3f5f\"}, \"baxis\": {\"endlinecolor\": \"#2a3f5f\", \"gridcolor\": \"white\", \"linecolor\": \"white\", \"minorgridcolor\": \"white\", \"startlinecolor\": \"#2a3f5f\"}, \"type\": \"carpet\"}], \"choropleth\": [{\"colorbar\": {\"outlinewidth\": 0, \"ticks\": \"\"}, \"type\": \"choropleth\"}], \"contour\": [{\"colorbar\": {\"outlinewidth\": 0, \"ticks\": \"\"}, \"colorscale\": [[0.0, \"#0d0887\"], [0.1111111111111111, \"#46039f\"], [0.2222222222222222, \"#7201a8\"], [0.3333333333333333, \"#9c179e\"], [0.4444444444444444, \"#bd3786\"], [0.5555555555555556, \"#d8576b\"], [0.6666666666666666, \"#ed7953\"], [0.7777777777777778, \"#fb9f3a\"], [0.8888888888888888, \"#fdca26\"], [1.0, \"#f0f921\"]], \"type\": \"contour\"}], \"contourcarpet\": [{\"colorbar\": {\"outlinewidth\": 0, \"ticks\": \"\"}, \"type\": \"contourcarpet\"}], \"heatmap\": [{\"colorbar\": {\"outlinewidth\": 0, \"ticks\": \"\"}, \"colorscale\": [[0.0, \"#0d0887\"], [0.1111111111111111, \"#46039f\"], [0.2222222222222222, \"#7201a8\"], [0.3333333333333333, \"#9c179e\"], [0.4444444444444444, \"#bd3786\"], [0.5555555555555556, \"#d8576b\"], [0.6666666666666666, \"#ed7953\"], [0.7777777777777778, \"#fb9f3a\"], [0.8888888888888888, \"#fdca26\"], [1.0, \"#f0f921\"]], \"type\": \"heatmap\"}], \"heatmapgl\": [{\"colorbar\": {\"outlinewidth\": 0, \"ticks\": \"\"}, \"colorscale\": [[0.0, \"#0d0887\"], [0.1111111111111111, \"#46039f\"], [0.2222222222222222, \"#7201a8\"], [0.3333333333333333, \"#9c179e\"], [0.4444444444444444, \"#bd3786\"], [0.5555555555555556, \"#d8576b\"], [0.6666666666666666, \"#ed7953\"], [0.7777777777777778, \"#fb9f3a\"], [0.8888888888888888, \"#fdca26\"], [1.0, \"#f0f921\"]], \"type\": \"heatmapgl\"}], \"histogram\": [{\"marker\": {\"colorbar\": {\"outlinewidth\": 0, \"ticks\": \"\"}}, \"type\": \"histogram\"}], \"histogram2d\": [{\"colorbar\": {\"outlinewidth\": 0, \"ticks\": \"\"}, \"colorscale\": [[0.0, \"#0d0887\"], [0.1111111111111111, \"#46039f\"], [0.2222222222222222, \"#7201a8\"], [0.3333333333333333, \"#9c179e\"], [0.4444444444444444, \"#bd3786\"], [0.5555555555555556, \"#d8576b\"], [0.6666666666666666, \"#ed7953\"], [0.7777777777777778, \"#fb9f3a\"], [0.8888888888888888, \"#fdca26\"], [1.0, \"#f0f921\"]], \"type\": \"histogram2d\"}], \"histogram2dcontour\": [{\"colorbar\": {\"outlinewidth\": 0, \"ticks\": \"\"}, \"colorscale\": [[0.0, \"#0d0887\"], [0.1111111111111111, \"#46039f\"], [0.2222222222222222, \"#7201a8\"], [0.3333333333333333, \"#9c179e\"], [0.4444444444444444, \"#bd3786\"], [0.5555555555555556, \"#d8576b\"], [0.6666666666666666, \"#ed7953\"], [0.7777777777777778, \"#fb9f3a\"], [0.8888888888888888, \"#fdca26\"], [1.0, \"#f0f921\"]], \"type\": \"histogram2dcontour\"}], \"mesh3d\": [{\"colorbar\": {\"outlinewidth\": 0, \"ticks\": \"\"}, \"type\": \"mesh3d\"}], \"parcoords\": [{\"line\": {\"colorbar\": {\"outlinewidth\": 0, \"ticks\": \"\"}}, \"type\": \"parcoords\"}], \"pie\": [{\"automargin\": true, \"type\": \"pie\"}], \"scatter\": [{\"marker\": {\"colorbar\": {\"outlinewidth\": 0, \"ticks\": \"\"}}, \"type\": \"scatter\"}], \"scatter3d\": [{\"line\": {\"colorbar\": {\"outlinewidth\": 0, \"ticks\": \"\"}}, \"marker\": {\"colorbar\": {\"outlinewidth\": 0, \"ticks\": \"\"}}, \"type\": \"scatter3d\"}], \"scattercarpet\": [{\"marker\": {\"colorbar\": {\"outlinewidth\": 0, \"ticks\": \"\"}}, \"type\": \"scattercarpet\"}], \"scattergeo\": [{\"marker\": {\"colorbar\": {\"outlinewidth\": 0, \"ticks\": \"\"}}, \"type\": \"scattergeo\"}], \"scattergl\": [{\"marker\": {\"colorbar\": {\"outlinewidth\": 0, \"ticks\": \"\"}}, \"type\": \"scattergl\"}], \"scattermapbox\": [{\"marker\": {\"colorbar\": {\"outlinewidth\": 0, \"ticks\": \"\"}}, \"type\": \"scattermapbox\"}], \"scatterpolar\": [{\"marker\": {\"colorbar\": {\"outlinewidth\": 0, \"ticks\": \"\"}}, \"type\": \"scatterpolar\"}], \"scatterpolargl\": [{\"marker\": {\"colorbar\": {\"outlinewidth\": 0, \"ticks\": \"\"}}, \"type\": \"scatterpolargl\"}], \"scatterternary\": [{\"marker\": {\"colorbar\": {\"outlinewidth\": 0, \"ticks\": \"\"}}, \"type\": \"scatterternary\"}], \"surface\": [{\"colorbar\": {\"outlinewidth\": 0, \"ticks\": \"\"}, \"colorscale\": [[0.0, \"#0d0887\"], [0.1111111111111111, \"#46039f\"], [0.2222222222222222, \"#7201a8\"], [0.3333333333333333, \"#9c179e\"], [0.4444444444444444, \"#bd3786\"], [0.5555555555555556, \"#d8576b\"], [0.6666666666666666, \"#ed7953\"], [0.7777777777777778, \"#fb9f3a\"], [0.8888888888888888, \"#fdca26\"], [1.0, \"#f0f921\"]], \"type\": \"surface\"}], \"table\": [{\"cells\": {\"fill\": {\"color\": \"#EBF0F8\"}, \"line\": {\"color\": \"white\"}}, \"header\": {\"fill\": {\"color\": \"#C8D4E3\"}, \"line\": {\"color\": \"white\"}}, \"type\": \"table\"}]}, \"layout\": {\"annotationdefaults\": {\"arrowcolor\": \"#2a3f5f\", \"arrowhead\": 0, \"arrowwidth\": 1}, \"autotypenumbers\": \"strict\", \"coloraxis\": {\"colorbar\": {\"outlinewidth\": 0, \"ticks\": \"\"}}, \"colorscale\": {\"diverging\": [[0, \"#8e0152\"], [0.1, \"#c51b7d\"], [0.2, \"#de77ae\"], [0.3, \"#f1b6da\"], [0.4, \"#fde0ef\"], [0.5, \"#f7f7f7\"], [0.6, \"#e6f5d0\"], [0.7, \"#b8e186\"], [0.8, \"#7fbc41\"], [0.9, \"#4d9221\"], [1, \"#276419\"]], \"sequential\": [[0.0, \"#0d0887\"], [0.1111111111111111, \"#46039f\"], [0.2222222222222222, \"#7201a8\"], [0.3333333333333333, \"#9c179e\"], [0.4444444444444444, \"#bd3786\"], [0.5555555555555556, \"#d8576b\"], [0.6666666666666666, \"#ed7953\"], [0.7777777777777778, \"#fb9f3a\"], [0.8888888888888888, \"#fdca26\"], [1.0, \"#f0f921\"]], \"sequentialminus\": [[0.0, \"#0d0887\"], [0.1111111111111111, \"#46039f\"], [0.2222222222222222, \"#7201a8\"], [0.3333333333333333, \"#9c179e\"], [0.4444444444444444, \"#bd3786\"], [0.5555555555555556, \"#d8576b\"], [0.6666666666666666, \"#ed7953\"], [0.7777777777777778, \"#fb9f3a\"], [0.8888888888888888, \"#fdca26\"], [1.0, \"#f0f921\"]]}, \"colorway\": [\"#636efa\", \"#EF553B\", \"#00cc96\", \"#ab63fa\", \"#FFA15A\", \"#19d3f3\", \"#FF6692\", \"#B6E880\", \"#FF97FF\", \"#FECB52\"], \"font\": {\"color\": \"#2a3f5f\"}, \"geo\": {\"bgcolor\": \"white\", \"lakecolor\": \"white\", \"landcolor\": \"#E5ECF6\", \"showlakes\": true, \"showland\": true, \"subunitcolor\": \"white\"}, \"hoverlabel\": {\"align\": \"left\"}, \"hovermode\": \"closest\", \"mapbox\": {\"style\": \"light\"}, \"paper_bgcolor\": \"white\", \"plot_bgcolor\": \"#E5ECF6\", \"polar\": {\"angularaxis\": {\"gridcolor\": \"white\", \"linecolor\": \"white\", \"ticks\": \"\"}, \"bgcolor\": \"#E5ECF6\", \"radialaxis\": {\"gridcolor\": \"white\", \"linecolor\": \"white\", \"ticks\": \"\"}}, \"scene\": {\"xaxis\": {\"backgroundcolor\": \"#E5ECF6\", \"gridcolor\": \"white\", \"gridwidth\": 2, \"linecolor\": \"white\", \"showbackground\": true, \"ticks\": \"\", \"zerolinecolor\": \"white\"}, \"yaxis\": {\"backgroundcolor\": \"#E5ECF6\", \"gridcolor\": \"white\", \"gridwidth\": 2, \"linecolor\": \"white\", \"showbackground\": true, \"ticks\": \"\", \"zerolinecolor\": \"white\"}, \"zaxis\": {\"backgroundcolor\": \"#E5ECF6\", \"gridcolor\": \"white\", \"gridwidth\": 2, \"linecolor\": \"white\", \"showbackground\": true, \"ticks\": \"\", \"zerolinecolor\": \"white\"}}, \"shapedefaults\": {\"line\": {\"color\": \"#2a3f5f\"}}, \"ternary\": {\"aaxis\": {\"gridcolor\": \"white\", \"linecolor\": \"white\", \"ticks\": \"\"}, \"baxis\": {\"gridcolor\": \"white\", \"linecolor\": \"white\", \"ticks\": \"\"}, \"bgcolor\": \"#E5ECF6\", \"caxis\": {\"gridcolor\": \"white\", \"linecolor\": \"white\", \"ticks\": \"\"}}, \"title\": {\"x\": 0.05}, \"xaxis\": {\"automargin\": true, \"gridcolor\": \"white\", \"linecolor\": \"white\", \"ticks\": \"\", \"title\": {\"standoff\": 15}, \"zerolinecolor\": \"white\", \"zerolinewidth\": 2}, \"yaxis\": {\"automargin\": true, \"gridcolor\": \"white\", \"linecolor\": \"white\", \"ticks\": \"\", \"title\": {\"standoff\": 15}, \"zerolinecolor\": \"white\", \"zerolinewidth\": 2}}}, \"title\": {\"font\": {\"color\": \"#4D5663\"}, \"text\": \"Distribution of MIDI pitches over the corpus\"}, \"xaxis\": {\"gridcolor\": \"#E1E5ED\", \"showgrid\": true, \"tickfont\": {\"color\": \"#4D5663\"}, \"title\": {\"font\": {\"color\": \"#4D5663\"}, \"text\": \"midi\"}, \"zerolinecolor\": \"#E1E5ED\"}, \"yaxis\": {\"gridcolor\": \"#E1E5ED\", \"showgrid\": true, \"tickfont\": {\"color\": \"#4D5663\"}, \"title\": {\"font\": {\"color\": \"#4D5663\"}, \"text\": \"counts\"}, \"zerolinecolor\": \"#E1E5ED\"}},                        {\"showLink\": true, \"linkText\": \"Export to plot.ly\", \"plotlyServerURL\": \"https://plot.ly\", \"responsive\": true}                    ).then(function(){\n",
       "                            \n",
       "var gd = document.getElementById('6e0b03a1-0a68-424f-834b-fe945e9ed3e4');\n",
       "var x = new MutationObserver(function (mutations, observer) {{\n",
       "        var display = window.getComputedStyle(gd).display;\n",
       "        if (!display || display === 'none') {{\n",
       "            console.log([gd, 'removed!']);\n",
       "            Plotly.purge(gd);\n",
       "            observer.disconnect();\n",
       "        }}\n",
       "}});\n",
       "\n",
       "// Listen for the removal of the full notebook cells\n",
       "var notebookContainer = gd.closest('#notebook-container');\n",
       "if (notebookContainer) {{\n",
       "    x.observe(notebookContainer, {childList: true});\n",
       "}}\n",
       "\n",
       "// Listen for the clearing of the current output cell\n",
       "var outputEl = gd.closest('.output');\n",
       "if (outputEl) {{\n",
       "    x.observe(outputEl, {childList: true});\n",
       "}}\n",
       "\n",
       "                        })                };                });            </script>        </div>"
      ]
     },
     "metadata": {},
     "output_type": "display_data"
    }
   ],
   "source": [
    "notes.midi.value_counts().iplot('bar', title='Distribution of MIDI pitches over the corpus', xTitle='midi', yTitle='counts')"
   ]
  },
  {
   "cell_type": "code",
   "execution_count": 5,
   "metadata": {},
   "outputs": [
    {
     "data": {
      "application/vnd.plotly.v1+json": {
       "config": {
        "linkText": "Export to plot.ly",
        "plotlyServerURL": "https://plot.ly",
        "showLink": true
       },
       "data": [
        {
         "marker": {
          "color": "rgba(255, 153, 51, 0.6)",
          "line": {
           "color": "rgba(255, 153, 51, 1.0)",
           "width": 1
          }
         },
         "name": "tpc",
         "orientation": "v",
         "text": "",
         "type": "bar",
         "x": [
          "Fb",
          "Cb",
          "Gb",
          "Db",
          "Ab",
          "Eb",
          "Bb",
          "F",
          "C",
          "G",
          "D",
          "A",
          "E",
          "B",
          "F#",
          "C#",
          "G#",
          "D#",
          "A#",
          "E#",
          "B#"
         ],
         "y": [
          12,
          18,
          46,
          539,
          1289,
          2012,
          3490,
          4954,
          6474,
          7519,
          7447,
          7802,
          7453,
          5820,
          4237,
          2857,
          1859,
          1086,
          454,
          110,
          56
         ]
        }
       ],
       "layout": {
        "legend": {
         "bgcolor": "#FFFFFF",
         "font": {
          "color": "#4D5663"
         }
        },
        "paper_bgcolor": "#FFFFFF",
        "plot_bgcolor": "#FFFFFF",
        "template": {
         "data": {
          "bar": [
           {
            "error_x": {
             "color": "#2a3f5f"
            },
            "error_y": {
             "color": "#2a3f5f"
            },
            "marker": {
             "line": {
              "color": "#E5ECF6",
              "width": 0.5
             }
            },
            "type": "bar"
           }
          ],
          "barpolar": [
           {
            "marker": {
             "line": {
              "color": "#E5ECF6",
              "width": 0.5
             }
            },
            "type": "barpolar"
           }
          ],
          "carpet": [
           {
            "aaxis": {
             "endlinecolor": "#2a3f5f",
             "gridcolor": "white",
             "linecolor": "white",
             "minorgridcolor": "white",
             "startlinecolor": "#2a3f5f"
            },
            "baxis": {
             "endlinecolor": "#2a3f5f",
             "gridcolor": "white",
             "linecolor": "white",
             "minorgridcolor": "white",
             "startlinecolor": "#2a3f5f"
            },
            "type": "carpet"
           }
          ],
          "choropleth": [
           {
            "colorbar": {
             "outlinewidth": 0,
             "ticks": ""
            },
            "type": "choropleth"
           }
          ],
          "contour": [
           {
            "colorbar": {
             "outlinewidth": 0,
             "ticks": ""
            },
            "colorscale": [
             [
              0,
              "#0d0887"
             ],
             [
              0.1111111111111111,
              "#46039f"
             ],
             [
              0.2222222222222222,
              "#7201a8"
             ],
             [
              0.3333333333333333,
              "#9c179e"
             ],
             [
              0.4444444444444444,
              "#bd3786"
             ],
             [
              0.5555555555555556,
              "#d8576b"
             ],
             [
              0.6666666666666666,
              "#ed7953"
             ],
             [
              0.7777777777777778,
              "#fb9f3a"
             ],
             [
              0.8888888888888888,
              "#fdca26"
             ],
             [
              1,
              "#f0f921"
             ]
            ],
            "type": "contour"
           }
          ],
          "contourcarpet": [
           {
            "colorbar": {
             "outlinewidth": 0,
             "ticks": ""
            },
            "type": "contourcarpet"
           }
          ],
          "heatmap": [
           {
            "colorbar": {
             "outlinewidth": 0,
             "ticks": ""
            },
            "colorscale": [
             [
              0,
              "#0d0887"
             ],
             [
              0.1111111111111111,
              "#46039f"
             ],
             [
              0.2222222222222222,
              "#7201a8"
             ],
             [
              0.3333333333333333,
              "#9c179e"
             ],
             [
              0.4444444444444444,
              "#bd3786"
             ],
             [
              0.5555555555555556,
              "#d8576b"
             ],
             [
              0.6666666666666666,
              "#ed7953"
             ],
             [
              0.7777777777777778,
              "#fb9f3a"
             ],
             [
              0.8888888888888888,
              "#fdca26"
             ],
             [
              1,
              "#f0f921"
             ]
            ],
            "type": "heatmap"
           }
          ],
          "heatmapgl": [
           {
            "colorbar": {
             "outlinewidth": 0,
             "ticks": ""
            },
            "colorscale": [
             [
              0,
              "#0d0887"
             ],
             [
              0.1111111111111111,
              "#46039f"
             ],
             [
              0.2222222222222222,
              "#7201a8"
             ],
             [
              0.3333333333333333,
              "#9c179e"
             ],
             [
              0.4444444444444444,
              "#bd3786"
             ],
             [
              0.5555555555555556,
              "#d8576b"
             ],
             [
              0.6666666666666666,
              "#ed7953"
             ],
             [
              0.7777777777777778,
              "#fb9f3a"
             ],
             [
              0.8888888888888888,
              "#fdca26"
             ],
             [
              1,
              "#f0f921"
             ]
            ],
            "type": "heatmapgl"
           }
          ],
          "histogram": [
           {
            "marker": {
             "colorbar": {
              "outlinewidth": 0,
              "ticks": ""
             }
            },
            "type": "histogram"
           }
          ],
          "histogram2d": [
           {
            "colorbar": {
             "outlinewidth": 0,
             "ticks": ""
            },
            "colorscale": [
             [
              0,
              "#0d0887"
             ],
             [
              0.1111111111111111,
              "#46039f"
             ],
             [
              0.2222222222222222,
              "#7201a8"
             ],
             [
              0.3333333333333333,
              "#9c179e"
             ],
             [
              0.4444444444444444,
              "#bd3786"
             ],
             [
              0.5555555555555556,
              "#d8576b"
             ],
             [
              0.6666666666666666,
              "#ed7953"
             ],
             [
              0.7777777777777778,
              "#fb9f3a"
             ],
             [
              0.8888888888888888,
              "#fdca26"
             ],
             [
              1,
              "#f0f921"
             ]
            ],
            "type": "histogram2d"
           }
          ],
          "histogram2dcontour": [
           {
            "colorbar": {
             "outlinewidth": 0,
             "ticks": ""
            },
            "colorscale": [
             [
              0,
              "#0d0887"
             ],
             [
              0.1111111111111111,
              "#46039f"
             ],
             [
              0.2222222222222222,
              "#7201a8"
             ],
             [
              0.3333333333333333,
              "#9c179e"
             ],
             [
              0.4444444444444444,
              "#bd3786"
             ],
             [
              0.5555555555555556,
              "#d8576b"
             ],
             [
              0.6666666666666666,
              "#ed7953"
             ],
             [
              0.7777777777777778,
              "#fb9f3a"
             ],
             [
              0.8888888888888888,
              "#fdca26"
             ],
             [
              1,
              "#f0f921"
             ]
            ],
            "type": "histogram2dcontour"
           }
          ],
          "mesh3d": [
           {
            "colorbar": {
             "outlinewidth": 0,
             "ticks": ""
            },
            "type": "mesh3d"
           }
          ],
          "parcoords": [
           {
            "line": {
             "colorbar": {
              "outlinewidth": 0,
              "ticks": ""
             }
            },
            "type": "parcoords"
           }
          ],
          "pie": [
           {
            "automargin": true,
            "type": "pie"
           }
          ],
          "scatter": [
           {
            "marker": {
             "colorbar": {
              "outlinewidth": 0,
              "ticks": ""
             }
            },
            "type": "scatter"
           }
          ],
          "scatter3d": [
           {
            "line": {
             "colorbar": {
              "outlinewidth": 0,
              "ticks": ""
             }
            },
            "marker": {
             "colorbar": {
              "outlinewidth": 0,
              "ticks": ""
             }
            },
            "type": "scatter3d"
           }
          ],
          "scattercarpet": [
           {
            "marker": {
             "colorbar": {
              "outlinewidth": 0,
              "ticks": ""
             }
            },
            "type": "scattercarpet"
           }
          ],
          "scattergeo": [
           {
            "marker": {
             "colorbar": {
              "outlinewidth": 0,
              "ticks": ""
             }
            },
            "type": "scattergeo"
           }
          ],
          "scattergl": [
           {
            "marker": {
             "colorbar": {
              "outlinewidth": 0,
              "ticks": ""
             }
            },
            "type": "scattergl"
           }
          ],
          "scattermapbox": [
           {
            "marker": {
             "colorbar": {
              "outlinewidth": 0,
              "ticks": ""
             }
            },
            "type": "scattermapbox"
           }
          ],
          "scatterpolar": [
           {
            "marker": {
             "colorbar": {
              "outlinewidth": 0,
              "ticks": ""
             }
            },
            "type": "scatterpolar"
           }
          ],
          "scatterpolargl": [
           {
            "marker": {
             "colorbar": {
              "outlinewidth": 0,
              "ticks": ""
             }
            },
            "type": "scatterpolargl"
           }
          ],
          "scatterternary": [
           {
            "marker": {
             "colorbar": {
              "outlinewidth": 0,
              "ticks": ""
             }
            },
            "type": "scatterternary"
           }
          ],
          "surface": [
           {
            "colorbar": {
             "outlinewidth": 0,
             "ticks": ""
            },
            "colorscale": [
             [
              0,
              "#0d0887"
             ],
             [
              0.1111111111111111,
              "#46039f"
             ],
             [
              0.2222222222222222,
              "#7201a8"
             ],
             [
              0.3333333333333333,
              "#9c179e"
             ],
             [
              0.4444444444444444,
              "#bd3786"
             ],
             [
              0.5555555555555556,
              "#d8576b"
             ],
             [
              0.6666666666666666,
              "#ed7953"
             ],
             [
              0.7777777777777778,
              "#fb9f3a"
             ],
             [
              0.8888888888888888,
              "#fdca26"
             ],
             [
              1,
              "#f0f921"
             ]
            ],
            "type": "surface"
           }
          ],
          "table": [
           {
            "cells": {
             "fill": {
              "color": "#EBF0F8"
             },
             "line": {
              "color": "white"
             }
            },
            "header": {
             "fill": {
              "color": "#C8D4E3"
             },
             "line": {
              "color": "white"
             }
            },
            "type": "table"
           }
          ]
         },
         "layout": {
          "annotationdefaults": {
           "arrowcolor": "#2a3f5f",
           "arrowhead": 0,
           "arrowwidth": 1
          },
          "autotypenumbers": "strict",
          "coloraxis": {
           "colorbar": {
            "outlinewidth": 0,
            "ticks": ""
           }
          },
          "colorscale": {
           "diverging": [
            [
             0,
             "#8e0152"
            ],
            [
             0.1,
             "#c51b7d"
            ],
            [
             0.2,
             "#de77ae"
            ],
            [
             0.3,
             "#f1b6da"
            ],
            [
             0.4,
             "#fde0ef"
            ],
            [
             0.5,
             "#f7f7f7"
            ],
            [
             0.6,
             "#e6f5d0"
            ],
            [
             0.7,
             "#b8e186"
            ],
            [
             0.8,
             "#7fbc41"
            ],
            [
             0.9,
             "#4d9221"
            ],
            [
             1,
             "#276419"
            ]
           ],
           "sequential": [
            [
             0,
             "#0d0887"
            ],
            [
             0.1111111111111111,
             "#46039f"
            ],
            [
             0.2222222222222222,
             "#7201a8"
            ],
            [
             0.3333333333333333,
             "#9c179e"
            ],
            [
             0.4444444444444444,
             "#bd3786"
            ],
            [
             0.5555555555555556,
             "#d8576b"
            ],
            [
             0.6666666666666666,
             "#ed7953"
            ],
            [
             0.7777777777777778,
             "#fb9f3a"
            ],
            [
             0.8888888888888888,
             "#fdca26"
            ],
            [
             1,
             "#f0f921"
            ]
           ],
           "sequentialminus": [
            [
             0,
             "#0d0887"
            ],
            [
             0.1111111111111111,
             "#46039f"
            ],
            [
             0.2222222222222222,
             "#7201a8"
            ],
            [
             0.3333333333333333,
             "#9c179e"
            ],
            [
             0.4444444444444444,
             "#bd3786"
            ],
            [
             0.5555555555555556,
             "#d8576b"
            ],
            [
             0.6666666666666666,
             "#ed7953"
            ],
            [
             0.7777777777777778,
             "#fb9f3a"
            ],
            [
             0.8888888888888888,
             "#fdca26"
            ],
            [
             1,
             "#f0f921"
            ]
           ]
          },
          "colorway": [
           "#636efa",
           "#EF553B",
           "#00cc96",
           "#ab63fa",
           "#FFA15A",
           "#19d3f3",
           "#FF6692",
           "#B6E880",
           "#FF97FF",
           "#FECB52"
          ],
          "font": {
           "color": "#2a3f5f"
          },
          "geo": {
           "bgcolor": "white",
           "lakecolor": "white",
           "landcolor": "#E5ECF6",
           "showlakes": true,
           "showland": true,
           "subunitcolor": "white"
          },
          "hoverlabel": {
           "align": "left"
          },
          "hovermode": "closest",
          "mapbox": {
           "style": "light"
          },
          "paper_bgcolor": "white",
          "plot_bgcolor": "#E5ECF6",
          "polar": {
           "angularaxis": {
            "gridcolor": "white",
            "linecolor": "white",
            "ticks": ""
           },
           "bgcolor": "#E5ECF6",
           "radialaxis": {
            "gridcolor": "white",
            "linecolor": "white",
            "ticks": ""
           }
          },
          "scene": {
           "xaxis": {
            "backgroundcolor": "#E5ECF6",
            "gridcolor": "white",
            "gridwidth": 2,
            "linecolor": "white",
            "showbackground": true,
            "ticks": "",
            "zerolinecolor": "white"
           },
           "yaxis": {
            "backgroundcolor": "#E5ECF6",
            "gridcolor": "white",
            "gridwidth": 2,
            "linecolor": "white",
            "showbackground": true,
            "ticks": "",
            "zerolinecolor": "white"
           },
           "zaxis": {
            "backgroundcolor": "#E5ECF6",
            "gridcolor": "white",
            "gridwidth": 2,
            "linecolor": "white",
            "showbackground": true,
            "ticks": "",
            "zerolinecolor": "white"
           }
          },
          "shapedefaults": {
           "line": {
            "color": "#2a3f5f"
           }
          },
          "ternary": {
           "aaxis": {
            "gridcolor": "white",
            "linecolor": "white",
            "ticks": ""
           },
           "baxis": {
            "gridcolor": "white",
            "linecolor": "white",
            "ticks": ""
           },
           "bgcolor": "#E5ECF6",
           "caxis": {
            "gridcolor": "white",
            "linecolor": "white",
            "ticks": ""
           }
          },
          "title": {
           "x": 0.05
          },
          "xaxis": {
           "automargin": true,
           "gridcolor": "white",
           "linecolor": "white",
           "ticks": "",
           "title": {
            "standoff": 15
           },
           "zerolinecolor": "white",
           "zerolinewidth": 2
          },
          "yaxis": {
           "automargin": true,
           "gridcolor": "white",
           "linecolor": "white",
           "ticks": "",
           "title": {
            "standoff": 15
           },
           "zerolinecolor": "white",
           "zerolinewidth": 2
          }
         }
        },
        "title": {
         "font": {
          "color": "#4D5663"
         },
         "text": "Distribution of tonal pitch classes over the corpus"
        },
        "xaxis": {
         "gridcolor": "#E1E5ED",
         "showgrid": true,
         "tickfont": {
          "color": "#4D5663"
         },
         "title": {
          "font": {
           "color": "#4D5663"
          },
          "text": "Note name"
         },
         "zerolinecolor": "#E1E5ED"
        },
        "yaxis": {
         "gridcolor": "#E1E5ED",
         "showgrid": true,
         "tickfont": {
          "color": "#4D5663"
         },
         "title": {
          "font": {
           "color": "#4D5663"
          },
          "text": "Counts"
         },
         "zerolinecolor": "#E1E5ED"
        }
       }
      },
      "text/html": [
       "<div>                            <div id=\"63c1c3c4-12ce-4506-be1b-8233c7f16cfb\" class=\"plotly-graph-div\" style=\"height:525px; width:100%;\"></div>            <script type=\"text/javascript\">                require([\"plotly\"], function(Plotly) {                    window.PLOTLYENV=window.PLOTLYENV || {};\n",
       "                    window.PLOTLYENV.BASE_URL='https://plot.ly';                                    if (document.getElementById(\"63c1c3c4-12ce-4506-be1b-8233c7f16cfb\")) {                    Plotly.newPlot(                        \"63c1c3c4-12ce-4506-be1b-8233c7f16cfb\",                        [{\"marker\": {\"color\": \"rgba(255, 153, 51, 0.6)\", \"line\": {\"color\": \"rgba(255, 153, 51, 1.0)\", \"width\": 1}}, \"name\": \"tpc\", \"orientation\": \"v\", \"text\": \"\", \"type\": \"bar\", \"x\": [\"Fb\", \"Cb\", \"Gb\", \"Db\", \"Ab\", \"Eb\", \"Bb\", \"F\", \"C\", \"G\", \"D\", \"A\", \"E\", \"B\", \"F#\", \"C#\", \"G#\", \"D#\", \"A#\", \"E#\", \"B#\"], \"y\": [12, 18, 46, 539, 1289, 2012, 3490, 4954, 6474, 7519, 7447, 7802, 7453, 5820, 4237, 2857, 1859, 1086, 454, 110, 56]}],                        {\"legend\": {\"bgcolor\": \"#FFFFFF\", \"font\": {\"color\": \"#4D5663\"}}, \"paper_bgcolor\": \"#FFFFFF\", \"plot_bgcolor\": \"#FFFFFF\", \"template\": {\"data\": {\"bar\": [{\"error_x\": {\"color\": \"#2a3f5f\"}, \"error_y\": {\"color\": \"#2a3f5f\"}, \"marker\": {\"line\": {\"color\": \"#E5ECF6\", \"width\": 0.5}}, \"type\": \"bar\"}], \"barpolar\": [{\"marker\": {\"line\": {\"color\": \"#E5ECF6\", \"width\": 0.5}}, \"type\": \"barpolar\"}], \"carpet\": [{\"aaxis\": {\"endlinecolor\": \"#2a3f5f\", \"gridcolor\": \"white\", \"linecolor\": \"white\", \"minorgridcolor\": \"white\", \"startlinecolor\": \"#2a3f5f\"}, \"baxis\": {\"endlinecolor\": \"#2a3f5f\", \"gridcolor\": \"white\", \"linecolor\": \"white\", \"minorgridcolor\": \"white\", \"startlinecolor\": \"#2a3f5f\"}, \"type\": \"carpet\"}], \"choropleth\": [{\"colorbar\": {\"outlinewidth\": 0, \"ticks\": \"\"}, \"type\": \"choropleth\"}], \"contour\": [{\"colorbar\": {\"outlinewidth\": 0, \"ticks\": \"\"}, \"colorscale\": [[0.0, \"#0d0887\"], [0.1111111111111111, \"#46039f\"], [0.2222222222222222, \"#7201a8\"], [0.3333333333333333, \"#9c179e\"], [0.4444444444444444, \"#bd3786\"], [0.5555555555555556, \"#d8576b\"], [0.6666666666666666, \"#ed7953\"], [0.7777777777777778, \"#fb9f3a\"], [0.8888888888888888, \"#fdca26\"], [1.0, \"#f0f921\"]], \"type\": \"contour\"}], \"contourcarpet\": [{\"colorbar\": {\"outlinewidth\": 0, \"ticks\": \"\"}, \"type\": \"contourcarpet\"}], \"heatmap\": [{\"colorbar\": {\"outlinewidth\": 0, \"ticks\": \"\"}, \"colorscale\": [[0.0, \"#0d0887\"], [0.1111111111111111, \"#46039f\"], [0.2222222222222222, \"#7201a8\"], [0.3333333333333333, \"#9c179e\"], [0.4444444444444444, \"#bd3786\"], [0.5555555555555556, \"#d8576b\"], [0.6666666666666666, \"#ed7953\"], [0.7777777777777778, \"#fb9f3a\"], [0.8888888888888888, \"#fdca26\"], [1.0, \"#f0f921\"]], \"type\": \"heatmap\"}], \"heatmapgl\": [{\"colorbar\": {\"outlinewidth\": 0, \"ticks\": \"\"}, \"colorscale\": [[0.0, \"#0d0887\"], [0.1111111111111111, \"#46039f\"], [0.2222222222222222, \"#7201a8\"], [0.3333333333333333, \"#9c179e\"], [0.4444444444444444, \"#bd3786\"], [0.5555555555555556, \"#d8576b\"], [0.6666666666666666, \"#ed7953\"], [0.7777777777777778, \"#fb9f3a\"], [0.8888888888888888, \"#fdca26\"], [1.0, \"#f0f921\"]], \"type\": \"heatmapgl\"}], \"histogram\": [{\"marker\": {\"colorbar\": {\"outlinewidth\": 0, \"ticks\": \"\"}}, \"type\": \"histogram\"}], \"histogram2d\": [{\"colorbar\": {\"outlinewidth\": 0, \"ticks\": \"\"}, \"colorscale\": [[0.0, \"#0d0887\"], [0.1111111111111111, \"#46039f\"], [0.2222222222222222, \"#7201a8\"], [0.3333333333333333, \"#9c179e\"], [0.4444444444444444, \"#bd3786\"], [0.5555555555555556, \"#d8576b\"], [0.6666666666666666, \"#ed7953\"], [0.7777777777777778, \"#fb9f3a\"], [0.8888888888888888, \"#fdca26\"], [1.0, \"#f0f921\"]], \"type\": \"histogram2d\"}], \"histogram2dcontour\": [{\"colorbar\": {\"outlinewidth\": 0, \"ticks\": \"\"}, \"colorscale\": [[0.0, \"#0d0887\"], [0.1111111111111111, \"#46039f\"], [0.2222222222222222, \"#7201a8\"], [0.3333333333333333, \"#9c179e\"], [0.4444444444444444, \"#bd3786\"], [0.5555555555555556, \"#d8576b\"], [0.6666666666666666, \"#ed7953\"], [0.7777777777777778, \"#fb9f3a\"], [0.8888888888888888, \"#fdca26\"], [1.0, \"#f0f921\"]], \"type\": \"histogram2dcontour\"}], \"mesh3d\": [{\"colorbar\": {\"outlinewidth\": 0, \"ticks\": \"\"}, \"type\": \"mesh3d\"}], \"parcoords\": [{\"line\": {\"colorbar\": {\"outlinewidth\": 0, \"ticks\": \"\"}}, \"type\": \"parcoords\"}], \"pie\": [{\"automargin\": true, \"type\": \"pie\"}], \"scatter\": [{\"marker\": {\"colorbar\": {\"outlinewidth\": 0, \"ticks\": \"\"}}, \"type\": \"scatter\"}], \"scatter3d\": [{\"line\": {\"colorbar\": {\"outlinewidth\": 0, \"ticks\": \"\"}}, \"marker\": {\"colorbar\": {\"outlinewidth\": 0, \"ticks\": \"\"}}, \"type\": \"scatter3d\"}], \"scattercarpet\": [{\"marker\": {\"colorbar\": {\"outlinewidth\": 0, \"ticks\": \"\"}}, \"type\": \"scattercarpet\"}], \"scattergeo\": [{\"marker\": {\"colorbar\": {\"outlinewidth\": 0, \"ticks\": \"\"}}, \"type\": \"scattergeo\"}], \"scattergl\": [{\"marker\": {\"colorbar\": {\"outlinewidth\": 0, \"ticks\": \"\"}}, \"type\": \"scattergl\"}], \"scattermapbox\": [{\"marker\": {\"colorbar\": {\"outlinewidth\": 0, \"ticks\": \"\"}}, \"type\": \"scattermapbox\"}], \"scatterpolar\": [{\"marker\": {\"colorbar\": {\"outlinewidth\": 0, \"ticks\": \"\"}}, \"type\": \"scatterpolar\"}], \"scatterpolargl\": [{\"marker\": {\"colorbar\": {\"outlinewidth\": 0, \"ticks\": \"\"}}, \"type\": \"scatterpolargl\"}], \"scatterternary\": [{\"marker\": {\"colorbar\": {\"outlinewidth\": 0, \"ticks\": \"\"}}, \"type\": \"scatterternary\"}], \"surface\": [{\"colorbar\": {\"outlinewidth\": 0, \"ticks\": \"\"}, \"colorscale\": [[0.0, \"#0d0887\"], [0.1111111111111111, \"#46039f\"], [0.2222222222222222, \"#7201a8\"], [0.3333333333333333, \"#9c179e\"], [0.4444444444444444, \"#bd3786\"], [0.5555555555555556, \"#d8576b\"], [0.6666666666666666, \"#ed7953\"], [0.7777777777777778, \"#fb9f3a\"], [0.8888888888888888, \"#fdca26\"], [1.0, \"#f0f921\"]], \"type\": \"surface\"}], \"table\": [{\"cells\": {\"fill\": {\"color\": \"#EBF0F8\"}, \"line\": {\"color\": \"white\"}}, \"header\": {\"fill\": {\"color\": \"#C8D4E3\"}, \"line\": {\"color\": \"white\"}}, \"type\": \"table\"}]}, \"layout\": {\"annotationdefaults\": {\"arrowcolor\": \"#2a3f5f\", \"arrowhead\": 0, \"arrowwidth\": 1}, \"autotypenumbers\": \"strict\", \"coloraxis\": {\"colorbar\": {\"outlinewidth\": 0, \"ticks\": \"\"}}, \"colorscale\": {\"diverging\": [[0, \"#8e0152\"], [0.1, \"#c51b7d\"], [0.2, \"#de77ae\"], [0.3, \"#f1b6da\"], [0.4, \"#fde0ef\"], [0.5, \"#f7f7f7\"], [0.6, \"#e6f5d0\"], [0.7, \"#b8e186\"], [0.8, \"#7fbc41\"], [0.9, \"#4d9221\"], [1, \"#276419\"]], \"sequential\": [[0.0, \"#0d0887\"], [0.1111111111111111, \"#46039f\"], [0.2222222222222222, \"#7201a8\"], [0.3333333333333333, \"#9c179e\"], [0.4444444444444444, \"#bd3786\"], [0.5555555555555556, \"#d8576b\"], [0.6666666666666666, \"#ed7953\"], [0.7777777777777778, \"#fb9f3a\"], [0.8888888888888888, \"#fdca26\"], [1.0, \"#f0f921\"]], \"sequentialminus\": [[0.0, \"#0d0887\"], [0.1111111111111111, \"#46039f\"], [0.2222222222222222, \"#7201a8\"], [0.3333333333333333, \"#9c179e\"], [0.4444444444444444, \"#bd3786\"], [0.5555555555555556, \"#d8576b\"], [0.6666666666666666, \"#ed7953\"], [0.7777777777777778, \"#fb9f3a\"], [0.8888888888888888, \"#fdca26\"], [1.0, \"#f0f921\"]]}, \"colorway\": [\"#636efa\", \"#EF553B\", \"#00cc96\", \"#ab63fa\", \"#FFA15A\", \"#19d3f3\", \"#FF6692\", \"#B6E880\", \"#FF97FF\", \"#FECB52\"], \"font\": {\"color\": \"#2a3f5f\"}, \"geo\": {\"bgcolor\": \"white\", \"lakecolor\": \"white\", \"landcolor\": \"#E5ECF6\", \"showlakes\": true, \"showland\": true, \"subunitcolor\": \"white\"}, \"hoverlabel\": {\"align\": \"left\"}, \"hovermode\": \"closest\", \"mapbox\": {\"style\": \"light\"}, \"paper_bgcolor\": \"white\", \"plot_bgcolor\": \"#E5ECF6\", \"polar\": {\"angularaxis\": {\"gridcolor\": \"white\", \"linecolor\": \"white\", \"ticks\": \"\"}, \"bgcolor\": \"#E5ECF6\", \"radialaxis\": {\"gridcolor\": \"white\", \"linecolor\": \"white\", \"ticks\": \"\"}}, \"scene\": {\"xaxis\": {\"backgroundcolor\": \"#E5ECF6\", \"gridcolor\": \"white\", \"gridwidth\": 2, \"linecolor\": \"white\", \"showbackground\": true, \"ticks\": \"\", \"zerolinecolor\": \"white\"}, \"yaxis\": {\"backgroundcolor\": \"#E5ECF6\", \"gridcolor\": \"white\", \"gridwidth\": 2, \"linecolor\": \"white\", \"showbackground\": true, \"ticks\": \"\", \"zerolinecolor\": \"white\"}, \"zaxis\": {\"backgroundcolor\": \"#E5ECF6\", \"gridcolor\": \"white\", \"gridwidth\": 2, \"linecolor\": \"white\", \"showbackground\": true, \"ticks\": \"\", \"zerolinecolor\": \"white\"}}, \"shapedefaults\": {\"line\": {\"color\": \"#2a3f5f\"}}, \"ternary\": {\"aaxis\": {\"gridcolor\": \"white\", \"linecolor\": \"white\", \"ticks\": \"\"}, \"baxis\": {\"gridcolor\": \"white\", \"linecolor\": \"white\", \"ticks\": \"\"}, \"bgcolor\": \"#E5ECF6\", \"caxis\": {\"gridcolor\": \"white\", \"linecolor\": \"white\", \"ticks\": \"\"}}, \"title\": {\"x\": 0.05}, \"xaxis\": {\"automargin\": true, \"gridcolor\": \"white\", \"linecolor\": \"white\", \"ticks\": \"\", \"title\": {\"standoff\": 15}, \"zerolinecolor\": \"white\", \"zerolinewidth\": 2}, \"yaxis\": {\"automargin\": true, \"gridcolor\": \"white\", \"linecolor\": \"white\", \"ticks\": \"\", \"title\": {\"standoff\": 15}, \"zerolinecolor\": \"white\", \"zerolinewidth\": 2}}}, \"title\": {\"font\": {\"color\": \"#4D5663\"}, \"text\": \"Distribution of tonal pitch classes over the corpus\"}, \"xaxis\": {\"gridcolor\": \"#E1E5ED\", \"showgrid\": true, \"tickfont\": {\"color\": \"#4D5663\"}, \"title\": {\"font\": {\"color\": \"#4D5663\"}, \"text\": \"Note name\"}, \"zerolinecolor\": \"#E1E5ED\"}, \"yaxis\": {\"gridcolor\": \"#E1E5ED\", \"showgrid\": true, \"tickfont\": {\"color\": \"#4D5663\"}, \"title\": {\"font\": {\"color\": \"#4D5663\"}, \"text\": \"Counts\"}, \"zerolinecolor\": \"#E1E5ED\"}},                        {\"showLink\": true, \"linkText\": \"Export to plot.ly\", \"plotlyServerURL\": \"https://plot.ly\", \"responsive\": true}                    ).then(function(){\n",
       "                            \n",
       "var gd = document.getElementById('63c1c3c4-12ce-4506-be1b-8233c7f16cfb');\n",
       "var x = new MutationObserver(function (mutations, observer) {{\n",
       "        var display = window.getComputedStyle(gd).display;\n",
       "        if (!display || display === 'none') {{\n",
       "            console.log([gd, 'removed!']);\n",
       "            Plotly.purge(gd);\n",
       "            observer.disconnect();\n",
       "        }}\n",
       "}});\n",
       "\n",
       "// Listen for the removal of the full notebook cells\n",
       "var notebookContainer = gd.closest('#notebook-container');\n",
       "if (notebookContainer) {{\n",
       "    x.observe(notebookContainer, {childList: true});\n",
       "}}\n",
       "\n",
       "// Listen for the clearing of the current output cell\n",
       "var outputEl = gd.closest('.output');\n",
       "if (outputEl) {{\n",
       "    x.observe(outputEl, {childList: true});\n",
       "}}\n",
       "\n",
       "                        })                };                });            </script>        </div>"
      ]
     },
     "metadata": {},
     "output_type": "display_data"
    }
   ],
   "source": [
    "notes.tpc.value_counts()\\\n",
    "        .sort_index()\\\n",
    "        .rename(tpc2name)\\\n",
    "        .iplot('bar', title='Distribution of tonal pitch classes over the corpus', xTitle='Note name', yTitle='Counts')"
   ]
  },
  {
   "cell_type": "code",
   "execution_count": 6,
   "metadata": {},
   "outputs": [
    {
     "data": {
      "application/vnd.plotly.v1+json": {
       "config": {
        "linkText": "Export to plot.ly",
        "plotlyServerURL": "https://plot.ly",
        "showLink": true
       },
       "data": [
        {
         "marker": {
          "color": "rgba(255, 153, 51, 0.6)",
          "line": {
           "color": "rgba(255, 153, 51, 1.0)",
           "width": 1
          }
         },
         "name": "pc",
         "orientation": "v",
         "text": "",
         "type": "bar",
         "x": [
          9,
          7,
          4,
          2,
          0,
          11,
          5,
          6,
          10,
          1,
          8,
          3
         ],
         "y": [
          7802,
          7519,
          7465,
          7447,
          6530,
          5838,
          5064,
          4283,
          3944,
          3396,
          3148,
          3098
         ]
        }
       ],
       "layout": {
        "legend": {
         "bgcolor": "#FFFFFF",
         "font": {
          "color": "#4D5663"
         }
        },
        "paper_bgcolor": "#FFFFFF",
        "plot_bgcolor": "#FFFFFF",
        "template": {
         "data": {
          "bar": [
           {
            "error_x": {
             "color": "#2a3f5f"
            },
            "error_y": {
             "color": "#2a3f5f"
            },
            "marker": {
             "line": {
              "color": "#E5ECF6",
              "width": 0.5
             }
            },
            "type": "bar"
           }
          ],
          "barpolar": [
           {
            "marker": {
             "line": {
              "color": "#E5ECF6",
              "width": 0.5
             }
            },
            "type": "barpolar"
           }
          ],
          "carpet": [
           {
            "aaxis": {
             "endlinecolor": "#2a3f5f",
             "gridcolor": "white",
             "linecolor": "white",
             "minorgridcolor": "white",
             "startlinecolor": "#2a3f5f"
            },
            "baxis": {
             "endlinecolor": "#2a3f5f",
             "gridcolor": "white",
             "linecolor": "white",
             "minorgridcolor": "white",
             "startlinecolor": "#2a3f5f"
            },
            "type": "carpet"
           }
          ],
          "choropleth": [
           {
            "colorbar": {
             "outlinewidth": 0,
             "ticks": ""
            },
            "type": "choropleth"
           }
          ],
          "contour": [
           {
            "colorbar": {
             "outlinewidth": 0,
             "ticks": ""
            },
            "colorscale": [
             [
              0,
              "#0d0887"
             ],
             [
              0.1111111111111111,
              "#46039f"
             ],
             [
              0.2222222222222222,
              "#7201a8"
             ],
             [
              0.3333333333333333,
              "#9c179e"
             ],
             [
              0.4444444444444444,
              "#bd3786"
             ],
             [
              0.5555555555555556,
              "#d8576b"
             ],
             [
              0.6666666666666666,
              "#ed7953"
             ],
             [
              0.7777777777777778,
              "#fb9f3a"
             ],
             [
              0.8888888888888888,
              "#fdca26"
             ],
             [
              1,
              "#f0f921"
             ]
            ],
            "type": "contour"
           }
          ],
          "contourcarpet": [
           {
            "colorbar": {
             "outlinewidth": 0,
             "ticks": ""
            },
            "type": "contourcarpet"
           }
          ],
          "heatmap": [
           {
            "colorbar": {
             "outlinewidth": 0,
             "ticks": ""
            },
            "colorscale": [
             [
              0,
              "#0d0887"
             ],
             [
              0.1111111111111111,
              "#46039f"
             ],
             [
              0.2222222222222222,
              "#7201a8"
             ],
             [
              0.3333333333333333,
              "#9c179e"
             ],
             [
              0.4444444444444444,
              "#bd3786"
             ],
             [
              0.5555555555555556,
              "#d8576b"
             ],
             [
              0.6666666666666666,
              "#ed7953"
             ],
             [
              0.7777777777777778,
              "#fb9f3a"
             ],
             [
              0.8888888888888888,
              "#fdca26"
             ],
             [
              1,
              "#f0f921"
             ]
            ],
            "type": "heatmap"
           }
          ],
          "heatmapgl": [
           {
            "colorbar": {
             "outlinewidth": 0,
             "ticks": ""
            },
            "colorscale": [
             [
              0,
              "#0d0887"
             ],
             [
              0.1111111111111111,
              "#46039f"
             ],
             [
              0.2222222222222222,
              "#7201a8"
             ],
             [
              0.3333333333333333,
              "#9c179e"
             ],
             [
              0.4444444444444444,
              "#bd3786"
             ],
             [
              0.5555555555555556,
              "#d8576b"
             ],
             [
              0.6666666666666666,
              "#ed7953"
             ],
             [
              0.7777777777777778,
              "#fb9f3a"
             ],
             [
              0.8888888888888888,
              "#fdca26"
             ],
             [
              1,
              "#f0f921"
             ]
            ],
            "type": "heatmapgl"
           }
          ],
          "histogram": [
           {
            "marker": {
             "colorbar": {
              "outlinewidth": 0,
              "ticks": ""
             }
            },
            "type": "histogram"
           }
          ],
          "histogram2d": [
           {
            "colorbar": {
             "outlinewidth": 0,
             "ticks": ""
            },
            "colorscale": [
             [
              0,
              "#0d0887"
             ],
             [
              0.1111111111111111,
              "#46039f"
             ],
             [
              0.2222222222222222,
              "#7201a8"
             ],
             [
              0.3333333333333333,
              "#9c179e"
             ],
             [
              0.4444444444444444,
              "#bd3786"
             ],
             [
              0.5555555555555556,
              "#d8576b"
             ],
             [
              0.6666666666666666,
              "#ed7953"
             ],
             [
              0.7777777777777778,
              "#fb9f3a"
             ],
             [
              0.8888888888888888,
              "#fdca26"
             ],
             [
              1,
              "#f0f921"
             ]
            ],
            "type": "histogram2d"
           }
          ],
          "histogram2dcontour": [
           {
            "colorbar": {
             "outlinewidth": 0,
             "ticks": ""
            },
            "colorscale": [
             [
              0,
              "#0d0887"
             ],
             [
              0.1111111111111111,
              "#46039f"
             ],
             [
              0.2222222222222222,
              "#7201a8"
             ],
             [
              0.3333333333333333,
              "#9c179e"
             ],
             [
              0.4444444444444444,
              "#bd3786"
             ],
             [
              0.5555555555555556,
              "#d8576b"
             ],
             [
              0.6666666666666666,
              "#ed7953"
             ],
             [
              0.7777777777777778,
              "#fb9f3a"
             ],
             [
              0.8888888888888888,
              "#fdca26"
             ],
             [
              1,
              "#f0f921"
             ]
            ],
            "type": "histogram2dcontour"
           }
          ],
          "mesh3d": [
           {
            "colorbar": {
             "outlinewidth": 0,
             "ticks": ""
            },
            "type": "mesh3d"
           }
          ],
          "parcoords": [
           {
            "line": {
             "colorbar": {
              "outlinewidth": 0,
              "ticks": ""
             }
            },
            "type": "parcoords"
           }
          ],
          "pie": [
           {
            "automargin": true,
            "type": "pie"
           }
          ],
          "scatter": [
           {
            "marker": {
             "colorbar": {
              "outlinewidth": 0,
              "ticks": ""
             }
            },
            "type": "scatter"
           }
          ],
          "scatter3d": [
           {
            "line": {
             "colorbar": {
              "outlinewidth": 0,
              "ticks": ""
             }
            },
            "marker": {
             "colorbar": {
              "outlinewidth": 0,
              "ticks": ""
             }
            },
            "type": "scatter3d"
           }
          ],
          "scattercarpet": [
           {
            "marker": {
             "colorbar": {
              "outlinewidth": 0,
              "ticks": ""
             }
            },
            "type": "scattercarpet"
           }
          ],
          "scattergeo": [
           {
            "marker": {
             "colorbar": {
              "outlinewidth": 0,
              "ticks": ""
             }
            },
            "type": "scattergeo"
           }
          ],
          "scattergl": [
           {
            "marker": {
             "colorbar": {
              "outlinewidth": 0,
              "ticks": ""
             }
            },
            "type": "scattergl"
           }
          ],
          "scattermapbox": [
           {
            "marker": {
             "colorbar": {
              "outlinewidth": 0,
              "ticks": ""
             }
            },
            "type": "scattermapbox"
           }
          ],
          "scatterpolar": [
           {
            "marker": {
             "colorbar": {
              "outlinewidth": 0,
              "ticks": ""
             }
            },
            "type": "scatterpolar"
           }
          ],
          "scatterpolargl": [
           {
            "marker": {
             "colorbar": {
              "outlinewidth": 0,
              "ticks": ""
             }
            },
            "type": "scatterpolargl"
           }
          ],
          "scatterternary": [
           {
            "marker": {
             "colorbar": {
              "outlinewidth": 0,
              "ticks": ""
             }
            },
            "type": "scatterternary"
           }
          ],
          "surface": [
           {
            "colorbar": {
             "outlinewidth": 0,
             "ticks": ""
            },
            "colorscale": [
             [
              0,
              "#0d0887"
             ],
             [
              0.1111111111111111,
              "#46039f"
             ],
             [
              0.2222222222222222,
              "#7201a8"
             ],
             [
              0.3333333333333333,
              "#9c179e"
             ],
             [
              0.4444444444444444,
              "#bd3786"
             ],
             [
              0.5555555555555556,
              "#d8576b"
             ],
             [
              0.6666666666666666,
              "#ed7953"
             ],
             [
              0.7777777777777778,
              "#fb9f3a"
             ],
             [
              0.8888888888888888,
              "#fdca26"
             ],
             [
              1,
              "#f0f921"
             ]
            ],
            "type": "surface"
           }
          ],
          "table": [
           {
            "cells": {
             "fill": {
              "color": "#EBF0F8"
             },
             "line": {
              "color": "white"
             }
            },
            "header": {
             "fill": {
              "color": "#C8D4E3"
             },
             "line": {
              "color": "white"
             }
            },
            "type": "table"
           }
          ]
         },
         "layout": {
          "annotationdefaults": {
           "arrowcolor": "#2a3f5f",
           "arrowhead": 0,
           "arrowwidth": 1
          },
          "autotypenumbers": "strict",
          "coloraxis": {
           "colorbar": {
            "outlinewidth": 0,
            "ticks": ""
           }
          },
          "colorscale": {
           "diverging": [
            [
             0,
             "#8e0152"
            ],
            [
             0.1,
             "#c51b7d"
            ],
            [
             0.2,
             "#de77ae"
            ],
            [
             0.3,
             "#f1b6da"
            ],
            [
             0.4,
             "#fde0ef"
            ],
            [
             0.5,
             "#f7f7f7"
            ],
            [
             0.6,
             "#e6f5d0"
            ],
            [
             0.7,
             "#b8e186"
            ],
            [
             0.8,
             "#7fbc41"
            ],
            [
             0.9,
             "#4d9221"
            ],
            [
             1,
             "#276419"
            ]
           ],
           "sequential": [
            [
             0,
             "#0d0887"
            ],
            [
             0.1111111111111111,
             "#46039f"
            ],
            [
             0.2222222222222222,
             "#7201a8"
            ],
            [
             0.3333333333333333,
             "#9c179e"
            ],
            [
             0.4444444444444444,
             "#bd3786"
            ],
            [
             0.5555555555555556,
             "#d8576b"
            ],
            [
             0.6666666666666666,
             "#ed7953"
            ],
            [
             0.7777777777777778,
             "#fb9f3a"
            ],
            [
             0.8888888888888888,
             "#fdca26"
            ],
            [
             1,
             "#f0f921"
            ]
           ],
           "sequentialminus": [
            [
             0,
             "#0d0887"
            ],
            [
             0.1111111111111111,
             "#46039f"
            ],
            [
             0.2222222222222222,
             "#7201a8"
            ],
            [
             0.3333333333333333,
             "#9c179e"
            ],
            [
             0.4444444444444444,
             "#bd3786"
            ],
            [
             0.5555555555555556,
             "#d8576b"
            ],
            [
             0.6666666666666666,
             "#ed7953"
            ],
            [
             0.7777777777777778,
             "#fb9f3a"
            ],
            [
             0.8888888888888888,
             "#fdca26"
            ],
            [
             1,
             "#f0f921"
            ]
           ]
          },
          "colorway": [
           "#636efa",
           "#EF553B",
           "#00cc96",
           "#ab63fa",
           "#FFA15A",
           "#19d3f3",
           "#FF6692",
           "#B6E880",
           "#FF97FF",
           "#FECB52"
          ],
          "font": {
           "color": "#2a3f5f"
          },
          "geo": {
           "bgcolor": "white",
           "lakecolor": "white",
           "landcolor": "#E5ECF6",
           "showlakes": true,
           "showland": true,
           "subunitcolor": "white"
          },
          "hoverlabel": {
           "align": "left"
          },
          "hovermode": "closest",
          "mapbox": {
           "style": "light"
          },
          "paper_bgcolor": "white",
          "plot_bgcolor": "#E5ECF6",
          "polar": {
           "angularaxis": {
            "gridcolor": "white",
            "linecolor": "white",
            "ticks": ""
           },
           "bgcolor": "#E5ECF6",
           "radialaxis": {
            "gridcolor": "white",
            "linecolor": "white",
            "ticks": ""
           }
          },
          "scene": {
           "xaxis": {
            "backgroundcolor": "#E5ECF6",
            "gridcolor": "white",
            "gridwidth": 2,
            "linecolor": "white",
            "showbackground": true,
            "ticks": "",
            "zerolinecolor": "white"
           },
           "yaxis": {
            "backgroundcolor": "#E5ECF6",
            "gridcolor": "white",
            "gridwidth": 2,
            "linecolor": "white",
            "showbackground": true,
            "ticks": "",
            "zerolinecolor": "white"
           },
           "zaxis": {
            "backgroundcolor": "#E5ECF6",
            "gridcolor": "white",
            "gridwidth": 2,
            "linecolor": "white",
            "showbackground": true,
            "ticks": "",
            "zerolinecolor": "white"
           }
          },
          "shapedefaults": {
           "line": {
            "color": "#2a3f5f"
           }
          },
          "ternary": {
           "aaxis": {
            "gridcolor": "white",
            "linecolor": "white",
            "ticks": ""
           },
           "baxis": {
            "gridcolor": "white",
            "linecolor": "white",
            "ticks": ""
           },
           "bgcolor": "#E5ECF6",
           "caxis": {
            "gridcolor": "white",
            "linecolor": "white",
            "ticks": ""
           }
          },
          "title": {
           "x": 0.05
          },
          "xaxis": {
           "automargin": true,
           "gridcolor": "white",
           "linecolor": "white",
           "ticks": "",
           "title": {
            "standoff": 15
           },
           "zerolinecolor": "white",
           "zerolinewidth": 2
          },
          "yaxis": {
           "automargin": true,
           "gridcolor": "white",
           "linecolor": "white",
           "ticks": "",
           "title": {
            "standoff": 15
           },
           "zerolinecolor": "white",
           "zerolinewidth": 2
          }
         }
        },
        "title": {
         "font": {
          "color": "#4D5663"
         },
         "text": "All MIDI pitches after projecting them into one octave (= Chromatic pitch classes)"
        },
        "xaxis": {
         "gridcolor": "#E1E5ED",
         "showgrid": true,
         "tickfont": {
          "color": "#4D5663"
         },
         "title": {
          "font": {
           "color": "#4D5663"
          },
          "text": "Chromatic pitch class"
         },
         "zerolinecolor": "#E1E5ED"
        },
        "yaxis": {
         "gridcolor": "#E1E5ED",
         "showgrid": true,
         "tickfont": {
          "color": "#4D5663"
         },
         "title": {
          "font": {
           "color": "#4D5663"
          },
          "text": "Counts"
         },
         "zerolinecolor": "#E1E5ED"
        }
       }
      },
      "text/html": [
       "<div>                            <div id=\"3b8e59ff-f5d8-44f9-8a01-baf55b45230f\" class=\"plotly-graph-div\" style=\"height:525px; width:100%;\"></div>            <script type=\"text/javascript\">                require([\"plotly\"], function(Plotly) {                    window.PLOTLYENV=window.PLOTLYENV || {};\n",
       "                    window.PLOTLYENV.BASE_URL='https://plot.ly';                                    if (document.getElementById(\"3b8e59ff-f5d8-44f9-8a01-baf55b45230f\")) {                    Plotly.newPlot(                        \"3b8e59ff-f5d8-44f9-8a01-baf55b45230f\",                        [{\"marker\": {\"color\": \"rgba(255, 153, 51, 0.6)\", \"line\": {\"color\": \"rgba(255, 153, 51, 1.0)\", \"width\": 1}}, \"name\": \"pc\", \"orientation\": \"v\", \"text\": \"\", \"type\": \"bar\", \"x\": [9, 7, 4, 2, 0, 11, 5, 6, 10, 1, 8, 3], \"y\": [7802, 7519, 7465, 7447, 6530, 5838, 5064, 4283, 3944, 3396, 3148, 3098]}],                        {\"legend\": {\"bgcolor\": \"#FFFFFF\", \"font\": {\"color\": \"#4D5663\"}}, \"paper_bgcolor\": \"#FFFFFF\", \"plot_bgcolor\": \"#FFFFFF\", \"template\": {\"data\": {\"bar\": [{\"error_x\": {\"color\": \"#2a3f5f\"}, \"error_y\": {\"color\": \"#2a3f5f\"}, \"marker\": {\"line\": {\"color\": \"#E5ECF6\", \"width\": 0.5}}, \"type\": \"bar\"}], \"barpolar\": [{\"marker\": {\"line\": {\"color\": \"#E5ECF6\", \"width\": 0.5}}, \"type\": \"barpolar\"}], \"carpet\": [{\"aaxis\": {\"endlinecolor\": \"#2a3f5f\", \"gridcolor\": \"white\", \"linecolor\": \"white\", \"minorgridcolor\": \"white\", \"startlinecolor\": \"#2a3f5f\"}, \"baxis\": {\"endlinecolor\": \"#2a3f5f\", \"gridcolor\": \"white\", \"linecolor\": \"white\", \"minorgridcolor\": \"white\", \"startlinecolor\": \"#2a3f5f\"}, \"type\": \"carpet\"}], \"choropleth\": [{\"colorbar\": {\"outlinewidth\": 0, \"ticks\": \"\"}, \"type\": \"choropleth\"}], \"contour\": [{\"colorbar\": {\"outlinewidth\": 0, \"ticks\": \"\"}, \"colorscale\": [[0.0, \"#0d0887\"], [0.1111111111111111, \"#46039f\"], [0.2222222222222222, \"#7201a8\"], [0.3333333333333333, \"#9c179e\"], [0.4444444444444444, \"#bd3786\"], [0.5555555555555556, \"#d8576b\"], [0.6666666666666666, \"#ed7953\"], [0.7777777777777778, \"#fb9f3a\"], [0.8888888888888888, \"#fdca26\"], [1.0, \"#f0f921\"]], \"type\": \"contour\"}], \"contourcarpet\": [{\"colorbar\": {\"outlinewidth\": 0, \"ticks\": \"\"}, \"type\": \"contourcarpet\"}], \"heatmap\": [{\"colorbar\": {\"outlinewidth\": 0, \"ticks\": \"\"}, \"colorscale\": [[0.0, \"#0d0887\"], [0.1111111111111111, \"#46039f\"], [0.2222222222222222, \"#7201a8\"], [0.3333333333333333, \"#9c179e\"], [0.4444444444444444, \"#bd3786\"], [0.5555555555555556, \"#d8576b\"], [0.6666666666666666, \"#ed7953\"], [0.7777777777777778, \"#fb9f3a\"], [0.8888888888888888, \"#fdca26\"], [1.0, \"#f0f921\"]], \"type\": \"heatmap\"}], \"heatmapgl\": [{\"colorbar\": {\"outlinewidth\": 0, \"ticks\": \"\"}, \"colorscale\": [[0.0, \"#0d0887\"], [0.1111111111111111, \"#46039f\"], [0.2222222222222222, \"#7201a8\"], [0.3333333333333333, \"#9c179e\"], [0.4444444444444444, \"#bd3786\"], [0.5555555555555556, \"#d8576b\"], [0.6666666666666666, \"#ed7953\"], [0.7777777777777778, \"#fb9f3a\"], [0.8888888888888888, \"#fdca26\"], [1.0, \"#f0f921\"]], \"type\": \"heatmapgl\"}], \"histogram\": [{\"marker\": {\"colorbar\": {\"outlinewidth\": 0, \"ticks\": \"\"}}, \"type\": \"histogram\"}], \"histogram2d\": [{\"colorbar\": {\"outlinewidth\": 0, \"ticks\": \"\"}, \"colorscale\": [[0.0, \"#0d0887\"], [0.1111111111111111, \"#46039f\"], [0.2222222222222222, \"#7201a8\"], [0.3333333333333333, \"#9c179e\"], [0.4444444444444444, \"#bd3786\"], [0.5555555555555556, \"#d8576b\"], [0.6666666666666666, \"#ed7953\"], [0.7777777777777778, \"#fb9f3a\"], [0.8888888888888888, \"#fdca26\"], [1.0, \"#f0f921\"]], \"type\": \"histogram2d\"}], \"histogram2dcontour\": [{\"colorbar\": {\"outlinewidth\": 0, \"ticks\": \"\"}, \"colorscale\": [[0.0, \"#0d0887\"], [0.1111111111111111, \"#46039f\"], [0.2222222222222222, \"#7201a8\"], [0.3333333333333333, \"#9c179e\"], [0.4444444444444444, \"#bd3786\"], [0.5555555555555556, \"#d8576b\"], [0.6666666666666666, \"#ed7953\"], [0.7777777777777778, \"#fb9f3a\"], [0.8888888888888888, \"#fdca26\"], [1.0, \"#f0f921\"]], \"type\": \"histogram2dcontour\"}], \"mesh3d\": [{\"colorbar\": {\"outlinewidth\": 0, \"ticks\": \"\"}, \"type\": \"mesh3d\"}], \"parcoords\": [{\"line\": {\"colorbar\": {\"outlinewidth\": 0, \"ticks\": \"\"}}, \"type\": \"parcoords\"}], \"pie\": [{\"automargin\": true, \"type\": \"pie\"}], \"scatter\": [{\"marker\": {\"colorbar\": {\"outlinewidth\": 0, \"ticks\": \"\"}}, \"type\": \"scatter\"}], \"scatter3d\": [{\"line\": {\"colorbar\": {\"outlinewidth\": 0, \"ticks\": \"\"}}, \"marker\": {\"colorbar\": {\"outlinewidth\": 0, \"ticks\": \"\"}}, \"type\": \"scatter3d\"}], \"scattercarpet\": [{\"marker\": {\"colorbar\": {\"outlinewidth\": 0, \"ticks\": \"\"}}, \"type\": \"scattercarpet\"}], \"scattergeo\": [{\"marker\": {\"colorbar\": {\"outlinewidth\": 0, \"ticks\": \"\"}}, \"type\": \"scattergeo\"}], \"scattergl\": [{\"marker\": {\"colorbar\": {\"outlinewidth\": 0, \"ticks\": \"\"}}, \"type\": \"scattergl\"}], \"scattermapbox\": [{\"marker\": {\"colorbar\": {\"outlinewidth\": 0, \"ticks\": \"\"}}, \"type\": \"scattermapbox\"}], \"scatterpolar\": [{\"marker\": {\"colorbar\": {\"outlinewidth\": 0, \"ticks\": \"\"}}, \"type\": \"scatterpolar\"}], \"scatterpolargl\": [{\"marker\": {\"colorbar\": {\"outlinewidth\": 0, \"ticks\": \"\"}}, \"type\": \"scatterpolargl\"}], \"scatterternary\": [{\"marker\": {\"colorbar\": {\"outlinewidth\": 0, \"ticks\": \"\"}}, \"type\": \"scatterternary\"}], \"surface\": [{\"colorbar\": {\"outlinewidth\": 0, \"ticks\": \"\"}, \"colorscale\": [[0.0, \"#0d0887\"], [0.1111111111111111, \"#46039f\"], [0.2222222222222222, \"#7201a8\"], [0.3333333333333333, \"#9c179e\"], [0.4444444444444444, \"#bd3786\"], [0.5555555555555556, \"#d8576b\"], [0.6666666666666666, \"#ed7953\"], [0.7777777777777778, \"#fb9f3a\"], [0.8888888888888888, \"#fdca26\"], [1.0, \"#f0f921\"]], \"type\": \"surface\"}], \"table\": [{\"cells\": {\"fill\": {\"color\": \"#EBF0F8\"}, \"line\": {\"color\": \"white\"}}, \"header\": {\"fill\": {\"color\": \"#C8D4E3\"}, \"line\": {\"color\": \"white\"}}, \"type\": \"table\"}]}, \"layout\": {\"annotationdefaults\": {\"arrowcolor\": \"#2a3f5f\", \"arrowhead\": 0, \"arrowwidth\": 1}, \"autotypenumbers\": \"strict\", \"coloraxis\": {\"colorbar\": {\"outlinewidth\": 0, \"ticks\": \"\"}}, \"colorscale\": {\"diverging\": [[0, \"#8e0152\"], [0.1, \"#c51b7d\"], [0.2, \"#de77ae\"], [0.3, \"#f1b6da\"], [0.4, \"#fde0ef\"], [0.5, \"#f7f7f7\"], [0.6, \"#e6f5d0\"], [0.7, \"#b8e186\"], [0.8, \"#7fbc41\"], [0.9, \"#4d9221\"], [1, \"#276419\"]], \"sequential\": [[0.0, \"#0d0887\"], [0.1111111111111111, \"#46039f\"], [0.2222222222222222, \"#7201a8\"], [0.3333333333333333, \"#9c179e\"], [0.4444444444444444, \"#bd3786\"], [0.5555555555555556, \"#d8576b\"], [0.6666666666666666, \"#ed7953\"], [0.7777777777777778, \"#fb9f3a\"], [0.8888888888888888, \"#fdca26\"], [1.0, \"#f0f921\"]], \"sequentialminus\": [[0.0, \"#0d0887\"], [0.1111111111111111, \"#46039f\"], [0.2222222222222222, \"#7201a8\"], [0.3333333333333333, \"#9c179e\"], [0.4444444444444444, \"#bd3786\"], [0.5555555555555556, \"#d8576b\"], [0.6666666666666666, \"#ed7953\"], [0.7777777777777778, \"#fb9f3a\"], [0.8888888888888888, \"#fdca26\"], [1.0, \"#f0f921\"]]}, \"colorway\": [\"#636efa\", \"#EF553B\", \"#00cc96\", \"#ab63fa\", \"#FFA15A\", \"#19d3f3\", \"#FF6692\", \"#B6E880\", \"#FF97FF\", \"#FECB52\"], \"font\": {\"color\": \"#2a3f5f\"}, \"geo\": {\"bgcolor\": \"white\", \"lakecolor\": \"white\", \"landcolor\": \"#E5ECF6\", \"showlakes\": true, \"showland\": true, \"subunitcolor\": \"white\"}, \"hoverlabel\": {\"align\": \"left\"}, \"hovermode\": \"closest\", \"mapbox\": {\"style\": \"light\"}, \"paper_bgcolor\": \"white\", \"plot_bgcolor\": \"#E5ECF6\", \"polar\": {\"angularaxis\": {\"gridcolor\": \"white\", \"linecolor\": \"white\", \"ticks\": \"\"}, \"bgcolor\": \"#E5ECF6\", \"radialaxis\": {\"gridcolor\": \"white\", \"linecolor\": \"white\", \"ticks\": \"\"}}, \"scene\": {\"xaxis\": {\"backgroundcolor\": \"#E5ECF6\", \"gridcolor\": \"white\", \"gridwidth\": 2, \"linecolor\": \"white\", \"showbackground\": true, \"ticks\": \"\", \"zerolinecolor\": \"white\"}, \"yaxis\": {\"backgroundcolor\": \"#E5ECF6\", \"gridcolor\": \"white\", \"gridwidth\": 2, \"linecolor\": \"white\", \"showbackground\": true, \"ticks\": \"\", \"zerolinecolor\": \"white\"}, \"zaxis\": {\"backgroundcolor\": \"#E5ECF6\", \"gridcolor\": \"white\", \"gridwidth\": 2, \"linecolor\": \"white\", \"showbackground\": true, \"ticks\": \"\", \"zerolinecolor\": \"white\"}}, \"shapedefaults\": {\"line\": {\"color\": \"#2a3f5f\"}}, \"ternary\": {\"aaxis\": {\"gridcolor\": \"white\", \"linecolor\": \"white\", \"ticks\": \"\"}, \"baxis\": {\"gridcolor\": \"white\", \"linecolor\": \"white\", \"ticks\": \"\"}, \"bgcolor\": \"#E5ECF6\", \"caxis\": {\"gridcolor\": \"white\", \"linecolor\": \"white\", \"ticks\": \"\"}}, \"title\": {\"x\": 0.05}, \"xaxis\": {\"automargin\": true, \"gridcolor\": \"white\", \"linecolor\": \"white\", \"ticks\": \"\", \"title\": {\"standoff\": 15}, \"zerolinecolor\": \"white\", \"zerolinewidth\": 2}, \"yaxis\": {\"automargin\": true, \"gridcolor\": \"white\", \"linecolor\": \"white\", \"ticks\": \"\", \"title\": {\"standoff\": 15}, \"zerolinecolor\": \"white\", \"zerolinewidth\": 2}}}, \"title\": {\"font\": {\"color\": \"#4D5663\"}, \"text\": \"All MIDI pitches after projecting them into one octave (= Chromatic pitch classes)\"}, \"xaxis\": {\"gridcolor\": \"#E1E5ED\", \"showgrid\": true, \"tickfont\": {\"color\": \"#4D5663\"}, \"title\": {\"font\": {\"color\": \"#4D5663\"}, \"text\": \"Chromatic pitch class\"}, \"zerolinecolor\": \"#E1E5ED\"}, \"yaxis\": {\"gridcolor\": \"#E1E5ED\", \"showgrid\": true, \"tickfont\": {\"color\": \"#4D5663\"}, \"title\": {\"font\": {\"color\": \"#4D5663\"}, \"text\": \"Counts\"}, \"zerolinecolor\": \"#E1E5ED\"}},                        {\"showLink\": true, \"linkText\": \"Export to plot.ly\", \"plotlyServerURL\": \"https://plot.ly\", \"responsive\": true}                    ).then(function(){\n",
       "                            \n",
       "var gd = document.getElementById('3b8e59ff-f5d8-44f9-8a01-baf55b45230f');\n",
       "var x = new MutationObserver(function (mutations, observer) {{\n",
       "        var display = window.getComputedStyle(gd).display;\n",
       "        if (!display || display === 'none') {{\n",
       "            console.log([gd, 'removed!']);\n",
       "            Plotly.purge(gd);\n",
       "            observer.disconnect();\n",
       "        }}\n",
       "}});\n",
       "\n",
       "// Listen for the removal of the full notebook cells\n",
       "var notebookContainer = gd.closest('#notebook-container');\n",
       "if (notebookContainer) {{\n",
       "    x.observe(notebookContainer, {childList: true});\n",
       "}}\n",
       "\n",
       "// Listen for the clearing of the current output cell\n",
       "var outputEl = gd.closest('.output');\n",
       "if (outputEl) {{\n",
       "    x.observe(outputEl, {childList: true});\n",
       "}}\n",
       "\n",
       "                        })                };                });            </script>        </div>"
      ]
     },
     "metadata": {},
     "output_type": "display_data"
    }
   ],
   "source": [
    "notes['pc'] = notes.midi.map(lambda x: x%12)\n",
    "notes.pc.value_counts().iplot('bar', title='All MIDI pitches after projecting them into one octave (= Chromatic pitch classes)', xTitle='Chromatic pitch class', yTitle='Counts')"
   ]
  },
  {
   "cell_type": "markdown",
   "metadata": {},
   "source": [
    "As noted in class, this distribution shows how often every key of the piano is pressed if you play all notes of all pieces in the middle octave. The plot reveals that\n",
    "\n",
    "* the white keys [0, 2, 4, 5, 7, 9, 11] will be pressed more frequently than the black keys [1, 3, 6, 8, 10],\n",
    "* Bb/A# is the most frequent black key,\n",
    "* B/Cb  is the least frequent white key.\n",
    "\n",
    "### How many notes in one piece?"
   ]
  },
  {
   "cell_type": "code",
   "execution_count": 7,
   "metadata": {},
   "outputs": [
    {
     "data": {
      "application/vnd.plotly.v1+json": {
       "config": {
        "linkText": "Export to plot.ly",
        "plotlyServerURL": "https://plot.ly",
        "showLink": true
       },
       "data": [
        {
         "histfunc": "count",
         "histnorm": "",
         "marker": {
          "color": "rgba(255, 153, 51, 1.0)",
          "line": {
           "color": "#4D5663",
           "width": 1.3
          }
         },
         "nbinsx": 50,
         "opacity": 0.8,
         "orientation": "v",
         "type": "histogram",
         "x": [
          867,
          972,
          394,
          419,
          500,
          504,
          455,
          574,
          441,
          802,
          3093,
          659,
          446,
          355,
          426,
          713,
          308,
          799,
          2293,
          617,
          582,
          273,
          363,
          376,
          177,
          873,
          2909,
          737,
          349,
          335,
          309,
          311,
          1043,
          3337,
          716,
          540,
          413,
          709,
          220,
          902,
          4653,
          737,
          626,
          281,
          521,
          482,
          340,
          1062,
          619,
          485,
          351,
          264,
          444,
          633,
          559,
          516,
          375,
          395,
          263,
          448,
          539,
          549,
          383,
          395,
          321,
          225,
          651,
          481,
          525,
          330,
          276,
          477,
          157,
          668,
          626,
          598,
          441,
          330,
          380,
          306,
          1202,
          671,
          501,
          307,
          259,
          289,
          542,
          687,
          196,
          1695,
          1304,
          640,
          3218,
          200
         ]
        }
       ],
       "layout": {
        "barmode": "overlay",
        "legend": {
         "bgcolor": "#FFFFFF",
         "font": {
          "color": "#4D5663"
         }
        },
        "paper_bgcolor": "#FFFFFF",
        "plot_bgcolor": "#FFFFFF",
        "template": {
         "data": {
          "bar": [
           {
            "error_x": {
             "color": "#2a3f5f"
            },
            "error_y": {
             "color": "#2a3f5f"
            },
            "marker": {
             "line": {
              "color": "#E5ECF6",
              "width": 0.5
             }
            },
            "type": "bar"
           }
          ],
          "barpolar": [
           {
            "marker": {
             "line": {
              "color": "#E5ECF6",
              "width": 0.5
             }
            },
            "type": "barpolar"
           }
          ],
          "carpet": [
           {
            "aaxis": {
             "endlinecolor": "#2a3f5f",
             "gridcolor": "white",
             "linecolor": "white",
             "minorgridcolor": "white",
             "startlinecolor": "#2a3f5f"
            },
            "baxis": {
             "endlinecolor": "#2a3f5f",
             "gridcolor": "white",
             "linecolor": "white",
             "minorgridcolor": "white",
             "startlinecolor": "#2a3f5f"
            },
            "type": "carpet"
           }
          ],
          "choropleth": [
           {
            "colorbar": {
             "outlinewidth": 0,
             "ticks": ""
            },
            "type": "choropleth"
           }
          ],
          "contour": [
           {
            "colorbar": {
             "outlinewidth": 0,
             "ticks": ""
            },
            "colorscale": [
             [
              0,
              "#0d0887"
             ],
             [
              0.1111111111111111,
              "#46039f"
             ],
             [
              0.2222222222222222,
              "#7201a8"
             ],
             [
              0.3333333333333333,
              "#9c179e"
             ],
             [
              0.4444444444444444,
              "#bd3786"
             ],
             [
              0.5555555555555556,
              "#d8576b"
             ],
             [
              0.6666666666666666,
              "#ed7953"
             ],
             [
              0.7777777777777778,
              "#fb9f3a"
             ],
             [
              0.8888888888888888,
              "#fdca26"
             ],
             [
              1,
              "#f0f921"
             ]
            ],
            "type": "contour"
           }
          ],
          "contourcarpet": [
           {
            "colorbar": {
             "outlinewidth": 0,
             "ticks": ""
            },
            "type": "contourcarpet"
           }
          ],
          "heatmap": [
           {
            "colorbar": {
             "outlinewidth": 0,
             "ticks": ""
            },
            "colorscale": [
             [
              0,
              "#0d0887"
             ],
             [
              0.1111111111111111,
              "#46039f"
             ],
             [
              0.2222222222222222,
              "#7201a8"
             ],
             [
              0.3333333333333333,
              "#9c179e"
             ],
             [
              0.4444444444444444,
              "#bd3786"
             ],
             [
              0.5555555555555556,
              "#d8576b"
             ],
             [
              0.6666666666666666,
              "#ed7953"
             ],
             [
              0.7777777777777778,
              "#fb9f3a"
             ],
             [
              0.8888888888888888,
              "#fdca26"
             ],
             [
              1,
              "#f0f921"
             ]
            ],
            "type": "heatmap"
           }
          ],
          "heatmapgl": [
           {
            "colorbar": {
             "outlinewidth": 0,
             "ticks": ""
            },
            "colorscale": [
             [
              0,
              "#0d0887"
             ],
             [
              0.1111111111111111,
              "#46039f"
             ],
             [
              0.2222222222222222,
              "#7201a8"
             ],
             [
              0.3333333333333333,
              "#9c179e"
             ],
             [
              0.4444444444444444,
              "#bd3786"
             ],
             [
              0.5555555555555556,
              "#d8576b"
             ],
             [
              0.6666666666666666,
              "#ed7953"
             ],
             [
              0.7777777777777778,
              "#fb9f3a"
             ],
             [
              0.8888888888888888,
              "#fdca26"
             ],
             [
              1,
              "#f0f921"
             ]
            ],
            "type": "heatmapgl"
           }
          ],
          "histogram": [
           {
            "marker": {
             "colorbar": {
              "outlinewidth": 0,
              "ticks": ""
             }
            },
            "type": "histogram"
           }
          ],
          "histogram2d": [
           {
            "colorbar": {
             "outlinewidth": 0,
             "ticks": ""
            },
            "colorscale": [
             [
              0,
              "#0d0887"
             ],
             [
              0.1111111111111111,
              "#46039f"
             ],
             [
              0.2222222222222222,
              "#7201a8"
             ],
             [
              0.3333333333333333,
              "#9c179e"
             ],
             [
              0.4444444444444444,
              "#bd3786"
             ],
             [
              0.5555555555555556,
              "#d8576b"
             ],
             [
              0.6666666666666666,
              "#ed7953"
             ],
             [
              0.7777777777777778,
              "#fb9f3a"
             ],
             [
              0.8888888888888888,
              "#fdca26"
             ],
             [
              1,
              "#f0f921"
             ]
            ],
            "type": "histogram2d"
           }
          ],
          "histogram2dcontour": [
           {
            "colorbar": {
             "outlinewidth": 0,
             "ticks": ""
            },
            "colorscale": [
             [
              0,
              "#0d0887"
             ],
             [
              0.1111111111111111,
              "#46039f"
             ],
             [
              0.2222222222222222,
              "#7201a8"
             ],
             [
              0.3333333333333333,
              "#9c179e"
             ],
             [
              0.4444444444444444,
              "#bd3786"
             ],
             [
              0.5555555555555556,
              "#d8576b"
             ],
             [
              0.6666666666666666,
              "#ed7953"
             ],
             [
              0.7777777777777778,
              "#fb9f3a"
             ],
             [
              0.8888888888888888,
              "#fdca26"
             ],
             [
              1,
              "#f0f921"
             ]
            ],
            "type": "histogram2dcontour"
           }
          ],
          "mesh3d": [
           {
            "colorbar": {
             "outlinewidth": 0,
             "ticks": ""
            },
            "type": "mesh3d"
           }
          ],
          "parcoords": [
           {
            "line": {
             "colorbar": {
              "outlinewidth": 0,
              "ticks": ""
             }
            },
            "type": "parcoords"
           }
          ],
          "pie": [
           {
            "automargin": true,
            "type": "pie"
           }
          ],
          "scatter": [
           {
            "marker": {
             "colorbar": {
              "outlinewidth": 0,
              "ticks": ""
             }
            },
            "type": "scatter"
           }
          ],
          "scatter3d": [
           {
            "line": {
             "colorbar": {
              "outlinewidth": 0,
              "ticks": ""
             }
            },
            "marker": {
             "colorbar": {
              "outlinewidth": 0,
              "ticks": ""
             }
            },
            "type": "scatter3d"
           }
          ],
          "scattercarpet": [
           {
            "marker": {
             "colorbar": {
              "outlinewidth": 0,
              "ticks": ""
             }
            },
            "type": "scattercarpet"
           }
          ],
          "scattergeo": [
           {
            "marker": {
             "colorbar": {
              "outlinewidth": 0,
              "ticks": ""
             }
            },
            "type": "scattergeo"
           }
          ],
          "scattergl": [
           {
            "marker": {
             "colorbar": {
              "outlinewidth": 0,
              "ticks": ""
             }
            },
            "type": "scattergl"
           }
          ],
          "scattermapbox": [
           {
            "marker": {
             "colorbar": {
              "outlinewidth": 0,
              "ticks": ""
             }
            },
            "type": "scattermapbox"
           }
          ],
          "scatterpolar": [
           {
            "marker": {
             "colorbar": {
              "outlinewidth": 0,
              "ticks": ""
             }
            },
            "type": "scatterpolar"
           }
          ],
          "scatterpolargl": [
           {
            "marker": {
             "colorbar": {
              "outlinewidth": 0,
              "ticks": ""
             }
            },
            "type": "scatterpolargl"
           }
          ],
          "scatterternary": [
           {
            "marker": {
             "colorbar": {
              "outlinewidth": 0,
              "ticks": ""
             }
            },
            "type": "scatterternary"
           }
          ],
          "surface": [
           {
            "colorbar": {
             "outlinewidth": 0,
             "ticks": ""
            },
            "colorscale": [
             [
              0,
              "#0d0887"
             ],
             [
              0.1111111111111111,
              "#46039f"
             ],
             [
              0.2222222222222222,
              "#7201a8"
             ],
             [
              0.3333333333333333,
              "#9c179e"
             ],
             [
              0.4444444444444444,
              "#bd3786"
             ],
             [
              0.5555555555555556,
              "#d8576b"
             ],
             [
              0.6666666666666666,
              "#ed7953"
             ],
             [
              0.7777777777777778,
              "#fb9f3a"
             ],
             [
              0.8888888888888888,
              "#fdca26"
             ],
             [
              1,
              "#f0f921"
             ]
            ],
            "type": "surface"
           }
          ],
          "table": [
           {
            "cells": {
             "fill": {
              "color": "#EBF0F8"
             },
             "line": {
              "color": "white"
             }
            },
            "header": {
             "fill": {
              "color": "#C8D4E3"
             },
             "line": {
              "color": "white"
             }
            },
            "type": "table"
           }
          ]
         },
         "layout": {
          "annotationdefaults": {
           "arrowcolor": "#2a3f5f",
           "arrowhead": 0,
           "arrowwidth": 1
          },
          "autotypenumbers": "strict",
          "coloraxis": {
           "colorbar": {
            "outlinewidth": 0,
            "ticks": ""
           }
          },
          "colorscale": {
           "diverging": [
            [
             0,
             "#8e0152"
            ],
            [
             0.1,
             "#c51b7d"
            ],
            [
             0.2,
             "#de77ae"
            ],
            [
             0.3,
             "#f1b6da"
            ],
            [
             0.4,
             "#fde0ef"
            ],
            [
             0.5,
             "#f7f7f7"
            ],
            [
             0.6,
             "#e6f5d0"
            ],
            [
             0.7,
             "#b8e186"
            ],
            [
             0.8,
             "#7fbc41"
            ],
            [
             0.9,
             "#4d9221"
            ],
            [
             1,
             "#276419"
            ]
           ],
           "sequential": [
            [
             0,
             "#0d0887"
            ],
            [
             0.1111111111111111,
             "#46039f"
            ],
            [
             0.2222222222222222,
             "#7201a8"
            ],
            [
             0.3333333333333333,
             "#9c179e"
            ],
            [
             0.4444444444444444,
             "#bd3786"
            ],
            [
             0.5555555555555556,
             "#d8576b"
            ],
            [
             0.6666666666666666,
             "#ed7953"
            ],
            [
             0.7777777777777778,
             "#fb9f3a"
            ],
            [
             0.8888888888888888,
             "#fdca26"
            ],
            [
             1,
             "#f0f921"
            ]
           ],
           "sequentialminus": [
            [
             0,
             "#0d0887"
            ],
            [
             0.1111111111111111,
             "#46039f"
            ],
            [
             0.2222222222222222,
             "#7201a8"
            ],
            [
             0.3333333333333333,
             "#9c179e"
            ],
            [
             0.4444444444444444,
             "#bd3786"
            ],
            [
             0.5555555555555556,
             "#d8576b"
            ],
            [
             0.6666666666666666,
             "#ed7953"
            ],
            [
             0.7777777777777778,
             "#fb9f3a"
            ],
            [
             0.8888888888888888,
             "#fdca26"
            ],
            [
             1,
             "#f0f921"
            ]
           ]
          },
          "colorway": [
           "#636efa",
           "#EF553B",
           "#00cc96",
           "#ab63fa",
           "#FFA15A",
           "#19d3f3",
           "#FF6692",
           "#B6E880",
           "#FF97FF",
           "#FECB52"
          ],
          "font": {
           "color": "#2a3f5f"
          },
          "geo": {
           "bgcolor": "white",
           "lakecolor": "white",
           "landcolor": "#E5ECF6",
           "showlakes": true,
           "showland": true,
           "subunitcolor": "white"
          },
          "hoverlabel": {
           "align": "left"
          },
          "hovermode": "closest",
          "mapbox": {
           "style": "light"
          },
          "paper_bgcolor": "white",
          "plot_bgcolor": "#E5ECF6",
          "polar": {
           "angularaxis": {
            "gridcolor": "white",
            "linecolor": "white",
            "ticks": ""
           },
           "bgcolor": "#E5ECF6",
           "radialaxis": {
            "gridcolor": "white",
            "linecolor": "white",
            "ticks": ""
           }
          },
          "scene": {
           "xaxis": {
            "backgroundcolor": "#E5ECF6",
            "gridcolor": "white",
            "gridwidth": 2,
            "linecolor": "white",
            "showbackground": true,
            "ticks": "",
            "zerolinecolor": "white"
           },
           "yaxis": {
            "backgroundcolor": "#E5ECF6",
            "gridcolor": "white",
            "gridwidth": 2,
            "linecolor": "white",
            "showbackground": true,
            "ticks": "",
            "zerolinecolor": "white"
           },
           "zaxis": {
            "backgroundcolor": "#E5ECF6",
            "gridcolor": "white",
            "gridwidth": 2,
            "linecolor": "white",
            "showbackground": true,
            "ticks": "",
            "zerolinecolor": "white"
           }
          },
          "shapedefaults": {
           "line": {
            "color": "#2a3f5f"
           }
          },
          "ternary": {
           "aaxis": {
            "gridcolor": "white",
            "linecolor": "white",
            "ticks": ""
           },
           "baxis": {
            "gridcolor": "white",
            "linecolor": "white",
            "ticks": ""
           },
           "bgcolor": "#E5ECF6",
           "caxis": {
            "gridcolor": "white",
            "linecolor": "white",
            "ticks": ""
           }
          },
          "title": {
           "x": 0.05
          },
          "xaxis": {
           "automargin": true,
           "gridcolor": "white",
           "linecolor": "white",
           "ticks": "",
           "title": {
            "standoff": 15
           },
           "zerolinecolor": "white",
           "zerolinewidth": 2
          },
          "yaxis": {
           "automargin": true,
           "gridcolor": "white",
           "linecolor": "white",
           "ticks": "",
           "title": {
            "standoff": 15
           },
           "zerolinecolor": "white",
           "zerolinewidth": 2
          }
         }
        },
        "title": {
         "font": {
          "color": "#4D5663"
         },
         "text": "Histogram showing the number of notes per piece"
        },
        "xaxis": {
         "gridcolor": "#E1E5ED",
         "showgrid": true,
         "tickfont": {
          "color": "#4D5663"
         },
         "title": {
          "font": {
           "color": "#4D5663"
          },
          "text": "bin size = 200 notes"
         },
         "zerolinecolor": "#E1E5ED"
        },
        "yaxis": {
         "gridcolor": "#E1E5ED",
         "showgrid": true,
         "tickfont": {
          "color": "#4D5663"
         },
         "title": {
          "font": {
           "color": "#4D5663"
          },
          "text": "Count of pieces"
         },
         "zerolinecolor": "#E1E5ED"
        }
       }
      },
      "text/html": [
       "<div>                            <div id=\"7f1a4276-da67-4770-ba2e-53ffe3e9b180\" class=\"plotly-graph-div\" style=\"height:525px; width:100%;\"></div>            <script type=\"text/javascript\">                require([\"plotly\"], function(Plotly) {                    window.PLOTLYENV=window.PLOTLYENV || {};\n",
       "                    window.PLOTLYENV.BASE_URL='https://plot.ly';                                    if (document.getElementById(\"7f1a4276-da67-4770-ba2e-53ffe3e9b180\")) {                    Plotly.newPlot(                        \"7f1a4276-da67-4770-ba2e-53ffe3e9b180\",                        [{\"histfunc\": \"count\", \"histnorm\": \"\", \"marker\": {\"color\": \"rgba(255, 153, 51, 1.0)\", \"line\": {\"color\": \"#4D5663\", \"width\": 1.3}}, \"nbinsx\": 50, \"opacity\": 0.8, \"orientation\": \"v\", \"type\": \"histogram\", \"x\": [867, 972, 394, 419, 500, 504, 455, 574, 441, 802, 3093, 659, 446, 355, 426, 713, 308, 799, 2293, 617, 582, 273, 363, 376, 177, 873, 2909, 737, 349, 335, 309, 311, 1043, 3337, 716, 540, 413, 709, 220, 902, 4653, 737, 626, 281, 521, 482, 340, 1062, 619, 485, 351, 264, 444, 633, 559, 516, 375, 395, 263, 448, 539, 549, 383, 395, 321, 225, 651, 481, 525, 330, 276, 477, 157, 668, 626, 598, 441, 330, 380, 306, 1202, 671, 501, 307, 259, 289, 542, 687, 196, 1695, 1304, 640, 3218, 200]}],                        {\"barmode\": \"overlay\", \"legend\": {\"bgcolor\": \"#FFFFFF\", \"font\": {\"color\": \"#4D5663\"}}, \"paper_bgcolor\": \"#FFFFFF\", \"plot_bgcolor\": \"#FFFFFF\", \"template\": {\"data\": {\"bar\": [{\"error_x\": {\"color\": \"#2a3f5f\"}, \"error_y\": {\"color\": \"#2a3f5f\"}, \"marker\": {\"line\": {\"color\": \"#E5ECF6\", \"width\": 0.5}}, \"type\": \"bar\"}], \"barpolar\": [{\"marker\": {\"line\": {\"color\": \"#E5ECF6\", \"width\": 0.5}}, \"type\": \"barpolar\"}], \"carpet\": [{\"aaxis\": {\"endlinecolor\": \"#2a3f5f\", \"gridcolor\": \"white\", \"linecolor\": \"white\", \"minorgridcolor\": \"white\", \"startlinecolor\": \"#2a3f5f\"}, \"baxis\": {\"endlinecolor\": \"#2a3f5f\", \"gridcolor\": \"white\", \"linecolor\": \"white\", \"minorgridcolor\": \"white\", \"startlinecolor\": \"#2a3f5f\"}, \"type\": \"carpet\"}], \"choropleth\": [{\"colorbar\": {\"outlinewidth\": 0, \"ticks\": \"\"}, \"type\": \"choropleth\"}], \"contour\": [{\"colorbar\": {\"outlinewidth\": 0, \"ticks\": \"\"}, \"colorscale\": [[0.0, \"#0d0887\"], [0.1111111111111111, \"#46039f\"], [0.2222222222222222, \"#7201a8\"], [0.3333333333333333, \"#9c179e\"], [0.4444444444444444, \"#bd3786\"], [0.5555555555555556, \"#d8576b\"], [0.6666666666666666, \"#ed7953\"], [0.7777777777777778, \"#fb9f3a\"], [0.8888888888888888, \"#fdca26\"], [1.0, \"#f0f921\"]], \"type\": \"contour\"}], \"contourcarpet\": [{\"colorbar\": {\"outlinewidth\": 0, \"ticks\": \"\"}, \"type\": \"contourcarpet\"}], \"heatmap\": [{\"colorbar\": {\"outlinewidth\": 0, \"ticks\": \"\"}, \"colorscale\": [[0.0, \"#0d0887\"], [0.1111111111111111, \"#46039f\"], [0.2222222222222222, \"#7201a8\"], [0.3333333333333333, \"#9c179e\"], [0.4444444444444444, \"#bd3786\"], [0.5555555555555556, \"#d8576b\"], [0.6666666666666666, \"#ed7953\"], [0.7777777777777778, \"#fb9f3a\"], [0.8888888888888888, \"#fdca26\"], [1.0, \"#f0f921\"]], \"type\": \"heatmap\"}], \"heatmapgl\": [{\"colorbar\": {\"outlinewidth\": 0, \"ticks\": \"\"}, \"colorscale\": [[0.0, \"#0d0887\"], [0.1111111111111111, \"#46039f\"], [0.2222222222222222, \"#7201a8\"], [0.3333333333333333, \"#9c179e\"], [0.4444444444444444, \"#bd3786\"], [0.5555555555555556, \"#d8576b\"], [0.6666666666666666, \"#ed7953\"], [0.7777777777777778, \"#fb9f3a\"], [0.8888888888888888, \"#fdca26\"], [1.0, \"#f0f921\"]], \"type\": \"heatmapgl\"}], \"histogram\": [{\"marker\": {\"colorbar\": {\"outlinewidth\": 0, \"ticks\": \"\"}}, \"type\": \"histogram\"}], \"histogram2d\": [{\"colorbar\": {\"outlinewidth\": 0, \"ticks\": \"\"}, \"colorscale\": [[0.0, \"#0d0887\"], [0.1111111111111111, \"#46039f\"], [0.2222222222222222, \"#7201a8\"], [0.3333333333333333, \"#9c179e\"], [0.4444444444444444, \"#bd3786\"], [0.5555555555555556, \"#d8576b\"], [0.6666666666666666, \"#ed7953\"], [0.7777777777777778, \"#fb9f3a\"], [0.8888888888888888, \"#fdca26\"], [1.0, \"#f0f921\"]], \"type\": \"histogram2d\"}], \"histogram2dcontour\": [{\"colorbar\": {\"outlinewidth\": 0, \"ticks\": \"\"}, \"colorscale\": [[0.0, \"#0d0887\"], [0.1111111111111111, \"#46039f\"], [0.2222222222222222, \"#7201a8\"], [0.3333333333333333, \"#9c179e\"], [0.4444444444444444, \"#bd3786\"], [0.5555555555555556, \"#d8576b\"], [0.6666666666666666, \"#ed7953\"], [0.7777777777777778, \"#fb9f3a\"], [0.8888888888888888, \"#fdca26\"], [1.0, \"#f0f921\"]], \"type\": \"histogram2dcontour\"}], \"mesh3d\": [{\"colorbar\": {\"outlinewidth\": 0, \"ticks\": \"\"}, \"type\": \"mesh3d\"}], \"parcoords\": [{\"line\": {\"colorbar\": {\"outlinewidth\": 0, \"ticks\": \"\"}}, \"type\": \"parcoords\"}], \"pie\": [{\"automargin\": true, \"type\": \"pie\"}], \"scatter\": [{\"marker\": {\"colorbar\": {\"outlinewidth\": 0, \"ticks\": \"\"}}, \"type\": \"scatter\"}], \"scatter3d\": [{\"line\": {\"colorbar\": {\"outlinewidth\": 0, \"ticks\": \"\"}}, \"marker\": {\"colorbar\": {\"outlinewidth\": 0, \"ticks\": \"\"}}, \"type\": \"scatter3d\"}], \"scattercarpet\": [{\"marker\": {\"colorbar\": {\"outlinewidth\": 0, \"ticks\": \"\"}}, \"type\": \"scattercarpet\"}], \"scattergeo\": [{\"marker\": {\"colorbar\": {\"outlinewidth\": 0, \"ticks\": \"\"}}, \"type\": \"scattergeo\"}], \"scattergl\": [{\"marker\": {\"colorbar\": {\"outlinewidth\": 0, \"ticks\": \"\"}}, \"type\": \"scattergl\"}], \"scattermapbox\": [{\"marker\": {\"colorbar\": {\"outlinewidth\": 0, \"ticks\": \"\"}}, \"type\": \"scattermapbox\"}], \"scatterpolar\": [{\"marker\": {\"colorbar\": {\"outlinewidth\": 0, \"ticks\": \"\"}}, \"type\": \"scatterpolar\"}], \"scatterpolargl\": [{\"marker\": {\"colorbar\": {\"outlinewidth\": 0, \"ticks\": \"\"}}, \"type\": \"scatterpolargl\"}], \"scatterternary\": [{\"marker\": {\"colorbar\": {\"outlinewidth\": 0, \"ticks\": \"\"}}, \"type\": \"scatterternary\"}], \"surface\": [{\"colorbar\": {\"outlinewidth\": 0, \"ticks\": \"\"}, \"colorscale\": [[0.0, \"#0d0887\"], [0.1111111111111111, \"#46039f\"], [0.2222222222222222, \"#7201a8\"], [0.3333333333333333, \"#9c179e\"], [0.4444444444444444, \"#bd3786\"], [0.5555555555555556, \"#d8576b\"], [0.6666666666666666, \"#ed7953\"], [0.7777777777777778, \"#fb9f3a\"], [0.8888888888888888, \"#fdca26\"], [1.0, \"#f0f921\"]], \"type\": \"surface\"}], \"table\": [{\"cells\": {\"fill\": {\"color\": \"#EBF0F8\"}, \"line\": {\"color\": \"white\"}}, \"header\": {\"fill\": {\"color\": \"#C8D4E3\"}, \"line\": {\"color\": \"white\"}}, \"type\": \"table\"}]}, \"layout\": {\"annotationdefaults\": {\"arrowcolor\": \"#2a3f5f\", \"arrowhead\": 0, \"arrowwidth\": 1}, \"autotypenumbers\": \"strict\", \"coloraxis\": {\"colorbar\": {\"outlinewidth\": 0, \"ticks\": \"\"}}, \"colorscale\": {\"diverging\": [[0, \"#8e0152\"], [0.1, \"#c51b7d\"], [0.2, \"#de77ae\"], [0.3, \"#f1b6da\"], [0.4, \"#fde0ef\"], [0.5, \"#f7f7f7\"], [0.6, \"#e6f5d0\"], [0.7, \"#b8e186\"], [0.8, \"#7fbc41\"], [0.9, \"#4d9221\"], [1, \"#276419\"]], \"sequential\": [[0.0, \"#0d0887\"], [0.1111111111111111, \"#46039f\"], [0.2222222222222222, \"#7201a8\"], [0.3333333333333333, \"#9c179e\"], [0.4444444444444444, \"#bd3786\"], [0.5555555555555556, \"#d8576b\"], [0.6666666666666666, \"#ed7953\"], [0.7777777777777778, \"#fb9f3a\"], [0.8888888888888888, \"#fdca26\"], [1.0, \"#f0f921\"]], \"sequentialminus\": [[0.0, \"#0d0887\"], [0.1111111111111111, \"#46039f\"], [0.2222222222222222, \"#7201a8\"], [0.3333333333333333, \"#9c179e\"], [0.4444444444444444, \"#bd3786\"], [0.5555555555555556, \"#d8576b\"], [0.6666666666666666, \"#ed7953\"], [0.7777777777777778, \"#fb9f3a\"], [0.8888888888888888, \"#fdca26\"], [1.0, \"#f0f921\"]]}, \"colorway\": [\"#636efa\", \"#EF553B\", \"#00cc96\", \"#ab63fa\", \"#FFA15A\", \"#19d3f3\", \"#FF6692\", \"#B6E880\", \"#FF97FF\", \"#FECB52\"], \"font\": {\"color\": \"#2a3f5f\"}, \"geo\": {\"bgcolor\": \"white\", \"lakecolor\": \"white\", \"landcolor\": \"#E5ECF6\", \"showlakes\": true, \"showland\": true, \"subunitcolor\": \"white\"}, \"hoverlabel\": {\"align\": \"left\"}, \"hovermode\": \"closest\", \"mapbox\": {\"style\": \"light\"}, \"paper_bgcolor\": \"white\", \"plot_bgcolor\": \"#E5ECF6\", \"polar\": {\"angularaxis\": {\"gridcolor\": \"white\", \"linecolor\": \"white\", \"ticks\": \"\"}, \"bgcolor\": \"#E5ECF6\", \"radialaxis\": {\"gridcolor\": \"white\", \"linecolor\": \"white\", \"ticks\": \"\"}}, \"scene\": {\"xaxis\": {\"backgroundcolor\": \"#E5ECF6\", \"gridcolor\": \"white\", \"gridwidth\": 2, \"linecolor\": \"white\", \"showbackground\": true, \"ticks\": \"\", \"zerolinecolor\": \"white\"}, \"yaxis\": {\"backgroundcolor\": \"#E5ECF6\", \"gridcolor\": \"white\", \"gridwidth\": 2, \"linecolor\": \"white\", \"showbackground\": true, \"ticks\": \"\", \"zerolinecolor\": \"white\"}, \"zaxis\": {\"backgroundcolor\": \"#E5ECF6\", \"gridcolor\": \"white\", \"gridwidth\": 2, \"linecolor\": \"white\", \"showbackground\": true, \"ticks\": \"\", \"zerolinecolor\": \"white\"}}, \"shapedefaults\": {\"line\": {\"color\": \"#2a3f5f\"}}, \"ternary\": {\"aaxis\": {\"gridcolor\": \"white\", \"linecolor\": \"white\", \"ticks\": \"\"}, \"baxis\": {\"gridcolor\": \"white\", \"linecolor\": \"white\", \"ticks\": \"\"}, \"bgcolor\": \"#E5ECF6\", \"caxis\": {\"gridcolor\": \"white\", \"linecolor\": \"white\", \"ticks\": \"\"}}, \"title\": {\"x\": 0.05}, \"xaxis\": {\"automargin\": true, \"gridcolor\": \"white\", \"linecolor\": \"white\", \"ticks\": \"\", \"title\": {\"standoff\": 15}, \"zerolinecolor\": \"white\", \"zerolinewidth\": 2}, \"yaxis\": {\"automargin\": true, \"gridcolor\": \"white\", \"linecolor\": \"white\", \"ticks\": \"\", \"title\": {\"standoff\": 15}, \"zerolinecolor\": \"white\", \"zerolinewidth\": 2}}}, \"title\": {\"font\": {\"color\": \"#4D5663\"}, \"text\": \"Histogram showing the number of notes per piece\"}, \"xaxis\": {\"gridcolor\": \"#E1E5ED\", \"showgrid\": true, \"tickfont\": {\"color\": \"#4D5663\"}, \"title\": {\"font\": {\"color\": \"#4D5663\"}, \"text\": \"bin size = 200 notes\"}, \"zerolinecolor\": \"#E1E5ED\"}, \"yaxis\": {\"gridcolor\": \"#E1E5ED\", \"showgrid\": true, \"tickfont\": {\"color\": \"#4D5663\"}, \"title\": {\"font\": {\"color\": \"#4D5663\"}, \"text\": \"Count of pieces\"}, \"zerolinecolor\": \"#E1E5ED\"}},                        {\"showLink\": true, \"linkText\": \"Export to plot.ly\", \"plotlyServerURL\": \"https://plot.ly\", \"responsive\": true}                    ).then(function(){\n",
       "                            \n",
       "var gd = document.getElementById('7f1a4276-da67-4770-ba2e-53ffe3e9b180');\n",
       "var x = new MutationObserver(function (mutations, observer) {{\n",
       "        var display = window.getComputedStyle(gd).display;\n",
       "        if (!display || display === 'none') {{\n",
       "            console.log([gd, 'removed!']);\n",
       "            Plotly.purge(gd);\n",
       "            observer.disconnect();\n",
       "        }}\n",
       "}});\n",
       "\n",
       "// Listen for the removal of the full notebook cells\n",
       "var notebookContainer = gd.closest('#notebook-container');\n",
       "if (notebookContainer) {{\n",
       "    x.observe(notebookContainer, {childList: true});\n",
       "}}\n",
       "\n",
       "// Listen for the clearing of the current output cell\n",
       "var outputEl = gd.closest('.output');\n",
       "if (outputEl) {{\n",
       "    x.observe(outputEl, {childList: true});\n",
       "}}\n",
       "\n",
       "                        })                };                });            </script>        </div>"
      ]
     },
     "metadata": {},
     "output_type": "display_data"
    }
   ],
   "source": [
    "notes.groupby('id').size().iplot('hist', bins=50, title='Histogram showing the number of notes per piece', xTitle='bin size = 200 notes', yTitle='Count of pieces')"
   ]
  },
  {
   "cell_type": "markdown",
   "metadata": {},
   "source": [
    "### Tone counts per piece"
   ]
  },
  {
   "cell_type": "code",
   "execution_count": 8,
   "metadata": {},
   "outputs": [],
   "source": [
    "norm = lambda df: df.div(df.sum(axis=1), axis=0)"
   ]
  },
  {
   "cell_type": "code",
   "execution_count": 9,
   "metadata": {},
   "outputs": [
    {
     "data": {
      "text/html": [
       "<div>\n",
       "<style scoped>\n",
       "    .dataframe tbody tr th:only-of-type {\n",
       "        vertical-align: middle;\n",
       "    }\n",
       "\n",
       "    .dataframe tbody tr th {\n",
       "        vertical-align: top;\n",
       "    }\n",
       "\n",
       "    .dataframe thead th {\n",
       "        text-align: right;\n",
       "    }\n",
       "</style>\n",
       "<table border=\"1\" class=\"dataframe\">\n",
       "  <thead>\n",
       "    <tr style=\"text-align: right;\">\n",
       "      <th>pc</th>\n",
       "      <th>0</th>\n",
       "      <th>1</th>\n",
       "      <th>2</th>\n",
       "      <th>3</th>\n",
       "      <th>4</th>\n",
       "      <th>5</th>\n",
       "      <th>6</th>\n",
       "      <th>7</th>\n",
       "      <th>8</th>\n",
       "      <th>9</th>\n",
       "      <th>10</th>\n",
       "      <th>11</th>\n",
       "    </tr>\n",
       "    <tr>\n",
       "      <th>id</th>\n",
       "      <th></th>\n",
       "      <th></th>\n",
       "      <th></th>\n",
       "      <th></th>\n",
       "      <th></th>\n",
       "      <th></th>\n",
       "      <th></th>\n",
       "      <th></th>\n",
       "      <th></th>\n",
       "      <th></th>\n",
       "      <th></th>\n",
       "      <th></th>\n",
       "    </tr>\n",
       "  </thead>\n",
       "  <tbody>\n",
       "    <tr>\n",
       "      <th>0</th>\n",
       "      <td>0.002307</td>\n",
       "      <td>0.133795</td>\n",
       "      <td>0.116494</td>\n",
       "      <td>0.023068</td>\n",
       "      <td>0.154556</td>\n",
       "      <td>0.010381</td>\n",
       "      <td>0.131488</td>\n",
       "      <td>0.023068</td>\n",
       "      <td>0.103806</td>\n",
       "      <td>0.146482</td>\n",
       "      <td>0.014994</td>\n",
       "      <td>0.139562</td>\n",
       "    </tr>\n",
       "    <tr>\n",
       "      <th>1</th>\n",
       "      <td>0.010288</td>\n",
       "      <td>0.128601</td>\n",
       "      <td>0.069959</td>\n",
       "      <td>0.047325</td>\n",
       "      <td>0.155350</td>\n",
       "      <td>0.011317</td>\n",
       "      <td>0.130658</td>\n",
       "      <td>0.017490</td>\n",
       "      <td>0.116255</td>\n",
       "      <td>0.144033</td>\n",
       "      <td>0.029835</td>\n",
       "      <td>0.138889</td>\n",
       "    </tr>\n",
       "    <tr>\n",
       "      <th>2</th>\n",
       "      <td>NaN</td>\n",
       "      <td>0.126904</td>\n",
       "      <td>0.076142</td>\n",
       "      <td>0.035533</td>\n",
       "      <td>0.159898</td>\n",
       "      <td>0.012690</td>\n",
       "      <td>0.129442</td>\n",
       "      <td>NaN</td>\n",
       "      <td>0.126904</td>\n",
       "      <td>0.170051</td>\n",
       "      <td>0.005076</td>\n",
       "      <td>0.157360</td>\n",
       "    </tr>\n",
       "    <tr>\n",
       "      <th>3</th>\n",
       "      <td>NaN</td>\n",
       "      <td>0.145585</td>\n",
       "      <td>0.095465</td>\n",
       "      <td>0.014320</td>\n",
       "      <td>0.159905</td>\n",
       "      <td>NaN</td>\n",
       "      <td>0.116945</td>\n",
       "      <td>0.045346</td>\n",
       "      <td>0.066826</td>\n",
       "      <td>0.150358</td>\n",
       "      <td>0.023866</td>\n",
       "      <td>0.181384</td>\n",
       "    </tr>\n",
       "    <tr>\n",
       "      <th>4</th>\n",
       "      <td>NaN</td>\n",
       "      <td>0.136000</td>\n",
       "      <td>0.114000</td>\n",
       "      <td>0.020000</td>\n",
       "      <td>0.166000</td>\n",
       "      <td>NaN</td>\n",
       "      <td>0.120000</td>\n",
       "      <td>0.042000</td>\n",
       "      <td>0.076000</td>\n",
       "      <td>0.138000</td>\n",
       "      <td>0.024000</td>\n",
       "      <td>0.164000</td>\n",
       "    </tr>\n",
       "    <tr>\n",
       "      <th>5</th>\n",
       "      <td>NaN</td>\n",
       "      <td>0.126984</td>\n",
       "      <td>0.099206</td>\n",
       "      <td>0.015873</td>\n",
       "      <td>0.170635</td>\n",
       "      <td>NaN</td>\n",
       "      <td>0.113095</td>\n",
       "      <td>0.039683</td>\n",
       "      <td>0.071429</td>\n",
       "      <td>0.164683</td>\n",
       "      <td>0.017857</td>\n",
       "      <td>0.180556</td>\n",
       "    </tr>\n",
       "    <tr>\n",
       "      <th>6</th>\n",
       "      <td>0.017582</td>\n",
       "      <td>0.116484</td>\n",
       "      <td>0.140659</td>\n",
       "      <td>0.010989</td>\n",
       "      <td>0.178022</td>\n",
       "      <td>0.015385</td>\n",
       "      <td>0.109890</td>\n",
       "      <td>0.048352</td>\n",
       "      <td>0.061538</td>\n",
       "      <td>0.142857</td>\n",
       "      <td>0.013187</td>\n",
       "      <td>0.145055</td>\n",
       "    </tr>\n",
       "    <tr>\n",
       "      <th>7</th>\n",
       "      <td>NaN</td>\n",
       "      <td>0.162021</td>\n",
       "      <td>0.104530</td>\n",
       "      <td>0.020906</td>\n",
       "      <td>0.163763</td>\n",
       "      <td>0.001742</td>\n",
       "      <td>0.090592</td>\n",
       "      <td>0.013937</td>\n",
       "      <td>0.087108</td>\n",
       "      <td>0.172474</td>\n",
       "      <td>0.005226</td>\n",
       "      <td>0.177700</td>\n",
       "    </tr>\n",
       "    <tr>\n",
       "      <th>8</th>\n",
       "      <td>0.131519</td>\n",
       "      <td>0.009070</td>\n",
       "      <td>0.124717</td>\n",
       "      <td>0.006803</td>\n",
       "      <td>0.170068</td>\n",
       "      <td>0.095238</td>\n",
       "      <td>0.031746</td>\n",
       "      <td>0.072562</td>\n",
       "      <td>0.047619</td>\n",
       "      <td>0.156463</td>\n",
       "      <td>0.004535</td>\n",
       "      <td>0.149660</td>\n",
       "    </tr>\n",
       "    <tr>\n",
       "      <th>9</th>\n",
       "      <td>0.002494</td>\n",
       "      <td>0.110973</td>\n",
       "      <td>0.108479</td>\n",
       "      <td>0.029925</td>\n",
       "      <td>0.172070</td>\n",
       "      <td>NaN</td>\n",
       "      <td>0.132170</td>\n",
       "      <td>0.028678</td>\n",
       "      <td>0.103491</td>\n",
       "      <td>0.154613</td>\n",
       "      <td>0.006234</td>\n",
       "      <td>0.150873</td>\n",
       "    </tr>\n",
       "  </tbody>\n",
       "</table>\n",
       "</div>"
      ],
      "text/plain": [
       "pc        0         1         2         3         4         5         6   \\\n",
       "id                                                                         \n",
       "0   0.002307  0.133795  0.116494  0.023068  0.154556  0.010381  0.131488   \n",
       "1   0.010288  0.128601  0.069959  0.047325  0.155350  0.011317  0.130658   \n",
       "2        NaN  0.126904  0.076142  0.035533  0.159898  0.012690  0.129442   \n",
       "3        NaN  0.145585  0.095465  0.014320  0.159905       NaN  0.116945   \n",
       "4        NaN  0.136000  0.114000  0.020000  0.166000       NaN  0.120000   \n",
       "5        NaN  0.126984  0.099206  0.015873  0.170635       NaN  0.113095   \n",
       "6   0.017582  0.116484  0.140659  0.010989  0.178022  0.015385  0.109890   \n",
       "7        NaN  0.162021  0.104530  0.020906  0.163763  0.001742  0.090592   \n",
       "8   0.131519  0.009070  0.124717  0.006803  0.170068  0.095238  0.031746   \n",
       "9   0.002494  0.110973  0.108479  0.029925  0.172070       NaN  0.132170   \n",
       "\n",
       "pc        7         8         9         10        11  \n",
       "id                                                    \n",
       "0   0.023068  0.103806  0.146482  0.014994  0.139562  \n",
       "1   0.017490  0.116255  0.144033  0.029835  0.138889  \n",
       "2        NaN  0.126904  0.170051  0.005076  0.157360  \n",
       "3   0.045346  0.066826  0.150358  0.023866  0.181384  \n",
       "4   0.042000  0.076000  0.138000  0.024000  0.164000  \n",
       "5   0.039683  0.071429  0.164683  0.017857  0.180556  \n",
       "6   0.048352  0.061538  0.142857  0.013187  0.145055  \n",
       "7   0.013937  0.087108  0.172474  0.005226  0.177700  \n",
       "8   0.072562  0.047619  0.156463  0.004535  0.149660  \n",
       "9   0.028678  0.103491  0.154613  0.006234  0.150873  "
      ]
     },
     "execution_count": 9,
     "metadata": {},
     "output_type": "execute_result"
    }
   ],
   "source": [
    "pc_counts = notes.groupby('id').pc.value_counts().unstack()\n",
    "pc_counts = norm(pc_counts)\n",
    "pc_counts.head(10)"
   ]
  },
  {
   "cell_type": "markdown",
   "metadata": {},
   "source": [
    "Cufflinks uses the index for the x-axis and every column as one trace. That's why the DataFrame needs to be transposed for this plot:"
   ]
  },
  {
   "cell_type": "code",
   "execution_count": 10,
   "metadata": {},
   "outputs": [
    {
     "data": {
      "application/vnd.plotly.v1+json": {
       "config": {
        "linkText": "Export to plot.ly",
        "plotlyServerURL": "https://plot.ly",
        "showLink": true
       },
       "data": [
        {
         "line": {
          "color": "rgba(255, 153, 51, 1.0)",
          "dash": "solid",
          "shape": "linear",
          "width": 1.3
         },
         "mode": "lines",
         "name": "0",
         "text": "",
         "type": "scatter",
         "x": [
          0,
          1,
          2,
          3,
          4,
          5,
          6,
          7,
          8,
          9,
          10,
          11
         ],
         "y": [
          0.002306805074971165,
          0.13379469434832755,
          0.11649365628604383,
          0.02306805074971165,
          0.15455594002306805,
          0.010380622837370242,
          0.1314878892733564,
          0.02306805074971165,
          0.10380622837370242,
          0.14648212226066898,
          0.014994232987312572,
          0.1395617070357555
         ]
        },
        {
         "line": {
          "color": "rgba(55, 128, 191, 1.0)",
          "dash": "solid",
          "shape": "linear",
          "width": 1.3
         },
         "mode": "lines",
         "name": "1",
         "text": "",
         "type": "scatter",
         "x": [
          0,
          1,
          2,
          3,
          4,
          5,
          6,
          7,
          8,
          9,
          10,
          11
         ],
         "y": [
          0.0102880658436214,
          0.1286008230452675,
          0.06995884773662552,
          0.047325102880658436,
          0.15534979423868311,
          0.01131687242798354,
          0.13065843621399176,
          0.01748971193415638,
          0.11625514403292181,
          0.1440329218106996,
          0.029835390946502057,
          0.1388888888888889
         ]
        },
        {
         "line": {
          "color": "rgba(50, 171, 96, 1.0)",
          "dash": "solid",
          "shape": "linear",
          "width": 1.3
         },
         "mode": "lines",
         "name": "2",
         "text": "",
         "type": "scatter",
         "x": [
          0,
          1,
          2,
          3,
          4,
          5,
          6,
          7,
          8,
          9,
          10,
          11
         ],
         "y": [
          "",
          0.12690355329949238,
          0.07614213197969544,
          0.03553299492385787,
          0.1598984771573604,
          0.012690355329949238,
          0.12944162436548223,
          "",
          0.12690355329949238,
          0.1700507614213198,
          0.005076142131979695,
          0.15736040609137056
         ]
        },
        {
         "line": {
          "color": "rgba(128, 0, 128, 1.0)",
          "dash": "solid",
          "shape": "linear",
          "width": 1.3
         },
         "mode": "lines",
         "name": "3",
         "text": "",
         "type": "scatter",
         "x": [
          0,
          1,
          2,
          3,
          4,
          5,
          6,
          7,
          8,
          9,
          10,
          11
         ],
         "y": [
          "",
          0.14558472553699284,
          0.0954653937947494,
          0.014319809069212411,
          0.15990453460620524,
          "",
          0.11694510739856802,
          0.045346062052505964,
          0.06682577565632458,
          0.15035799522673032,
          0.02386634844868735,
          0.18138424821002386
         ]
        },
        {
         "line": {
          "color": "rgba(219, 64, 82, 1.0)",
          "dash": "solid",
          "shape": "linear",
          "width": 1.3
         },
         "mode": "lines",
         "name": "4",
         "text": "",
         "type": "scatter",
         "x": [
          0,
          1,
          2,
          3,
          4,
          5,
          6,
          7,
          8,
          9,
          10,
          11
         ],
         "y": [
          "",
          0.136,
          0.114,
          0.02,
          0.166,
          "",
          0.12,
          0.042,
          0.076,
          0.138,
          0.024,
          0.164
         ]
        },
        {
         "line": {
          "color": "rgba(0, 128, 128, 1.0)",
          "dash": "solid",
          "shape": "linear",
          "width": 1.3
         },
         "mode": "lines",
         "name": "5",
         "text": "",
         "type": "scatter",
         "x": [
          0,
          1,
          2,
          3,
          4,
          5,
          6,
          7,
          8,
          9,
          10,
          11
         ],
         "y": [
          "",
          0.12698412698412698,
          0.0992063492063492,
          0.015873015873015872,
          0.17063492063492064,
          "",
          0.1130952380952381,
          0.03968253968253968,
          0.07142857142857142,
          0.16468253968253968,
          0.017857142857142856,
          0.18055555555555555
         ]
        },
        {
         "line": {
          "color": "rgba(255, 255, 51, 1.0)",
          "dash": "solid",
          "shape": "linear",
          "width": 1.3
         },
         "mode": "lines",
         "name": "6",
         "text": "",
         "type": "scatter",
         "x": [
          0,
          1,
          2,
          3,
          4,
          5,
          6,
          7,
          8,
          9,
          10,
          11
         ],
         "y": [
          0.017582417582417582,
          0.11648351648351649,
          0.14065934065934066,
          0.01098901098901099,
          0.17802197802197803,
          0.015384615384615385,
          0.10989010989010989,
          0.04835164835164835,
          0.06153846153846154,
          0.14285714285714285,
          0.013186813186813187,
          0.14505494505494507
         ]
        },
        {
         "line": {
          "color": "rgba(128, 128, 0, 1.0)",
          "dash": "solid",
          "shape": "linear",
          "width": 1.3
         },
         "mode": "lines",
         "name": "7",
         "text": "",
         "type": "scatter",
         "x": [
          0,
          1,
          2,
          3,
          4,
          5,
          6,
          7,
          8,
          9,
          10,
          11
         ],
         "y": [
          "",
          0.16202090592334495,
          0.10452961672473868,
          0.020905923344947737,
          0.16376306620209058,
          0.0017421602787456446,
          0.09059233449477352,
          0.013937282229965157,
          0.08710801393728224,
          0.17247386759581881,
          0.005226480836236934,
          0.17770034843205576
         ]
        },
        {
         "line": {
          "color": "rgba(251, 128, 114, 1.0)",
          "dash": "solid",
          "shape": "linear",
          "width": 1.3
         },
         "mode": "lines",
         "name": "8",
         "text": "",
         "type": "scatter",
         "x": [
          0,
          1,
          2,
          3,
          4,
          5,
          6,
          7,
          8,
          9,
          10,
          11
         ],
         "y": [
          0.13151927437641722,
          0.009070294784580499,
          0.12471655328798185,
          0.006802721088435374,
          0.17006802721088435,
          0.09523809523809523,
          0.031746031746031744,
          0.07256235827664399,
          0.047619047619047616,
          0.1564625850340136,
          0.0045351473922902496,
          0.14965986394557823
         ]
        },
        {
         "line": {
          "color": "rgba(128, 177, 211, 1.0)",
          "dash": "solid",
          "shape": "linear",
          "width": 1.3
         },
         "mode": "lines",
         "name": "9",
         "text": "",
         "type": "scatter",
         "x": [
          0,
          1,
          2,
          3,
          4,
          5,
          6,
          7,
          8,
          9,
          10,
          11
         ],
         "y": [
          0.0024937655860349127,
          0.11097256857855362,
          0.1084788029925187,
          0.029925187032418952,
          0.17206982543640897,
          "",
          0.13216957605985039,
          0.028678304239401497,
          0.10349127182044887,
          0.1546134663341646,
          0.006234413965087282,
          0.15087281795511223
         ]
        },
        {
         "line": {
          "color": "rgba(128, 177, 211, 0.9148936170212765)",
          "dash": "solid",
          "shape": "linear",
          "width": 1.3
         },
         "mode": "lines",
         "name": "10",
         "text": "",
         "type": "scatter",
         "x": [
          0,
          1,
          2,
          3,
          4,
          5,
          6,
          7,
          8,
          9,
          10,
          11
         ],
         "y": [
          0.12544455221467832,
          0.013579049466537343,
          0.12738441642418363,
          0.0158422243776269,
          0.16424183640478499,
          0.05916585838991271,
          0.058195926285160036,
          0.08050436469447139,
          0.06369220821209182,
          0.13579049466537343,
          0.005172971225347559,
          0.15098609763983187
         ]
        },
        {
         "line": {
          "color": "rgba(255, 153, 51, 0.9148936170212765)",
          "dash": "solid",
          "shape": "linear",
          "width": 1.3
         },
         "mode": "lines",
         "name": "11",
         "text": "",
         "type": "scatter",
         "x": [
          0,
          1,
          2,
          3,
          4,
          5,
          6,
          7,
          8,
          9,
          10,
          11
         ],
         "y": [
          0.10318664643399089,
          0.027314112291350532,
          0.10773899848254932,
          0.013657056145675266,
          0.14871016691957512,
          0.07132018209408195,
          0.04704097116843703,
          0.08952959028831563,
          0.05311077389984825,
          0.17147192716236723,
          0.013657056145675266,
          0.15326251896813353
         ]
        },
        {
         "line": {
          "color": "rgba(55, 128, 191, 0.9148936170212765)",
          "dash": "solid",
          "shape": "linear",
          "width": 1.3
         },
         "mode": "lines",
         "name": "12",
         "text": "",
         "type": "scatter",
         "x": [
          0,
          1,
          2,
          3,
          4,
          5,
          6,
          7,
          8,
          9,
          10,
          11
         ],
         "y": [
          0.14349775784753363,
          0.011210762331838564,
          0.1412556053811659,
          "",
          0.16143497757847533,
          0.10762331838565023,
          0.01569506726457399,
          0.1031390134529148,
          0.03811659192825112,
          0.1591928251121076,
          0.017937219730941704,
          0.10089686098654709
         ]
        },
        {
         "line": {
          "color": "rgba(50, 171, 96, 0.9148936170212765)",
          "dash": "solid",
          "shape": "linear",
          "width": 1.3
         },
         "mode": "lines",
         "name": "13",
         "text": "",
         "type": "scatter",
         "x": [
          0,
          1,
          2,
          3,
          4,
          5,
          6,
          7,
          8,
          9,
          10,
          11
         ],
         "y": [
          0.14084507042253522,
          0.008450704225352112,
          0.09295774647887324,
          0.02535211267605634,
          0.19436619718309858,
          0.09014084507042254,
          0.036619718309859155,
          0.12394366197183099,
          0.022535211267605635,
          0.13802816901408452,
          0.016901408450704224,
          0.10985915492957747
         ]
        },
        {
         "line": {
          "color": "rgba(128, 0, 128, 0.9148936170212765)",
          "dash": "solid",
          "shape": "linear",
          "width": 1.3
         },
         "mode": "lines",
         "name": "14",
         "text": "",
         "type": "scatter",
         "x": [
          0,
          1,
          2,
          3,
          4,
          5,
          6,
          7,
          8,
          9,
          10,
          11
         ],
         "y": [
          0.14084507042253522,
          0.01643192488262911,
          0.09154929577464789,
          0.03051643192488263,
          0.176056338028169,
          0.09154929577464789,
          0.03286384976525822,
          0.11971830985915492,
          0.023474178403755867,
          0.14084507042253522,
          0.03051643192488263,
          0.1056338028169014
         ]
        },
        {
         "line": {
          "color": "rgba(219, 64, 82, 0.9148936170212765)",
          "dash": "solid",
          "shape": "linear",
          "width": 1.3
         },
         "mode": "lines",
         "name": "15",
         "text": "",
         "type": "scatter",
         "x": [
          0,
          1,
          2,
          3,
          4,
          5,
          6,
          7,
          8,
          9,
          10,
          11
         ],
         "y": [
          0.11360448807854137,
          0.012622720897615708,
          0.11781206171107994,
          0.02244039270687237,
          0.18092566619915848,
          0.06311360448807854,
          0.043478260869565216,
          0.08976157082748948,
          0.028050490883590462,
          0.1767180925666199,
          0.009817671809256662,
          0.14165497896213183
         ]
        },
        {
         "line": {
          "color": "rgba(0, 128, 128, 0.9148936170212765)",
          "dash": "solid",
          "shape": "linear",
          "width": 1.3
         },
         "mode": "lines",
         "name": "16",
         "text": "",
         "type": "scatter",
         "x": [
          0,
          1,
          2,
          3,
          4,
          5,
          6,
          7,
          8,
          9,
          10,
          11
         ],
         "y": [
          "",
          0.14935064935064934,
          0.1038961038961039,
          0.022727272727272728,
          0.17532467532467533,
          0.01948051948051948,
          0.1038961038961039,
          0.022727272727272728,
          0.09090909090909091,
          0.16558441558441558,
          0.006493506493506494,
          0.1396103896103896
         ]
        },
        {
         "line": {
          "color": "rgba(255, 255, 51, 0.9148936170212765)",
          "dash": "solid",
          "shape": "linear",
          "width": 1.3
         },
         "mode": "lines",
         "name": "17",
         "text": "",
         "type": "scatter",
         "x": [
          0,
          1,
          2,
          3,
          4,
          5,
          6,
          7,
          8,
          9,
          10,
          11
         ],
         "y": [
          0.13391739674593242,
          0.02002503128911139,
          0.10012515644555695,
          0.02753441802252816,
          0.16645807259073842,
          0.06758448060075094,
          0.05506883604505632,
          0.13016270337922403,
          0.02252816020025031,
          0.14893617021276595,
          0.0025031289111389237,
          0.1251564455569462
         ]
        },
        {
         "line": {
          "color": "rgba(128, 128, 0, 0.9148936170212765)",
          "dash": "solid",
          "shape": "linear",
          "width": 1.3
         },
         "mode": "lines",
         "name": "18",
         "text": "",
         "type": "scatter",
         "x": [
          0,
          1,
          2,
          3,
          4,
          5,
          6,
          7,
          8,
          9,
          10,
          11
         ],
         "y": [
          0.11818578281726995,
          0.023549934583515047,
          0.15743567378979503,
          0.08155255124291322,
          0.04404709986916703,
          0.10859136502398604,
          0.03619712167466201,
          0.14129960750109027,
          0.02398604448320977,
          0.12167466201482774,
          0.12865242040994332,
          0.014827736589620584
         ]
        },
        {
         "line": {
          "color": "rgba(251, 128, 114, 0.9148936170212765)",
          "dash": "solid",
          "shape": "linear",
          "width": 1.3
         },
         "mode": "lines",
         "name": "19",
         "text": "",
         "type": "scatter",
         "x": [
          0,
          1,
          2,
          3,
          4,
          5,
          6,
          7,
          8,
          9,
          10,
          11
         ],
         "y": [
          0.12641815235008103,
          0.014586709886547812,
          0.17341977309562398,
          0.10048622366288493,
          0.03241491085899514,
          0.07293354943273905,
          0.04862236628849271,
          0.15235008103727715,
          0.014586709886547812,
          0.12965964343598055,
          0.11831442463533225,
          0.01620745542949757
         ]
        },
        {
         "line": {
          "color": "rgba(251, 128, 114, 0.8297872340425532)",
          "dash": "solid",
          "shape": "linear",
          "width": 1.3
         },
         "mode": "lines",
         "name": "20",
         "text": "",
         "type": "scatter",
         "x": [
          0,
          1,
          2,
          3,
          4,
          5,
          6,
          7,
          8,
          9,
          10,
          11
         ],
         "y": [
          0.1254295532646048,
          0.012027491408934709,
          0.16494845360824742,
          0.08762886597938144,
          0.027491408934707903,
          0.07731958762886598,
          0.048109965635738834,
          0.16838487972508592,
          0.013745704467353952,
          0.12886597938144329,
          0.12886597938144329,
          0.01718213058419244
         ]
        },
        {
         "line": {
          "color": "rgba(128, 177, 211, 0.8297872340425532)",
          "dash": "solid",
          "shape": "linear",
          "width": 1.3
         },
         "mode": "lines",
         "name": "21",
         "text": "",
         "type": "scatter",
         "x": [
          0,
          1,
          2,
          3,
          4,
          5,
          6,
          7,
          8,
          9,
          10,
          11
         ],
         "y": [
          0.09523809523809523,
          0.040293040293040296,
          0.11355311355311355,
          0.07692307692307693,
          0.054945054945054944,
          0.08058608058608059,
          0.06227106227106227,
          0.18681318681318682,
          0.04395604395604396,
          0.10256410256410256,
          0.0989010989010989,
          0.04395604395604396
         ]
        },
        {
         "line": {
          "color": "rgba(255, 153, 51, 0.8297872340425532)",
          "dash": "solid",
          "shape": "linear",
          "width": 1.3
         },
         "mode": "lines",
         "name": "22",
         "text": "",
         "type": "scatter",
         "x": [
          0,
          1,
          2,
          3,
          4,
          5,
          6,
          7,
          8,
          9,
          10,
          11
         ],
         "y": [
          0.09641873278236915,
          0.03856749311294766,
          0.11570247933884298,
          0.07988980716253444,
          0.04132231404958678,
          0.09366391184573003,
          0.049586776859504134,
          0.18457300275482094,
          0.05785123966942149,
          0.09917355371900827,
          0.10192837465564739,
          0.04132231404958678
         ]
        },
        {
         "line": {
          "color": "rgba(55, 128, 191, 0.8297872340425532)",
          "dash": "solid",
          "shape": "linear",
          "width": 1.3
         },
         "mode": "lines",
         "name": "23",
         "text": "",
         "type": "scatter",
         "x": [
          0,
          1,
          2,
          3,
          4,
          5,
          6,
          7,
          8,
          9,
          10,
          11
         ],
         "y": [
          0.10372340425531915,
          0.010638297872340425,
          0.1595744680851064,
          0.05851063829787234,
          0.0425531914893617,
          0.08244680851063829,
          0.03723404255319149,
          0.22340425531914893,
          0.0026595744680851063,
          0.1356382978723404,
          0.13297872340425532,
          0.010638297872340425
         ]
        },
        {
         "line": {
          "color": "rgba(50, 171, 96, 0.8297872340425532)",
          "dash": "solid",
          "shape": "linear",
          "width": 1.3
         },
         "mode": "lines",
         "name": "24",
         "text": "",
         "type": "scatter",
         "x": [
          0,
          1,
          2,
          3,
          4,
          5,
          6,
          7,
          8,
          9,
          10,
          11
         ],
         "y": [
          0.15819209039548024,
          "",
          0.1751412429378531,
          "",
          0.062146892655367235,
          "",
          0.05649717514124294,
          0.22033898305084745,
          "",
          0.13559322033898305,
          "",
          0.192090395480226
         ]
        },
        {
         "line": {
          "color": "rgba(128, 0, 128, 0.8297872340425532)",
          "dash": "solid",
          "shape": "linear",
          "width": 1.3
         },
         "mode": "lines",
         "name": "25",
         "text": "",
         "type": "scatter",
         "x": [
          0,
          1,
          2,
          3,
          4,
          5,
          6,
          7,
          8,
          9,
          10,
          11
         ],
         "y": [
          0.10538373424971363,
          0.029782359679266894,
          0.16265750286368844,
          0.054982817869415807,
          0.08247422680412371,
          0.08247422680412371,
          0.043528064146620846,
          0.1660939289805269,
          0.010309278350515464,
          0.13745704467353953,
          0.10767468499427263,
          0.01718213058419244
         ]
        },
        {
         "line": {
          "color": "rgba(219, 64, 82, 0.8297872340425532)",
          "dash": "solid",
          "shape": "linear",
          "width": 1.3
         },
         "mode": "lines",
         "name": "26",
         "text": "",
         "type": "scatter",
         "x": [
          0,
          1,
          2,
          3,
          4,
          5,
          6,
          7,
          8,
          9,
          10,
          11
         ],
         "y": [
          0.16328635269852182,
          0.008250257820556892,
          0.12616019250601582,
          0.024407012719147473,
          0.10037813681677553,
          0.14987968374011687,
          0.0089377793056033,
          0.14094190443451357,
          0.009281540048126504,
          0.13166036438638706,
          0.09144035751117223,
          0.04537641801306291
         ]
        },
        {
         "line": {
          "color": "rgba(0, 128, 128, 0.8297872340425532)",
          "dash": "solid",
          "shape": "linear",
          "width": 1.3
         },
         "mode": "lines",
         "name": "27",
         "text": "",
         "type": "scatter",
         "x": [
          0,
          1,
          2,
          3,
          4,
          5,
          6,
          7,
          8,
          9,
          10,
          11
         ],
         "y": [
          0.16010854816824965,
          0.008141112618724558,
          0.10176390773405698,
          0.010854816824966078,
          0.09362279511533243,
          0.15061058344640435,
          0.016282225237449117,
          0.16824966078697423,
          0.0067842605156037995,
          0.1451831750339213,
          0.0773405698778833,
          0.06105834464043419
         ]
        },
        {
         "line": {
          "color": "rgba(255, 255, 51, 0.8297872340425532)",
          "dash": "solid",
          "shape": "linear",
          "width": 1.3
         },
         "mode": "lines",
         "name": "28",
         "text": "",
         "type": "scatter",
         "x": [
          0,
          1,
          2,
          3,
          4,
          5,
          6,
          7,
          8,
          9,
          10,
          11
         ],
         "y": [
          0.17191977077363896,
          0.0028653295128939827,
          0.12607449856733524,
          0.022922636103151862,
          0.10028653295128939,
          0.15759312320916904,
          0.014326647564469915,
          0.1518624641833811,
          "",
          0.12893982808022922,
          0.10888252148997135,
          0.014326647564469915
         ]
        },
        {
         "line": {
          "color": "rgba(128, 128, 0, 0.8297872340425532)",
          "dash": "solid",
          "shape": "linear",
          "width": 1.3
         },
         "mode": "lines",
         "name": "29",
         "text": "",
         "type": "scatter",
         "x": [
          0,
          1,
          2,
          3,
          4,
          5,
          6,
          7,
          8,
          9,
          10,
          11
         ],
         "y": [
          0.18208955223880596,
          0.01791044776119403,
          0.12238805970149254,
          0.03582089552238806,
          0.07164179104477612,
          0.1582089552238806,
          0.008955223880597015,
          0.1582089552238806,
          0.014925373134328358,
          0.11044776119402985,
          0.08656716417910448,
          0.03283582089552239
         ]
        },
        {
         "line": {
          "color": "rgba(128, 128, 0, 0.7446808510638296)",
          "dash": "solid",
          "shape": "linear",
          "width": 1.3
         },
         "mode": "lines",
         "name": "30",
         "text": "",
         "type": "scatter",
         "x": [
          0,
          1,
          2,
          3,
          4,
          5,
          6,
          7,
          8,
          9,
          10,
          11
         ],
         "y": [
          0.12944983818770225,
          0.016181229773462782,
          0.13268608414239483,
          0.006472491909385114,
          0.12944983818770225,
          0.20064724919093851,
          0.003236245954692557,
          0.1488673139158576,
          "",
          0.1262135922330097,
          0.08414239482200647,
          0.022653721682847898
         ]
        },
        {
         "line": {
          "color": "rgba(251, 128, 114, 0.7446808510638296)",
          "dash": "solid",
          "shape": "linear",
          "width": 1.3
         },
         "mode": "lines",
         "name": "31",
         "text": "",
         "type": "scatter",
         "x": [
          0,
          1,
          2,
          3,
          4,
          5,
          6,
          7,
          8,
          9,
          10,
          11
         ],
         "y": [
          0.05787781350482315,
          0.06109324758842444,
          0.1864951768488746,
          0.012861736334405145,
          0.13504823151125403,
          0.14469453376205788,
          "",
          0.12218649517684887,
          "",
          0.17363344051446947,
          0.07717041800643087,
          0.028938906752411574
         ]
        },
        {
         "line": {
          "color": "rgba(128, 177, 211, 0.7446808510638296)",
          "dash": "solid",
          "shape": "linear",
          "width": 1.3
         },
         "mode": "lines",
         "name": "32",
         "text": "",
         "type": "scatter",
         "x": [
          0,
          1,
          2,
          3,
          4,
          5,
          6,
          7,
          8,
          9,
          10,
          11
         ],
         "y": [
          0.15627996164908917,
          0.016299137104506232,
          0.14093959731543623,
          0.00862895493767977,
          0.10546500479386385,
          0.14285714285714285,
          0.023010546500479387,
          0.13135186960690318,
          "",
          0.16586768935762225,
          0.07861936720997123,
          0.030680728667305847
         ]
        },
        {
         "line": {
          "color": "rgba(255, 153, 51, 0.7446808510638296)",
          "dash": "solid",
          "shape": "linear",
          "width": 1.3
         },
         "mode": "lines",
         "name": "33",
         "text": "",
         "type": "scatter",
         "x": [
          0,
          1,
          2,
          3,
          4,
          5,
          6,
          7,
          8,
          9,
          10,
          11
         ],
         "y": [
          0.07461792028768355,
          0.05693736889421636,
          0.08930176805513934,
          0.04135451003895715,
          0.1531315552891819,
          0.012286484866646689,
          0.1384477075217261,
          0.12166616721606233,
          0.01678154030566377,
          0.11627210068924183,
          0.025172310458495654,
          0.1540305663769853
         ]
        },
        {
         "line": {
          "color": "rgba(55, 128, 191, 0.7446808510638296)",
          "dash": "solid",
          "shape": "linear",
          "width": 1.3
         },
         "mode": "lines",
         "name": "34",
         "text": "",
         "type": "scatter",
         "x": [
          0,
          1,
          2,
          3,
          4,
          5,
          6,
          7,
          8,
          9,
          10,
          11
         ],
         "y": [
          0.05307262569832402,
          0.07960893854748603,
          0.0782122905027933,
          0.046089385474860335,
          0.1787709497206704,
          0.009776536312849162,
          0.1340782122905028,
          0.1005586592178771,
          0.0223463687150838,
          0.10754189944134078,
          0.03910614525139665,
          0.15083798882681565
         ]
        },
        {
         "line": {
          "color": "rgba(50, 171, 96, 0.7446808510638296)",
          "dash": "solid",
          "shape": "linear",
          "width": 1.3
         },
         "mode": "lines",
         "name": "35",
         "text": "",
         "type": "scatter",
         "x": [
          0,
          1,
          2,
          3,
          4,
          5,
          6,
          7,
          8,
          9,
          10,
          11
         ],
         "y": [
          0.053703703703703705,
          0.053703703703703705,
          0.0962962962962963,
          0.05,
          0.17037037037037037,
          0.005555555555555556,
          0.13518518518518519,
          0.12037037037037036,
          0.014814814814814815,
          0.13518518518518519,
          0.005555555555555556,
          0.15925925925925927
         ]
        },
        {
         "line": {
          "color": "rgba(128, 0, 128, 0.7446808510638296)",
          "dash": "solid",
          "shape": "linear",
          "width": 1.3
         },
         "mode": "lines",
         "name": "36",
         "text": "",
         "type": "scatter",
         "x": [
          0,
          1,
          2,
          3,
          4,
          5,
          6,
          7,
          8,
          9,
          10,
          11
         ],
         "y": [
          0.05569007263922518,
          0.05084745762711865,
          0.09685230024213075,
          0.031476997578692496,
          0.15254237288135594,
          0.021791767554479417,
          0.12832929782082325,
          0.12106537530266344,
          0.04116222760290557,
          0.13317191283292978,
          0.007263922518159807,
          0.15980629539951574
         ]
        },
        {
         "line": {
          "color": "rgba(219, 64, 82, 0.7446808510638296)",
          "dash": "solid",
          "shape": "linear",
          "width": 1.3
         },
         "mode": "lines",
         "name": "37",
         "text": "",
         "type": "scatter",
         "x": [
          0,
          1,
          2,
          3,
          4,
          5,
          6,
          7,
          8,
          9,
          10,
          11
         ],
         "y": [
          0.06064880112834979,
          0.021156558533145273,
          0.06064880112834979,
          0.03244005641748942,
          0.17348377997179126,
          0.007052186177715092,
          0.16502115655853314,
          0.16502115655853314,
          0.011283497884344146,
          0.1368124118476728,
          0.005641748942172073,
          0.1607898448519041
         ]
        },
        {
         "line": {
          "color": "rgba(0, 128, 128, 0.7446808510638296)",
          "dash": "solid",
          "shape": "linear",
          "width": 1.3
         },
         "mode": "lines",
         "name": "38",
         "text": "",
         "type": "scatter",
         "x": [
          0,
          1,
          2,
          3,
          4,
          5,
          6,
          7,
          8,
          9,
          10,
          11
         ],
         "y": [
          "",
          0.09090909090909091,
          0.004545454545454545,
          0.08636363636363636,
          0.19545454545454546,
          "",
          0.16363636363636364,
          "",
          0.14545454545454545,
          0.12272727272727273,
          0.03636363636363636,
          0.15454545454545454
         ]
        },
        {
         "line": {
          "color": "rgba(255, 255, 51, 0.7446808510638296)",
          "dash": "solid",
          "shape": "linear",
          "width": 1.3
         },
         "mode": "lines",
         "name": "39",
         "text": "",
         "type": "scatter",
         "x": [
          0,
          1,
          2,
          3,
          4,
          5,
          6,
          7,
          8,
          9,
          10,
          11
         ],
         "y": [
          0.06762749445676275,
          0.05543237250554324,
          0.08536585365853659,
          0.058758314855875834,
          0.1674057649667406,
          0.009977827050997782,
          0.13082039911308205,
          0.1008869179600887,
          0.024390243902439025,
          0.10753880266075388,
          0.02328159645232816,
          0.16851441241685144
         ]
        },
        {
         "line": {
          "color": "rgba(255, 255, 51, 0.6595744680851063)",
          "dash": "solid",
          "shape": "linear",
          "width": 1.3
         },
         "mode": "lines",
         "name": "40",
         "text": "",
         "type": "scatter",
         "x": [
          0,
          1,
          2,
          3,
          4,
          5,
          6,
          7,
          8,
          9,
          10,
          11
         ],
         "y": [
          0.10681280894046852,
          0.03524607779926929,
          0.14958091553836234,
          0.018052869116698903,
          0.12529550827423167,
          0.11562432839028584,
          0.024285407264130667,
          0.12271652697184612,
          0.015258972705781216,
          0.15516870836019772,
          0.07865892972275951,
          0.05329894691596819
         ]
        },
        {
         "line": {
          "color": "rgba(128, 128, 0, 0.6595744680851063)",
          "dash": "solid",
          "shape": "linear",
          "width": 1.3
         },
         "mode": "lines",
         "name": "41",
         "text": "",
         "type": "scatter",
         "x": [
          0,
          1,
          2,
          3,
          4,
          5,
          6,
          7,
          8,
          9,
          10,
          11
         ],
         "y": [
          0.07598371777476255,
          0.04748982360922659,
          0.14925373134328357,
          0.018995929443690638,
          0.13297150610583447,
          0.10719131614654002,
          0.0203527815468114,
          0.13568521031207598,
          0.023066485753052916,
          0.1560379918588874,
          0.0773405698778833,
          0.05563093622795115
         ]
        },
        {
         "line": {
          "color": "rgba(251, 128, 114, 0.6595744680851063)",
          "dash": "solid",
          "shape": "linear",
          "width": 1.3
         },
         "mode": "lines",
         "name": "42",
         "text": "",
         "type": "scatter",
         "x": [
          0,
          1,
          2,
          3,
          4,
          5,
          6,
          7,
          8,
          9,
          10,
          11
         ],
         "y": [
          0.09744408945686901,
          0.03194888178913738,
          0.15814696485623003,
          0.025559105431309903,
          0.11980830670926518,
          0.11022364217252396,
          0.02875399361022364,
          0.1389776357827476,
          0.009584664536741214,
          0.15654952076677317,
          0.09424920127795527,
          0.02875399361022364
         ]
        },
        {
         "line": {
          "color": "rgba(128, 177, 211, 0.6595744680851063)",
          "dash": "solid",
          "shape": "linear",
          "width": 1.3
         },
         "mode": "lines",
         "name": "43",
         "text": "",
         "type": "scatter",
         "x": [
          0,
          1,
          2,
          3,
          4,
          5,
          6,
          7,
          8,
          9,
          10,
          11
         ],
         "y": [
          0.07473309608540925,
          0.0711743772241993,
          0.15302491103202848,
          0.0035587188612099642,
          0.12811387900355872,
          0.09252669039145907,
          0.02491103202846975,
          0.1387900355871886,
          0.021352313167259787,
          0.16725978647686832,
          0.08185053380782918,
          0.042704626334519574
         ]
        },
        {
         "line": {
          "color": "rgba(255, 153, 51, 0.6595744680851063)",
          "dash": "solid",
          "shape": "linear",
          "width": 1.3
         },
         "mode": "lines",
         "name": "44",
         "text": "",
         "type": "scatter",
         "x": [
          0,
          1,
          2,
          3,
          4,
          5,
          6,
          7,
          8,
          9,
          10,
          11
         ],
         "y": [
          0.06525911708253358,
          0.07869481765834933,
          0.15355086372360843,
          0.005758157389635317,
          0.12476007677543186,
          0.09980806142034548,
          0.0345489443378119,
          0.1381957773512476,
          0.01727447216890595,
          0.16122840690978887,
          0.07485604606525911,
          0.046065259117082535
         ]
        },
        {
         "line": {
          "color": "rgba(55, 128, 191, 0.6595744680851063)",
          "dash": "solid",
          "shape": "linear",
          "width": 1.3
         },
         "mode": "lines",
         "name": "45",
         "text": "",
         "type": "scatter",
         "x": [
          0,
          1,
          2,
          3,
          4,
          5,
          6,
          7,
          8,
          9,
          10,
          11
         ],
         "y": [
          0.08921161825726141,
          0.043568464730290454,
          0.17634854771784234,
          0.012448132780082987,
          0.1078838174273859,
          0.0954356846473029,
          0.014522821576763486,
          0.16390041493775934,
          0.002074688796680498,
          0.17012448132780084,
          0.1016597510373444,
          0.022821576763485476
         ]
        },
        {
         "line": {
          "color": "rgba(50, 171, 96, 0.6595744680851063)",
          "dash": "solid",
          "shape": "linear",
          "width": 1.3
         },
         "mode": "lines",
         "name": "46",
         "text": "",
         "type": "scatter",
         "x": [
          0,
          1,
          2,
          3,
          4,
          5,
          6,
          7,
          8,
          9,
          10,
          11
         ],
         "y": [
          0.01764705882352941,
          0.03823529411764706,
          0.3323529411764706,
          "",
          0.10588235294117647,
          "",
          0.17058823529411765,
          0.11176470588235295,
          0.011764705882352941,
          0.13823529411764707,
          "",
          0.07352941176470588
         ]
        },
        {
         "line": {
          "color": "rgba(128, 0, 128, 0.6595744680851063)",
          "dash": "solid",
          "shape": "linear",
          "width": 1.3
         },
         "mode": "lines",
         "name": "47",
         "text": "",
         "type": "scatter",
         "x": [
          0,
          1,
          2,
          3,
          4,
          5,
          6,
          7,
          8,
          9,
          10,
          11
         ],
         "y": [
          0.04990583804143126,
          0.0743879472693032,
          0.1497175141242938,
          0.038606403013182675,
          0.11770244821092278,
          0.07344632768361582,
          0.04519774011299435,
          0.08192090395480225,
          0.04990583804143126,
          0.18267419962335216,
          0.07532956685499058,
          0.06120527306967985
         ]
        },
        {
         "line": {
          "color": "rgba(219, 64, 82, 0.6595744680851063)",
          "dash": "solid",
          "shape": "linear",
          "width": 1.3
         },
         "mode": "lines",
         "name": "48",
         "text": "",
         "type": "scatter",
         "x": [
          0,
          1,
          2,
          3,
          4,
          5,
          6,
          7,
          8,
          9,
          10,
          11
         ],
         "y": [
          0.07108239095315025,
          0.050080775444264945,
          0.15024232633279483,
          0.025848142164781908,
          0.10177705977382875,
          0.11631663974151858,
          0.0210016155088853,
          0.1470113085621971,
          0.0032310177705977385,
          0.16155088852988692,
          0.13408723747980614,
          0.017770597738287562
         ]
        },
        {
         "line": {
          "color": "rgba(0, 128, 128, 0.6595744680851063)",
          "dash": "solid",
          "shape": "linear",
          "width": 1.3
         },
         "mode": "lines",
         "name": "49",
         "text": "",
         "type": "scatter",
         "x": [
          0,
          1,
          2,
          3,
          4,
          5,
          6,
          7,
          8,
          9,
          10,
          11
         ],
         "y": [
          0.08041237113402062,
          0.05154639175257732,
          0.15876288659793814,
          0.018556701030927835,
          0.10309278350515463,
          0.09484536082474226,
          0.03505154639175258,
          0.15463917525773196,
          0.002061855670103093,
          0.18144329896907216,
          0.09072164948453608,
          0.0288659793814433
         ]
        },
        {
         "line": {
          "color": "rgba(0, 128, 128, 0.5744680851063828)",
          "dash": "solid",
          "shape": "linear",
          "width": 1.3
         },
         "mode": "lines",
         "name": "50",
         "text": "",
         "type": "scatter",
         "x": [
          0,
          1,
          2,
          3,
          4,
          5,
          6,
          7,
          8,
          9,
          10,
          11
         ],
         "y": [
          0.05128205128205128,
          0.05982905982905983,
          0.16524216524216523,
          0.03418803418803419,
          0.10256410256410256,
          0.07407407407407407,
          0.042735042735042736,
          0.15669515669515668,
          0.014245014245014245,
          0.1737891737891738,
          0.1111111111111111,
          0.014245014245014245
         ]
        },
        {
         "line": {
          "color": "rgba(255, 255, 51, 0.5744680851063828)",
          "dash": "solid",
          "shape": "linear",
          "width": 1.3
         },
         "mode": "lines",
         "name": "51",
         "text": "",
         "type": "scatter",
         "x": [
          0,
          1,
          2,
          3,
          4,
          5,
          6,
          7,
          8,
          9,
          10,
          11
         ],
         "y": [
          0.0946969696969697,
          0.03787878787878788,
          0.1590909090909091,
          0.011363636363636364,
          0.10984848484848485,
          0.14772727272727273,
          0.007575757575757576,
          0.10227272727272728,
          0.015151515151515152,
          0.19696969696969696,
          0.07954545454545454,
          0.03787878787878788
         ]
        },
        {
         "line": {
          "color": "rgba(128, 128, 0, 0.5744680851063828)",
          "dash": "solid",
          "shape": "linear",
          "width": 1.3
         },
         "mode": "lines",
         "name": "52",
         "text": "",
         "type": "scatter",
         "x": [
          0,
          1,
          2,
          3,
          4,
          5,
          6,
          7,
          8,
          9,
          10,
          11
         ],
         "y": [
          0.07207207207207207,
          0.038288288288288286,
          0.12387387387387387,
          0.0022522522522522522,
          0.08558558558558559,
          0.15990990990990991,
          0.009009009009009009,
          0.18243243243243243,
          "",
          0.20045045045045046,
          0.11486486486486487,
          0.01126126126126126
         ]
        },
        {
         "line": {
          "color": "rgba(251, 128, 114, 0.5744680851063828)",
          "dash": "solid",
          "shape": "linear",
          "width": 1.3
         },
         "mode": "lines",
         "name": "53",
         "text": "",
         "type": "scatter",
         "x": [
          0,
          1,
          2,
          3,
          4,
          5,
          6,
          7,
          8,
          9,
          10,
          11
         ],
         "y": [
          0.08056872037914692,
          0.04897314375987362,
          0.1769352290679305,
          "",
          0.15955766192733017,
          0.10900473933649289,
          0.02527646129541864,
          0.10584518167456557,
          0.020537124802527645,
          0.14691943127962084,
          0.05529225908372828,
          0.07109004739336493
         ]
        },
        {
         "line": {
          "color": "rgba(128, 177, 211, 0.5744680851063828)",
          "dash": "solid",
          "shape": "linear",
          "width": 1.3
         },
         "mode": "lines",
         "name": "54",
         "text": "",
         "type": "scatter",
         "x": [
          0,
          1,
          2,
          3,
          4,
          5,
          6,
          7,
          8,
          9,
          10,
          11
         ],
         "y": [
          0.16636851520572452,
          0.01967799642218247,
          0.11270125223613596,
          0.11091234347048301,
          0.028622540250447227,
          0.13237924865831843,
          0.016100178890876567,
          0.1592128801431127,
          0.10554561717352415,
          0.016100178890876567,
          0.08944543828264759,
          0.04293381037567084
         ]
        },
        {
         "line": {
          "color": "rgba(255, 153, 51, 0.5744680851063828)",
          "dash": "solid",
          "shape": "linear",
          "width": 1.3
         },
         "mode": "lines",
         "name": "55",
         "text": "",
         "type": "scatter",
         "x": [
          0,
          1,
          2,
          3,
          4,
          5,
          6,
          7,
          8,
          9,
          10,
          11
         ],
         "y": [
          0.14728682170542637,
          0.027131782945736434,
          0.12596899224806202,
          0.12790697674418605,
          0.01937984496124031,
          0.1298449612403101,
          0.011627906976744186,
          0.15891472868217055,
          0.08914728682170543,
          0.031007751937984496,
          0.09689922480620156,
          0.03488372093023256
         ]
        },
        {
         "line": {
          "color": "rgba(55, 128, 191, 0.5744680851063828)",
          "dash": "solid",
          "shape": "linear",
          "width": 1.3
         },
         "mode": "lines",
         "name": "56",
         "text": "",
         "type": "scatter",
         "x": [
          0,
          1,
          2,
          3,
          4,
          5,
          6,
          7,
          8,
          9,
          10,
          11
         ],
         "y": [
          0.14666666666666667,
          0.016,
          0.10933333333333334,
          0.11466666666666667,
          0.02666666666666667,
          0.128,
          0.029333333333333333,
          0.17333333333333334,
          0.08533333333333333,
          0.048,
          0.08533333333333333,
          0.037333333333333336
         ]
        },
        {
         "line": {
          "color": "rgba(50, 171, 96, 0.5744680851063828)",
          "dash": "solid",
          "shape": "linear",
          "width": 1.3
         },
         "mode": "lines",
         "name": "57",
         "text": "",
         "type": "scatter",
         "x": [
          0,
          1,
          2,
          3,
          4,
          5,
          6,
          7,
          8,
          9,
          10,
          11
         ],
         "y": [
          0.1569620253164557,
          "",
          0.13164556962025317,
          0.14936708860759493,
          0.012658227848101266,
          0.1291139240506329,
          0.010126582278481013,
          0.14936708860759493,
          0.07088607594936709,
          0.053164556962025315,
          0.07848101265822785,
          0.05822784810126582
         ]
        },
        {
         "line": {
          "color": "rgba(128, 0, 128, 0.5744680851063828)",
          "dash": "solid",
          "shape": "linear",
          "width": 1.3
         },
         "mode": "lines",
         "name": "58",
         "text": "",
         "type": "scatter",
         "x": [
          0,
          1,
          2,
          3,
          4,
          5,
          6,
          7,
          8,
          9,
          10,
          11
         ],
         "y": [
          0.13688212927756654,
          0.0076045627376425855,
          0.12927756653992395,
          0.1482889733840304,
          0.030418250950570342,
          0.17490494296577946,
          "",
          0.1444866920152091,
          0.08745247148288973,
          0.026615969581749048,
          0.057034220532319393,
          0.057034220532319393
         ]
        },
        {
         "line": {
          "color": "rgba(219, 64, 82, 0.5744680851063828)",
          "dash": "solid",
          "shape": "linear",
          "width": 1.3
         },
         "mode": "lines",
         "name": "59",
         "text": "",
         "type": "scatter",
         "x": [
          0,
          1,
          2,
          3,
          4,
          5,
          6,
          7,
          8,
          9,
          10,
          11
         ],
         "y": [
          0.16964285714285715,
          0.008928571428571428,
          0.11383928571428571,
          0.10267857142857142,
          0.013392857142857142,
          0.14285714285714285,
          0.006696428571428571,
          0.18526785714285715,
          0.10044642857142858,
          0.033482142857142856,
          0.078125,
          0.044642857142857144
         ]
        },
        {
         "line": {
          "color": "rgba(219, 64, 82, 0.48936170212765956)",
          "dash": "solid",
          "shape": "linear",
          "width": 1.3
         },
         "mode": "lines",
         "name": "60",
         "text": "",
         "type": "scatter",
         "x": [
          0,
          1,
          2,
          3,
          4,
          5,
          6,
          7,
          8,
          9,
          10,
          11
         ],
         "y": [
          0.00927643784786642,
          0.11317254174397032,
          0.10760667903525047,
          0.01855287569573284,
          0.13172541743970315,
          0.02040816326530612,
          0.16512059369202226,
          0.08905380333951762,
          0.029684601113172542,
          0.08348794063079777,
          0.04823747680890538,
          0.1836734693877551
         ]
        },
        {
         "line": {
          "color": "rgba(0, 128, 128, 0.48936170212765956)",
          "dash": "solid",
          "shape": "linear",
          "width": 1.3
         },
         "mode": "lines",
         "name": "61",
         "text": "",
         "type": "scatter",
         "x": [
          0,
          1,
          2,
          3,
          4,
          5,
          6,
          7,
          8,
          9,
          10,
          11
         ],
         "y": [
          0.014571948998178506,
          0.13114754098360656,
          0.11657559198542805,
          0.020036429872495445,
          0.13114754098360656,
          0.012750455373406194,
          0.1785063752276867,
          0.08014571948998178,
          0.03278688524590164,
          0.08378870673952642,
          0.03278688524590164,
          0.1657559198542805
         ]
        },
        {
         "line": {
          "color": "rgba(255, 255, 51, 0.48936170212765956)",
          "dash": "solid",
          "shape": "linear",
          "width": 1.3
         },
         "mode": "lines",
         "name": "62",
         "text": "",
         "type": "scatter",
         "x": [
          0,
          1,
          2,
          3,
          4,
          5,
          6,
          7,
          8,
          9,
          10,
          11
         ],
         "y": [
          0.015665796344647518,
          0.11488250652741515,
          0.1462140992167102,
          0.007832898172323759,
          0.10704960835509138,
          0.020887728459530026,
          0.1906005221932115,
          0.06005221932114883,
          0.04699738903394256,
          0.10182767624020887,
          0.031331592689295036,
          0.1566579634464752
         ]
        },
        {
         "line": {
          "color": "rgba(128, 128, 0, 0.48936170212765956)",
          "dash": "solid",
          "shape": "linear",
          "width": 1.3
         },
         "mode": "lines",
         "name": "63",
         "text": "",
         "type": "scatter",
         "x": [
          0,
          1,
          2,
          3,
          4,
          5,
          6,
          7,
          8,
          9,
          10,
          11
         ],
         "y": [
          "",
          0.12151898734177215,
          0.13670886075949368,
          0.017721518987341773,
          0.1189873417721519,
          0.012658227848101266,
          0.1620253164556962,
          0.08607594936708861,
          0.027848101265822784,
          0.09113924050632911,
          0.04556962025316456,
          0.17974683544303796
         ]
        },
        {
         "line": {
          "color": "rgba(251, 128, 114, 0.48936170212765956)",
          "dash": "solid",
          "shape": "linear",
          "width": 1.3
         },
         "mode": "lines",
         "name": "64",
         "text": "",
         "type": "scatter",
         "x": [
          0,
          1,
          2,
          3,
          4,
          5,
          6,
          7,
          8,
          9,
          10,
          11
         ],
         "y": [
          0.003115264797507788,
          0.11526479750778816,
          0.14641744548286603,
          0.006230529595015576,
          0.09345794392523364,
          0.01557632398753894,
          0.21806853582554517,
          0.040498442367601244,
          0.037383177570093455,
          0.09968847352024922,
          0.04984423676012461,
          0.17445482866043613
         ]
        },
        {
         "line": {
          "color": "rgba(128, 177, 211, 0.48936170212765956)",
          "dash": "solid",
          "shape": "linear",
          "width": 1.3
         },
         "mode": "lines",
         "name": "65",
         "text": "",
         "type": "scatter",
         "x": [
          0,
          1,
          2,
          3,
          4,
          5,
          6,
          7,
          8,
          9,
          10,
          11
         ],
         "y": [
          0.013333333333333334,
          0.08888888888888889,
          0.12444444444444444,
          0.017777777777777778,
          0.15555555555555556,
          "",
          0.15555555555555556,
          0.13777777777777778,
          0.008888888888888889,
          0.09333333333333334,
          0.06222222222222222,
          0.14222222222222222
         ]
        },
        {
         "line": {
          "color": "rgba(255, 153, 51, 0.48936170212765956)",
          "dash": "solid",
          "shape": "linear",
          "width": 1.3
         },
         "mode": "lines",
         "name": "66",
         "text": "",
         "type": "scatter",
         "x": [
          0,
          1,
          2,
          3,
          4,
          5,
          6,
          7,
          8,
          9,
          10,
          11
         ],
         "y": [
          0.006144393241167435,
          0.11059907834101383,
          0.13978494623655913,
          0.006144393241167435,
          0.13978494623655913,
          0.009216589861751152,
          0.1597542242703533,
          0.07526881720430108,
          0.047619047619047616,
          0.12749615975422426,
          0.019969278033794162,
          0.15821812596006143
         ]
        },
        {
         "line": {
          "color": "rgba(55, 128, 191, 0.48936170212765956)",
          "dash": "solid",
          "shape": "linear",
          "width": 1.3
         },
         "mode": "lines",
         "name": "67",
         "text": "",
         "type": "scatter",
         "x": [
          0,
          1,
          2,
          3,
          4,
          5,
          6,
          7,
          8,
          9,
          10,
          11
         ],
         "y": [
          0.13721413721413722,
          0.012474012474012475,
          0.1101871101871102,
          0.1392931392931393,
          0.012474012474012475,
          0.1496881496881497,
          0.004158004158004158,
          0.15592515592515593,
          0.09355509355509356,
          0.02286902286902287,
          0.13305613305613306,
          0.029106029106029108
         ]
        },
        {
         "line": {
          "color": "rgba(50, 171, 96, 0.48936170212765956)",
          "dash": "solid",
          "shape": "linear",
          "width": 1.3
         },
         "mode": "lines",
         "name": "68",
         "text": "",
         "type": "scatter",
         "x": [
          0,
          1,
          2,
          3,
          4,
          5,
          6,
          7,
          8,
          9,
          10,
          11
         ],
         "y": [
          0.1219047619047619,
          0.024761904761904763,
          0.09523809523809523,
          0.1295238095238095,
          0.02095238095238095,
          0.1657142857142857,
          "",
          0.14857142857142858,
          0.09333333333333334,
          0.030476190476190476,
          0.1619047619047619,
          0.007619047619047619
         ]
        },
        {
         "line": {
          "color": "rgba(128, 0, 128, 0.48936170212765956)",
          "dash": "solid",
          "shape": "linear",
          "width": 1.3
         },
         "mode": "lines",
         "name": "69",
         "text": "",
         "type": "scatter",
         "x": [
          0,
          1,
          2,
          3,
          4,
          5,
          6,
          7,
          8,
          9,
          10,
          11
         ],
         "y": [
          0.11212121212121212,
          0.05454545454545454,
          0.07575757575757576,
          0.11818181818181818,
          0.021212121212121213,
          0.15151515151515152,
          "",
          0.12424242424242424,
          0.1303030303030303,
          0.021212121212121213,
          0.19090909090909092,
          ""
         ]
        },
        {
         "line": {
          "color": "rgba(128, 0, 128, 0.40425531914893603)",
          "dash": "solid",
          "shape": "linear",
          "width": 1.3
         },
         "mode": "lines",
         "name": "70",
         "text": "",
         "type": "scatter",
         "x": [
          0,
          1,
          2,
          3,
          4,
          5,
          6,
          7,
          8,
          9,
          10,
          11
         ],
         "y": [
          0.13405797101449277,
          0.018115942028985508,
          0.10869565217391304,
          0.14130434782608695,
          0.018115942028985508,
          0.13768115942028986,
          0.0036231884057971015,
          0.14130434782608695,
          0.10869565217391304,
          0.018115942028985508,
          0.14855072463768115,
          0.021739130434782608
         ]
        },
        {
         "line": {
          "color": "rgba(219, 64, 82, 0.40425531914893603)",
          "dash": "solid",
          "shape": "linear",
          "width": 1.3
         },
         "mode": "lines",
         "name": "71",
         "text": "",
         "type": "scatter",
         "x": [
          0,
          1,
          2,
          3,
          4,
          5,
          6,
          7,
          8,
          9,
          10,
          11
         ],
         "y": [
          0.14465408805031446,
          0.012578616352201259,
          0.11320754716981132,
          0.16142557651991615,
          0.008385744234800839,
          0.14046121593291405,
          "",
          0.13417190775681342,
          0.08385744234800839,
          0.041928721174004195,
          0.14046121593291405,
          0.018867924528301886
         ]
        },
        {
         "line": {
          "color": "rgba(0, 128, 128, 0.40425531914893603)",
          "dash": "solid",
          "shape": "linear",
          "width": 1.3
         },
         "mode": "lines",
         "name": "72",
         "text": "",
         "type": "scatter",
         "x": [
          0,
          1,
          2,
          3,
          4,
          5,
          6,
          7,
          8,
          9,
          10,
          11
         ],
         "y": [
          0.08917197452229299,
          0.044585987261146494,
          0.06369426751592357,
          0.17834394904458598,
          0.006369426751592357,
          0.1464968152866242,
          "",
          0.1464968152866242,
          0.12738853503184713,
          0.01910828025477707,
          0.17834394904458598,
          ""
         ]
        },
        {
         "line": {
          "color": "rgba(255, 255, 51, 0.40425531914893603)",
          "dash": "solid",
          "shape": "linear",
          "width": 1.3
         },
         "mode": "lines",
         "name": "73",
         "text": "",
         "type": "scatter",
         "x": [
          0,
          1,
          2,
          3,
          4,
          5,
          6,
          7,
          8,
          9,
          10,
          11
         ],
         "y": [
          0.12125748502994012,
          0.010479041916167664,
          0.11826347305389222,
          0.15269461077844312,
          0.0014970059880239522,
          0.1497005988023952,
          "",
          0.15269461077844312,
          0.10029940119760479,
          0.017964071856287425,
          0.1601796407185629,
          0.014970059880239521
         ]
        },
        {
         "line": {
          "color": "rgba(128, 128, 0, 0.40425531914893603)",
          "dash": "solid",
          "shape": "linear",
          "width": 1.3
         },
         "mode": "lines",
         "name": "74",
         "text": "",
         "type": "scatter",
         "x": [
          0,
          1,
          2,
          3,
          4,
          5,
          6,
          7,
          8,
          9,
          10,
          11
         ],
         "y": [
          0.07667731629392971,
          0.03514376996805112,
          0.1645367412140575,
          0.020766773162939296,
          0.12779552715654952,
          0.01437699680511182,
          0.10702875399361023,
          0.17731629392971246,
          0.001597444089456869,
          0.1485623003194888,
          0.007987220447284345,
          0.1182108626198083
         ]
        },
        {
         "line": {
          "color": "rgba(251, 128, 114, 0.40425531914893603)",
          "dash": "solid",
          "shape": "linear",
          "width": 1.3
         },
         "mode": "lines",
         "name": "75",
         "text": "",
         "type": "scatter",
         "x": [
          0,
          1,
          2,
          3,
          4,
          5,
          6,
          7,
          8,
          9,
          10,
          11
         ],
         "y": [
          0.08193979933110368,
          0.03511705685618729,
          0.1454849498327759,
          0.015050167224080268,
          0.13712374581939799,
          0.005016722408026756,
          0.1254180602006689,
          0.16220735785953178,
          "",
          0.15217391304347827,
          "",
          0.14046822742474915
         ]
        },
        {
         "line": {
          "color": "rgba(128, 177, 211, 0.40425531914893603)",
          "dash": "solid",
          "shape": "linear",
          "width": 1.3
         },
         "mode": "lines",
         "name": "76",
         "text": "",
         "type": "scatter",
         "x": [
          0,
          1,
          2,
          3,
          4,
          5,
          6,
          7,
          8,
          9,
          10,
          11
         ],
         "y": [
          0.12018140589569161,
          0.02040816326530612,
          0.1473922902494331,
          0.006802721088435374,
          0.1292517006802721,
          0.013605442176870748,
          0.11337868480725624,
          0.16780045351473924,
          0.0022675736961451248,
          0.14965986394557823,
          "",
          0.1292517006802721
         ]
        },
        {
         "line": {
          "color": "rgba(255, 153, 51, 0.40425531914893603)",
          "dash": "solid",
          "shape": "linear",
          "width": 1.3
         },
         "mode": "lines",
         "name": "77",
         "text": "",
         "type": "scatter",
         "x": [
          0,
          1,
          2,
          3,
          4,
          5,
          6,
          7,
          8,
          9,
          10,
          11
         ],
         "y": [
          0.09090909090909091,
          0.02727272727272727,
          0.14242424242424243,
          0.024242424242424242,
          0.10606060606060606,
          0.006060606060606061,
          0.13636363636363635,
          0.1606060606060606,
          "",
          0.16363636363636364,
          "",
          0.14242424242424243
         ]
        },
        {
         "line": {
          "color": "rgba(55, 128, 191, 0.40425531914893603)",
          "dash": "solid",
          "shape": "linear",
          "width": 1.3
         },
         "mode": "lines",
         "name": "78",
         "text": "",
         "type": "scatter",
         "x": [
          0,
          1,
          2,
          3,
          4,
          5,
          6,
          7,
          8,
          9,
          10,
          11
         ],
         "y": [
          0.08157894736842106,
          0.018421052631578946,
          0.15789473684210525,
          0.018421052631578946,
          0.10789473684210527,
          0.005263157894736842,
          0.09473684210526316,
          0.18421052631578946,
          0.007894736842105263,
          0.13157894736842105,
          0.002631578947368421,
          0.18947368421052632
         ]
        },
        {
         "line": {
          "color": "rgba(50, 171, 96, 0.40425531914893603)",
          "dash": "solid",
          "shape": "linear",
          "width": 1.3
         },
         "mode": "lines",
         "name": "79",
         "text": "",
         "type": "scatter",
         "x": [
          0,
          1,
          2,
          3,
          4,
          5,
          6,
          7,
          8,
          9,
          10,
          11
         ],
         "y": [
          0.08169934640522876,
          0.0196078431372549,
          0.1437908496732026,
          0.016339869281045753,
          0.1111111111111111,
          0.013071895424836602,
          0.11437908496732026,
          0.16013071895424835,
          0.006535947712418301,
          0.17647058823529413,
          "",
          0.1568627450980392
         ]
        },
        {
         "line": {
          "color": "rgba(50, 171, 96, 0.3191489361702127)",
          "dash": "solid",
          "shape": "linear",
          "width": 1.3
         },
         "mode": "lines",
         "name": "80",
         "text": "",
         "type": "scatter",
         "x": [
          0,
          1,
          2,
          3,
          4,
          5,
          6,
          7,
          8,
          9,
          10,
          11
         ],
         "y": [
          0.08735440931780367,
          0.03826955074875208,
          0.16306156405990016,
          0.020798668885191347,
          0.11813643926788686,
          0.009151414309484194,
          0.12396006655574043,
          0.13976705490848584,
          0.009151414309484194,
          0.16139767054908485,
          "",
          0.12895174708818635
         ]
        },
        {
         "line": {
          "color": "rgba(128, 0, 128, 0.3191489361702127)",
          "dash": "solid",
          "shape": "linear",
          "width": 1.3
         },
         "mode": "lines",
         "name": "81",
         "text": "",
         "type": "scatter",
         "x": [
          0,
          1,
          2,
          3,
          4,
          5,
          6,
          7,
          8,
          9,
          10,
          11
         ],
         "y": [
          0.013412816691505217,
          0.11028315946348734,
          0.014903129657228018,
          0.10879284649776454,
          0.16989567809239942,
          "",
          0.17287630402384502,
          0.005961251862891207,
          0.12816691505216096,
          0.09836065573770492,
          0.02533532041728763,
          0.15201192250372578
         ]
        },
        {
         "line": {
          "color": "rgba(219, 64, 82, 0.3191489361702127)",
          "dash": "solid",
          "shape": "linear",
          "width": 1.3
         },
         "mode": "lines",
         "name": "82",
         "text": "",
         "type": "scatter",
         "x": [
          0,
          1,
          2,
          3,
          4,
          5,
          6,
          7,
          8,
          9,
          10,
          11
         ],
         "y": [
          0.023952095808383235,
          0.12574850299401197,
          0.003992015968063872,
          0.13373253493013973,
          0.13972055888223553,
          0.00998003992015968,
          0.1497005988023952,
          "",
          0.12974051896207583,
          0.10379241516966067,
          0.02594810379241517,
          0.1536926147704591
         ]
        },
        {
         "line": {
          "color": "rgba(0, 128, 128, 0.3191489361702127)",
          "dash": "solid",
          "shape": "linear",
          "width": 1.3
         },
         "mode": "lines",
         "name": "83",
         "text": "",
         "type": "scatter",
         "x": [
          0,
          1,
          2,
          3,
          4,
          5,
          6,
          7,
          8,
          9,
          10,
          11
         ],
         "y": [
          0.013029315960912053,
          0.1465798045602606,
          0.019543973941368076,
          0.08143322475570032,
          0.12052117263843648,
          0.02280130293159609,
          0.16286644951140064,
          "",
          0.13680781758957655,
          0.10423452768729642,
          0.029315960912052116,
          0.16286644951140064
         ]
        },
        {
         "line": {
          "color": "rgba(255, 255, 51, 0.3191489361702127)",
          "dash": "solid",
          "shape": "linear",
          "width": 1.3
         },
         "mode": "lines",
         "name": "84",
         "text": "",
         "type": "scatter",
         "x": [
          0,
          1,
          2,
          3,
          4,
          5,
          6,
          7,
          8,
          9,
          10,
          11
         ],
         "y": [
          0.007722007722007722,
          0.10810810810810811,
          0.015444015444015444,
          0.09652509652509653,
          0.15057915057915058,
          0.011583011583011582,
          0.1776061776061776,
          "",
          0.16216216216216217,
          0.1274131274131274,
          0.007722007722007722,
          0.13513513513513514
         ]
        },
        {
         "line": {
          "color": "rgba(128, 128, 0, 0.3191489361702127)",
          "dash": "solid",
          "shape": "linear",
          "width": 1.3
         },
         "mode": "lines",
         "name": "85",
         "text": "",
         "type": "scatter",
         "x": [
          0,
          1,
          2,
          3,
          4,
          5,
          6,
          7,
          8,
          9,
          10,
          11
         ],
         "y": [
          0.03460207612456748,
          0.1453287197231834,
          0.02422145328719723,
          0.12802768166089964,
          0.17647058823529413,
          0.010380622837370242,
          0.11764705882352941,
          0.0034602076124567475,
          0.12110726643598616,
          0.07612456747404844,
          0.03460207612456748,
          0.12802768166089964
         ]
        },
        {
         "line": {
          "color": "rgba(251, 128, 114, 0.3191489361702127)",
          "dash": "solid",
          "shape": "linear",
          "width": 1.3
         },
         "mode": "lines",
         "name": "86",
         "text": "",
         "type": "scatter",
         "x": [
          0,
          1,
          2,
          3,
          4,
          5,
          6,
          7,
          8,
          9,
          10,
          11
         ],
         "y": [
          0.01107011070110701,
          0.11439114391143912,
          0.0018450184501845018,
          0.13099630996309963,
          0.14022140221402213,
          0.00922509225092251,
          0.16789667896678967,
          "",
          0.16236162361623616,
          0.08671586715867159,
          0.01845018450184502,
          0.15682656826568267
         ]
        },
        {
         "line": {
          "color": "rgba(128, 177, 211, 0.3191489361702127)",
          "dash": "solid",
          "shape": "linear",
          "width": 1.3
         },
         "mode": "lines",
         "name": "87",
         "text": "",
         "type": "scatter",
         "x": [
          0,
          1,
          2,
          3,
          4,
          5,
          6,
          7,
          8,
          9,
          10,
          11
         ],
         "y": [
          0.002911208151382824,
          0.11062590975254731,
          0.02911208151382824,
          0.09606986899563319,
          0.15283842794759825,
          0.017467248908296942,
          0.1324599708879185,
          0.005822416302765648,
          0.14410480349344978,
          0.09024745269286755,
          0.04512372634643377,
          0.17321688500727803
         ]
        },
        {
         "line": {
          "color": "rgba(255, 153, 51, 0.3191489361702127)",
          "dash": "solid",
          "shape": "linear",
          "width": 1.3
         },
         "mode": "lines",
         "name": "88",
         "text": "",
         "type": "scatter",
         "x": [
          0,
          1,
          2,
          3,
          4,
          5,
          6,
          7,
          8,
          9,
          10,
          11
         ],
         "y": [
          0.01020408163265306,
          0.08163265306122448,
          0.00510204081632653,
          0.10714285714285714,
          0.17857142857142858,
          "",
          0.12244897959183673,
          "",
          0.14795918367346939,
          0.12244897959183673,
          0.025510204081632654,
          0.1989795918367347
         ]
        },
        {
         "line": {
          "color": "rgba(55, 128, 191, 0.3191489361702127)",
          "dash": "solid",
          "shape": "linear",
          "width": 1.3
         },
         "mode": "lines",
         "name": "89",
         "text": "",
         "type": "scatter",
         "x": [
          0,
          1,
          2,
          3,
          4,
          5,
          6,
          7,
          8,
          9,
          10,
          11
         ],
         "y": [
          0.21002949852507374,
          0.08731563421828908,
          0.02831858407079646,
          0.0943952802359882,
          0.061946902654867256,
          0.14926253687315635,
          0.012979351032448377,
          0.11091445427728613,
          0.10619469026548672,
          0.010029498525073746,
          0.09911504424778761,
          0.029498525073746312
         ]
        },
        {
         "line": {
          "color": "rgba(55, 128, 191, 0.2340425531914892)",
          "dash": "solid",
          "shape": "linear",
          "width": 1.3
         },
         "mode": "lines",
         "name": "90",
         "text": "",
         "type": "scatter",
         "x": [
          0,
          1,
          2,
          3,
          4,
          5,
          6,
          7,
          8,
          9,
          10,
          11
         ],
         "y": [
          0.19938650306748465,
          0.014570552147239263,
          0.1004601226993865,
          0.006901840490797546,
          0.11809815950920245,
          0.1656441717791411,
          0.009202453987730062,
          0.13266871165644173,
          0.006901840490797546,
          0.1142638036809816,
          0.09815950920245399,
          0.03374233128834356
         ]
        },
        {
         "line": {
          "color": "rgba(50, 171, 96, 0.2340425531914892)",
          "dash": "solid",
          "shape": "linear",
          "width": 1.3
         },
         "mode": "lines",
         "name": "91",
         "text": "",
         "type": "scatter",
         "x": [
          0,
          1,
          2,
          3,
          4,
          5,
          6,
          7,
          8,
          9,
          10,
          11
         ],
         "y": [
          0.1796875,
          0.059375,
          0.04375,
          0.04375,
          0.065625,
          0.134375,
          0.00625,
          0.1203125,
          0.090625,
          0.096875,
          0.13125,
          0.028125
         ]
        },
        {
         "line": {
          "color": "rgba(128, 0, 128, 0.2340425531914892)",
          "dash": "solid",
          "shape": "linear",
          "width": 1.3
         },
         "mode": "lines",
         "name": "92",
         "text": "",
         "type": "scatter",
         "x": [
          0,
          1,
          2,
          3,
          4,
          5,
          6,
          7,
          8,
          9,
          10,
          11
         ],
         "y": [
          0.20820385332504662,
          0.07085146053449347,
          0.036668738346799255,
          0.10907395898073337,
          0.05220633934120572,
          0.11591050341827222,
          0.01305158483530143,
          0.14916096954630206,
          0.12088253573648229,
          0.011187072715972654,
          0.07830950901180858,
          0.03449347420758235
         ]
        },
        {
         "line": {
          "color": "rgba(219, 64, 82, 0.2340425531914892)",
          "dash": "solid",
          "shape": "linear",
          "width": 1.3
         },
         "mode": "lines",
         "name": "93",
         "text": "",
         "type": "scatter",
         "x": [
          0,
          1,
          2,
          3,
          4,
          5,
          6,
          7,
          8,
          9,
          10,
          11
         ],
         "y": [
          0.25,
          0.01,
          0.12,
          "",
          0.175,
          0.06,
          0.015,
          0.255,
          "",
          0.02,
          "",
          0.095
         ]
        }
       ],
       "layout": {
        "legend": {
         "bgcolor": "#FFFFFF",
         "font": {
          "color": "#4D5663"
         }
        },
        "paper_bgcolor": "#FFFFFF",
        "plot_bgcolor": "#FFFFFF",
        "template": {
         "data": {
          "bar": [
           {
            "error_x": {
             "color": "#2a3f5f"
            },
            "error_y": {
             "color": "#2a3f5f"
            },
            "marker": {
             "line": {
              "color": "#E5ECF6",
              "width": 0.5
             }
            },
            "type": "bar"
           }
          ],
          "barpolar": [
           {
            "marker": {
             "line": {
              "color": "#E5ECF6",
              "width": 0.5
             }
            },
            "type": "barpolar"
           }
          ],
          "carpet": [
           {
            "aaxis": {
             "endlinecolor": "#2a3f5f",
             "gridcolor": "white",
             "linecolor": "white",
             "minorgridcolor": "white",
             "startlinecolor": "#2a3f5f"
            },
            "baxis": {
             "endlinecolor": "#2a3f5f",
             "gridcolor": "white",
             "linecolor": "white",
             "minorgridcolor": "white",
             "startlinecolor": "#2a3f5f"
            },
            "type": "carpet"
           }
          ],
          "choropleth": [
           {
            "colorbar": {
             "outlinewidth": 0,
             "ticks": ""
            },
            "type": "choropleth"
           }
          ],
          "contour": [
           {
            "colorbar": {
             "outlinewidth": 0,
             "ticks": ""
            },
            "colorscale": [
             [
              0,
              "#0d0887"
             ],
             [
              0.1111111111111111,
              "#46039f"
             ],
             [
              0.2222222222222222,
              "#7201a8"
             ],
             [
              0.3333333333333333,
              "#9c179e"
             ],
             [
              0.4444444444444444,
              "#bd3786"
             ],
             [
              0.5555555555555556,
              "#d8576b"
             ],
             [
              0.6666666666666666,
              "#ed7953"
             ],
             [
              0.7777777777777778,
              "#fb9f3a"
             ],
             [
              0.8888888888888888,
              "#fdca26"
             ],
             [
              1,
              "#f0f921"
             ]
            ],
            "type": "contour"
           }
          ],
          "contourcarpet": [
           {
            "colorbar": {
             "outlinewidth": 0,
             "ticks": ""
            },
            "type": "contourcarpet"
           }
          ],
          "heatmap": [
           {
            "colorbar": {
             "outlinewidth": 0,
             "ticks": ""
            },
            "colorscale": [
             [
              0,
              "#0d0887"
             ],
             [
              0.1111111111111111,
              "#46039f"
             ],
             [
              0.2222222222222222,
              "#7201a8"
             ],
             [
              0.3333333333333333,
              "#9c179e"
             ],
             [
              0.4444444444444444,
              "#bd3786"
             ],
             [
              0.5555555555555556,
              "#d8576b"
             ],
             [
              0.6666666666666666,
              "#ed7953"
             ],
             [
              0.7777777777777778,
              "#fb9f3a"
             ],
             [
              0.8888888888888888,
              "#fdca26"
             ],
             [
              1,
              "#f0f921"
             ]
            ],
            "type": "heatmap"
           }
          ],
          "heatmapgl": [
           {
            "colorbar": {
             "outlinewidth": 0,
             "ticks": ""
            },
            "colorscale": [
             [
              0,
              "#0d0887"
             ],
             [
              0.1111111111111111,
              "#46039f"
             ],
             [
              0.2222222222222222,
              "#7201a8"
             ],
             [
              0.3333333333333333,
              "#9c179e"
             ],
             [
              0.4444444444444444,
              "#bd3786"
             ],
             [
              0.5555555555555556,
              "#d8576b"
             ],
             [
              0.6666666666666666,
              "#ed7953"
             ],
             [
              0.7777777777777778,
              "#fb9f3a"
             ],
             [
              0.8888888888888888,
              "#fdca26"
             ],
             [
              1,
              "#f0f921"
             ]
            ],
            "type": "heatmapgl"
           }
          ],
          "histogram": [
           {
            "marker": {
             "colorbar": {
              "outlinewidth": 0,
              "ticks": ""
             }
            },
            "type": "histogram"
           }
          ],
          "histogram2d": [
           {
            "colorbar": {
             "outlinewidth": 0,
             "ticks": ""
            },
            "colorscale": [
             [
              0,
              "#0d0887"
             ],
             [
              0.1111111111111111,
              "#46039f"
             ],
             [
              0.2222222222222222,
              "#7201a8"
             ],
             [
              0.3333333333333333,
              "#9c179e"
             ],
             [
              0.4444444444444444,
              "#bd3786"
             ],
             [
              0.5555555555555556,
              "#d8576b"
             ],
             [
              0.6666666666666666,
              "#ed7953"
             ],
             [
              0.7777777777777778,
              "#fb9f3a"
             ],
             [
              0.8888888888888888,
              "#fdca26"
             ],
             [
              1,
              "#f0f921"
             ]
            ],
            "type": "histogram2d"
           }
          ],
          "histogram2dcontour": [
           {
            "colorbar": {
             "outlinewidth": 0,
             "ticks": ""
            },
            "colorscale": [
             [
              0,
              "#0d0887"
             ],
             [
              0.1111111111111111,
              "#46039f"
             ],
             [
              0.2222222222222222,
              "#7201a8"
             ],
             [
              0.3333333333333333,
              "#9c179e"
             ],
             [
              0.4444444444444444,
              "#bd3786"
             ],
             [
              0.5555555555555556,
              "#d8576b"
             ],
             [
              0.6666666666666666,
              "#ed7953"
             ],
             [
              0.7777777777777778,
              "#fb9f3a"
             ],
             [
              0.8888888888888888,
              "#fdca26"
             ],
             [
              1,
              "#f0f921"
             ]
            ],
            "type": "histogram2dcontour"
           }
          ],
          "mesh3d": [
           {
            "colorbar": {
             "outlinewidth": 0,
             "ticks": ""
            },
            "type": "mesh3d"
           }
          ],
          "parcoords": [
           {
            "line": {
             "colorbar": {
              "outlinewidth": 0,
              "ticks": ""
             }
            },
            "type": "parcoords"
           }
          ],
          "pie": [
           {
            "automargin": true,
            "type": "pie"
           }
          ],
          "scatter": [
           {
            "marker": {
             "colorbar": {
              "outlinewidth": 0,
              "ticks": ""
             }
            },
            "type": "scatter"
           }
          ],
          "scatter3d": [
           {
            "line": {
             "colorbar": {
              "outlinewidth": 0,
              "ticks": ""
             }
            },
            "marker": {
             "colorbar": {
              "outlinewidth": 0,
              "ticks": ""
             }
            },
            "type": "scatter3d"
           }
          ],
          "scattercarpet": [
           {
            "marker": {
             "colorbar": {
              "outlinewidth": 0,
              "ticks": ""
             }
            },
            "type": "scattercarpet"
           }
          ],
          "scattergeo": [
           {
            "marker": {
             "colorbar": {
              "outlinewidth": 0,
              "ticks": ""
             }
            },
            "type": "scattergeo"
           }
          ],
          "scattergl": [
           {
            "marker": {
             "colorbar": {
              "outlinewidth": 0,
              "ticks": ""
             }
            },
            "type": "scattergl"
           }
          ],
          "scattermapbox": [
           {
            "marker": {
             "colorbar": {
              "outlinewidth": 0,
              "ticks": ""
             }
            },
            "type": "scattermapbox"
           }
          ],
          "scatterpolar": [
           {
            "marker": {
             "colorbar": {
              "outlinewidth": 0,
              "ticks": ""
             }
            },
            "type": "scatterpolar"
           }
          ],
          "scatterpolargl": [
           {
            "marker": {
             "colorbar": {
              "outlinewidth": 0,
              "ticks": ""
             }
            },
            "type": "scatterpolargl"
           }
          ],
          "scatterternary": [
           {
            "marker": {
             "colorbar": {
              "outlinewidth": 0,
              "ticks": ""
             }
            },
            "type": "scatterternary"
           }
          ],
          "surface": [
           {
            "colorbar": {
             "outlinewidth": 0,
             "ticks": ""
            },
            "colorscale": [
             [
              0,
              "#0d0887"
             ],
             [
              0.1111111111111111,
              "#46039f"
             ],
             [
              0.2222222222222222,
              "#7201a8"
             ],
             [
              0.3333333333333333,
              "#9c179e"
             ],
             [
              0.4444444444444444,
              "#bd3786"
             ],
             [
              0.5555555555555556,
              "#d8576b"
             ],
             [
              0.6666666666666666,
              "#ed7953"
             ],
             [
              0.7777777777777778,
              "#fb9f3a"
             ],
             [
              0.8888888888888888,
              "#fdca26"
             ],
             [
              1,
              "#f0f921"
             ]
            ],
            "type": "surface"
           }
          ],
          "table": [
           {
            "cells": {
             "fill": {
              "color": "#EBF0F8"
             },
             "line": {
              "color": "white"
             }
            },
            "header": {
             "fill": {
              "color": "#C8D4E3"
             },
             "line": {
              "color": "white"
             }
            },
            "type": "table"
           }
          ]
         },
         "layout": {
          "annotationdefaults": {
           "arrowcolor": "#2a3f5f",
           "arrowhead": 0,
           "arrowwidth": 1
          },
          "autotypenumbers": "strict",
          "coloraxis": {
           "colorbar": {
            "outlinewidth": 0,
            "ticks": ""
           }
          },
          "colorscale": {
           "diverging": [
            [
             0,
             "#8e0152"
            ],
            [
             0.1,
             "#c51b7d"
            ],
            [
             0.2,
             "#de77ae"
            ],
            [
             0.3,
             "#f1b6da"
            ],
            [
             0.4,
             "#fde0ef"
            ],
            [
             0.5,
             "#f7f7f7"
            ],
            [
             0.6,
             "#e6f5d0"
            ],
            [
             0.7,
             "#b8e186"
            ],
            [
             0.8,
             "#7fbc41"
            ],
            [
             0.9,
             "#4d9221"
            ],
            [
             1,
             "#276419"
            ]
           ],
           "sequential": [
            [
             0,
             "#0d0887"
            ],
            [
             0.1111111111111111,
             "#46039f"
            ],
            [
             0.2222222222222222,
             "#7201a8"
            ],
            [
             0.3333333333333333,
             "#9c179e"
            ],
            [
             0.4444444444444444,
             "#bd3786"
            ],
            [
             0.5555555555555556,
             "#d8576b"
            ],
            [
             0.6666666666666666,
             "#ed7953"
            ],
            [
             0.7777777777777778,
             "#fb9f3a"
            ],
            [
             0.8888888888888888,
             "#fdca26"
            ],
            [
             1,
             "#f0f921"
            ]
           ],
           "sequentialminus": [
            [
             0,
             "#0d0887"
            ],
            [
             0.1111111111111111,
             "#46039f"
            ],
            [
             0.2222222222222222,
             "#7201a8"
            ],
            [
             0.3333333333333333,
             "#9c179e"
            ],
            [
             0.4444444444444444,
             "#bd3786"
            ],
            [
             0.5555555555555556,
             "#d8576b"
            ],
            [
             0.6666666666666666,
             "#ed7953"
            ],
            [
             0.7777777777777778,
             "#fb9f3a"
            ],
            [
             0.8888888888888888,
             "#fdca26"
            ],
            [
             1,
             "#f0f921"
            ]
           ]
          },
          "colorway": [
           "#636efa",
           "#EF553B",
           "#00cc96",
           "#ab63fa",
           "#FFA15A",
           "#19d3f3",
           "#FF6692",
           "#B6E880",
           "#FF97FF",
           "#FECB52"
          ],
          "font": {
           "color": "#2a3f5f"
          },
          "geo": {
           "bgcolor": "white",
           "lakecolor": "white",
           "landcolor": "#E5ECF6",
           "showlakes": true,
           "showland": true,
           "subunitcolor": "white"
          },
          "hoverlabel": {
           "align": "left"
          },
          "hovermode": "closest",
          "mapbox": {
           "style": "light"
          },
          "paper_bgcolor": "white",
          "plot_bgcolor": "#E5ECF6",
          "polar": {
           "angularaxis": {
            "gridcolor": "white",
            "linecolor": "white",
            "ticks": ""
           },
           "bgcolor": "#E5ECF6",
           "radialaxis": {
            "gridcolor": "white",
            "linecolor": "white",
            "ticks": ""
           }
          },
          "scene": {
           "xaxis": {
            "backgroundcolor": "#E5ECF6",
            "gridcolor": "white",
            "gridwidth": 2,
            "linecolor": "white",
            "showbackground": true,
            "ticks": "",
            "zerolinecolor": "white"
           },
           "yaxis": {
            "backgroundcolor": "#E5ECF6",
            "gridcolor": "white",
            "gridwidth": 2,
            "linecolor": "white",
            "showbackground": true,
            "ticks": "",
            "zerolinecolor": "white"
           },
           "zaxis": {
            "backgroundcolor": "#E5ECF6",
            "gridcolor": "white",
            "gridwidth": 2,
            "linecolor": "white",
            "showbackground": true,
            "ticks": "",
            "zerolinecolor": "white"
           }
          },
          "shapedefaults": {
           "line": {
            "color": "#2a3f5f"
           }
          },
          "ternary": {
           "aaxis": {
            "gridcolor": "white",
            "linecolor": "white",
            "ticks": ""
           },
           "baxis": {
            "gridcolor": "white",
            "linecolor": "white",
            "ticks": ""
           },
           "bgcolor": "#E5ECF6",
           "caxis": {
            "gridcolor": "white",
            "linecolor": "white",
            "ticks": ""
           }
          },
          "title": {
           "x": 0.05
          },
          "xaxis": {
           "automargin": true,
           "gridcolor": "white",
           "linecolor": "white",
           "ticks": "",
           "title": {
            "standoff": 15
           },
           "zerolinecolor": "white",
           "zerolinewidth": 2
          },
          "yaxis": {
           "automargin": true,
           "gridcolor": "white",
           "linecolor": "white",
           "ticks": "",
           "title": {
            "standoff": 15
           },
           "zerolinecolor": "white",
           "zerolinewidth": 2
          }
         }
        },
        "title": {
         "font": {
          "color": "#4D5663"
         },
         "text": "Normalised pitch class count distributions of all pieces"
        },
        "xaxis": {
         "gridcolor": "#E1E5ED",
         "showgrid": true,
         "tickfont": {
          "color": "#4D5663"
         },
         "title": {
          "font": {
           "color": "#4D5663"
          },
          "text": "Chromatic pitch class"
         },
         "zerolinecolor": "#E1E5ED"
        },
        "yaxis": {
         "gridcolor": "#E1E5ED",
         "showgrid": true,
         "tickfont": {
          "color": "#4D5663"
         },
         "title": {
          "font": {
           "color": "#4D5663"
          },
          "text": "Fraction of piece's note count"
         },
         "zerolinecolor": "#E1E5ED"
        }
       }
      },
      "text/html": [
       "<div>                            <div id=\"0399477f-5504-4870-88ce-7b3fd28b4f8c\" class=\"plotly-graph-div\" style=\"height:525px; width:100%;\"></div>            <script type=\"text/javascript\">                require([\"plotly\"], function(Plotly) {                    window.PLOTLYENV=window.PLOTLYENV || {};\n",
       "                    window.PLOTLYENV.BASE_URL='https://plot.ly';                                    if (document.getElementById(\"0399477f-5504-4870-88ce-7b3fd28b4f8c\")) {                    Plotly.newPlot(                        \"0399477f-5504-4870-88ce-7b3fd28b4f8c\",                        [{\"line\": {\"color\": \"rgba(255, 153, 51, 1.0)\", \"dash\": \"solid\", \"shape\": \"linear\", \"width\": 1.3}, \"mode\": \"lines\", \"name\": \"0\", \"text\": \"\", \"type\": \"scatter\", \"x\": [0, 1, 2, 3, 4, 5, 6, 7, 8, 9, 10, 11], \"y\": [0.002306805074971165, 0.13379469434832755, 0.11649365628604383, 0.02306805074971165, 0.15455594002306805, 0.010380622837370242, 0.1314878892733564, 0.02306805074971165, 0.10380622837370242, 0.14648212226066898, 0.014994232987312572, 0.1395617070357555]}, {\"line\": {\"color\": \"rgba(55, 128, 191, 1.0)\", \"dash\": \"solid\", \"shape\": \"linear\", \"width\": 1.3}, \"mode\": \"lines\", \"name\": \"1\", \"text\": \"\", \"type\": \"scatter\", \"x\": [0, 1, 2, 3, 4, 5, 6, 7, 8, 9, 10, 11], \"y\": [0.0102880658436214, 0.1286008230452675, 0.06995884773662552, 0.047325102880658436, 0.15534979423868311, 0.01131687242798354, 0.13065843621399176, 0.01748971193415638, 0.11625514403292181, 0.1440329218106996, 0.029835390946502057, 0.1388888888888889]}, {\"line\": {\"color\": \"rgba(50, 171, 96, 1.0)\", \"dash\": \"solid\", \"shape\": \"linear\", \"width\": 1.3}, \"mode\": \"lines\", \"name\": \"2\", \"text\": \"\", \"type\": \"scatter\", \"x\": [0, 1, 2, 3, 4, 5, 6, 7, 8, 9, 10, 11], \"y\": [\"\", 0.12690355329949238, 0.07614213197969544, 0.03553299492385787, 0.1598984771573604, 0.012690355329949238, 0.12944162436548223, \"\", 0.12690355329949238, 0.1700507614213198, 0.005076142131979695, 0.15736040609137056]}, {\"line\": {\"color\": \"rgba(128, 0, 128, 1.0)\", \"dash\": \"solid\", \"shape\": \"linear\", \"width\": 1.3}, \"mode\": \"lines\", \"name\": \"3\", \"text\": \"\", \"type\": \"scatter\", \"x\": [0, 1, 2, 3, 4, 5, 6, 7, 8, 9, 10, 11], \"y\": [\"\", 0.14558472553699284, 0.0954653937947494, 0.014319809069212411, 0.15990453460620524, \"\", 0.11694510739856802, 0.045346062052505964, 0.06682577565632458, 0.15035799522673032, 0.02386634844868735, 0.18138424821002386]}, {\"line\": {\"color\": \"rgba(219, 64, 82, 1.0)\", \"dash\": \"solid\", \"shape\": \"linear\", \"width\": 1.3}, \"mode\": \"lines\", \"name\": \"4\", \"text\": \"\", \"type\": \"scatter\", \"x\": [0, 1, 2, 3, 4, 5, 6, 7, 8, 9, 10, 11], \"y\": [\"\", 0.136, 0.114, 0.02, 0.166, \"\", 0.12, 0.042, 0.076, 0.138, 0.024, 0.164]}, {\"line\": {\"color\": \"rgba(0, 128, 128, 1.0)\", \"dash\": \"solid\", \"shape\": \"linear\", \"width\": 1.3}, \"mode\": \"lines\", \"name\": \"5\", \"text\": \"\", \"type\": \"scatter\", \"x\": [0, 1, 2, 3, 4, 5, 6, 7, 8, 9, 10, 11], \"y\": [\"\", 0.12698412698412698, 0.0992063492063492, 0.015873015873015872, 0.17063492063492064, \"\", 0.1130952380952381, 0.03968253968253968, 0.07142857142857142, 0.16468253968253968, 0.017857142857142856, 0.18055555555555555]}, {\"line\": {\"color\": \"rgba(255, 255, 51, 1.0)\", \"dash\": \"solid\", \"shape\": \"linear\", \"width\": 1.3}, \"mode\": \"lines\", \"name\": \"6\", \"text\": \"\", \"type\": \"scatter\", \"x\": [0, 1, 2, 3, 4, 5, 6, 7, 8, 9, 10, 11], \"y\": [0.017582417582417582, 0.11648351648351649, 0.14065934065934066, 0.01098901098901099, 0.17802197802197803, 0.015384615384615385, 0.10989010989010989, 0.04835164835164835, 0.06153846153846154, 0.14285714285714285, 0.013186813186813187, 0.14505494505494507]}, {\"line\": {\"color\": \"rgba(128, 128, 0, 1.0)\", \"dash\": \"solid\", \"shape\": \"linear\", \"width\": 1.3}, \"mode\": \"lines\", \"name\": \"7\", \"text\": \"\", \"type\": \"scatter\", \"x\": [0, 1, 2, 3, 4, 5, 6, 7, 8, 9, 10, 11], \"y\": [\"\", 0.16202090592334495, 0.10452961672473868, 0.020905923344947737, 0.16376306620209058, 0.0017421602787456446, 0.09059233449477352, 0.013937282229965157, 0.08710801393728224, 0.17247386759581881, 0.005226480836236934, 0.17770034843205576]}, {\"line\": {\"color\": \"rgba(251, 128, 114, 1.0)\", \"dash\": \"solid\", \"shape\": \"linear\", \"width\": 1.3}, \"mode\": \"lines\", \"name\": \"8\", \"text\": \"\", \"type\": \"scatter\", \"x\": [0, 1, 2, 3, 4, 5, 6, 7, 8, 9, 10, 11], \"y\": [0.13151927437641722, 0.009070294784580499, 0.12471655328798185, 0.006802721088435374, 0.17006802721088435, 0.09523809523809523, 0.031746031746031744, 0.07256235827664399, 0.047619047619047616, 0.1564625850340136, 0.0045351473922902496, 0.14965986394557823]}, {\"line\": {\"color\": \"rgba(128, 177, 211, 1.0)\", \"dash\": \"solid\", \"shape\": \"linear\", \"width\": 1.3}, \"mode\": \"lines\", \"name\": \"9\", \"text\": \"\", \"type\": \"scatter\", \"x\": [0, 1, 2, 3, 4, 5, 6, 7, 8, 9, 10, 11], \"y\": [0.0024937655860349127, 0.11097256857855362, 0.1084788029925187, 0.029925187032418952, 0.17206982543640897, \"\", 0.13216957605985039, 0.028678304239401497, 0.10349127182044887, 0.1546134663341646, 0.006234413965087282, 0.15087281795511223]}, {\"line\": {\"color\": \"rgba(128, 177, 211, 0.9148936170212765)\", \"dash\": \"solid\", \"shape\": \"linear\", \"width\": 1.3}, \"mode\": \"lines\", \"name\": \"10\", \"text\": \"\", \"type\": \"scatter\", \"x\": [0, 1, 2, 3, 4, 5, 6, 7, 8, 9, 10, 11], \"y\": [0.12544455221467832, 0.013579049466537343, 0.12738441642418363, 0.0158422243776269, 0.16424183640478499, 0.05916585838991271, 0.058195926285160036, 0.08050436469447139, 0.06369220821209182, 0.13579049466537343, 0.005172971225347559, 0.15098609763983187]}, {\"line\": {\"color\": \"rgba(255, 153, 51, 0.9148936170212765)\", \"dash\": \"solid\", \"shape\": \"linear\", \"width\": 1.3}, \"mode\": \"lines\", \"name\": \"11\", \"text\": \"\", \"type\": \"scatter\", \"x\": [0, 1, 2, 3, 4, 5, 6, 7, 8, 9, 10, 11], \"y\": [0.10318664643399089, 0.027314112291350532, 0.10773899848254932, 0.013657056145675266, 0.14871016691957512, 0.07132018209408195, 0.04704097116843703, 0.08952959028831563, 0.05311077389984825, 0.17147192716236723, 0.013657056145675266, 0.15326251896813353]}, {\"line\": {\"color\": \"rgba(55, 128, 191, 0.9148936170212765)\", \"dash\": \"solid\", \"shape\": \"linear\", \"width\": 1.3}, \"mode\": \"lines\", \"name\": \"12\", \"text\": \"\", \"type\": \"scatter\", \"x\": [0, 1, 2, 3, 4, 5, 6, 7, 8, 9, 10, 11], \"y\": [0.14349775784753363, 0.011210762331838564, 0.1412556053811659, \"\", 0.16143497757847533, 0.10762331838565023, 0.01569506726457399, 0.1031390134529148, 0.03811659192825112, 0.1591928251121076, 0.017937219730941704, 0.10089686098654709]}, {\"line\": {\"color\": \"rgba(50, 171, 96, 0.9148936170212765)\", \"dash\": \"solid\", \"shape\": \"linear\", \"width\": 1.3}, \"mode\": \"lines\", \"name\": \"13\", \"text\": \"\", \"type\": \"scatter\", \"x\": [0, 1, 2, 3, 4, 5, 6, 7, 8, 9, 10, 11], \"y\": [0.14084507042253522, 0.008450704225352112, 0.09295774647887324, 0.02535211267605634, 0.19436619718309858, 0.09014084507042254, 0.036619718309859155, 0.12394366197183099, 0.022535211267605635, 0.13802816901408452, 0.016901408450704224, 0.10985915492957747]}, {\"line\": {\"color\": \"rgba(128, 0, 128, 0.9148936170212765)\", \"dash\": \"solid\", \"shape\": \"linear\", \"width\": 1.3}, \"mode\": \"lines\", \"name\": \"14\", \"text\": \"\", \"type\": \"scatter\", \"x\": [0, 1, 2, 3, 4, 5, 6, 7, 8, 9, 10, 11], \"y\": [0.14084507042253522, 0.01643192488262911, 0.09154929577464789, 0.03051643192488263, 0.176056338028169, 0.09154929577464789, 0.03286384976525822, 0.11971830985915492, 0.023474178403755867, 0.14084507042253522, 0.03051643192488263, 0.1056338028169014]}, {\"line\": {\"color\": \"rgba(219, 64, 82, 0.9148936170212765)\", \"dash\": \"solid\", \"shape\": \"linear\", \"width\": 1.3}, \"mode\": \"lines\", \"name\": \"15\", \"text\": \"\", \"type\": \"scatter\", \"x\": [0, 1, 2, 3, 4, 5, 6, 7, 8, 9, 10, 11], \"y\": [0.11360448807854137, 0.012622720897615708, 0.11781206171107994, 0.02244039270687237, 0.18092566619915848, 0.06311360448807854, 0.043478260869565216, 0.08976157082748948, 0.028050490883590462, 0.1767180925666199, 0.009817671809256662, 0.14165497896213183]}, {\"line\": {\"color\": \"rgba(0, 128, 128, 0.9148936170212765)\", \"dash\": \"solid\", \"shape\": \"linear\", \"width\": 1.3}, \"mode\": \"lines\", \"name\": \"16\", \"text\": \"\", \"type\": \"scatter\", \"x\": [0, 1, 2, 3, 4, 5, 6, 7, 8, 9, 10, 11], \"y\": [\"\", 0.14935064935064934, 0.1038961038961039, 0.022727272727272728, 0.17532467532467533, 0.01948051948051948, 0.1038961038961039, 0.022727272727272728, 0.09090909090909091, 0.16558441558441558, 0.006493506493506494, 0.1396103896103896]}, {\"line\": {\"color\": \"rgba(255, 255, 51, 0.9148936170212765)\", \"dash\": \"solid\", \"shape\": \"linear\", \"width\": 1.3}, \"mode\": \"lines\", \"name\": \"17\", \"text\": \"\", \"type\": \"scatter\", \"x\": [0, 1, 2, 3, 4, 5, 6, 7, 8, 9, 10, 11], \"y\": [0.13391739674593242, 0.02002503128911139, 0.10012515644555695, 0.02753441802252816, 0.16645807259073842, 0.06758448060075094, 0.05506883604505632, 0.13016270337922403, 0.02252816020025031, 0.14893617021276595, 0.0025031289111389237, 0.1251564455569462]}, {\"line\": {\"color\": \"rgba(128, 128, 0, 0.9148936170212765)\", \"dash\": \"solid\", \"shape\": \"linear\", \"width\": 1.3}, \"mode\": \"lines\", \"name\": \"18\", \"text\": \"\", \"type\": \"scatter\", \"x\": [0, 1, 2, 3, 4, 5, 6, 7, 8, 9, 10, 11], \"y\": [0.11818578281726995, 0.023549934583515047, 0.15743567378979503, 0.08155255124291322, 0.04404709986916703, 0.10859136502398604, 0.03619712167466201, 0.14129960750109027, 0.02398604448320977, 0.12167466201482774, 0.12865242040994332, 0.014827736589620584]}, {\"line\": {\"color\": \"rgba(251, 128, 114, 0.9148936170212765)\", \"dash\": \"solid\", \"shape\": \"linear\", \"width\": 1.3}, \"mode\": \"lines\", \"name\": \"19\", \"text\": \"\", \"type\": \"scatter\", \"x\": [0, 1, 2, 3, 4, 5, 6, 7, 8, 9, 10, 11], \"y\": [0.12641815235008103, 0.014586709886547812, 0.17341977309562398, 0.10048622366288493, 0.03241491085899514, 0.07293354943273905, 0.04862236628849271, 0.15235008103727715, 0.014586709886547812, 0.12965964343598055, 0.11831442463533225, 0.01620745542949757]}, {\"line\": {\"color\": \"rgba(251, 128, 114, 0.8297872340425532)\", \"dash\": \"solid\", \"shape\": \"linear\", \"width\": 1.3}, \"mode\": \"lines\", \"name\": \"20\", \"text\": \"\", \"type\": \"scatter\", \"x\": [0, 1, 2, 3, 4, 5, 6, 7, 8, 9, 10, 11], \"y\": [0.1254295532646048, 0.012027491408934709, 0.16494845360824742, 0.08762886597938144, 0.027491408934707903, 0.07731958762886598, 0.048109965635738834, 0.16838487972508592, 0.013745704467353952, 0.12886597938144329, 0.12886597938144329, 0.01718213058419244]}, {\"line\": {\"color\": \"rgba(128, 177, 211, 0.8297872340425532)\", \"dash\": \"solid\", \"shape\": \"linear\", \"width\": 1.3}, \"mode\": \"lines\", \"name\": \"21\", \"text\": \"\", \"type\": \"scatter\", \"x\": [0, 1, 2, 3, 4, 5, 6, 7, 8, 9, 10, 11], \"y\": [0.09523809523809523, 0.040293040293040296, 0.11355311355311355, 0.07692307692307693, 0.054945054945054944, 0.08058608058608059, 0.06227106227106227, 0.18681318681318682, 0.04395604395604396, 0.10256410256410256, 0.0989010989010989, 0.04395604395604396]}, {\"line\": {\"color\": \"rgba(255, 153, 51, 0.8297872340425532)\", \"dash\": \"solid\", \"shape\": \"linear\", \"width\": 1.3}, \"mode\": \"lines\", \"name\": \"22\", \"text\": \"\", \"type\": \"scatter\", \"x\": [0, 1, 2, 3, 4, 5, 6, 7, 8, 9, 10, 11], \"y\": [0.09641873278236915, 0.03856749311294766, 0.11570247933884298, 0.07988980716253444, 0.04132231404958678, 0.09366391184573003, 0.049586776859504134, 0.18457300275482094, 0.05785123966942149, 0.09917355371900827, 0.10192837465564739, 0.04132231404958678]}, {\"line\": {\"color\": \"rgba(55, 128, 191, 0.8297872340425532)\", \"dash\": \"solid\", \"shape\": \"linear\", \"width\": 1.3}, \"mode\": \"lines\", \"name\": \"23\", \"text\": \"\", \"type\": \"scatter\", \"x\": [0, 1, 2, 3, 4, 5, 6, 7, 8, 9, 10, 11], \"y\": [0.10372340425531915, 0.010638297872340425, 0.1595744680851064, 0.05851063829787234, 0.0425531914893617, 0.08244680851063829, 0.03723404255319149, 0.22340425531914893, 0.0026595744680851063, 0.1356382978723404, 0.13297872340425532, 0.010638297872340425]}, {\"line\": {\"color\": \"rgba(50, 171, 96, 0.8297872340425532)\", \"dash\": \"solid\", \"shape\": \"linear\", \"width\": 1.3}, \"mode\": \"lines\", \"name\": \"24\", \"text\": \"\", \"type\": \"scatter\", \"x\": [0, 1, 2, 3, 4, 5, 6, 7, 8, 9, 10, 11], \"y\": [0.15819209039548024, \"\", 0.1751412429378531, \"\", 0.062146892655367235, \"\", 0.05649717514124294, 0.22033898305084745, \"\", 0.13559322033898305, \"\", 0.192090395480226]}, {\"line\": {\"color\": \"rgba(128, 0, 128, 0.8297872340425532)\", \"dash\": \"solid\", \"shape\": \"linear\", \"width\": 1.3}, \"mode\": \"lines\", \"name\": \"25\", \"text\": \"\", \"type\": \"scatter\", \"x\": [0, 1, 2, 3, 4, 5, 6, 7, 8, 9, 10, 11], \"y\": [0.10538373424971363, 0.029782359679266894, 0.16265750286368844, 0.054982817869415807, 0.08247422680412371, 0.08247422680412371, 0.043528064146620846, 0.1660939289805269, 0.010309278350515464, 0.13745704467353953, 0.10767468499427263, 0.01718213058419244]}, {\"line\": {\"color\": \"rgba(219, 64, 82, 0.8297872340425532)\", \"dash\": \"solid\", \"shape\": \"linear\", \"width\": 1.3}, \"mode\": \"lines\", \"name\": \"26\", \"text\": \"\", \"type\": \"scatter\", \"x\": [0, 1, 2, 3, 4, 5, 6, 7, 8, 9, 10, 11], \"y\": [0.16328635269852182, 0.008250257820556892, 0.12616019250601582, 0.024407012719147473, 0.10037813681677553, 0.14987968374011687, 0.0089377793056033, 0.14094190443451357, 0.009281540048126504, 0.13166036438638706, 0.09144035751117223, 0.04537641801306291]}, {\"line\": {\"color\": \"rgba(0, 128, 128, 0.8297872340425532)\", \"dash\": \"solid\", \"shape\": \"linear\", \"width\": 1.3}, \"mode\": \"lines\", \"name\": \"27\", \"text\": \"\", \"type\": \"scatter\", \"x\": [0, 1, 2, 3, 4, 5, 6, 7, 8, 9, 10, 11], \"y\": [0.16010854816824965, 0.008141112618724558, 0.10176390773405698, 0.010854816824966078, 0.09362279511533243, 0.15061058344640435, 0.016282225237449117, 0.16824966078697423, 0.0067842605156037995, 0.1451831750339213, 0.0773405698778833, 0.06105834464043419]}, {\"line\": {\"color\": \"rgba(255, 255, 51, 0.8297872340425532)\", \"dash\": \"solid\", \"shape\": \"linear\", \"width\": 1.3}, \"mode\": \"lines\", \"name\": \"28\", \"text\": \"\", \"type\": \"scatter\", \"x\": [0, 1, 2, 3, 4, 5, 6, 7, 8, 9, 10, 11], \"y\": [0.17191977077363896, 0.0028653295128939827, 0.12607449856733524, 0.022922636103151862, 0.10028653295128939, 0.15759312320916904, 0.014326647564469915, 0.1518624641833811, \"\", 0.12893982808022922, 0.10888252148997135, 0.014326647564469915]}, {\"line\": {\"color\": \"rgba(128, 128, 0, 0.8297872340425532)\", \"dash\": \"solid\", \"shape\": \"linear\", \"width\": 1.3}, \"mode\": \"lines\", \"name\": \"29\", \"text\": \"\", \"type\": \"scatter\", \"x\": [0, 1, 2, 3, 4, 5, 6, 7, 8, 9, 10, 11], \"y\": [0.18208955223880596, 0.01791044776119403, 0.12238805970149254, 0.03582089552238806, 0.07164179104477612, 0.1582089552238806, 0.008955223880597015, 0.1582089552238806, 0.014925373134328358, 0.11044776119402985, 0.08656716417910448, 0.03283582089552239]}, {\"line\": {\"color\": \"rgba(128, 128, 0, 0.7446808510638296)\", \"dash\": \"solid\", \"shape\": \"linear\", \"width\": 1.3}, \"mode\": \"lines\", \"name\": \"30\", \"text\": \"\", \"type\": \"scatter\", \"x\": [0, 1, 2, 3, 4, 5, 6, 7, 8, 9, 10, 11], \"y\": [0.12944983818770225, 0.016181229773462782, 0.13268608414239483, 0.006472491909385114, 0.12944983818770225, 0.20064724919093851, 0.003236245954692557, 0.1488673139158576, \"\", 0.1262135922330097, 0.08414239482200647, 0.022653721682847898]}, {\"line\": {\"color\": \"rgba(251, 128, 114, 0.7446808510638296)\", \"dash\": \"solid\", \"shape\": \"linear\", \"width\": 1.3}, \"mode\": \"lines\", \"name\": \"31\", \"text\": \"\", \"type\": \"scatter\", \"x\": [0, 1, 2, 3, 4, 5, 6, 7, 8, 9, 10, 11], \"y\": [0.05787781350482315, 0.06109324758842444, 0.1864951768488746, 0.012861736334405145, 0.13504823151125403, 0.14469453376205788, \"\", 0.12218649517684887, \"\", 0.17363344051446947, 0.07717041800643087, 0.028938906752411574]}, {\"line\": {\"color\": \"rgba(128, 177, 211, 0.7446808510638296)\", \"dash\": \"solid\", \"shape\": \"linear\", \"width\": 1.3}, \"mode\": \"lines\", \"name\": \"32\", \"text\": \"\", \"type\": \"scatter\", \"x\": [0, 1, 2, 3, 4, 5, 6, 7, 8, 9, 10, 11], \"y\": [0.15627996164908917, 0.016299137104506232, 0.14093959731543623, 0.00862895493767977, 0.10546500479386385, 0.14285714285714285, 0.023010546500479387, 0.13135186960690318, \"\", 0.16586768935762225, 0.07861936720997123, 0.030680728667305847]}, {\"line\": {\"color\": \"rgba(255, 153, 51, 0.7446808510638296)\", \"dash\": \"solid\", \"shape\": \"linear\", \"width\": 1.3}, \"mode\": \"lines\", \"name\": \"33\", \"text\": \"\", \"type\": \"scatter\", \"x\": [0, 1, 2, 3, 4, 5, 6, 7, 8, 9, 10, 11], \"y\": [0.07461792028768355, 0.05693736889421636, 0.08930176805513934, 0.04135451003895715, 0.1531315552891819, 0.012286484866646689, 0.1384477075217261, 0.12166616721606233, 0.01678154030566377, 0.11627210068924183, 0.025172310458495654, 0.1540305663769853]}, {\"line\": {\"color\": \"rgba(55, 128, 191, 0.7446808510638296)\", \"dash\": \"solid\", \"shape\": \"linear\", \"width\": 1.3}, \"mode\": \"lines\", \"name\": \"34\", \"text\": \"\", \"type\": \"scatter\", \"x\": [0, 1, 2, 3, 4, 5, 6, 7, 8, 9, 10, 11], \"y\": [0.05307262569832402, 0.07960893854748603, 0.0782122905027933, 0.046089385474860335, 0.1787709497206704, 0.009776536312849162, 0.1340782122905028, 0.1005586592178771, 0.0223463687150838, 0.10754189944134078, 0.03910614525139665, 0.15083798882681565]}, {\"line\": {\"color\": \"rgba(50, 171, 96, 0.7446808510638296)\", \"dash\": \"solid\", \"shape\": \"linear\", \"width\": 1.3}, \"mode\": \"lines\", \"name\": \"35\", \"text\": \"\", \"type\": \"scatter\", \"x\": [0, 1, 2, 3, 4, 5, 6, 7, 8, 9, 10, 11], \"y\": [0.053703703703703705, 0.053703703703703705, 0.0962962962962963, 0.05, 0.17037037037037037, 0.005555555555555556, 0.13518518518518519, 0.12037037037037036, 0.014814814814814815, 0.13518518518518519, 0.005555555555555556, 0.15925925925925927]}, {\"line\": {\"color\": \"rgba(128, 0, 128, 0.7446808510638296)\", \"dash\": \"solid\", \"shape\": \"linear\", \"width\": 1.3}, \"mode\": \"lines\", \"name\": \"36\", \"text\": \"\", \"type\": \"scatter\", \"x\": [0, 1, 2, 3, 4, 5, 6, 7, 8, 9, 10, 11], \"y\": [0.05569007263922518, 0.05084745762711865, 0.09685230024213075, 0.031476997578692496, 0.15254237288135594, 0.021791767554479417, 0.12832929782082325, 0.12106537530266344, 0.04116222760290557, 0.13317191283292978, 0.007263922518159807, 0.15980629539951574]}, {\"line\": {\"color\": \"rgba(219, 64, 82, 0.7446808510638296)\", \"dash\": \"solid\", \"shape\": \"linear\", \"width\": 1.3}, \"mode\": \"lines\", \"name\": \"37\", \"text\": \"\", \"type\": \"scatter\", \"x\": [0, 1, 2, 3, 4, 5, 6, 7, 8, 9, 10, 11], \"y\": [0.06064880112834979, 0.021156558533145273, 0.06064880112834979, 0.03244005641748942, 0.17348377997179126, 0.007052186177715092, 0.16502115655853314, 0.16502115655853314, 0.011283497884344146, 0.1368124118476728, 0.005641748942172073, 0.1607898448519041]}, {\"line\": {\"color\": \"rgba(0, 128, 128, 0.7446808510638296)\", \"dash\": \"solid\", \"shape\": \"linear\", \"width\": 1.3}, \"mode\": \"lines\", \"name\": \"38\", \"text\": \"\", \"type\": \"scatter\", \"x\": [0, 1, 2, 3, 4, 5, 6, 7, 8, 9, 10, 11], \"y\": [\"\", 0.09090909090909091, 0.004545454545454545, 0.08636363636363636, 0.19545454545454546, \"\", 0.16363636363636364, \"\", 0.14545454545454545, 0.12272727272727273, 0.03636363636363636, 0.15454545454545454]}, {\"line\": {\"color\": \"rgba(255, 255, 51, 0.7446808510638296)\", \"dash\": \"solid\", \"shape\": \"linear\", \"width\": 1.3}, \"mode\": \"lines\", \"name\": \"39\", \"text\": \"\", \"type\": \"scatter\", \"x\": [0, 1, 2, 3, 4, 5, 6, 7, 8, 9, 10, 11], \"y\": [0.06762749445676275, 0.05543237250554324, 0.08536585365853659, 0.058758314855875834, 0.1674057649667406, 0.009977827050997782, 0.13082039911308205, 0.1008869179600887, 0.024390243902439025, 0.10753880266075388, 0.02328159645232816, 0.16851441241685144]}, {\"line\": {\"color\": \"rgba(255, 255, 51, 0.6595744680851063)\", \"dash\": \"solid\", \"shape\": \"linear\", \"width\": 1.3}, \"mode\": \"lines\", \"name\": \"40\", \"text\": \"\", \"type\": \"scatter\", \"x\": [0, 1, 2, 3, 4, 5, 6, 7, 8, 9, 10, 11], \"y\": [0.10681280894046852, 0.03524607779926929, 0.14958091553836234, 0.018052869116698903, 0.12529550827423167, 0.11562432839028584, 0.024285407264130667, 0.12271652697184612, 0.015258972705781216, 0.15516870836019772, 0.07865892972275951, 0.05329894691596819]}, {\"line\": {\"color\": \"rgba(128, 128, 0, 0.6595744680851063)\", \"dash\": \"solid\", \"shape\": \"linear\", \"width\": 1.3}, \"mode\": \"lines\", \"name\": \"41\", \"text\": \"\", \"type\": \"scatter\", \"x\": [0, 1, 2, 3, 4, 5, 6, 7, 8, 9, 10, 11], \"y\": [0.07598371777476255, 0.04748982360922659, 0.14925373134328357, 0.018995929443690638, 0.13297150610583447, 0.10719131614654002, 0.0203527815468114, 0.13568521031207598, 0.023066485753052916, 0.1560379918588874, 0.0773405698778833, 0.05563093622795115]}, {\"line\": {\"color\": \"rgba(251, 128, 114, 0.6595744680851063)\", \"dash\": \"solid\", \"shape\": \"linear\", \"width\": 1.3}, \"mode\": \"lines\", \"name\": \"42\", \"text\": \"\", \"type\": \"scatter\", \"x\": [0, 1, 2, 3, 4, 5, 6, 7, 8, 9, 10, 11], \"y\": [0.09744408945686901, 0.03194888178913738, 0.15814696485623003, 0.025559105431309903, 0.11980830670926518, 0.11022364217252396, 0.02875399361022364, 0.1389776357827476, 0.009584664536741214, 0.15654952076677317, 0.09424920127795527, 0.02875399361022364]}, {\"line\": {\"color\": \"rgba(128, 177, 211, 0.6595744680851063)\", \"dash\": \"solid\", \"shape\": \"linear\", \"width\": 1.3}, \"mode\": \"lines\", \"name\": \"43\", \"text\": \"\", \"type\": \"scatter\", \"x\": [0, 1, 2, 3, 4, 5, 6, 7, 8, 9, 10, 11], \"y\": [0.07473309608540925, 0.0711743772241993, 0.15302491103202848, 0.0035587188612099642, 0.12811387900355872, 0.09252669039145907, 0.02491103202846975, 0.1387900355871886, 0.021352313167259787, 0.16725978647686832, 0.08185053380782918, 0.042704626334519574]}, {\"line\": {\"color\": \"rgba(255, 153, 51, 0.6595744680851063)\", \"dash\": \"solid\", \"shape\": \"linear\", \"width\": 1.3}, \"mode\": \"lines\", \"name\": \"44\", \"text\": \"\", \"type\": \"scatter\", \"x\": [0, 1, 2, 3, 4, 5, 6, 7, 8, 9, 10, 11], \"y\": [0.06525911708253358, 0.07869481765834933, 0.15355086372360843, 0.005758157389635317, 0.12476007677543186, 0.09980806142034548, 0.0345489443378119, 0.1381957773512476, 0.01727447216890595, 0.16122840690978887, 0.07485604606525911, 0.046065259117082535]}, {\"line\": {\"color\": \"rgba(55, 128, 191, 0.6595744680851063)\", \"dash\": \"solid\", \"shape\": \"linear\", \"width\": 1.3}, \"mode\": \"lines\", \"name\": \"45\", \"text\": \"\", \"type\": \"scatter\", \"x\": [0, 1, 2, 3, 4, 5, 6, 7, 8, 9, 10, 11], \"y\": [0.08921161825726141, 0.043568464730290454, 0.17634854771784234, 0.012448132780082987, 0.1078838174273859, 0.0954356846473029, 0.014522821576763486, 0.16390041493775934, 0.002074688796680498, 0.17012448132780084, 0.1016597510373444, 0.022821576763485476]}, {\"line\": {\"color\": \"rgba(50, 171, 96, 0.6595744680851063)\", \"dash\": \"solid\", \"shape\": \"linear\", \"width\": 1.3}, \"mode\": \"lines\", \"name\": \"46\", \"text\": \"\", \"type\": \"scatter\", \"x\": [0, 1, 2, 3, 4, 5, 6, 7, 8, 9, 10, 11], \"y\": [0.01764705882352941, 0.03823529411764706, 0.3323529411764706, \"\", 0.10588235294117647, \"\", 0.17058823529411765, 0.11176470588235295, 0.011764705882352941, 0.13823529411764707, \"\", 0.07352941176470588]}, {\"line\": {\"color\": \"rgba(128, 0, 128, 0.6595744680851063)\", \"dash\": \"solid\", \"shape\": \"linear\", \"width\": 1.3}, \"mode\": \"lines\", \"name\": \"47\", \"text\": \"\", \"type\": \"scatter\", \"x\": [0, 1, 2, 3, 4, 5, 6, 7, 8, 9, 10, 11], \"y\": [0.04990583804143126, 0.0743879472693032, 0.1497175141242938, 0.038606403013182675, 0.11770244821092278, 0.07344632768361582, 0.04519774011299435, 0.08192090395480225, 0.04990583804143126, 0.18267419962335216, 0.07532956685499058, 0.06120527306967985]}, {\"line\": {\"color\": \"rgba(219, 64, 82, 0.6595744680851063)\", \"dash\": \"solid\", \"shape\": \"linear\", \"width\": 1.3}, \"mode\": \"lines\", \"name\": \"48\", \"text\": \"\", \"type\": \"scatter\", \"x\": [0, 1, 2, 3, 4, 5, 6, 7, 8, 9, 10, 11], \"y\": [0.07108239095315025, 0.050080775444264945, 0.15024232633279483, 0.025848142164781908, 0.10177705977382875, 0.11631663974151858, 0.0210016155088853, 0.1470113085621971, 0.0032310177705977385, 0.16155088852988692, 0.13408723747980614, 0.017770597738287562]}, {\"line\": {\"color\": \"rgba(0, 128, 128, 0.6595744680851063)\", \"dash\": \"solid\", \"shape\": \"linear\", \"width\": 1.3}, \"mode\": \"lines\", \"name\": \"49\", \"text\": \"\", \"type\": \"scatter\", \"x\": [0, 1, 2, 3, 4, 5, 6, 7, 8, 9, 10, 11], \"y\": [0.08041237113402062, 0.05154639175257732, 0.15876288659793814, 0.018556701030927835, 0.10309278350515463, 0.09484536082474226, 0.03505154639175258, 0.15463917525773196, 0.002061855670103093, 0.18144329896907216, 0.09072164948453608, 0.0288659793814433]}, {\"line\": {\"color\": \"rgba(0, 128, 128, 0.5744680851063828)\", \"dash\": \"solid\", \"shape\": \"linear\", \"width\": 1.3}, \"mode\": \"lines\", \"name\": \"50\", \"text\": \"\", \"type\": \"scatter\", \"x\": [0, 1, 2, 3, 4, 5, 6, 7, 8, 9, 10, 11], \"y\": [0.05128205128205128, 0.05982905982905983, 0.16524216524216523, 0.03418803418803419, 0.10256410256410256, 0.07407407407407407, 0.042735042735042736, 0.15669515669515668, 0.014245014245014245, 0.1737891737891738, 0.1111111111111111, 0.014245014245014245]}, {\"line\": {\"color\": \"rgba(255, 255, 51, 0.5744680851063828)\", \"dash\": \"solid\", \"shape\": \"linear\", \"width\": 1.3}, \"mode\": \"lines\", \"name\": \"51\", \"text\": \"\", \"type\": \"scatter\", \"x\": [0, 1, 2, 3, 4, 5, 6, 7, 8, 9, 10, 11], \"y\": [0.0946969696969697, 0.03787878787878788, 0.1590909090909091, 0.011363636363636364, 0.10984848484848485, 0.14772727272727273, 0.007575757575757576, 0.10227272727272728, 0.015151515151515152, 0.19696969696969696, 0.07954545454545454, 0.03787878787878788]}, {\"line\": {\"color\": \"rgba(128, 128, 0, 0.5744680851063828)\", \"dash\": \"solid\", \"shape\": \"linear\", \"width\": 1.3}, \"mode\": \"lines\", \"name\": \"52\", \"text\": \"\", \"type\": \"scatter\", \"x\": [0, 1, 2, 3, 4, 5, 6, 7, 8, 9, 10, 11], \"y\": [0.07207207207207207, 0.038288288288288286, 0.12387387387387387, 0.0022522522522522522, 0.08558558558558559, 0.15990990990990991, 0.009009009009009009, 0.18243243243243243, \"\", 0.20045045045045046, 0.11486486486486487, 0.01126126126126126]}, {\"line\": {\"color\": \"rgba(251, 128, 114, 0.5744680851063828)\", \"dash\": \"solid\", \"shape\": \"linear\", \"width\": 1.3}, \"mode\": \"lines\", \"name\": \"53\", \"text\": \"\", \"type\": \"scatter\", \"x\": [0, 1, 2, 3, 4, 5, 6, 7, 8, 9, 10, 11], \"y\": [0.08056872037914692, 0.04897314375987362, 0.1769352290679305, \"\", 0.15955766192733017, 0.10900473933649289, 0.02527646129541864, 0.10584518167456557, 0.020537124802527645, 0.14691943127962084, 0.05529225908372828, 0.07109004739336493]}, {\"line\": {\"color\": \"rgba(128, 177, 211, 0.5744680851063828)\", \"dash\": \"solid\", \"shape\": \"linear\", \"width\": 1.3}, \"mode\": \"lines\", \"name\": \"54\", \"text\": \"\", \"type\": \"scatter\", \"x\": [0, 1, 2, 3, 4, 5, 6, 7, 8, 9, 10, 11], \"y\": [0.16636851520572452, 0.01967799642218247, 0.11270125223613596, 0.11091234347048301, 0.028622540250447227, 0.13237924865831843, 0.016100178890876567, 0.1592128801431127, 0.10554561717352415, 0.016100178890876567, 0.08944543828264759, 0.04293381037567084]}, {\"line\": {\"color\": \"rgba(255, 153, 51, 0.5744680851063828)\", \"dash\": \"solid\", \"shape\": \"linear\", \"width\": 1.3}, \"mode\": \"lines\", \"name\": \"55\", \"text\": \"\", \"type\": \"scatter\", \"x\": [0, 1, 2, 3, 4, 5, 6, 7, 8, 9, 10, 11], \"y\": [0.14728682170542637, 0.027131782945736434, 0.12596899224806202, 0.12790697674418605, 0.01937984496124031, 0.1298449612403101, 0.011627906976744186, 0.15891472868217055, 0.08914728682170543, 0.031007751937984496, 0.09689922480620156, 0.03488372093023256]}, {\"line\": {\"color\": \"rgba(55, 128, 191, 0.5744680851063828)\", \"dash\": \"solid\", \"shape\": \"linear\", \"width\": 1.3}, \"mode\": \"lines\", \"name\": \"56\", \"text\": \"\", \"type\": \"scatter\", \"x\": [0, 1, 2, 3, 4, 5, 6, 7, 8, 9, 10, 11], \"y\": [0.14666666666666667, 0.016, 0.10933333333333334, 0.11466666666666667, 0.02666666666666667, 0.128, 0.029333333333333333, 0.17333333333333334, 0.08533333333333333, 0.048, 0.08533333333333333, 0.037333333333333336]}, {\"line\": {\"color\": \"rgba(50, 171, 96, 0.5744680851063828)\", \"dash\": \"solid\", \"shape\": \"linear\", \"width\": 1.3}, \"mode\": \"lines\", \"name\": \"57\", \"text\": \"\", \"type\": \"scatter\", \"x\": [0, 1, 2, 3, 4, 5, 6, 7, 8, 9, 10, 11], \"y\": [0.1569620253164557, \"\", 0.13164556962025317, 0.14936708860759493, 0.012658227848101266, 0.1291139240506329, 0.010126582278481013, 0.14936708860759493, 0.07088607594936709, 0.053164556962025315, 0.07848101265822785, 0.05822784810126582]}, {\"line\": {\"color\": \"rgba(128, 0, 128, 0.5744680851063828)\", \"dash\": \"solid\", \"shape\": \"linear\", \"width\": 1.3}, \"mode\": \"lines\", \"name\": \"58\", \"text\": \"\", \"type\": \"scatter\", \"x\": [0, 1, 2, 3, 4, 5, 6, 7, 8, 9, 10, 11], \"y\": [0.13688212927756654, 0.0076045627376425855, 0.12927756653992395, 0.1482889733840304, 0.030418250950570342, 0.17490494296577946, \"\", 0.1444866920152091, 0.08745247148288973, 0.026615969581749048, 0.057034220532319393, 0.057034220532319393]}, {\"line\": {\"color\": \"rgba(219, 64, 82, 0.5744680851063828)\", \"dash\": \"solid\", \"shape\": \"linear\", \"width\": 1.3}, \"mode\": \"lines\", \"name\": \"59\", \"text\": \"\", \"type\": \"scatter\", \"x\": [0, 1, 2, 3, 4, 5, 6, 7, 8, 9, 10, 11], \"y\": [0.16964285714285715, 0.008928571428571428, 0.11383928571428571, 0.10267857142857142, 0.013392857142857142, 0.14285714285714285, 0.006696428571428571, 0.18526785714285715, 0.10044642857142858, 0.033482142857142856, 0.078125, 0.044642857142857144]}, {\"line\": {\"color\": \"rgba(219, 64, 82, 0.48936170212765956)\", \"dash\": \"solid\", \"shape\": \"linear\", \"width\": 1.3}, \"mode\": \"lines\", \"name\": \"60\", \"text\": \"\", \"type\": \"scatter\", \"x\": [0, 1, 2, 3, 4, 5, 6, 7, 8, 9, 10, 11], \"y\": [0.00927643784786642, 0.11317254174397032, 0.10760667903525047, 0.01855287569573284, 0.13172541743970315, 0.02040816326530612, 0.16512059369202226, 0.08905380333951762, 0.029684601113172542, 0.08348794063079777, 0.04823747680890538, 0.1836734693877551]}, {\"line\": {\"color\": \"rgba(0, 128, 128, 0.48936170212765956)\", \"dash\": \"solid\", \"shape\": \"linear\", \"width\": 1.3}, \"mode\": \"lines\", \"name\": \"61\", \"text\": \"\", \"type\": \"scatter\", \"x\": [0, 1, 2, 3, 4, 5, 6, 7, 8, 9, 10, 11], \"y\": [0.014571948998178506, 0.13114754098360656, 0.11657559198542805, 0.020036429872495445, 0.13114754098360656, 0.012750455373406194, 0.1785063752276867, 0.08014571948998178, 0.03278688524590164, 0.08378870673952642, 0.03278688524590164, 0.1657559198542805]}, {\"line\": {\"color\": \"rgba(255, 255, 51, 0.48936170212765956)\", \"dash\": \"solid\", \"shape\": \"linear\", \"width\": 1.3}, \"mode\": \"lines\", \"name\": \"62\", \"text\": \"\", \"type\": \"scatter\", \"x\": [0, 1, 2, 3, 4, 5, 6, 7, 8, 9, 10, 11], \"y\": [0.015665796344647518, 0.11488250652741515, 0.1462140992167102, 0.007832898172323759, 0.10704960835509138, 0.020887728459530026, 0.1906005221932115, 0.06005221932114883, 0.04699738903394256, 0.10182767624020887, 0.031331592689295036, 0.1566579634464752]}, {\"line\": {\"color\": \"rgba(128, 128, 0, 0.48936170212765956)\", \"dash\": \"solid\", \"shape\": \"linear\", \"width\": 1.3}, \"mode\": \"lines\", \"name\": \"63\", \"text\": \"\", \"type\": \"scatter\", \"x\": [0, 1, 2, 3, 4, 5, 6, 7, 8, 9, 10, 11], \"y\": [\"\", 0.12151898734177215, 0.13670886075949368, 0.017721518987341773, 0.1189873417721519, 0.012658227848101266, 0.1620253164556962, 0.08607594936708861, 0.027848101265822784, 0.09113924050632911, 0.04556962025316456, 0.17974683544303796]}, {\"line\": {\"color\": \"rgba(251, 128, 114, 0.48936170212765956)\", \"dash\": \"solid\", \"shape\": \"linear\", \"width\": 1.3}, \"mode\": \"lines\", \"name\": \"64\", \"text\": \"\", \"type\": \"scatter\", \"x\": [0, 1, 2, 3, 4, 5, 6, 7, 8, 9, 10, 11], \"y\": [0.003115264797507788, 0.11526479750778816, 0.14641744548286603, 0.006230529595015576, 0.09345794392523364, 0.01557632398753894, 0.21806853582554517, 0.040498442367601244, 0.037383177570093455, 0.09968847352024922, 0.04984423676012461, 0.17445482866043613]}, {\"line\": {\"color\": \"rgba(128, 177, 211, 0.48936170212765956)\", \"dash\": \"solid\", \"shape\": \"linear\", \"width\": 1.3}, \"mode\": \"lines\", \"name\": \"65\", \"text\": \"\", \"type\": \"scatter\", \"x\": [0, 1, 2, 3, 4, 5, 6, 7, 8, 9, 10, 11], \"y\": [0.013333333333333334, 0.08888888888888889, 0.12444444444444444, 0.017777777777777778, 0.15555555555555556, \"\", 0.15555555555555556, 0.13777777777777778, 0.008888888888888889, 0.09333333333333334, 0.06222222222222222, 0.14222222222222222]}, {\"line\": {\"color\": \"rgba(255, 153, 51, 0.48936170212765956)\", \"dash\": \"solid\", \"shape\": \"linear\", \"width\": 1.3}, \"mode\": \"lines\", \"name\": \"66\", \"text\": \"\", \"type\": \"scatter\", \"x\": [0, 1, 2, 3, 4, 5, 6, 7, 8, 9, 10, 11], \"y\": [0.006144393241167435, 0.11059907834101383, 0.13978494623655913, 0.006144393241167435, 0.13978494623655913, 0.009216589861751152, 0.1597542242703533, 0.07526881720430108, 0.047619047619047616, 0.12749615975422426, 0.019969278033794162, 0.15821812596006143]}, {\"line\": {\"color\": \"rgba(55, 128, 191, 0.48936170212765956)\", \"dash\": \"solid\", \"shape\": \"linear\", \"width\": 1.3}, \"mode\": \"lines\", \"name\": \"67\", \"text\": \"\", \"type\": \"scatter\", \"x\": [0, 1, 2, 3, 4, 5, 6, 7, 8, 9, 10, 11], \"y\": [0.13721413721413722, 0.012474012474012475, 0.1101871101871102, 0.1392931392931393, 0.012474012474012475, 0.1496881496881497, 0.004158004158004158, 0.15592515592515593, 0.09355509355509356, 0.02286902286902287, 0.13305613305613306, 0.029106029106029108]}, {\"line\": {\"color\": \"rgba(50, 171, 96, 0.48936170212765956)\", \"dash\": \"solid\", \"shape\": \"linear\", \"width\": 1.3}, \"mode\": \"lines\", \"name\": \"68\", \"text\": \"\", \"type\": \"scatter\", \"x\": [0, 1, 2, 3, 4, 5, 6, 7, 8, 9, 10, 11], \"y\": [0.1219047619047619, 0.024761904761904763, 0.09523809523809523, 0.1295238095238095, 0.02095238095238095, 0.1657142857142857, \"\", 0.14857142857142858, 0.09333333333333334, 0.030476190476190476, 0.1619047619047619, 0.007619047619047619]}, {\"line\": {\"color\": \"rgba(128, 0, 128, 0.48936170212765956)\", \"dash\": \"solid\", \"shape\": \"linear\", \"width\": 1.3}, \"mode\": \"lines\", \"name\": \"69\", \"text\": \"\", \"type\": \"scatter\", \"x\": [0, 1, 2, 3, 4, 5, 6, 7, 8, 9, 10, 11], \"y\": [0.11212121212121212, 0.05454545454545454, 0.07575757575757576, 0.11818181818181818, 0.021212121212121213, 0.15151515151515152, \"\", 0.12424242424242424, 0.1303030303030303, 0.021212121212121213, 0.19090909090909092, \"\"]}, {\"line\": {\"color\": \"rgba(128, 0, 128, 0.40425531914893603)\", \"dash\": \"solid\", \"shape\": \"linear\", \"width\": 1.3}, \"mode\": \"lines\", \"name\": \"70\", \"text\": \"\", \"type\": \"scatter\", \"x\": [0, 1, 2, 3, 4, 5, 6, 7, 8, 9, 10, 11], \"y\": [0.13405797101449277, 0.018115942028985508, 0.10869565217391304, 0.14130434782608695, 0.018115942028985508, 0.13768115942028986, 0.0036231884057971015, 0.14130434782608695, 0.10869565217391304, 0.018115942028985508, 0.14855072463768115, 0.021739130434782608]}, {\"line\": {\"color\": \"rgba(219, 64, 82, 0.40425531914893603)\", \"dash\": \"solid\", \"shape\": \"linear\", \"width\": 1.3}, \"mode\": \"lines\", \"name\": \"71\", \"text\": \"\", \"type\": \"scatter\", \"x\": [0, 1, 2, 3, 4, 5, 6, 7, 8, 9, 10, 11], \"y\": [0.14465408805031446, 0.012578616352201259, 0.11320754716981132, 0.16142557651991615, 0.008385744234800839, 0.14046121593291405, \"\", 0.13417190775681342, 0.08385744234800839, 0.041928721174004195, 0.14046121593291405, 0.018867924528301886]}, {\"line\": {\"color\": \"rgba(0, 128, 128, 0.40425531914893603)\", \"dash\": \"solid\", \"shape\": \"linear\", \"width\": 1.3}, \"mode\": \"lines\", \"name\": \"72\", \"text\": \"\", \"type\": \"scatter\", \"x\": [0, 1, 2, 3, 4, 5, 6, 7, 8, 9, 10, 11], \"y\": [0.08917197452229299, 0.044585987261146494, 0.06369426751592357, 0.17834394904458598, 0.006369426751592357, 0.1464968152866242, \"\", 0.1464968152866242, 0.12738853503184713, 0.01910828025477707, 0.17834394904458598, \"\"]}, {\"line\": {\"color\": \"rgba(255, 255, 51, 0.40425531914893603)\", \"dash\": \"solid\", \"shape\": \"linear\", \"width\": 1.3}, \"mode\": \"lines\", \"name\": \"73\", \"text\": \"\", \"type\": \"scatter\", \"x\": [0, 1, 2, 3, 4, 5, 6, 7, 8, 9, 10, 11], \"y\": [0.12125748502994012, 0.010479041916167664, 0.11826347305389222, 0.15269461077844312, 0.0014970059880239522, 0.1497005988023952, \"\", 0.15269461077844312, 0.10029940119760479, 0.017964071856287425, 0.1601796407185629, 0.014970059880239521]}, {\"line\": {\"color\": \"rgba(128, 128, 0, 0.40425531914893603)\", \"dash\": \"solid\", \"shape\": \"linear\", \"width\": 1.3}, \"mode\": \"lines\", \"name\": \"74\", \"text\": \"\", \"type\": \"scatter\", \"x\": [0, 1, 2, 3, 4, 5, 6, 7, 8, 9, 10, 11], \"y\": [0.07667731629392971, 0.03514376996805112, 0.1645367412140575, 0.020766773162939296, 0.12779552715654952, 0.01437699680511182, 0.10702875399361023, 0.17731629392971246, 0.001597444089456869, 0.1485623003194888, 0.007987220447284345, 0.1182108626198083]}, {\"line\": {\"color\": \"rgba(251, 128, 114, 0.40425531914893603)\", \"dash\": \"solid\", \"shape\": \"linear\", \"width\": 1.3}, \"mode\": \"lines\", \"name\": \"75\", \"text\": \"\", \"type\": \"scatter\", \"x\": [0, 1, 2, 3, 4, 5, 6, 7, 8, 9, 10, 11], \"y\": [0.08193979933110368, 0.03511705685618729, 0.1454849498327759, 0.015050167224080268, 0.13712374581939799, 0.005016722408026756, 0.1254180602006689, 0.16220735785953178, \"\", 0.15217391304347827, \"\", 0.14046822742474915]}, {\"line\": {\"color\": \"rgba(128, 177, 211, 0.40425531914893603)\", \"dash\": \"solid\", \"shape\": \"linear\", \"width\": 1.3}, \"mode\": \"lines\", \"name\": \"76\", \"text\": \"\", \"type\": \"scatter\", \"x\": [0, 1, 2, 3, 4, 5, 6, 7, 8, 9, 10, 11], \"y\": [0.12018140589569161, 0.02040816326530612, 0.1473922902494331, 0.006802721088435374, 0.1292517006802721, 0.013605442176870748, 0.11337868480725624, 0.16780045351473924, 0.0022675736961451248, 0.14965986394557823, \"\", 0.1292517006802721]}, {\"line\": {\"color\": \"rgba(255, 153, 51, 0.40425531914893603)\", \"dash\": \"solid\", \"shape\": \"linear\", \"width\": 1.3}, \"mode\": \"lines\", \"name\": \"77\", \"text\": \"\", \"type\": \"scatter\", \"x\": [0, 1, 2, 3, 4, 5, 6, 7, 8, 9, 10, 11], \"y\": [0.09090909090909091, 0.02727272727272727, 0.14242424242424243, 0.024242424242424242, 0.10606060606060606, 0.006060606060606061, 0.13636363636363635, 0.1606060606060606, \"\", 0.16363636363636364, \"\", 0.14242424242424243]}, {\"line\": {\"color\": \"rgba(55, 128, 191, 0.40425531914893603)\", \"dash\": \"solid\", \"shape\": \"linear\", \"width\": 1.3}, \"mode\": \"lines\", \"name\": \"78\", \"text\": \"\", \"type\": \"scatter\", \"x\": [0, 1, 2, 3, 4, 5, 6, 7, 8, 9, 10, 11], \"y\": [0.08157894736842106, 0.018421052631578946, 0.15789473684210525, 0.018421052631578946, 0.10789473684210527, 0.005263157894736842, 0.09473684210526316, 0.18421052631578946, 0.007894736842105263, 0.13157894736842105, 0.002631578947368421, 0.18947368421052632]}, {\"line\": {\"color\": \"rgba(50, 171, 96, 0.40425531914893603)\", \"dash\": \"solid\", \"shape\": \"linear\", \"width\": 1.3}, \"mode\": \"lines\", \"name\": \"79\", \"text\": \"\", \"type\": \"scatter\", \"x\": [0, 1, 2, 3, 4, 5, 6, 7, 8, 9, 10, 11], \"y\": [0.08169934640522876, 0.0196078431372549, 0.1437908496732026, 0.016339869281045753, 0.1111111111111111, 0.013071895424836602, 0.11437908496732026, 0.16013071895424835, 0.006535947712418301, 0.17647058823529413, \"\", 0.1568627450980392]}, {\"line\": {\"color\": \"rgba(50, 171, 96, 0.3191489361702127)\", \"dash\": \"solid\", \"shape\": \"linear\", \"width\": 1.3}, \"mode\": \"lines\", \"name\": \"80\", \"text\": \"\", \"type\": \"scatter\", \"x\": [0, 1, 2, 3, 4, 5, 6, 7, 8, 9, 10, 11], \"y\": [0.08735440931780367, 0.03826955074875208, 0.16306156405990016, 0.020798668885191347, 0.11813643926788686, 0.009151414309484194, 0.12396006655574043, 0.13976705490848584, 0.009151414309484194, 0.16139767054908485, \"\", 0.12895174708818635]}, {\"line\": {\"color\": \"rgba(128, 0, 128, 0.3191489361702127)\", \"dash\": \"solid\", \"shape\": \"linear\", \"width\": 1.3}, \"mode\": \"lines\", \"name\": \"81\", \"text\": \"\", \"type\": \"scatter\", \"x\": [0, 1, 2, 3, 4, 5, 6, 7, 8, 9, 10, 11], \"y\": [0.013412816691505217, 0.11028315946348734, 0.014903129657228018, 0.10879284649776454, 0.16989567809239942, \"\", 0.17287630402384502, 0.005961251862891207, 0.12816691505216096, 0.09836065573770492, 0.02533532041728763, 0.15201192250372578]}, {\"line\": {\"color\": \"rgba(219, 64, 82, 0.3191489361702127)\", \"dash\": \"solid\", \"shape\": \"linear\", \"width\": 1.3}, \"mode\": \"lines\", \"name\": \"82\", \"text\": \"\", \"type\": \"scatter\", \"x\": [0, 1, 2, 3, 4, 5, 6, 7, 8, 9, 10, 11], \"y\": [0.023952095808383235, 0.12574850299401197, 0.003992015968063872, 0.13373253493013973, 0.13972055888223553, 0.00998003992015968, 0.1497005988023952, \"\", 0.12974051896207583, 0.10379241516966067, 0.02594810379241517, 0.1536926147704591]}, {\"line\": {\"color\": \"rgba(0, 128, 128, 0.3191489361702127)\", \"dash\": \"solid\", \"shape\": \"linear\", \"width\": 1.3}, \"mode\": \"lines\", \"name\": \"83\", \"text\": \"\", \"type\": \"scatter\", \"x\": [0, 1, 2, 3, 4, 5, 6, 7, 8, 9, 10, 11], \"y\": [0.013029315960912053, 0.1465798045602606, 0.019543973941368076, 0.08143322475570032, 0.12052117263843648, 0.02280130293159609, 0.16286644951140064, \"\", 0.13680781758957655, 0.10423452768729642, 0.029315960912052116, 0.16286644951140064]}, {\"line\": {\"color\": \"rgba(255, 255, 51, 0.3191489361702127)\", \"dash\": \"solid\", \"shape\": \"linear\", \"width\": 1.3}, \"mode\": \"lines\", \"name\": \"84\", \"text\": \"\", \"type\": \"scatter\", \"x\": [0, 1, 2, 3, 4, 5, 6, 7, 8, 9, 10, 11], \"y\": [0.007722007722007722, 0.10810810810810811, 0.015444015444015444, 0.09652509652509653, 0.15057915057915058, 0.011583011583011582, 0.1776061776061776, \"\", 0.16216216216216217, 0.1274131274131274, 0.007722007722007722, 0.13513513513513514]}, {\"line\": {\"color\": \"rgba(128, 128, 0, 0.3191489361702127)\", \"dash\": \"solid\", \"shape\": \"linear\", \"width\": 1.3}, \"mode\": \"lines\", \"name\": \"85\", \"text\": \"\", \"type\": \"scatter\", \"x\": [0, 1, 2, 3, 4, 5, 6, 7, 8, 9, 10, 11], \"y\": [0.03460207612456748, 0.1453287197231834, 0.02422145328719723, 0.12802768166089964, 0.17647058823529413, 0.010380622837370242, 0.11764705882352941, 0.0034602076124567475, 0.12110726643598616, 0.07612456747404844, 0.03460207612456748, 0.12802768166089964]}, {\"line\": {\"color\": \"rgba(251, 128, 114, 0.3191489361702127)\", \"dash\": \"solid\", \"shape\": \"linear\", \"width\": 1.3}, \"mode\": \"lines\", \"name\": \"86\", \"text\": \"\", \"type\": \"scatter\", \"x\": [0, 1, 2, 3, 4, 5, 6, 7, 8, 9, 10, 11], \"y\": [0.01107011070110701, 0.11439114391143912, 0.0018450184501845018, 0.13099630996309963, 0.14022140221402213, 0.00922509225092251, 0.16789667896678967, \"\", 0.16236162361623616, 0.08671586715867159, 0.01845018450184502, 0.15682656826568267]}, {\"line\": {\"color\": \"rgba(128, 177, 211, 0.3191489361702127)\", \"dash\": \"solid\", \"shape\": \"linear\", \"width\": 1.3}, \"mode\": \"lines\", \"name\": \"87\", \"text\": \"\", \"type\": \"scatter\", \"x\": [0, 1, 2, 3, 4, 5, 6, 7, 8, 9, 10, 11], \"y\": [0.002911208151382824, 0.11062590975254731, 0.02911208151382824, 0.09606986899563319, 0.15283842794759825, 0.017467248908296942, 0.1324599708879185, 0.005822416302765648, 0.14410480349344978, 0.09024745269286755, 0.04512372634643377, 0.17321688500727803]}, {\"line\": {\"color\": \"rgba(255, 153, 51, 0.3191489361702127)\", \"dash\": \"solid\", \"shape\": \"linear\", \"width\": 1.3}, \"mode\": \"lines\", \"name\": \"88\", \"text\": \"\", \"type\": \"scatter\", \"x\": [0, 1, 2, 3, 4, 5, 6, 7, 8, 9, 10, 11], \"y\": [0.01020408163265306, 0.08163265306122448, 0.00510204081632653, 0.10714285714285714, 0.17857142857142858, \"\", 0.12244897959183673, \"\", 0.14795918367346939, 0.12244897959183673, 0.025510204081632654, 0.1989795918367347]}, {\"line\": {\"color\": \"rgba(55, 128, 191, 0.3191489361702127)\", \"dash\": \"solid\", \"shape\": \"linear\", \"width\": 1.3}, \"mode\": \"lines\", \"name\": \"89\", \"text\": \"\", \"type\": \"scatter\", \"x\": [0, 1, 2, 3, 4, 5, 6, 7, 8, 9, 10, 11], \"y\": [0.21002949852507374, 0.08731563421828908, 0.02831858407079646, 0.0943952802359882, 0.061946902654867256, 0.14926253687315635, 0.012979351032448377, 0.11091445427728613, 0.10619469026548672, 0.010029498525073746, 0.09911504424778761, 0.029498525073746312]}, {\"line\": {\"color\": \"rgba(55, 128, 191, 0.2340425531914892)\", \"dash\": \"solid\", \"shape\": \"linear\", \"width\": 1.3}, \"mode\": \"lines\", \"name\": \"90\", \"text\": \"\", \"type\": \"scatter\", \"x\": [0, 1, 2, 3, 4, 5, 6, 7, 8, 9, 10, 11], \"y\": [0.19938650306748465, 0.014570552147239263, 0.1004601226993865, 0.006901840490797546, 0.11809815950920245, 0.1656441717791411, 0.009202453987730062, 0.13266871165644173, 0.006901840490797546, 0.1142638036809816, 0.09815950920245399, 0.03374233128834356]}, {\"line\": {\"color\": \"rgba(50, 171, 96, 0.2340425531914892)\", \"dash\": \"solid\", \"shape\": \"linear\", \"width\": 1.3}, \"mode\": \"lines\", \"name\": \"91\", \"text\": \"\", \"type\": \"scatter\", \"x\": [0, 1, 2, 3, 4, 5, 6, 7, 8, 9, 10, 11], \"y\": [0.1796875, 0.059375, 0.04375, 0.04375, 0.065625, 0.134375, 0.00625, 0.1203125, 0.090625, 0.096875, 0.13125, 0.028125]}, {\"line\": {\"color\": \"rgba(128, 0, 128, 0.2340425531914892)\", \"dash\": \"solid\", \"shape\": \"linear\", \"width\": 1.3}, \"mode\": \"lines\", \"name\": \"92\", \"text\": \"\", \"type\": \"scatter\", \"x\": [0, 1, 2, 3, 4, 5, 6, 7, 8, 9, 10, 11], \"y\": [0.20820385332504662, 0.07085146053449347, 0.036668738346799255, 0.10907395898073337, 0.05220633934120572, 0.11591050341827222, 0.01305158483530143, 0.14916096954630206, 0.12088253573648229, 0.011187072715972654, 0.07830950901180858, 0.03449347420758235]}, {\"line\": {\"color\": \"rgba(219, 64, 82, 0.2340425531914892)\", \"dash\": \"solid\", \"shape\": \"linear\", \"width\": 1.3}, \"mode\": \"lines\", \"name\": \"93\", \"text\": \"\", \"type\": \"scatter\", \"x\": [0, 1, 2, 3, 4, 5, 6, 7, 8, 9, 10, 11], \"y\": [0.25, 0.01, 0.12, \"\", 0.175, 0.06, 0.015, 0.255, \"\", 0.02, \"\", 0.095]}],                        {\"legend\": {\"bgcolor\": \"#FFFFFF\", \"font\": {\"color\": \"#4D5663\"}}, \"paper_bgcolor\": \"#FFFFFF\", \"plot_bgcolor\": \"#FFFFFF\", \"template\": {\"data\": {\"bar\": [{\"error_x\": {\"color\": \"#2a3f5f\"}, \"error_y\": {\"color\": \"#2a3f5f\"}, \"marker\": {\"line\": {\"color\": \"#E5ECF6\", \"width\": 0.5}}, \"type\": \"bar\"}], \"barpolar\": [{\"marker\": {\"line\": {\"color\": \"#E5ECF6\", \"width\": 0.5}}, \"type\": \"barpolar\"}], \"carpet\": [{\"aaxis\": {\"endlinecolor\": \"#2a3f5f\", \"gridcolor\": \"white\", \"linecolor\": \"white\", \"minorgridcolor\": \"white\", \"startlinecolor\": \"#2a3f5f\"}, \"baxis\": {\"endlinecolor\": \"#2a3f5f\", \"gridcolor\": \"white\", \"linecolor\": \"white\", \"minorgridcolor\": \"white\", \"startlinecolor\": \"#2a3f5f\"}, \"type\": \"carpet\"}], \"choropleth\": [{\"colorbar\": {\"outlinewidth\": 0, \"ticks\": \"\"}, \"type\": \"choropleth\"}], \"contour\": [{\"colorbar\": {\"outlinewidth\": 0, \"ticks\": \"\"}, \"colorscale\": [[0.0, \"#0d0887\"], [0.1111111111111111, \"#46039f\"], [0.2222222222222222, \"#7201a8\"], [0.3333333333333333, \"#9c179e\"], [0.4444444444444444, \"#bd3786\"], [0.5555555555555556, \"#d8576b\"], [0.6666666666666666, \"#ed7953\"], [0.7777777777777778, \"#fb9f3a\"], [0.8888888888888888, \"#fdca26\"], [1.0, \"#f0f921\"]], \"type\": \"contour\"}], \"contourcarpet\": [{\"colorbar\": {\"outlinewidth\": 0, \"ticks\": \"\"}, \"type\": \"contourcarpet\"}], \"heatmap\": [{\"colorbar\": {\"outlinewidth\": 0, \"ticks\": \"\"}, \"colorscale\": [[0.0, \"#0d0887\"], [0.1111111111111111, \"#46039f\"], [0.2222222222222222, \"#7201a8\"], [0.3333333333333333, \"#9c179e\"], [0.4444444444444444, \"#bd3786\"], [0.5555555555555556, \"#d8576b\"], [0.6666666666666666, \"#ed7953\"], [0.7777777777777778, \"#fb9f3a\"], [0.8888888888888888, \"#fdca26\"], [1.0, \"#f0f921\"]], \"type\": \"heatmap\"}], \"heatmapgl\": [{\"colorbar\": {\"outlinewidth\": 0, \"ticks\": \"\"}, \"colorscale\": [[0.0, \"#0d0887\"], [0.1111111111111111, \"#46039f\"], [0.2222222222222222, \"#7201a8\"], [0.3333333333333333, \"#9c179e\"], [0.4444444444444444, \"#bd3786\"], [0.5555555555555556, \"#d8576b\"], [0.6666666666666666, \"#ed7953\"], [0.7777777777777778, \"#fb9f3a\"], [0.8888888888888888, \"#fdca26\"], [1.0, \"#f0f921\"]], \"type\": \"heatmapgl\"}], \"histogram\": [{\"marker\": {\"colorbar\": {\"outlinewidth\": 0, \"ticks\": \"\"}}, \"type\": \"histogram\"}], \"histogram2d\": [{\"colorbar\": {\"outlinewidth\": 0, \"ticks\": \"\"}, \"colorscale\": [[0.0, \"#0d0887\"], [0.1111111111111111, \"#46039f\"], [0.2222222222222222, \"#7201a8\"], [0.3333333333333333, \"#9c179e\"], [0.4444444444444444, \"#bd3786\"], [0.5555555555555556, \"#d8576b\"], [0.6666666666666666, \"#ed7953\"], [0.7777777777777778, \"#fb9f3a\"], [0.8888888888888888, \"#fdca26\"], [1.0, \"#f0f921\"]], \"type\": \"histogram2d\"}], \"histogram2dcontour\": [{\"colorbar\": {\"outlinewidth\": 0, \"ticks\": \"\"}, \"colorscale\": [[0.0, \"#0d0887\"], [0.1111111111111111, \"#46039f\"], [0.2222222222222222, \"#7201a8\"], [0.3333333333333333, \"#9c179e\"], [0.4444444444444444, \"#bd3786\"], [0.5555555555555556, \"#d8576b\"], [0.6666666666666666, \"#ed7953\"], [0.7777777777777778, \"#fb9f3a\"], [0.8888888888888888, \"#fdca26\"], [1.0, \"#f0f921\"]], \"type\": \"histogram2dcontour\"}], \"mesh3d\": [{\"colorbar\": {\"outlinewidth\": 0, \"ticks\": \"\"}, \"type\": \"mesh3d\"}], \"parcoords\": [{\"line\": {\"colorbar\": {\"outlinewidth\": 0, \"ticks\": \"\"}}, \"type\": \"parcoords\"}], \"pie\": [{\"automargin\": true, \"type\": \"pie\"}], \"scatter\": [{\"marker\": {\"colorbar\": {\"outlinewidth\": 0, \"ticks\": \"\"}}, \"type\": \"scatter\"}], \"scatter3d\": [{\"line\": {\"colorbar\": {\"outlinewidth\": 0, \"ticks\": \"\"}}, \"marker\": {\"colorbar\": {\"outlinewidth\": 0, \"ticks\": \"\"}}, \"type\": \"scatter3d\"}], \"scattercarpet\": [{\"marker\": {\"colorbar\": {\"outlinewidth\": 0, \"ticks\": \"\"}}, \"type\": \"scattercarpet\"}], \"scattergeo\": [{\"marker\": {\"colorbar\": {\"outlinewidth\": 0, \"ticks\": \"\"}}, \"type\": \"scattergeo\"}], \"scattergl\": [{\"marker\": {\"colorbar\": {\"outlinewidth\": 0, \"ticks\": \"\"}}, \"type\": \"scattergl\"}], \"scattermapbox\": [{\"marker\": {\"colorbar\": {\"outlinewidth\": 0, \"ticks\": \"\"}}, \"type\": \"scattermapbox\"}], \"scatterpolar\": [{\"marker\": {\"colorbar\": {\"outlinewidth\": 0, \"ticks\": \"\"}}, \"type\": \"scatterpolar\"}], \"scatterpolargl\": [{\"marker\": {\"colorbar\": {\"outlinewidth\": 0, \"ticks\": \"\"}}, \"type\": \"scatterpolargl\"}], \"scatterternary\": [{\"marker\": {\"colorbar\": {\"outlinewidth\": 0, \"ticks\": \"\"}}, \"type\": \"scatterternary\"}], \"surface\": [{\"colorbar\": {\"outlinewidth\": 0, \"ticks\": \"\"}, \"colorscale\": [[0.0, \"#0d0887\"], [0.1111111111111111, \"#46039f\"], [0.2222222222222222, \"#7201a8\"], [0.3333333333333333, \"#9c179e\"], [0.4444444444444444, \"#bd3786\"], [0.5555555555555556, \"#d8576b\"], [0.6666666666666666, \"#ed7953\"], [0.7777777777777778, \"#fb9f3a\"], [0.8888888888888888, \"#fdca26\"], [1.0, \"#f0f921\"]], \"type\": \"surface\"}], \"table\": [{\"cells\": {\"fill\": {\"color\": \"#EBF0F8\"}, \"line\": {\"color\": \"white\"}}, \"header\": {\"fill\": {\"color\": \"#C8D4E3\"}, \"line\": {\"color\": \"white\"}}, \"type\": \"table\"}]}, \"layout\": {\"annotationdefaults\": {\"arrowcolor\": \"#2a3f5f\", \"arrowhead\": 0, \"arrowwidth\": 1}, \"autotypenumbers\": \"strict\", \"coloraxis\": {\"colorbar\": {\"outlinewidth\": 0, \"ticks\": \"\"}}, \"colorscale\": {\"diverging\": [[0, \"#8e0152\"], [0.1, \"#c51b7d\"], [0.2, \"#de77ae\"], [0.3, \"#f1b6da\"], [0.4, \"#fde0ef\"], [0.5, \"#f7f7f7\"], [0.6, \"#e6f5d0\"], [0.7, \"#b8e186\"], [0.8, \"#7fbc41\"], [0.9, \"#4d9221\"], [1, \"#276419\"]], \"sequential\": [[0.0, \"#0d0887\"], [0.1111111111111111, \"#46039f\"], [0.2222222222222222, \"#7201a8\"], [0.3333333333333333, \"#9c179e\"], [0.4444444444444444, \"#bd3786\"], [0.5555555555555556, \"#d8576b\"], [0.6666666666666666, \"#ed7953\"], [0.7777777777777778, \"#fb9f3a\"], [0.8888888888888888, \"#fdca26\"], [1.0, \"#f0f921\"]], \"sequentialminus\": [[0.0, \"#0d0887\"], [0.1111111111111111, \"#46039f\"], [0.2222222222222222, \"#7201a8\"], [0.3333333333333333, \"#9c179e\"], [0.4444444444444444, \"#bd3786\"], [0.5555555555555556, \"#d8576b\"], [0.6666666666666666, \"#ed7953\"], [0.7777777777777778, \"#fb9f3a\"], [0.8888888888888888, \"#fdca26\"], [1.0, \"#f0f921\"]]}, \"colorway\": [\"#636efa\", \"#EF553B\", \"#00cc96\", \"#ab63fa\", \"#FFA15A\", \"#19d3f3\", \"#FF6692\", \"#B6E880\", \"#FF97FF\", \"#FECB52\"], \"font\": {\"color\": \"#2a3f5f\"}, \"geo\": {\"bgcolor\": \"white\", \"lakecolor\": \"white\", \"landcolor\": \"#E5ECF6\", \"showlakes\": true, \"showland\": true, \"subunitcolor\": \"white\"}, \"hoverlabel\": {\"align\": \"left\"}, \"hovermode\": \"closest\", \"mapbox\": {\"style\": \"light\"}, \"paper_bgcolor\": \"white\", \"plot_bgcolor\": \"#E5ECF6\", \"polar\": {\"angularaxis\": {\"gridcolor\": \"white\", \"linecolor\": \"white\", \"ticks\": \"\"}, \"bgcolor\": \"#E5ECF6\", \"radialaxis\": {\"gridcolor\": \"white\", \"linecolor\": \"white\", \"ticks\": \"\"}}, \"scene\": {\"xaxis\": {\"backgroundcolor\": \"#E5ECF6\", \"gridcolor\": \"white\", \"gridwidth\": 2, \"linecolor\": \"white\", \"showbackground\": true, \"ticks\": \"\", \"zerolinecolor\": \"white\"}, \"yaxis\": {\"backgroundcolor\": \"#E5ECF6\", \"gridcolor\": \"white\", \"gridwidth\": 2, \"linecolor\": \"white\", \"showbackground\": true, \"ticks\": \"\", \"zerolinecolor\": \"white\"}, \"zaxis\": {\"backgroundcolor\": \"#E5ECF6\", \"gridcolor\": \"white\", \"gridwidth\": 2, \"linecolor\": \"white\", \"showbackground\": true, \"ticks\": \"\", \"zerolinecolor\": \"white\"}}, \"shapedefaults\": {\"line\": {\"color\": \"#2a3f5f\"}}, \"ternary\": {\"aaxis\": {\"gridcolor\": \"white\", \"linecolor\": \"white\", \"ticks\": \"\"}, \"baxis\": {\"gridcolor\": \"white\", \"linecolor\": \"white\", \"ticks\": \"\"}, \"bgcolor\": \"#E5ECF6\", \"caxis\": {\"gridcolor\": \"white\", \"linecolor\": \"white\", \"ticks\": \"\"}}, \"title\": {\"x\": 0.05}, \"xaxis\": {\"automargin\": true, \"gridcolor\": \"white\", \"linecolor\": \"white\", \"ticks\": \"\", \"title\": {\"standoff\": 15}, \"zerolinecolor\": \"white\", \"zerolinewidth\": 2}, \"yaxis\": {\"automargin\": true, \"gridcolor\": \"white\", \"linecolor\": \"white\", \"ticks\": \"\", \"title\": {\"standoff\": 15}, \"zerolinecolor\": \"white\", \"zerolinewidth\": 2}}}, \"title\": {\"font\": {\"color\": \"#4D5663\"}, \"text\": \"Normalised pitch class count distributions of all pieces\"}, \"xaxis\": {\"gridcolor\": \"#E1E5ED\", \"showgrid\": true, \"tickfont\": {\"color\": \"#4D5663\"}, \"title\": {\"font\": {\"color\": \"#4D5663\"}, \"text\": \"Chromatic pitch class\"}, \"zerolinecolor\": \"#E1E5ED\"}, \"yaxis\": {\"gridcolor\": \"#E1E5ED\", \"showgrid\": true, \"tickfont\": {\"color\": \"#4D5663\"}, \"title\": {\"font\": {\"color\": \"#4D5663\"}, \"text\": \"Fraction of piece's note count\"}, \"zerolinecolor\": \"#E1E5ED\"}},                        {\"showLink\": true, \"linkText\": \"Export to plot.ly\", \"plotlyServerURL\": \"https://plot.ly\", \"responsive\": true}                    ).then(function(){\n",
       "                            \n",
       "var gd = document.getElementById('0399477f-5504-4870-88ce-7b3fd28b4f8c');\n",
       "var x = new MutationObserver(function (mutations, observer) {{\n",
       "        var display = window.getComputedStyle(gd).display;\n",
       "        if (!display || display === 'none') {{\n",
       "            console.log([gd, 'removed!']);\n",
       "            Plotly.purge(gd);\n",
       "            observer.disconnect();\n",
       "        }}\n",
       "}});\n",
       "\n",
       "// Listen for the removal of the full notebook cells\n",
       "var notebookContainer = gd.closest('#notebook-container');\n",
       "if (notebookContainer) {{\n",
       "    x.observe(notebookContainer, {childList: true});\n",
       "}}\n",
       "\n",
       "// Listen for the clearing of the current output cell\n",
       "var outputEl = gd.closest('.output');\n",
       "if (outputEl) {{\n",
       "    x.observe(outputEl, {childList: true});\n",
       "}}\n",
       "\n",
       "                        })                };                });            </script>        </div>"
      ]
     },
     "metadata": {},
     "output_type": "display_data"
    }
   ],
   "source": [
    "pc_counts.T.iplot(title='Normalised pitch class count distributions of all pieces', xTitle='Chromatic pitch class', yTitle=\"Fraction of piece's note count\")"
   ]
  },
  {
   "cell_type": "markdown",
   "metadata": {},
   "source": [
    "### Tone durations per piece"
   ]
  },
  {
   "cell_type": "code",
   "execution_count": 11,
   "metadata": {},
   "outputs": [
    {
     "data": {
      "application/vnd.plotly.v1+json": {
       "config": {
        "linkText": "Export to plot.ly",
        "plotlyServerURL": "https://plot.ly",
        "showLink": true
       },
       "data": [
        {
         "line": {
          "color": "rgba(255, 153, 51, 1.0)",
          "dash": "solid",
          "shape": "linear",
          "width": 1.3
         },
         "mode": "lines",
         "name": "0",
         "text": "",
         "type": "scatter",
         "x": [
          0,
          1,
          2,
          3,
          4,
          5,
          6,
          7,
          8,
          9,
          10,
          11
         ],
         "y": [
          0.0014853323431117712,
          0.12885258076494616,
          0.11214259190493873,
          0.023022651318232456,
          0.1700705532862978,
          0.014853323431117713,
          0.1344225770516153,
          0.02005198663200891,
          0.09468993687337542,
          0.1656145562569625,
          0.014853323431117713,
          0.11994058670627553
         ]
        },
        {
         "line": {
          "color": "rgba(55, 128, 191, 1.0)",
          "dash": "solid",
          "shape": "linear",
          "width": 1.3
         },
         "mode": "lines",
         "name": "1",
         "text": "",
         "type": "scatter",
         "x": [
          0,
          1,
          2,
          3,
          4,
          5,
          6,
          7,
          8,
          9,
          10,
          11
         ],
         "y": [
          0.009027081243731194,
          0.12261785356068204,
          0.059929789368104315,
          0.044132397191574725,
          0.18480441323971916,
          0.010030090270812437,
          0.11860581745235707,
          0.015546639919759278,
          0.09879638916750251,
          0.15747241725175526,
          0.02657973921765296,
          0.15245737211634905
         ]
        },
        {
         "line": {
          "color": "rgba(50, 171, 96, 1.0)",
          "dash": "solid",
          "shape": "linear",
          "width": 1.3
         },
         "mode": "lines",
         "name": "2",
         "text": "",
         "type": "scatter",
         "x": [
          0,
          1,
          2,
          3,
          4,
          5,
          6,
          7,
          8,
          9,
          10,
          11
         ],
         "y": [
          "",
          0.1220472440944882,
          0.06561679790026247,
          0.03280839895013123,
          0.19160104986876642,
          0.01968503937007874,
          0.1115485564304462,
          "",
          0.1220472440944882,
          0.18241469816272965,
          0.005249343832020997,
          0.14698162729658792
         ]
        },
        {
         "line": {
          "color": "rgba(128, 0, 128, 1.0)",
          "dash": "solid",
          "shape": "linear",
          "width": 1.3
         },
         "mode": "lines",
         "name": "3",
         "text": "",
         "type": "scatter",
         "x": [
          0,
          1,
          2,
          3,
          4,
          5,
          6,
          7,
          8,
          9,
          10,
          11
         ],
         "y": [
          "",
          0.1334867663981588,
          0.08918296892980437,
          0.01726121979286536,
          0.18411967779056387,
          "",
          0.10989643268124281,
          0.04200230149597238,
          0.06444188722669736,
          0.15822784810126583,
          0.024165707710011506,
          0.17721518987341772
         ]
        },
        {
         "line": {
          "color": "rgba(219, 64, 82, 1.0)",
          "dash": "solid",
          "shape": "linear",
          "width": 1.3
         },
         "mode": "lines",
         "name": "4",
         "text": "",
         "type": "scatter",
         "x": [
          0,
          1,
          2,
          3,
          4,
          5,
          6,
          7,
          8,
          9,
          10,
          11
         ],
         "y": [
          "",
          0.12547770700636943,
          0.10254777070063695,
          0.015286624203821656,
          0.18343949044585986,
          "",
          0.11910828025477707,
          0.03248407643312102,
          0.07197452229299363,
          0.15987261146496815,
          0.025477707006369428,
          0.1643312101910828
         ]
        },
        {
         "line": {
          "color": "rgba(0, 128, 128, 1.0)",
          "dash": "solid",
          "shape": "linear",
          "width": 1.3
         },
         "mode": "lines",
         "name": "5",
         "text": "",
         "type": "scatter",
         "x": [
          0,
          1,
          2,
          3,
          4,
          5,
          6,
          7,
          8,
          9,
          10,
          11
         ],
         "y": [
          "",
          0.11393939393939394,
          0.09090909090909091,
          0.01818181818181818,
          0.18787878787878787,
          "",
          0.11515151515151516,
          0.04,
          0.0703030303030303,
          0.17454545454545456,
          0.01696969696969697,
          0.17212121212121212
         ]
        },
        {
         "line": {
          "color": "rgba(255, 255, 51, 1.0)",
          "dash": "solid",
          "shape": "linear",
          "width": 1.3
         },
         "mode": "lines",
         "name": "6",
         "text": "",
         "type": "scatter",
         "x": [
          0,
          1,
          2,
          3,
          4,
          5,
          6,
          7,
          8,
          9,
          10,
          11
         ],
         "y": [
          0.016046681254558718,
          0.0962800875273523,
          0.1163384390955507,
          0.014952589350838803,
          0.20313639679066375,
          0.012764405543398978,
          0.11269146608315099,
          0.04741064916119621,
          0.05288110867979577,
          0.17286652078774617,
          0.0175054704595186,
          0.13712618526622902
         ]
        },
        {
         "line": {
          "color": "rgba(128, 128, 0, 1.0)",
          "dash": "solid",
          "shape": "linear",
          "width": 1.3
         },
         "mode": "lines",
         "name": "7",
         "text": "",
         "type": "scatter",
         "x": [
          0,
          1,
          2,
          3,
          4,
          5,
          6,
          7,
          8,
          9,
          10,
          11
         ],
         "y": [
          "",
          0.1387434554973822,
          0.09554973821989529,
          0.01963350785340314,
          0.19764397905759162,
          0.002617801047120419,
          0.09031413612565445,
          0.01832460732984293,
          0.07657068062827226,
          0.18651832460732984,
          0.003926701570680628,
          0.17015706806282724
         ]
        },
        {
         "line": {
          "color": "rgba(251, 128, 114, 1.0)",
          "dash": "solid",
          "shape": "linear",
          "width": 1.3
         },
         "mode": "lines",
         "name": "8",
         "text": "",
         "type": "scatter",
         "x": [
          0,
          1,
          2,
          3,
          4,
          5,
          6,
          7,
          8,
          9,
          10,
          11
         ],
         "y": [
          0.12241379310344827,
          0.01206896551724138,
          0.12758620689655173,
          0.005172413793103448,
          0.18620689655172415,
          0.08448275862068966,
          0.02586206896551724,
          0.06896551724137931,
          0.041379310344827586,
          0.17758620689655172,
          0.010344827586206896,
          0.13793103448275862
         ]
        },
        {
         "line": {
          "color": "rgba(128, 177, 211, 1.0)",
          "dash": "solid",
          "shape": "linear",
          "width": 1.3
         },
         "mode": "lines",
         "name": "9",
         "text": "",
         "type": "scatter",
         "x": [
          0,
          1,
          2,
          3,
          4,
          5,
          6,
          7,
          8,
          9,
          10,
          11
         ],
         "y": [
          0.0020920502092050207,
          0.1051255230125523,
          0.10721757322175732,
          0.02510460251046025,
          0.19299163179916318,
          "",
          0.12447698744769875,
          0.026673640167364017,
          0.09361924686192469,
          0.1647489539748954,
          0.0041841004184100415,
          0.15376569037656904
         ]
        },
        {
         "line": {
          "color": "rgba(128, 177, 211, 0.9148936170212765)",
          "dash": "solid",
          "shape": "linear",
          "width": 1.3
         },
         "mode": "lines",
         "name": "10",
         "text": "",
         "type": "scatter",
         "x": [
          0,
          1,
          2,
          3,
          4,
          5,
          6,
          7,
          8,
          9,
          10,
          11
         ],
         "y": [
          0.12434115955917585,
          0.01605174892189746,
          0.1195495927168184,
          0.017249640632486823,
          0.17417345471969334,
          0.05079060852898898,
          0.052946813608049835,
          0.08097747963584093,
          0.05965500718735026,
          0.1538092956396742,
          0.005270723526593196,
          0.14518447532343076
         ]
        },
        {
         "line": {
          "color": "rgba(255, 153, 51, 0.9148936170212765)",
          "dash": "solid",
          "shape": "linear",
          "width": 1.3
         },
         "mode": "lines",
         "name": "11",
         "text": "",
         "type": "scatter",
         "x": [
          0,
          1,
          2,
          3,
          4,
          5,
          6,
          7,
          8,
          9,
          10,
          11
         ],
         "y": [
          0.1023696682464455,
          0.025592417061611375,
          0.1052132701421801,
          0.016113744075829384,
          0.16018957345971563,
          0.05308056872037915,
          0.03981042654028436,
          0.07677725118483412,
          0.04928909952606635,
          0.1848341232227488,
          0.009478672985781991,
          0.17725118483412322
         ]
        },
        {
         "line": {
          "color": "rgba(55, 128, 191, 0.9148936170212765)",
          "dash": "solid",
          "shape": "linear",
          "width": 1.3
         },
         "mode": "lines",
         "name": "12",
         "text": "",
         "type": "scatter",
         "x": [
          0,
          1,
          2,
          3,
          4,
          5,
          6,
          7,
          8,
          9,
          10,
          11
         ],
         "y": [
          0.16430817610062892,
          0.0110062893081761,
          0.1281446540880503,
          "",
          0.16352201257861634,
          0.09512578616352202,
          0.0110062893081761,
          0.09984276729559749,
          0.04323899371069182,
          0.1800314465408805,
          0.014150943396226415,
          0.08962264150943396
         ]
        },
        {
         "line": {
          "color": "rgba(50, 171, 96, 0.9148936170212765)",
          "dash": "solid",
          "shape": "linear",
          "width": 1.3
         },
         "mode": "lines",
         "name": "13",
         "text": "",
         "type": "scatter",
         "x": [
          0,
          1,
          2,
          3,
          4,
          5,
          6,
          7,
          8,
          9,
          10,
          11
         ],
         "y": [
          0.15539305301645337,
          0.012797074954296161,
          0.07312614259597806,
          0.021937842778793418,
          0.19744058500914077,
          0.08775137111517367,
          0.0283363802559415,
          0.13985374771480805,
          0.016453382084095063,
          0.1425959780621572,
          0.010968921389396709,
          0.113345521023766
         ]
        },
        {
         "line": {
          "color": "rgba(128, 0, 128, 0.9148936170212765)",
          "dash": "solid",
          "shape": "linear",
          "width": 1.3
         },
         "mode": "lines",
         "name": "14",
         "text": "",
         "type": "scatter",
         "x": [
          0,
          1,
          2,
          3,
          4,
          5,
          6,
          7,
          8,
          9,
          10,
          11
         ],
         "y": [
          0.16150870406189555,
          0.017408123791102514,
          0.07930367504835589,
          0.02321083172147002,
          0.18665377176015474,
          0.08994197292069632,
          0.02611218568665377,
          0.1402321083172147,
          0.0183752417794971,
          0.13733075435203096,
          0.013056092843326886,
          0.10686653771760155
         ]
        },
        {
         "line": {
          "color": "rgba(219, 64, 82, 0.9148936170212765)",
          "dash": "solid",
          "shape": "linear",
          "width": 1.3
         },
         "mode": "lines",
         "name": "15",
         "text": "",
         "type": "scatter",
         "x": [
          0,
          1,
          2,
          3,
          4,
          5,
          6,
          7,
          8,
          9,
          10,
          11
         ],
         "y": [
          0.10197368421052631,
          0.009868421052631578,
          0.11951754385964912,
          0.02412280701754386,
          0.20394736842105263,
          0.06578947368421052,
          0.041666666666666664,
          0.08881578947368421,
          0.021929824561403508,
          0.1787280701754386,
          0.009868421052631578,
          0.1337719298245614
         ]
        },
        {
         "line": {
          "color": "rgba(0, 128, 128, 0.9148936170212765)",
          "dash": "solid",
          "shape": "linear",
          "width": 1.3
         },
         "mode": "lines",
         "name": "16",
         "text": "",
         "type": "scatter",
         "x": [
          0,
          1,
          2,
          3,
          4,
          5,
          6,
          7,
          8,
          9,
          10,
          11
         ],
         "y": [
          "",
          0.1289308176100629,
          0.09748427672955975,
          0.018867924528301886,
          0.2169811320754717,
          0.014150943396226415,
          0.09905660377358491,
          0.0220125786163522,
          0.07547169811320754,
          0.19811320754716982,
          0.0047169811320754715,
          0.12421383647798742
         ]
        },
        {
         "line": {
          "color": "rgba(255, 255, 51, 0.9148936170212765)",
          "dash": "solid",
          "shape": "linear",
          "width": 1.3
         },
         "mode": "lines",
         "name": "17",
         "text": "",
         "type": "scatter",
         "x": [
          0,
          1,
          2,
          3,
          4,
          5,
          6,
          7,
          8,
          9,
          10,
          11
         ],
         "y": [
          0.14798694232861806,
          0.020674646354733407,
          0.09031556039173014,
          0.025027203482045703,
          0.15669205658324264,
          0.06528835690968444,
          0.05005440696409141,
          0.12840043525571274,
          0.023939064200217627,
          0.16757344940152338,
          0.002176278563656148,
          0.12187159956474429
         ]
        },
        {
         "line": {
          "color": "rgba(128, 128, 0, 0.9148936170212765)",
          "dash": "solid",
          "shape": "linear",
          "width": 1.3
         },
         "mode": "lines",
         "name": "18",
         "text": "",
         "type": "scatter",
         "x": [
          0,
          1,
          2,
          3,
          4,
          5,
          6,
          7,
          8,
          9,
          10,
          11
         ],
         "y": [
          0.11541666666666667,
          0.020833333333333332,
          0.15611111111111112,
          0.07333333333333333,
          0.03847222222222222,
          0.11305555555555556,
          0.03888888888888889,
          0.14652777777777778,
          0.025833333333333333,
          0.12597222222222224,
          0.13305555555555557,
          0.0125
         ]
        },
        {
         "line": {
          "color": "rgba(251, 128, 114, 0.9148936170212765)",
          "dash": "solid",
          "shape": "linear",
          "width": 1.3
         },
         "mode": "lines",
         "name": "19",
         "text": "",
         "type": "scatter",
         "x": [
          0,
          1,
          2,
          3,
          4,
          5,
          6,
          7,
          8,
          9,
          10,
          11
         ],
         "y": [
          0.11597938144329897,
          0.01752577319587629,
          0.18350515463917524,
          0.08762886597938144,
          0.027835051546391754,
          0.07835051546391752,
          0.0443298969072165,
          0.17835051546391753,
          0.01443298969072165,
          0.12577319587628866,
          0.10927835051546392,
          0.017010309278350514
         ]
        },
        {
         "line": {
          "color": "rgba(251, 128, 114, 0.8297872340425532)",
          "dash": "solid",
          "shape": "linear",
          "width": 1.3
         },
         "mode": "lines",
         "name": "20",
         "text": "",
         "type": "scatter",
         "x": [
          0,
          1,
          2,
          3,
          4,
          5,
          6,
          7,
          8,
          9,
          10,
          11
         ],
         "y": [
          0.11717921527041357,
          0.014846235418875928,
          0.19989395546129374,
          0.07794273594909862,
          0.02545068928950159,
          0.07211028632025451,
          0.05408271474019088,
          0.17815482502651114,
          0.012725344644750796,
          0.1102863202545069,
          0.1224814422057264,
          0.014846235418875928
         ]
        },
        {
         "line": {
          "color": "rgba(128, 177, 211, 0.8297872340425532)",
          "dash": "solid",
          "shape": "linear",
          "width": 1.3
         },
         "mode": "lines",
         "name": "21",
         "text": "",
         "type": "scatter",
         "x": [
          0,
          1,
          2,
          3,
          4,
          5,
          6,
          7,
          8,
          9,
          10,
          11
         ],
         "y": [
          0.08697411003236245,
          0.03802588996763754,
          0.11812297734627832,
          0.11326860841423948,
          0.06310679611650485,
          0.07281553398058252,
          0.046521035598705504,
          0.23179611650485438,
          0.01820388349514563,
          0.08495145631067962,
          0.07928802588996764,
          0.04692556634304207
         ]
        },
        {
         "line": {
          "color": "rgba(255, 153, 51, 0.8297872340425532)",
          "dash": "solid",
          "shape": "linear",
          "width": 1.3
         },
         "mode": "lines",
         "name": "22",
         "text": "",
         "type": "scatter",
         "x": [
          0,
          1,
          2,
          3,
          4,
          5,
          6,
          7,
          8,
          9,
          10,
          11
         ],
         "y": [
          0.09159034138218151,
          0.03913405495420483,
          0.11809603108520678,
          0.11199000832639468,
          0.0568970302525673,
          0.07306411323896753,
          0.04274215931168471,
          0.2402164862614488,
          0.01706910907577019,
          0.08409658617818484,
          0.07847626977518735,
          0.0466278101582015
         ]
        },
        {
         "line": {
          "color": "rgba(55, 128, 191, 0.8297872340425532)",
          "dash": "solid",
          "shape": "linear",
          "width": 1.3
         },
         "mode": "lines",
         "name": "23",
         "text": "",
         "type": "scatter",
         "x": [
          0,
          1,
          2,
          3,
          4,
          5,
          6,
          7,
          8,
          9,
          10,
          11
         ],
         "y": [
          0.08518518518518518,
          0.009259259259259259,
          0.17222222222222222,
          0.053703703703703705,
          0.03888888888888889,
          0.07777777777777778,
          0.03148148148148148,
          0.2537037037037037,
          0.003703703703703704,
          0.13333333333333333,
          0.13148148148148148,
          0.009259259259259259
         ]
        },
        {
         "line": {
          "color": "rgba(50, 171, 96, 0.8297872340425532)",
          "dash": "solid",
          "shape": "linear",
          "width": 1.3
         },
         "mode": "lines",
         "name": "24",
         "text": "",
         "type": "scatter",
         "x": [
          0,
          1,
          2,
          3,
          4,
          5,
          6,
          7,
          8,
          9,
          10,
          11
         ],
         "y": [
          0.125,
          "",
          0.14322916666666666,
          "",
          0.036458333333333336,
          "",
          0.033854166666666664,
          0.4140625,
          "",
          0.09114583333333333,
          "",
          0.15625
         ]
        },
        {
         "line": {
          "color": "rgba(128, 0, 128, 0.8297872340425532)",
          "dash": "solid",
          "shape": "linear",
          "width": 1.3
         },
         "mode": "lines",
         "name": "25",
         "text": "",
         "type": "scatter",
         "x": [
          0,
          1,
          2,
          3,
          4,
          5,
          6,
          7,
          8,
          9,
          10,
          11
         ],
         "y": [
          0.10138248847926268,
          0.025806451612903226,
          0.1640552995391705,
          0.053456221198156684,
          0.08110599078341015,
          0.08202764976958525,
          0.04055299539170507,
          0.17419354838709677,
          0.009216589861751152,
          0.1400921658986175,
          0.11059907834101383,
          0.017511520737327188
         ]
        },
        {
         "line": {
          "color": "rgba(219, 64, 82, 0.8297872340425532)",
          "dash": "solid",
          "shape": "linear",
          "width": 1.3
         },
         "mode": "lines",
         "name": "26",
         "text": "",
         "type": "scatter",
         "x": [
          0,
          1,
          2,
          3,
          4,
          5,
          6,
          7,
          8,
          9,
          10,
          11
         ],
         "y": [
          0.16533912623702632,
          0.008206613565049481,
          0.12720251025826695,
          0.02293024378469708,
          0.09932416123581946,
          0.1541153753318851,
          0.007482500603427468,
          0.13927105961863384,
          0.008447984552256819,
          0.1348056963552981,
          0.09087617668356264,
          0.041998551774076756
         ]
        },
        {
         "line": {
          "color": "rgba(0, 128, 128, 0.8297872340425532)",
          "dash": "solid",
          "shape": "linear",
          "width": 1.3
         },
         "mode": "lines",
         "name": "27",
         "text": "",
         "type": "scatter",
         "x": [
          0,
          1,
          2,
          3,
          4,
          5,
          6,
          7,
          8,
          9,
          10,
          11
         ],
         "y": [
          0.1848425835767608,
          0.013631937682570594,
          0.10272638753651411,
          0.01590392729633236,
          0.09688412852969815,
          0.16780266147354755,
          0.014281077572216812,
          0.14492048036351834,
          0.006491398896462188,
          0.11879259980525804,
          0.07724764686790003,
          0.05647517039922103
         ]
        },
        {
         "line": {
          "color": "rgba(255, 255, 51, 0.8297872340425532)",
          "dash": "solid",
          "shape": "linear",
          "width": 1.3
         },
         "mode": "lines",
         "name": "28",
         "text": "",
         "type": "scatter",
         "x": [
          0,
          1,
          2,
          3,
          4,
          5,
          6,
          7,
          8,
          9,
          10,
          11
         ],
         "y": [
          0.1939799331103679,
          0.0033444816053511705,
          0.11705685618729098,
          0.016722408026755852,
          0.08528428093645485,
          0.20819397993311037,
          0.015050167224080268,
          0.14715719063545152,
          "",
          0.10618729096989966,
          0.09531772575250837,
          0.011705685618729096
         ]
        },
        {
         "line": {
          "color": "rgba(128, 128, 0, 0.8297872340425532)",
          "dash": "solid",
          "shape": "linear",
          "width": 1.3
         },
         "mode": "lines",
         "name": "29",
         "text": "",
         "type": "scatter",
         "x": [
          0,
          1,
          2,
          3,
          4,
          5,
          6,
          7,
          8,
          9,
          10,
          11
         ],
         "y": [
          0.17573872472783825,
          0.02177293934681182,
          0.12441679626749612,
          0.026049766718507,
          0.06998444790046657,
          0.16990668740279938,
          0.008553654743390357,
          0.16057542768273717,
          0.01671850699844479,
          0.09214618973561431,
          0.1026438569206843,
          0.031493001555209954
         ]
        },
        {
         "line": {
          "color": "rgba(128, 128, 0, 0.7446808510638296)",
          "dash": "solid",
          "shape": "linear",
          "width": 1.3
         },
         "mode": "lines",
         "name": "30",
         "text": "",
         "type": "scatter",
         "x": [
          0,
          1,
          2,
          3,
          4,
          5,
          6,
          7,
          8,
          9,
          10,
          11
         ],
         "y": [
          0.15,
          0.014285714285714285,
          0.12857142857142856,
          0.004761904761904762,
          0.10119047619047619,
          0.2130952380952381,
          0.002380952380952381,
          0.15833333333333333,
          "",
          0.11904761904761904,
          0.08333333333333333,
          0.025
         ]
        },
        {
         "line": {
          "color": "rgba(251, 128, 114, 0.7446808510638296)",
          "dash": "solid",
          "shape": "linear",
          "width": 1.3
         },
         "mode": "lines",
         "name": "31",
         "text": "",
         "type": "scatter",
         "x": [
          0,
          1,
          2,
          3,
          4,
          5,
          6,
          7,
          8,
          9,
          10,
          11
         ],
         "y": [
          0.0658682634730539,
          0.08183632734530938,
          0.21756487025948104,
          0.011976047904191617,
          0.10578842315369262,
          0.11177644710578842,
          "",
          0.11177644710578842,
          "",
          0.17564870259481039,
          0.08582834331337326,
          0.031936127744510975
         ]
        },
        {
         "line": {
          "color": "rgba(128, 177, 211, 0.7446808510638296)",
          "dash": "solid",
          "shape": "linear",
          "width": 1.3
         },
         "mode": "lines",
         "name": "32",
         "text": "",
         "type": "scatter",
         "x": [
          0,
          1,
          2,
          3,
          4,
          5,
          6,
          7,
          8,
          9,
          10,
          11
         ],
         "y": [
          0.17022149302707137,
          0.014766201804757998,
          0.14807219031993438,
          0.008203445447087777,
          0.09392945036915505,
          0.14561115668580804,
          0.020508613617719443,
          0.1292042657916325,
          "",
          0.1681706316652994,
          0.0734208367514356,
          0.02789171452009844
         ]
        },
        {
         "line": {
          "color": "rgba(255, 153, 51, 0.7446808510638296)",
          "dash": "solid",
          "shape": "linear",
          "width": 1.3
         },
         "mode": "lines",
         "name": "33",
         "text": "",
         "type": "scatter",
         "x": [
          0,
          1,
          2,
          3,
          4,
          5,
          6,
          7,
          8,
          9,
          10,
          11
         ],
         "y": [
          0.07538802660753881,
          0.05565410199556541,
          0.08248337028824834,
          0.04501108647450111,
          0.15997782705099778,
          0.009977827050997782,
          0.13259423503325943,
          0.11862527716186252,
          0.016186252771618625,
          0.11208425720620843,
          0.025498891352549888,
          0.16651884700665187
         ]
        },
        {
         "line": {
          "color": "rgba(55, 128, 191, 0.7446808510638296)",
          "dash": "solid",
          "shape": "linear",
          "width": 1.3
         },
         "mode": "lines",
         "name": "34",
         "text": "",
         "type": "scatter",
         "x": [
          0,
          1,
          2,
          3,
          4,
          5,
          6,
          7,
          8,
          9,
          10,
          11
         ],
         "y": [
          0.03980099502487562,
          0.06716417910447761,
          0.06119402985074627,
          0.05323383084577114,
          0.2019900497512438,
          0.009950248756218905,
          0.13880597014925372,
          0.08557213930348259,
          0.022885572139303482,
          0.09054726368159204,
          0.04079601990049751,
          0.1880597014925373
         ]
        },
        {
         "line": {
          "color": "rgba(50, 171, 96, 0.7446808510638296)",
          "dash": "solid",
          "shape": "linear",
          "width": 1.3
         },
         "mode": "lines",
         "name": "35",
         "text": "",
         "type": "scatter",
         "x": [
          0,
          1,
          2,
          3,
          4,
          5,
          6,
          7,
          8,
          9,
          10,
          11
         ],
         "y": [
          0.04928806133625411,
          0.04463307776560788,
          0.08461117196056955,
          0.049835706462212484,
          0.17661555312157723,
          0.004381161007667032,
          0.12568455640744797,
          0.11062431544359255,
          0.01642935377875137,
          0.1593647316538883,
          0.007667031763417305,
          0.17086527929901424
         ]
        },
        {
         "line": {
          "color": "rgba(128, 0, 128, 0.7446808510638296)",
          "dash": "solid",
          "shape": "linear",
          "width": 1.3
         },
         "mode": "lines",
         "name": "36",
         "text": "",
         "type": "scatter",
         "x": [
          0,
          1,
          2,
          3,
          4,
          5,
          6,
          7,
          8,
          9,
          10,
          11
         ],
         "y": [
          0.05944055944055944,
          0.037296037296037296,
          0.09265734265734266,
          0.03496503496503497,
          0.17132867132867133,
          0.017482517482517484,
          0.11946386946386946,
          0.12121212121212122,
          0.03904428904428905,
          0.13694638694638694,
          0.008158508158508158,
          0.16200466200466201
         ]
        },
        {
         "line": {
          "color": "rgba(219, 64, 82, 0.7446808510638296)",
          "dash": "solid",
          "shape": "linear",
          "width": 1.3
         },
         "mode": "lines",
         "name": "37",
         "text": "",
         "type": "scatter",
         "x": [
          0,
          1,
          2,
          3,
          4,
          5,
          6,
          7,
          8,
          9,
          10,
          11
         ],
         "y": [
          0.05672268907563025,
          0.01995798319327731,
          0.06722689075630252,
          0.0273109243697479,
          0.17436974789915966,
          0.007352941176470588,
          0.15966386554621848,
          0.17857142857142858,
          0.01050420168067227,
          0.12710084033613445,
          0.005252100840336135,
          0.16596638655462184
         ]
        },
        {
         "line": {
          "color": "rgba(0, 128, 128, 0.7446808510638296)",
          "dash": "solid",
          "shape": "linear",
          "width": 1.3
         },
         "mode": "lines",
         "name": "38",
         "text": "",
         "type": "scatter",
         "x": [
          0,
          1,
          2,
          3,
          4,
          5,
          6,
          7,
          8,
          9,
          10,
          11
         ],
         "y": [
          "",
          0.08604651162790698,
          0.002325581395348837,
          0.06744186046511629,
          0.26046511627906976,
          "",
          0.1372093023255814,
          "",
          0.1186046511627907,
          0.09767441860465116,
          0.03953488372093023,
          0.19069767441860466
         ]
        },
        {
         "line": {
          "color": "rgba(255, 255, 51, 0.7446808510638296)",
          "dash": "solid",
          "shape": "linear",
          "width": 1.3
         },
         "mode": "lines",
         "name": "39",
         "text": "",
         "type": "scatter",
         "x": [
          0,
          1,
          2,
          3,
          4,
          5,
          6,
          7,
          8,
          9,
          10,
          11
         ],
         "y": [
          0.06798245614035088,
          0.0533625730994152,
          0.0804093567251462,
          0.05482456140350877,
          0.17324561403508773,
          0.009502923976608187,
          0.1286549707602339,
          0.09722222222222222,
          0.021198830409356724,
          0.10307017543859649,
          0.027046783625730993,
          0.1834795321637427
         ]
        },
        {
         "line": {
          "color": "rgba(255, 255, 51, 0.6595744680851063)",
          "dash": "solid",
          "shape": "linear",
          "width": 1.3
         },
         "mode": "lines",
         "name": "40",
         "text": "",
         "type": "scatter",
         "x": [
          0,
          1,
          2,
          3,
          4,
          5,
          6,
          7,
          8,
          9,
          10,
          11
         ],
         "y": [
          0.12253584229390681,
          0.030745967741935484,
          0.15165770609318996,
          0.016129032258064516,
          0.1190076164874552,
          0.11312724014336918,
          0.02139336917562724,
          0.12007168458781362,
          0.02139336917562724,
          0.1609543010752688,
          0.07806899641577061,
          0.04491487455197132
         ]
        },
        {
         "line": {
          "color": "rgba(128, 128, 0, 0.6595744680851063)",
          "dash": "solid",
          "shape": "linear",
          "width": 1.3
         },
         "mode": "lines",
         "name": "41",
         "text": "",
         "type": "scatter",
         "x": [
          0,
          1,
          2,
          3,
          4,
          5,
          6,
          7,
          8,
          9,
          10,
          11
         ],
         "y": [
          0.07547993019197208,
          0.056282722513089,
          0.16928446771378708,
          0.017452006980802792,
          0.12696335078534032,
          0.09598603839441536,
          0.02225130890052356,
          0.11649214659685864,
          0.0231239092495637,
          0.17582897033158812,
          0.07504363001745201,
          0.04581151832460733
         ]
        },
        {
         "line": {
          "color": "rgba(251, 128, 114, 0.6595744680851063)",
          "dash": "solid",
          "shape": "linear",
          "width": 1.3
         },
         "mode": "lines",
         "name": "42",
         "text": "",
         "type": "scatter",
         "x": [
          0,
          1,
          2,
          3,
          4,
          5,
          6,
          7,
          8,
          9,
          10,
          11
         ],
         "y": [
          0.08943089430894309,
          0.03948896631823461,
          0.17828106852497097,
          0.018583042973286876,
          0.12020905923344948,
          0.10801393728222997,
          0.029616724738675958,
          0.12253193960511034,
          0.013937282229965157,
          0.16608594657375145,
          0.08943089430894309,
          0.024390243902439025
         ]
        },
        {
         "line": {
          "color": "rgba(128, 177, 211, 0.6595744680851063)",
          "dash": "solid",
          "shape": "linear",
          "width": 1.3
         },
         "mode": "lines",
         "name": "43",
         "text": "",
         "type": "scatter",
         "x": [
          0,
          1,
          2,
          3,
          4,
          5,
          6,
          7,
          8,
          9,
          10,
          11
         ],
         "y": [
          0.0896551724137931,
          0.07349137931034483,
          0.16379310344827586,
          0.006896551724137931,
          0.12306034482758621,
          0.10517241379310345,
          0.02586206896551724,
          0.12758620689655173,
          0.017241379310344827,
          0.16379310344827586,
          0.07241379310344828,
          0.03103448275862069
         ]
        },
        {
         "line": {
          "color": "rgba(255, 153, 51, 0.6595744680851063)",
          "dash": "solid",
          "shape": "linear",
          "width": 1.3
         },
         "mode": "lines",
         "name": "44",
         "text": "",
         "type": "scatter",
         "x": [
          0,
          1,
          2,
          3,
          4,
          5,
          6,
          7,
          8,
          9,
          10,
          11
         ],
         "y": [
          0.07557117750439367,
          0.07513181019332162,
          0.14982425307557118,
          0.0017574692442882249,
          0.12697715289982425,
          0.10676625659050967,
          0.03163444639718805,
          0.12038664323374342,
          0.013181019332161687,
          0.18189806678383127,
          0.07557117750439367,
          0.04130052724077329
         ]
        },
        {
         "line": {
          "color": "rgba(55, 128, 191, 0.6595744680851063)",
          "dash": "solid",
          "shape": "linear",
          "width": 1.3
         },
         "mode": "lines",
         "name": "45",
         "text": "",
         "type": "scatter",
         "x": [
          0,
          1,
          2,
          3,
          4,
          5,
          6,
          7,
          8,
          9,
          10,
          11
         ],
         "y": [
          0.07963446475195822,
          0.04569190600522193,
          0.19255874673629242,
          0.009138381201044387,
          0.11357702349869452,
          0.09856396866840732,
          0.01174934725848564,
          0.16318537859007834,
          0.0013054830287206266,
          0.17754569190600522,
          0.08093994778067885,
          0.02610966057441253
         ]
        },
        {
         "line": {
          "color": "rgba(50, 171, 96, 0.6595744680851063)",
          "dash": "solid",
          "shape": "linear",
          "width": 1.3
         },
         "mode": "lines",
         "name": "46",
         "text": "",
         "type": "scatter",
         "x": [
          0,
          1,
          2,
          3,
          4,
          5,
          6,
          7,
          8,
          9,
          10,
          11
         ],
         "y": [
          0.01485148514851485,
          0.03217821782178218,
          0.3193069306930693,
          "",
          0.13613861386138615,
          "",
          0.18811881188118812,
          0.11262376237623763,
          0.009900990099009901,
          0.125,
          "",
          0.06188118811881188
         ]
        },
        {
         "line": {
          "color": "rgba(128, 0, 128, 0.6595744680851063)",
          "dash": "solid",
          "shape": "linear",
          "width": 1.3
         },
         "mode": "lines",
         "name": "47",
         "text": "",
         "type": "scatter",
         "x": [
          0,
          1,
          2,
          3,
          4,
          5,
          6,
          7,
          8,
          9,
          10,
          11
         ],
         "y": [
          0.0547945205479452,
          0.05870841487279843,
          0.16503587736464448,
          0.030006523157208087,
          0.12557077625570776,
          0.06457925636007827,
          0.040117416829745595,
          0.06914546640574037,
          0.04044357469015003,
          0.23679060665362034,
          0.060665362035225046,
          0.05414220482713633
         ]
        },
        {
         "line": {
          "color": "rgba(219, 64, 82, 0.6595744680851063)",
          "dash": "solid",
          "shape": "linear",
          "width": 1.3
         },
         "mode": "lines",
         "name": "48",
         "text": "",
         "type": "scatter",
         "x": [
          0,
          1,
          2,
          3,
          4,
          5,
          6,
          7,
          8,
          9,
          10,
          11
         ],
         "y": [
          0.06515957446808511,
          0.06471631205673758,
          0.1950354609929078,
          0.030141843971631204,
          0.08156028368794327,
          0.09884751773049645,
          0.022163120567375887,
          0.12677304964539007,
          0.005319148936170213,
          0.17952127659574468,
          0.1201241134751773,
          0.010638297872340425
         ]
        },
        {
         "line": {
          "color": "rgba(0, 128, 128, 0.6595744680851063)",
          "dash": "solid",
          "shape": "linear",
          "width": 1.3
         },
         "mode": "lines",
         "name": "49",
         "text": "",
         "type": "scatter",
         "x": [
          0,
          1,
          2,
          3,
          4,
          5,
          6,
          7,
          8,
          9,
          10,
          11
         ],
         "y": [
          0.06408839779005525,
          0.045303867403314914,
          0.19005524861878453,
          0.014364640883977901,
          0.09502762430939227,
          0.08729281767955802,
          0.03867403314917127,
          0.13701657458563535,
          0.0022099447513812156,
          0.212707182320442,
          0.09613259668508287,
          0.01712707182320442
         ]
        },
        {
         "line": {
          "color": "rgba(0, 128, 128, 0.5744680851063828)",
          "dash": "solid",
          "shape": "linear",
          "width": 1.3
         },
         "mode": "lines",
         "name": "50",
         "text": "",
         "type": "scatter",
         "x": [
          0,
          1,
          2,
          3,
          4,
          5,
          6,
          7,
          8,
          9,
          10,
          11
         ],
         "y": [
          0.04745166959578207,
          0.070298769771529,
          0.17398945518453426,
          0.033391915641476276,
          0.10193321616871705,
          0.06854130052724078,
          0.0492091388400703,
          0.13708260105448156,
          0.014059753954305799,
          0.18453427065026362,
          0.1054481546572935,
          0.014059753954305799
         ]
        },
        {
         "line": {
          "color": "rgba(255, 255, 51, 0.5744680851063828)",
          "dash": "solid",
          "shape": "linear",
          "width": 1.3
         },
         "mode": "lines",
         "name": "51",
         "text": "",
         "type": "scatter",
         "x": [
          0,
          1,
          2,
          3,
          4,
          5,
          6,
          7,
          8,
          9,
          10,
          11
         ],
         "y": [
          0.083710407239819,
          0.02262443438914027,
          0.2149321266968326,
          0.00904977375565611,
          0.08144796380090498,
          0.16855203619909503,
          0.004524886877828055,
          0.08257918552036199,
          0.013574660633484163,
          0.20927601809954752,
          0.08144796380090498,
          0.02828054298642534
         ]
        },
        {
         "line": {
          "color": "rgba(128, 128, 0, 0.5744680851063828)",
          "dash": "solid",
          "shape": "linear",
          "width": 1.3
         },
         "mode": "lines",
         "name": "52",
         "text": "",
         "type": "scatter",
         "x": [
          0,
          1,
          2,
          3,
          4,
          5,
          6,
          7,
          8,
          9,
          10,
          11
         ],
         "y": [
          0.05626780626780627,
          0.04415954415954416,
          0.18945868945868946,
          0.0014245014245014246,
          0.11609686609686609,
          0.16951566951566951,
          0.008547008547008548,
          0.1502849002849003,
          "",
          0.18091168091168092,
          0.0754985754985755,
          0.007834757834757835
         ]
        },
        {
         "line": {
          "color": "rgba(251, 128, 114, 0.5744680851063828)",
          "dash": "solid",
          "shape": "linear",
          "width": 1.3
         },
         "mode": "lines",
         "name": "53",
         "text": "",
         "type": "scatter",
         "x": [
          0,
          1,
          2,
          3,
          4,
          5,
          6,
          7,
          8,
          9,
          10,
          11
         ],
         "y": [
          0.07632263660017347,
          0.0585429314830876,
          0.18647007805724197,
          "",
          0.1491760624457936,
          0.09193408499566348,
          0.021248915871639202,
          0.09496964440589765,
          0.02818733738074588,
          0.16435385949696443,
          0.05724197745013009,
          0.07155247181266262
         ]
        },
        {
         "line": {
          "color": "rgba(128, 177, 211, 0.5744680851063828)",
          "dash": "solid",
          "shape": "linear",
          "width": 1.3
         },
         "mode": "lines",
         "name": "54",
         "text": "",
         "type": "scatter",
         "x": [
          0,
          1,
          2,
          3,
          4,
          5,
          6,
          7,
          8,
          9,
          10,
          11
         ],
         "y": [
          0.1794717887154862,
          0.021608643457382955,
          0.09663865546218488,
          0.10264105642256903,
          0.022809123649459785,
          0.11884753901560624,
          0.012605042016806723,
          0.18307322929171668,
          0.11644657863145258,
          0.010804321728691477,
          0.10084033613445378,
          0.034213685474189674
         ]
        },
        {
         "line": {
          "color": "rgba(255, 153, 51, 0.5744680851063828)",
          "dash": "solid",
          "shape": "linear",
          "width": 1.3
         },
         "mode": "lines",
         "name": "55",
         "text": "",
         "type": "scatter",
         "x": [
          0,
          1,
          2,
          3,
          4,
          5,
          6,
          7,
          8,
          9,
          10,
          11
         ],
         "y": [
          0.15155807365439095,
          0.026912181303116147,
          0.11614730878186968,
          0.12464589235127478,
          0.021246458923512748,
          0.12464589235127478,
          0.0113314447592068,
          0.1558073654390935,
          0.10198300283286119,
          0.025495750708215296,
          0.1048158640226629,
          0.03541076487252125
         ]
        },
        {
         "line": {
          "color": "rgba(55, 128, 191, 0.5744680851063828)",
          "dash": "solid",
          "shape": "linear",
          "width": 1.3
         },
         "mode": "lines",
         "name": "56",
         "text": "",
         "type": "scatter",
         "x": [
          0,
          1,
          2,
          3,
          4,
          5,
          6,
          7,
          8,
          9,
          10,
          11
         ],
         "y": [
          0.1751207729468599,
          0.012077294685990338,
          0.09359903381642512,
          0.11835748792270531,
          0.018115942028985508,
          0.11714975845410629,
          0.024154589371980676,
          0.18055555555555555,
          0.08393719806763285,
          0.04528985507246377,
          0.09057971014492754,
          0.04106280193236715
         ]
        },
        {
         "line": {
          "color": "rgba(50, 171, 96, 0.5744680851063828)",
          "dash": "solid",
          "shape": "linear",
          "width": 1.3
         },
         "mode": "lines",
         "name": "57",
         "text": "",
         "type": "scatter",
         "x": [
          0,
          1,
          2,
          3,
          4,
          5,
          6,
          7,
          8,
          9,
          10,
          11
         ],
         "y": [
          0.16727941176470587,
          "",
          0.11213235294117647,
          0.16544117647058823,
          0.011029411764705883,
          0.11948529411764706,
          0.009191176470588236,
          0.15625,
          0.07352941176470588,
          0.04595588235294118,
          0.09375,
          0.04595588235294118
         ]
        },
        {
         "line": {
          "color": "rgba(128, 0, 128, 0.5744680851063828)",
          "dash": "solid",
          "shape": "linear",
          "width": 1.3
         },
         "mode": "lines",
         "name": "58",
         "text": "",
         "type": "scatter",
         "x": [
          0,
          1,
          2,
          3,
          4,
          5,
          6,
          7,
          8,
          9,
          10,
          11
         ],
         "y": [
          0.16137566137566137,
          0.005291005291005291,
          0.12698412698412698,
          0.15608465608465608,
          0.026455026455026454,
          0.18518518518518517,
          "",
          0.12962962962962962,
          0.082010582010582,
          0.023809523809523808,
          0.05026455026455026,
          0.05291005291005291
         ]
        },
        {
         "line": {
          "color": "rgba(219, 64, 82, 0.5744680851063828)",
          "dash": "solid",
          "shape": "linear",
          "width": 1.3
         },
         "mode": "lines",
         "name": "59",
         "text": "",
         "type": "scatter",
         "x": [
          0,
          1,
          2,
          3,
          4,
          5,
          6,
          7,
          8,
          9,
          10,
          11
         ],
         "y": [
          0.16024340770791076,
          0.006085192697768763,
          0.10040567951318459,
          0.11663286004056796,
          0.016227180527383367,
          0.15212981744421908,
          0.008113590263691683,
          0.1643002028397566,
          0.11561866125760649,
          0.028397565922920892,
          0.08417849898580122,
          0.04766734279918864
         ]
        },
        {
         "line": {
          "color": "rgba(219, 64, 82, 0.48936170212765956)",
          "dash": "solid",
          "shape": "linear",
          "width": 1.3
         },
         "mode": "lines",
         "name": "60",
         "text": "",
         "type": "scatter",
         "x": [
          0,
          1,
          2,
          3,
          4,
          5,
          6,
          7,
          8,
          9,
          10,
          11
         ],
         "y": [
          0.008860759493670886,
          0.10759493670886076,
          0.09873417721518987,
          0.021518987341772152,
          0.12531645569620253,
          0.020253164556962026,
          0.1848101265822785,
          0.08607594936708861,
          0.027848101265822784,
          0.0759493670886076,
          0.049367088607594936,
          0.19367088607594937
         ]
        },
        {
         "line": {
          "color": "rgba(0, 128, 128, 0.48936170212765956)",
          "dash": "solid",
          "shape": "linear",
          "width": 1.3
         },
         "mode": "lines",
         "name": "61",
         "text": "",
         "type": "scatter",
         "x": [
          0,
          1,
          2,
          3,
          4,
          5,
          6,
          7,
          8,
          9,
          10,
          11
         ],
         "y": [
          0.010982658959537572,
          0.13988439306358383,
          0.10982658959537572,
          0.017341040462427744,
          0.1069364161849711,
          0.016184971098265895,
          0.18439306358381502,
          0.06820809248554913,
          0.03121387283236994,
          0.07514450867052024,
          0.04682080924855491,
          0.1930635838150289
         ]
        },
        {
         "line": {
          "color": "rgba(255, 255, 51, 0.48936170212765956)",
          "dash": "solid",
          "shape": "linear",
          "width": 1.3
         },
         "mode": "lines",
         "name": "62",
         "text": "",
         "type": "scatter",
         "x": [
          0,
          1,
          2,
          3,
          4,
          5,
          6,
          7,
          8,
          9,
          10,
          11
         ],
         "y": [
          0.013777267508610792,
          0.10218140068886337,
          0.15269804822043628,
          0.016073478760045924,
          0.1182548794489093,
          0.016073478760045924,
          0.19690011481056258,
          0.05683122847301952,
          0.040183696900114814,
          0.10332950631458095,
          0.027554535017221583,
          0.15614236509758897
         ]
        },
        {
         "line": {
          "color": "rgba(128, 128, 0, 0.48936170212765956)",
          "dash": "solid",
          "shape": "linear",
          "width": 1.3
         },
         "mode": "lines",
         "name": "63",
         "text": "",
         "type": "scatter",
         "x": [
          0,
          1,
          2,
          3,
          4,
          5,
          6,
          7,
          8,
          9,
          10,
          11
         ],
         "y": [
          "",
          0.1188707280832095,
          0.14710252600297177,
          0.01188707280832095,
          0.1025260029717682,
          0.010401188707280832,
          0.1575037147102526,
          0.0787518573551263,
          0.020802377414561663,
          0.09955423476968796,
          0.03863298662704309,
          0.2139673105497771
         ]
        },
        {
         "line": {
          "color": "rgba(251, 128, 114, 0.48936170212765956)",
          "dash": "solid",
          "shape": "linear",
          "width": 1.3
         },
         "mode": "lines",
         "name": "64",
         "text": "",
         "type": "scatter",
         "x": [
          0,
          1,
          2,
          3,
          4,
          5,
          6,
          7,
          8,
          9,
          10,
          11
         ],
         "y": [
          0.0011574074074074073,
          0.10532407407407407,
          0.15162037037037038,
          0.004629629629629629,
          0.09722222222222222,
          0.011574074074074073,
          0.2199074074074074,
          0.037037037037037035,
          0.032407407407407406,
          0.09490740740740741,
          0.05092592592592592,
          0.19328703703703703
         ]
        },
        {
         "line": {
          "color": "rgba(128, 177, 211, 0.48936170212765956)",
          "dash": "solid",
          "shape": "linear",
          "width": 1.3
         },
         "mode": "lines",
         "name": "65",
         "text": "",
         "type": "scatter",
         "x": [
          0,
          1,
          2,
          3,
          4,
          5,
          6,
          7,
          8,
          9,
          10,
          11
         ],
         "y": [
          0.014184397163120567,
          0.0591016548463357,
          0.11583924349881797,
          0.037825059101654845,
          0.13829787234042554,
          "",
          0.1690307328605201,
          0.1182033096926714,
          0.0070921985815602835,
          0.1016548463356974,
          0.06382978723404255,
          0.17494089834515367
         ]
        },
        {
         "line": {
          "color": "rgba(255, 153, 51, 0.48936170212765956)",
          "dash": "solid",
          "shape": "linear",
          "width": 1.3
         },
         "mode": "lines",
         "name": "66",
         "text": "",
         "type": "scatter",
         "x": [
          0,
          1,
          2,
          3,
          4,
          5,
          6,
          7,
          8,
          9,
          10,
          11
         ],
         "y": [
          0.007509386733416771,
          0.11013767209011265,
          0.13454317897371715,
          0.0050062578222778474,
          0.13391739674593242,
          0.008760951188986232,
          0.17334167709637047,
          0.07008760951188986,
          0.05819774718397998,
          0.12265331664580725,
          0.017521902377972465,
          0.1583229036295369
         ]
        },
        {
         "line": {
          "color": "rgba(55, 128, 191, 0.48936170212765956)",
          "dash": "solid",
          "shape": "linear",
          "width": 1.3
         },
         "mode": "lines",
         "name": "67",
         "text": "",
         "type": "scatter",
         "x": [
          0,
          1,
          2,
          3,
          4,
          5,
          6,
          7,
          8,
          9,
          10,
          11
         ],
         "y": [
          0.12567132116004295,
          0.007518796992481203,
          0.09022556390977443,
          0.1535982814178303,
          0.01611170784103115,
          0.14930182599355532,
          0.0053705692803437165,
          0.1439312567132116,
          0.09452201933404941,
          0.013963480128893663,
          0.17185821697099893,
          0.027926960257787327
         ]
        },
        {
         "line": {
          "color": "rgba(50, 171, 96, 0.48936170212765956)",
          "dash": "solid",
          "shape": "linear",
          "width": 1.3
         },
         "mode": "lines",
         "name": "68",
         "text": "",
         "type": "scatter",
         "x": [
          0,
          1,
          2,
          3,
          4,
          5,
          6,
          7,
          8,
          9,
          10,
          11
         ],
         "y": [
          0.10721098817245327,
          0.021365890881343,
          0.08698969858832507,
          0.1545211751239985,
          0.020602823349866465,
          0.1598626478443342,
          "",
          0.1446012972148035,
          0.08813429988553988,
          0.03548264021365891,
          0.17054559328500574,
          0.0106829454406715
         ]
        },
        {
         "line": {
          "color": "rgba(128, 0, 128, 0.48936170212765956)",
          "dash": "solid",
          "shape": "linear",
          "width": 1.3
         },
         "mode": "lines",
         "name": "69",
         "text": "",
         "type": "scatter",
         "x": [
          0,
          1,
          2,
          3,
          4,
          5,
          6,
          7,
          8,
          9,
          10,
          11
         ],
         "y": [
          0.09541984732824428,
          0.062340966921119595,
          0.07888040712468193,
          0.11704834605597965,
          0.031806615776081425,
          0.14631043256997456,
          "",
          0.12086513994910941,
          0.11323155216284987,
          0.019083969465648856,
          0.21501272264631044,
          ""
         ]
        },
        {
         "line": {
          "color": "rgba(128, 0, 128, 0.40425531914893603)",
          "dash": "solid",
          "shape": "linear",
          "width": 1.3
         },
         "mode": "lines",
         "name": "70",
         "text": "",
         "type": "scatter",
         "x": [
          0,
          1,
          2,
          3,
          4,
          5,
          6,
          7,
          8,
          9,
          10,
          11
         ],
         "y": [
          0.12083333333333333,
          0.022222222222222223,
          0.09861111111111111,
          0.1527777777777778,
          0.019444444444444445,
          0.11944444444444445,
          0.005555555555555556,
          0.15,
          0.11666666666666667,
          0.013888888888888888,
          0.1638888888888889,
          0.016666666666666666
         ]
        },
        {
         "line": {
          "color": "rgba(219, 64, 82, 0.40425531914893603)",
          "dash": "solid",
          "shape": "linear",
          "width": 1.3
         },
         "mode": "lines",
         "name": "71",
         "text": "",
         "type": "scatter",
         "x": [
          0,
          1,
          2,
          3,
          4,
          5,
          6,
          7,
          8,
          9,
          10,
          11
         ],
         "y": [
          0.13003095975232198,
          0.010835913312693499,
          0.09442724458204334,
          0.18575851393188855,
          0.009287925696594427,
          0.14086687306501547,
          "",
          0.13312693498452013,
          0.07894736842105263,
          0.03560371517027864,
          0.16718266253869968,
          0.01393188854489164
         ]
        },
        {
         "line": {
          "color": "rgba(0, 128, 128, 0.40425531914893603)",
          "dash": "solid",
          "shape": "linear",
          "width": 1.3
         },
         "mode": "lines",
         "name": "72",
         "text": "",
         "type": "scatter",
         "x": [
          0,
          1,
          2,
          3,
          4,
          5,
          6,
          7,
          8,
          9,
          10,
          11
         ],
         "y": [
          0.06944444444444445,
          0.037037037037037035,
          0.07407407407407407,
          0.22453703703703703,
          0.004629629629629629,
          0.1388888888888889,
          "",
          0.14583333333333334,
          0.10416666666666667,
          0.013888888888888888,
          0.1875,
          ""
         ]
        },
        {
         "line": {
          "color": "rgba(255, 255, 51, 0.40425531914893603)",
          "dash": "solid",
          "shape": "linear",
          "width": 1.3
         },
         "mode": "lines",
         "name": "73",
         "text": "",
         "type": "scatter",
         "x": [
          0,
          1,
          2,
          3,
          4,
          5,
          6,
          7,
          8,
          9,
          10,
          11
         ],
         "y": [
          0.11507936507936507,
          0.009259259259259259,
          0.11375661375661375,
          0.16137566137566137,
          0.003968253968253968,
          0.15476190476190477,
          "",
          0.12896825396825398,
          0.09722222222222222,
          0.01521164021164021,
          0.18584656084656084,
          0.01455026455026455
         ]
        },
        {
         "line": {
          "color": "rgba(128, 128, 0, 0.40425531914893603)",
          "dash": "solid",
          "shape": "linear",
          "width": 1.3
         },
         "mode": "lines",
         "name": "74",
         "text": "",
         "type": "scatter",
         "x": [
          0,
          1,
          2,
          3,
          4,
          5,
          6,
          7,
          8,
          9,
          10,
          11
         ],
         "y": [
          0.07089898053753475,
          0.03521779425393883,
          0.18257645968489342,
          0.018535681186283594,
          0.11631139944392957,
          0.013901760889712697,
          0.09360518999073215,
          0.19462465245597776,
          0.0009267840593141798,
          0.1459684893419833,
          0.006487488415199258,
          0.12094531974050046
         ]
        },
        {
         "line": {
          "color": "rgba(251, 128, 114, 0.40425531914893603)",
          "dash": "solid",
          "shape": "linear",
          "width": 1.3
         },
         "mode": "lines",
         "name": "75",
         "text": "",
         "type": "scatter",
         "x": [
          0,
          1,
          2,
          3,
          4,
          5,
          6,
          7,
          8,
          9,
          10,
          11
         ],
         "y": [
          0.08091787439613526,
          0.028985507246376812,
          0.1497584541062802,
          0.012077294685990338,
          0.14009661835748793,
          0.0036231884057971015,
          0.11835748792270531,
          0.17149758454106281,
          "",
          0.14130434782608695,
          "",
          0.15338164251207728
         ]
        },
        {
         "line": {
          "color": "rgba(128, 177, 211, 0.40425531914893603)",
          "dash": "solid",
          "shape": "linear",
          "width": 1.3
         },
         "mode": "lines",
         "name": "76",
         "text": "",
         "type": "scatter",
         "x": [
          0,
          1,
          2,
          3,
          4,
          5,
          6,
          7,
          8,
          9,
          10,
          11
         ],
         "y": [
          0.11825980392156864,
          0.026470588235294117,
          0.16200980392156863,
          0.011764705882352941,
          0.11446078431372549,
          0.011029411764705883,
          0.10857843137254901,
          0.19289215686274508,
          0.0014705882352941176,
          0.14142156862745098,
          "",
          0.1116421568627451
         ]
        },
        {
         "line": {
          "color": "rgba(255, 153, 51, 0.40425531914893603)",
          "dash": "solid",
          "shape": "linear",
          "width": 1.3
         },
         "mode": "lines",
         "name": "77",
         "text": "",
         "type": "scatter",
         "x": [
          0,
          1,
          2,
          3,
          4,
          5,
          6,
          7,
          8,
          9,
          10,
          11
         ],
         "y": [
          0.0830188679245283,
          0.026415094339622643,
          0.16037735849056603,
          0.026415094339622643,
          0.09622641509433963,
          0.0037735849056603774,
          0.13773584905660377,
          0.15471698113207547,
          "",
          0.17547169811320754,
          "",
          0.13584905660377358
         ]
        },
        {
         "line": {
          "color": "rgba(55, 128, 191, 0.40425531914893603)",
          "dash": "solid",
          "shape": "linear",
          "width": 1.3
         },
         "mode": "lines",
         "name": "78",
         "text": "",
         "type": "scatter",
         "x": [
          0,
          1,
          2,
          3,
          4,
          5,
          6,
          7,
          8,
          9,
          10,
          11
         ],
         "y": [
          0.07556935817805382,
          0.016563146997929608,
          0.16149068322981366,
          0.016563146997929608,
          0.10766045548654245,
          0.006211180124223602,
          0.08488612836438923,
          0.21325051759834368,
          0.008281573498964804,
          0.12215320910973085,
          0.004140786749482402,
          0.18322981366459629
         ]
        },
        {
         "line": {
          "color": "rgba(50, 171, 96, 0.40425531914893603)",
          "dash": "solid",
          "shape": "linear",
          "width": 1.3
         },
         "mode": "lines",
         "name": "79",
         "text": "",
         "type": "scatter",
         "x": [
          0,
          1,
          2,
          3,
          4,
          5,
          6,
          7,
          8,
          9,
          10,
          11
         ],
         "y": [
          0.07775768535262206,
          0.0162748643761302,
          0.15913200723327306,
          0.009945750452079566,
          0.08408679927667269,
          0.019891500904159132,
          0.11482820976491863,
          0.18264014466546113,
          0.0045207956600361665,
          0.17992766726943943,
          "",
          0.15099457504520797
         ]
        },
        {
         "line": {
          "color": "rgba(50, 171, 96, 0.3191489361702127)",
          "dash": "solid",
          "shape": "linear",
          "width": 1.3
         },
         "mode": "lines",
         "name": "80",
         "text": "",
         "type": "scatter",
         "x": [
          0,
          1,
          2,
          3,
          4,
          5,
          6,
          7,
          8,
          9,
          10,
          11
         ],
         "y": [
          0.07858546168958742,
          0.0366732154551408,
          0.17550753110674525,
          0.016371971185330715,
          0.12311722331368696,
          0.007203667321545514,
          0.1191879502292076,
          0.14341846758349705,
          0.008513425016371971,
          0.1696136214800262,
          "",
          0.12180746561886051
         ]
        },
        {
         "line": {
          "color": "rgba(128, 0, 128, 0.3191489361702127)",
          "dash": "solid",
          "shape": "linear",
          "width": 1.3
         },
         "mode": "lines",
         "name": "81",
         "text": "",
         "type": "scatter",
         "x": [
          0,
          1,
          2,
          3,
          4,
          5,
          6,
          7,
          8,
          9,
          10,
          11
         ],
         "y": [
          0.012557077625570776,
          0.10844748858447488,
          0.01141552511415525,
          0.10388127853881278,
          0.17922374429223745,
          "",
          0.1689497716894977,
          0.0045662100456621,
          0.11986301369863013,
          0.09817351598173515,
          0.025684931506849314,
          0.16723744292237444
         ]
        },
        {
         "line": {
          "color": "rgba(219, 64, 82, 0.3191489361702127)",
          "dash": "solid",
          "shape": "linear",
          "width": 1.3
         },
         "mode": "lines",
         "name": "82",
         "text": "",
         "type": "scatter",
         "x": [
          0,
          1,
          2,
          3,
          4,
          5,
          6,
          7,
          8,
          9,
          10,
          11
         ],
         "y": [
          0.03288490284005979,
          0.12705530642750373,
          0.0029895366218236174,
          0.13004484304932734,
          0.13452914798206278,
          0.008968609865470852,
          0.14349775784753363,
          "",
          0.12406576980568013,
          0.11061285500747384,
          0.02242152466367713,
          0.16292974588938713
         ]
        },
        {
         "line": {
          "color": "rgba(0, 128, 128, 0.3191489361702127)",
          "dash": "solid",
          "shape": "linear",
          "width": 1.3
         },
         "mode": "lines",
         "name": "83",
         "text": "",
         "type": "scatter",
         "x": [
          0,
          1,
          2,
          3,
          4,
          5,
          6,
          7,
          8,
          9,
          10,
          11
         ],
         "y": [
          0.019891500904159132,
          0.1518987341772152,
          0.0189873417721519,
          0.07866184448462929,
          0.13652802893309224,
          0.02305605786618445,
          0.16365280289330922,
          "",
          0.1089511754068716,
          0.08770343580470162,
          0.026220614828209764,
          0.1844484629294756
         ]
        },
        {
         "line": {
          "color": "rgba(255, 255, 51, 0.3191489361702127)",
          "dash": "solid",
          "shape": "linear",
          "width": 1.3
         },
         "mode": "lines",
         "name": "84",
         "text": "",
         "type": "scatter",
         "x": [
          0,
          1,
          2,
          3,
          4,
          5,
          6,
          7,
          8,
          9,
          10,
          11
         ],
         "y": [
          0.00663716814159292,
          0.09955752212389381,
          0.015486725663716814,
          0.08517699115044247,
          0.16482300884955753,
          0.01327433628318584,
          0.17146017699115043,
          "",
          0.13606194690265486,
          0.125,
          0.0055309734513274336,
          0.17699115044247787
         ]
        },
        {
         "line": {
          "color": "rgba(128, 128, 0, 0.3191489361702127)",
          "dash": "solid",
          "shape": "linear",
          "width": 1.3
         },
         "mode": "lines",
         "name": "85",
         "text": "",
         "type": "scatter",
         "x": [
          0,
          1,
          2,
          3,
          4,
          5,
          6,
          7,
          8,
          9,
          10,
          11
         ],
         "y": [
          0.022569444444444444,
          0.1371527777777778,
          0.017361111111111112,
          0.11284722222222222,
          0.1875,
          0.010416666666666666,
          0.11805555555555555,
          0.003472222222222222,
          0.140625,
          0.08333333333333333,
          0.027777777777777776,
          0.1388888888888889
         ]
        },
        {
         "line": {
          "color": "rgba(251, 128, 114, 0.3191489361702127)",
          "dash": "solid",
          "shape": "linear",
          "width": 1.3
         },
         "mode": "lines",
         "name": "86",
         "text": "",
         "type": "scatter",
         "x": [
          0,
          1,
          2,
          3,
          4,
          5,
          6,
          7,
          8,
          9,
          10,
          11
         ],
         "y": [
          0.010542168674698794,
          0.11596385542168675,
          0.0015060240963855422,
          0.1280120481927711,
          0.13855421686746988,
          0.007530120481927711,
          0.17319277108433734,
          "",
          0.15060240963855423,
          0.08132530120481928,
          0.018072289156626505,
          0.1746987951807229
         ]
        },
        {
         "line": {
          "color": "rgba(128, 177, 211, 0.3191489361702127)",
          "dash": "solid",
          "shape": "linear",
          "width": 1.3
         },
         "mode": "lines",
         "name": "87",
         "text": "",
         "type": "scatter",
         "x": [
          0,
          1,
          2,
          3,
          4,
          5,
          6,
          7,
          8,
          9,
          10,
          11
         ],
         "y": [
          0.0027726432532347504,
          0.09426987060998152,
          0.02865064695009242,
          0.0878003696857671,
          0.16820702402957485,
          0.019408502772643253,
          0.1414048059149723,
          0.0036968576709796672,
          0.13863216266173753,
          0.0988909426987061,
          0.04528650646950092,
          0.1709796672828096
         ]
        },
        {
         "line": {
          "color": "rgba(255, 153, 51, 0.3191489361702127)",
          "dash": "solid",
          "shape": "linear",
          "width": 1.3
         },
         "mode": "lines",
         "name": "88",
         "text": "",
         "type": "scatter",
         "x": [
          0,
          1,
          2,
          3,
          4,
          5,
          6,
          7,
          8,
          9,
          10,
          11
         ],
         "y": [
          0.007142857142857143,
          0.07142857142857142,
          0.0035714285714285713,
          0.11785714285714285,
          0.18571428571428572,
          "",
          0.1357142857142857,
          "",
          0.15357142857142858,
          0.10357142857142858,
          0.025,
          0.19642857142857142
         ]
        },
        {
         "line": {
          "color": "rgba(55, 128, 191, 0.3191489361702127)",
          "dash": "solid",
          "shape": "linear",
          "width": 1.3
         },
         "mode": "lines",
         "name": "89",
         "text": "",
         "type": "scatter",
         "x": [
          0,
          1,
          2,
          3,
          4,
          5,
          6,
          7,
          8,
          9,
          10,
          11
         ],
         "y": [
          0.19116982836495033,
          0.09417344173441734,
          0.0247289972899729,
          0.09462511291779584,
          0.05916892502258356,
          0.15266485998193316,
          0.019986449864498646,
          0.10060975609756098,
          0.11709575429087625,
          0.011404697380307135,
          0.10986901535682023,
          0.02450316169828365
         ]
        },
        {
         "line": {
          "color": "rgba(55, 128, 191, 0.2340425531914892)",
          "dash": "solid",
          "shape": "linear",
          "width": 1.3
         },
         "mode": "lines",
         "name": "90",
         "text": "",
         "type": "scatter",
         "x": [
          0,
          1,
          2,
          3,
          4,
          5,
          6,
          7,
          8,
          9,
          10,
          11
         ],
         "y": [
          0.2150776053215078,
          0.013303769401330379,
          0.08861260690528984,
          0.0031675641431738997,
          0.10468799493189739,
          0.20953436807095346,
          0.0038010769718086796,
          0.1317706683560342,
          0.005147291732657587,
          0.09740259740259741,
          0.10381691479252456,
          0.0236775419702249
         ]
        },
        {
         "line": {
          "color": "rgba(50, 171, 96, 0.2340425531914892)",
          "dash": "solid",
          "shape": "linear",
          "width": 1.3
         },
         "mode": "lines",
         "name": "91",
         "text": "",
         "type": "scatter",
         "x": [
          0,
          1,
          2,
          3,
          4,
          5,
          6,
          7,
          8,
          9,
          10,
          11
         ],
         "y": [
          0.20845814977973567,
          0.05850220264317181,
          0.03700440528634361,
          0.055506607929515416,
          0.06343612334801763,
          0.13779735682819383,
          0.004405286343612335,
          0.11066079295154184,
          0.09691629955947137,
          0.06784140969162995,
          0.12158590308370044,
          0.03788546255506608
         ]
        },
        {
         "line": {
          "color": "rgba(128, 0, 128, 0.2340425531914892)",
          "dash": "solid",
          "shape": "linear",
          "width": 1.3
         },
         "mode": "lines",
         "name": "92",
         "text": "",
         "type": "scatter",
         "x": [
          0,
          1,
          2,
          3,
          4,
          5,
          6,
          7,
          8,
          9,
          10,
          11
         ],
         "y": [
          0.20838048850368884,
          0.07383425256070482,
          0.0292958957094764,
          0.12308573884392233,
          0.0430484922283504,
          0.1052933170976291,
          0.014182365160088818,
          0.13838550247116968,
          0.1279277988682759,
          0.012463290595229567,
          0.09301625958025929,
          0.03108659838120478
         ]
        },
        {
         "line": {
          "color": "rgba(219, 64, 82, 0.2340425531914892)",
          "dash": "solid",
          "shape": "linear",
          "width": 1.3
         },
         "mode": "lines",
         "name": "93",
         "text": "",
         "type": "scatter",
         "x": [
          0,
          1,
          2,
          3,
          4,
          5,
          6,
          7,
          8,
          9,
          10,
          11
         ],
         "y": [
          0.2282712511938873,
          0.0028653295128939827,
          0.110792741165234,
          "",
          0.13228271251193888,
          0.06781279847182427,
          0.013371537726838587,
          0.33858643744030564,
          "",
          0.02865329512893983,
          "",
          0.07736389684813753
         ]
        }
       ],
       "layout": {
        "legend": {
         "bgcolor": "#FFFFFF",
         "font": {
          "color": "#4D5663"
         }
        },
        "paper_bgcolor": "#FFFFFF",
        "plot_bgcolor": "#FFFFFF",
        "template": {
         "data": {
          "bar": [
           {
            "error_x": {
             "color": "#2a3f5f"
            },
            "error_y": {
             "color": "#2a3f5f"
            },
            "marker": {
             "line": {
              "color": "#E5ECF6",
              "width": 0.5
             }
            },
            "type": "bar"
           }
          ],
          "barpolar": [
           {
            "marker": {
             "line": {
              "color": "#E5ECF6",
              "width": 0.5
             }
            },
            "type": "barpolar"
           }
          ],
          "carpet": [
           {
            "aaxis": {
             "endlinecolor": "#2a3f5f",
             "gridcolor": "white",
             "linecolor": "white",
             "minorgridcolor": "white",
             "startlinecolor": "#2a3f5f"
            },
            "baxis": {
             "endlinecolor": "#2a3f5f",
             "gridcolor": "white",
             "linecolor": "white",
             "minorgridcolor": "white",
             "startlinecolor": "#2a3f5f"
            },
            "type": "carpet"
           }
          ],
          "choropleth": [
           {
            "colorbar": {
             "outlinewidth": 0,
             "ticks": ""
            },
            "type": "choropleth"
           }
          ],
          "contour": [
           {
            "colorbar": {
             "outlinewidth": 0,
             "ticks": ""
            },
            "colorscale": [
             [
              0,
              "#0d0887"
             ],
             [
              0.1111111111111111,
              "#46039f"
             ],
             [
              0.2222222222222222,
              "#7201a8"
             ],
             [
              0.3333333333333333,
              "#9c179e"
             ],
             [
              0.4444444444444444,
              "#bd3786"
             ],
             [
              0.5555555555555556,
              "#d8576b"
             ],
             [
              0.6666666666666666,
              "#ed7953"
             ],
             [
              0.7777777777777778,
              "#fb9f3a"
             ],
             [
              0.8888888888888888,
              "#fdca26"
             ],
             [
              1,
              "#f0f921"
             ]
            ],
            "type": "contour"
           }
          ],
          "contourcarpet": [
           {
            "colorbar": {
             "outlinewidth": 0,
             "ticks": ""
            },
            "type": "contourcarpet"
           }
          ],
          "heatmap": [
           {
            "colorbar": {
             "outlinewidth": 0,
             "ticks": ""
            },
            "colorscale": [
             [
              0,
              "#0d0887"
             ],
             [
              0.1111111111111111,
              "#46039f"
             ],
             [
              0.2222222222222222,
              "#7201a8"
             ],
             [
              0.3333333333333333,
              "#9c179e"
             ],
             [
              0.4444444444444444,
              "#bd3786"
             ],
             [
              0.5555555555555556,
              "#d8576b"
             ],
             [
              0.6666666666666666,
              "#ed7953"
             ],
             [
              0.7777777777777778,
              "#fb9f3a"
             ],
             [
              0.8888888888888888,
              "#fdca26"
             ],
             [
              1,
              "#f0f921"
             ]
            ],
            "type": "heatmap"
           }
          ],
          "heatmapgl": [
           {
            "colorbar": {
             "outlinewidth": 0,
             "ticks": ""
            },
            "colorscale": [
             [
              0,
              "#0d0887"
             ],
             [
              0.1111111111111111,
              "#46039f"
             ],
             [
              0.2222222222222222,
              "#7201a8"
             ],
             [
              0.3333333333333333,
              "#9c179e"
             ],
             [
              0.4444444444444444,
              "#bd3786"
             ],
             [
              0.5555555555555556,
              "#d8576b"
             ],
             [
              0.6666666666666666,
              "#ed7953"
             ],
             [
              0.7777777777777778,
              "#fb9f3a"
             ],
             [
              0.8888888888888888,
              "#fdca26"
             ],
             [
              1,
              "#f0f921"
             ]
            ],
            "type": "heatmapgl"
           }
          ],
          "histogram": [
           {
            "marker": {
             "colorbar": {
              "outlinewidth": 0,
              "ticks": ""
             }
            },
            "type": "histogram"
           }
          ],
          "histogram2d": [
           {
            "colorbar": {
             "outlinewidth": 0,
             "ticks": ""
            },
            "colorscale": [
             [
              0,
              "#0d0887"
             ],
             [
              0.1111111111111111,
              "#46039f"
             ],
             [
              0.2222222222222222,
              "#7201a8"
             ],
             [
              0.3333333333333333,
              "#9c179e"
             ],
             [
              0.4444444444444444,
              "#bd3786"
             ],
             [
              0.5555555555555556,
              "#d8576b"
             ],
             [
              0.6666666666666666,
              "#ed7953"
             ],
             [
              0.7777777777777778,
              "#fb9f3a"
             ],
             [
              0.8888888888888888,
              "#fdca26"
             ],
             [
              1,
              "#f0f921"
             ]
            ],
            "type": "histogram2d"
           }
          ],
          "histogram2dcontour": [
           {
            "colorbar": {
             "outlinewidth": 0,
             "ticks": ""
            },
            "colorscale": [
             [
              0,
              "#0d0887"
             ],
             [
              0.1111111111111111,
              "#46039f"
             ],
             [
              0.2222222222222222,
              "#7201a8"
             ],
             [
              0.3333333333333333,
              "#9c179e"
             ],
             [
              0.4444444444444444,
              "#bd3786"
             ],
             [
              0.5555555555555556,
              "#d8576b"
             ],
             [
              0.6666666666666666,
              "#ed7953"
             ],
             [
              0.7777777777777778,
              "#fb9f3a"
             ],
             [
              0.8888888888888888,
              "#fdca26"
             ],
             [
              1,
              "#f0f921"
             ]
            ],
            "type": "histogram2dcontour"
           }
          ],
          "mesh3d": [
           {
            "colorbar": {
             "outlinewidth": 0,
             "ticks": ""
            },
            "type": "mesh3d"
           }
          ],
          "parcoords": [
           {
            "line": {
             "colorbar": {
              "outlinewidth": 0,
              "ticks": ""
             }
            },
            "type": "parcoords"
           }
          ],
          "pie": [
           {
            "automargin": true,
            "type": "pie"
           }
          ],
          "scatter": [
           {
            "marker": {
             "colorbar": {
              "outlinewidth": 0,
              "ticks": ""
             }
            },
            "type": "scatter"
           }
          ],
          "scatter3d": [
           {
            "line": {
             "colorbar": {
              "outlinewidth": 0,
              "ticks": ""
             }
            },
            "marker": {
             "colorbar": {
              "outlinewidth": 0,
              "ticks": ""
             }
            },
            "type": "scatter3d"
           }
          ],
          "scattercarpet": [
           {
            "marker": {
             "colorbar": {
              "outlinewidth": 0,
              "ticks": ""
             }
            },
            "type": "scattercarpet"
           }
          ],
          "scattergeo": [
           {
            "marker": {
             "colorbar": {
              "outlinewidth": 0,
              "ticks": ""
             }
            },
            "type": "scattergeo"
           }
          ],
          "scattergl": [
           {
            "marker": {
             "colorbar": {
              "outlinewidth": 0,
              "ticks": ""
             }
            },
            "type": "scattergl"
           }
          ],
          "scattermapbox": [
           {
            "marker": {
             "colorbar": {
              "outlinewidth": 0,
              "ticks": ""
             }
            },
            "type": "scattermapbox"
           }
          ],
          "scatterpolar": [
           {
            "marker": {
             "colorbar": {
              "outlinewidth": 0,
              "ticks": ""
             }
            },
            "type": "scatterpolar"
           }
          ],
          "scatterpolargl": [
           {
            "marker": {
             "colorbar": {
              "outlinewidth": 0,
              "ticks": ""
             }
            },
            "type": "scatterpolargl"
           }
          ],
          "scatterternary": [
           {
            "marker": {
             "colorbar": {
              "outlinewidth": 0,
              "ticks": ""
             }
            },
            "type": "scatterternary"
           }
          ],
          "surface": [
           {
            "colorbar": {
             "outlinewidth": 0,
             "ticks": ""
            },
            "colorscale": [
             [
              0,
              "#0d0887"
             ],
             [
              0.1111111111111111,
              "#46039f"
             ],
             [
              0.2222222222222222,
              "#7201a8"
             ],
             [
              0.3333333333333333,
              "#9c179e"
             ],
             [
              0.4444444444444444,
              "#bd3786"
             ],
             [
              0.5555555555555556,
              "#d8576b"
             ],
             [
              0.6666666666666666,
              "#ed7953"
             ],
             [
              0.7777777777777778,
              "#fb9f3a"
             ],
             [
              0.8888888888888888,
              "#fdca26"
             ],
             [
              1,
              "#f0f921"
             ]
            ],
            "type": "surface"
           }
          ],
          "table": [
           {
            "cells": {
             "fill": {
              "color": "#EBF0F8"
             },
             "line": {
              "color": "white"
             }
            },
            "header": {
             "fill": {
              "color": "#C8D4E3"
             },
             "line": {
              "color": "white"
             }
            },
            "type": "table"
           }
          ]
         },
         "layout": {
          "annotationdefaults": {
           "arrowcolor": "#2a3f5f",
           "arrowhead": 0,
           "arrowwidth": 1
          },
          "autotypenumbers": "strict",
          "coloraxis": {
           "colorbar": {
            "outlinewidth": 0,
            "ticks": ""
           }
          },
          "colorscale": {
           "diverging": [
            [
             0,
             "#8e0152"
            ],
            [
             0.1,
             "#c51b7d"
            ],
            [
             0.2,
             "#de77ae"
            ],
            [
             0.3,
             "#f1b6da"
            ],
            [
             0.4,
             "#fde0ef"
            ],
            [
             0.5,
             "#f7f7f7"
            ],
            [
             0.6,
             "#e6f5d0"
            ],
            [
             0.7,
             "#b8e186"
            ],
            [
             0.8,
             "#7fbc41"
            ],
            [
             0.9,
             "#4d9221"
            ],
            [
             1,
             "#276419"
            ]
           ],
           "sequential": [
            [
             0,
             "#0d0887"
            ],
            [
             0.1111111111111111,
             "#46039f"
            ],
            [
             0.2222222222222222,
             "#7201a8"
            ],
            [
             0.3333333333333333,
             "#9c179e"
            ],
            [
             0.4444444444444444,
             "#bd3786"
            ],
            [
             0.5555555555555556,
             "#d8576b"
            ],
            [
             0.6666666666666666,
             "#ed7953"
            ],
            [
             0.7777777777777778,
             "#fb9f3a"
            ],
            [
             0.8888888888888888,
             "#fdca26"
            ],
            [
             1,
             "#f0f921"
            ]
           ],
           "sequentialminus": [
            [
             0,
             "#0d0887"
            ],
            [
             0.1111111111111111,
             "#46039f"
            ],
            [
             0.2222222222222222,
             "#7201a8"
            ],
            [
             0.3333333333333333,
             "#9c179e"
            ],
            [
             0.4444444444444444,
             "#bd3786"
            ],
            [
             0.5555555555555556,
             "#d8576b"
            ],
            [
             0.6666666666666666,
             "#ed7953"
            ],
            [
             0.7777777777777778,
             "#fb9f3a"
            ],
            [
             0.8888888888888888,
             "#fdca26"
            ],
            [
             1,
             "#f0f921"
            ]
           ]
          },
          "colorway": [
           "#636efa",
           "#EF553B",
           "#00cc96",
           "#ab63fa",
           "#FFA15A",
           "#19d3f3",
           "#FF6692",
           "#B6E880",
           "#FF97FF",
           "#FECB52"
          ],
          "font": {
           "color": "#2a3f5f"
          },
          "geo": {
           "bgcolor": "white",
           "lakecolor": "white",
           "landcolor": "#E5ECF6",
           "showlakes": true,
           "showland": true,
           "subunitcolor": "white"
          },
          "hoverlabel": {
           "align": "left"
          },
          "hovermode": "closest",
          "mapbox": {
           "style": "light"
          },
          "paper_bgcolor": "white",
          "plot_bgcolor": "#E5ECF6",
          "polar": {
           "angularaxis": {
            "gridcolor": "white",
            "linecolor": "white",
            "ticks": ""
           },
           "bgcolor": "#E5ECF6",
           "radialaxis": {
            "gridcolor": "white",
            "linecolor": "white",
            "ticks": ""
           }
          },
          "scene": {
           "xaxis": {
            "backgroundcolor": "#E5ECF6",
            "gridcolor": "white",
            "gridwidth": 2,
            "linecolor": "white",
            "showbackground": true,
            "ticks": "",
            "zerolinecolor": "white"
           },
           "yaxis": {
            "backgroundcolor": "#E5ECF6",
            "gridcolor": "white",
            "gridwidth": 2,
            "linecolor": "white",
            "showbackground": true,
            "ticks": "",
            "zerolinecolor": "white"
           },
           "zaxis": {
            "backgroundcolor": "#E5ECF6",
            "gridcolor": "white",
            "gridwidth": 2,
            "linecolor": "white",
            "showbackground": true,
            "ticks": "",
            "zerolinecolor": "white"
           }
          },
          "shapedefaults": {
           "line": {
            "color": "#2a3f5f"
           }
          },
          "ternary": {
           "aaxis": {
            "gridcolor": "white",
            "linecolor": "white",
            "ticks": ""
           },
           "baxis": {
            "gridcolor": "white",
            "linecolor": "white",
            "ticks": ""
           },
           "bgcolor": "#E5ECF6",
           "caxis": {
            "gridcolor": "white",
            "linecolor": "white",
            "ticks": ""
           }
          },
          "title": {
           "x": 0.05
          },
          "xaxis": {
           "automargin": true,
           "gridcolor": "white",
           "linecolor": "white",
           "ticks": "",
           "title": {
            "standoff": 15
           },
           "zerolinecolor": "white",
           "zerolinewidth": 2
          },
          "yaxis": {
           "automargin": true,
           "gridcolor": "white",
           "linecolor": "white",
           "ticks": "",
           "title": {
            "standoff": 15
           },
           "zerolinecolor": "white",
           "zerolinewidth": 2
          }
         }
        },
        "title": {
         "font": {
          "color": "#4D5663"
         },
         "text": "Normalised pitch class duration distributions of all pieces"
        },
        "xaxis": {
         "gridcolor": "#E1E5ED",
         "showgrid": true,
         "tickfont": {
          "color": "#4D5663"
         },
         "title": {
          "font": {
           "color": "#4D5663"
          },
          "text": "Chromatic pitch class"
         },
         "zerolinecolor": "#E1E5ED"
        },
        "yaxis": {
         "gridcolor": "#E1E5ED",
         "showgrid": true,
         "tickfont": {
          "color": "#4D5663"
         },
         "title": {
          "font": {
           "color": "#4D5663"
          },
          "text": "Fraction of summed durations"
         },
         "zerolinecolor": "#E1E5ED"
        }
       }
      },
      "text/html": [
       "<div>                            <div id=\"564cc309-74c5-433f-9df3-3d9d48b9c2bf\" class=\"plotly-graph-div\" style=\"height:525px; width:100%;\"></div>            <script type=\"text/javascript\">                require([\"plotly\"], function(Plotly) {                    window.PLOTLYENV=window.PLOTLYENV || {};\n",
       "                    window.PLOTLYENV.BASE_URL='https://plot.ly';                                    if (document.getElementById(\"564cc309-74c5-433f-9df3-3d9d48b9c2bf\")) {                    Plotly.newPlot(                        \"564cc309-74c5-433f-9df3-3d9d48b9c2bf\",                        [{\"line\": {\"color\": \"rgba(255, 153, 51, 1.0)\", \"dash\": \"solid\", \"shape\": \"linear\", \"width\": 1.3}, \"mode\": \"lines\", \"name\": \"0\", \"text\": \"\", \"type\": \"scatter\", \"x\": [0, 1, 2, 3, 4, 5, 6, 7, 8, 9, 10, 11], \"y\": [0.0014853323431117712, 0.12885258076494616, 0.11214259190493873, 0.023022651318232456, 0.1700705532862978, 0.014853323431117713, 0.1344225770516153, 0.02005198663200891, 0.09468993687337542, 0.1656145562569625, 0.014853323431117713, 0.11994058670627553]}, {\"line\": {\"color\": \"rgba(55, 128, 191, 1.0)\", \"dash\": \"solid\", \"shape\": \"linear\", \"width\": 1.3}, \"mode\": \"lines\", \"name\": \"1\", \"text\": \"\", \"type\": \"scatter\", \"x\": [0, 1, 2, 3, 4, 5, 6, 7, 8, 9, 10, 11], \"y\": [0.009027081243731194, 0.12261785356068204, 0.059929789368104315, 0.044132397191574725, 0.18480441323971916, 0.010030090270812437, 0.11860581745235707, 0.015546639919759278, 0.09879638916750251, 0.15747241725175526, 0.02657973921765296, 0.15245737211634905]}, {\"line\": {\"color\": \"rgba(50, 171, 96, 1.0)\", \"dash\": \"solid\", \"shape\": \"linear\", \"width\": 1.3}, \"mode\": \"lines\", \"name\": \"2\", \"text\": \"\", \"type\": \"scatter\", \"x\": [0, 1, 2, 3, 4, 5, 6, 7, 8, 9, 10, 11], \"y\": [\"\", 0.1220472440944882, 0.06561679790026247, 0.03280839895013123, 0.19160104986876642, 0.01968503937007874, 0.1115485564304462, \"\", 0.1220472440944882, 0.18241469816272965, 0.005249343832020997, 0.14698162729658792]}, {\"line\": {\"color\": \"rgba(128, 0, 128, 1.0)\", \"dash\": \"solid\", \"shape\": \"linear\", \"width\": 1.3}, \"mode\": \"lines\", \"name\": \"3\", \"text\": \"\", \"type\": \"scatter\", \"x\": [0, 1, 2, 3, 4, 5, 6, 7, 8, 9, 10, 11], \"y\": [\"\", 0.1334867663981588, 0.08918296892980437, 0.01726121979286536, 0.18411967779056387, \"\", 0.10989643268124281, 0.04200230149597238, 0.06444188722669736, 0.15822784810126583, 0.024165707710011506, 0.17721518987341772]}, {\"line\": {\"color\": \"rgba(219, 64, 82, 1.0)\", \"dash\": \"solid\", \"shape\": \"linear\", \"width\": 1.3}, \"mode\": \"lines\", \"name\": \"4\", \"text\": \"\", \"type\": \"scatter\", \"x\": [0, 1, 2, 3, 4, 5, 6, 7, 8, 9, 10, 11], \"y\": [\"\", 0.12547770700636943, 0.10254777070063695, 0.015286624203821656, 0.18343949044585986, \"\", 0.11910828025477707, 0.03248407643312102, 0.07197452229299363, 0.15987261146496815, 0.025477707006369428, 0.1643312101910828]}, {\"line\": {\"color\": \"rgba(0, 128, 128, 1.0)\", \"dash\": \"solid\", \"shape\": \"linear\", \"width\": 1.3}, \"mode\": \"lines\", \"name\": \"5\", \"text\": \"\", \"type\": \"scatter\", \"x\": [0, 1, 2, 3, 4, 5, 6, 7, 8, 9, 10, 11], \"y\": [\"\", 0.11393939393939394, 0.09090909090909091, 0.01818181818181818, 0.18787878787878787, \"\", 0.11515151515151516, 0.04, 0.0703030303030303, 0.17454545454545456, 0.01696969696969697, 0.17212121212121212]}, {\"line\": {\"color\": \"rgba(255, 255, 51, 1.0)\", \"dash\": \"solid\", \"shape\": \"linear\", \"width\": 1.3}, \"mode\": \"lines\", \"name\": \"6\", \"text\": \"\", \"type\": \"scatter\", \"x\": [0, 1, 2, 3, 4, 5, 6, 7, 8, 9, 10, 11], \"y\": [0.016046681254558718, 0.0962800875273523, 0.1163384390955507, 0.014952589350838803, 0.20313639679066375, 0.012764405543398978, 0.11269146608315099, 0.04741064916119621, 0.05288110867979577, 0.17286652078774617, 0.0175054704595186, 0.13712618526622902]}, {\"line\": {\"color\": \"rgba(128, 128, 0, 1.0)\", \"dash\": \"solid\", \"shape\": \"linear\", \"width\": 1.3}, \"mode\": \"lines\", \"name\": \"7\", \"text\": \"\", \"type\": \"scatter\", \"x\": [0, 1, 2, 3, 4, 5, 6, 7, 8, 9, 10, 11], \"y\": [\"\", 0.1387434554973822, 0.09554973821989529, 0.01963350785340314, 0.19764397905759162, 0.002617801047120419, 0.09031413612565445, 0.01832460732984293, 0.07657068062827226, 0.18651832460732984, 0.003926701570680628, 0.17015706806282724]}, {\"line\": {\"color\": \"rgba(251, 128, 114, 1.0)\", \"dash\": \"solid\", \"shape\": \"linear\", \"width\": 1.3}, \"mode\": \"lines\", \"name\": \"8\", \"text\": \"\", \"type\": \"scatter\", \"x\": [0, 1, 2, 3, 4, 5, 6, 7, 8, 9, 10, 11], \"y\": [0.12241379310344827, 0.01206896551724138, 0.12758620689655173, 0.005172413793103448, 0.18620689655172415, 0.08448275862068966, 0.02586206896551724, 0.06896551724137931, 0.041379310344827586, 0.17758620689655172, 0.010344827586206896, 0.13793103448275862]}, {\"line\": {\"color\": \"rgba(128, 177, 211, 1.0)\", \"dash\": \"solid\", \"shape\": \"linear\", \"width\": 1.3}, \"mode\": \"lines\", \"name\": \"9\", \"text\": \"\", \"type\": \"scatter\", \"x\": [0, 1, 2, 3, 4, 5, 6, 7, 8, 9, 10, 11], \"y\": [0.0020920502092050207, 0.1051255230125523, 0.10721757322175732, 0.02510460251046025, 0.19299163179916318, \"\", 0.12447698744769875, 0.026673640167364017, 0.09361924686192469, 0.1647489539748954, 0.0041841004184100415, 0.15376569037656904]}, {\"line\": {\"color\": \"rgba(128, 177, 211, 0.9148936170212765)\", \"dash\": \"solid\", \"shape\": \"linear\", \"width\": 1.3}, \"mode\": \"lines\", \"name\": \"10\", \"text\": \"\", \"type\": \"scatter\", \"x\": [0, 1, 2, 3, 4, 5, 6, 7, 8, 9, 10, 11], \"y\": [0.12434115955917585, 0.01605174892189746, 0.1195495927168184, 0.017249640632486823, 0.17417345471969334, 0.05079060852898898, 0.052946813608049835, 0.08097747963584093, 0.05965500718735026, 0.1538092956396742, 0.005270723526593196, 0.14518447532343076]}, {\"line\": {\"color\": \"rgba(255, 153, 51, 0.9148936170212765)\", \"dash\": \"solid\", \"shape\": \"linear\", \"width\": 1.3}, \"mode\": \"lines\", \"name\": \"11\", \"text\": \"\", \"type\": \"scatter\", \"x\": [0, 1, 2, 3, 4, 5, 6, 7, 8, 9, 10, 11], \"y\": [0.1023696682464455, 0.025592417061611375, 0.1052132701421801, 0.016113744075829384, 0.16018957345971563, 0.05308056872037915, 0.03981042654028436, 0.07677725118483412, 0.04928909952606635, 0.1848341232227488, 0.009478672985781991, 0.17725118483412322]}, {\"line\": {\"color\": \"rgba(55, 128, 191, 0.9148936170212765)\", \"dash\": \"solid\", \"shape\": \"linear\", \"width\": 1.3}, \"mode\": \"lines\", \"name\": \"12\", \"text\": \"\", \"type\": \"scatter\", \"x\": [0, 1, 2, 3, 4, 5, 6, 7, 8, 9, 10, 11], \"y\": [0.16430817610062892, 0.0110062893081761, 0.1281446540880503, \"\", 0.16352201257861634, 0.09512578616352202, 0.0110062893081761, 0.09984276729559749, 0.04323899371069182, 0.1800314465408805, 0.014150943396226415, 0.08962264150943396]}, {\"line\": {\"color\": \"rgba(50, 171, 96, 0.9148936170212765)\", \"dash\": \"solid\", \"shape\": \"linear\", \"width\": 1.3}, \"mode\": \"lines\", \"name\": \"13\", \"text\": \"\", \"type\": \"scatter\", \"x\": [0, 1, 2, 3, 4, 5, 6, 7, 8, 9, 10, 11], \"y\": [0.15539305301645337, 0.012797074954296161, 0.07312614259597806, 0.021937842778793418, 0.19744058500914077, 0.08775137111517367, 0.0283363802559415, 0.13985374771480805, 0.016453382084095063, 0.1425959780621572, 0.010968921389396709, 0.113345521023766]}, {\"line\": {\"color\": \"rgba(128, 0, 128, 0.9148936170212765)\", \"dash\": \"solid\", \"shape\": \"linear\", \"width\": 1.3}, \"mode\": \"lines\", \"name\": \"14\", \"text\": \"\", \"type\": \"scatter\", \"x\": [0, 1, 2, 3, 4, 5, 6, 7, 8, 9, 10, 11], \"y\": [0.16150870406189555, 0.017408123791102514, 0.07930367504835589, 0.02321083172147002, 0.18665377176015474, 0.08994197292069632, 0.02611218568665377, 0.1402321083172147, 0.0183752417794971, 0.13733075435203096, 0.013056092843326886, 0.10686653771760155]}, {\"line\": {\"color\": \"rgba(219, 64, 82, 0.9148936170212765)\", \"dash\": \"solid\", \"shape\": \"linear\", \"width\": 1.3}, \"mode\": \"lines\", \"name\": \"15\", \"text\": \"\", \"type\": \"scatter\", \"x\": [0, 1, 2, 3, 4, 5, 6, 7, 8, 9, 10, 11], \"y\": [0.10197368421052631, 0.009868421052631578, 0.11951754385964912, 0.02412280701754386, 0.20394736842105263, 0.06578947368421052, 0.041666666666666664, 0.08881578947368421, 0.021929824561403508, 0.1787280701754386, 0.009868421052631578, 0.1337719298245614]}, {\"line\": {\"color\": \"rgba(0, 128, 128, 0.9148936170212765)\", \"dash\": \"solid\", \"shape\": \"linear\", \"width\": 1.3}, \"mode\": \"lines\", \"name\": \"16\", \"text\": \"\", \"type\": \"scatter\", \"x\": [0, 1, 2, 3, 4, 5, 6, 7, 8, 9, 10, 11], \"y\": [\"\", 0.1289308176100629, 0.09748427672955975, 0.018867924528301886, 0.2169811320754717, 0.014150943396226415, 0.09905660377358491, 0.0220125786163522, 0.07547169811320754, 0.19811320754716982, 0.0047169811320754715, 0.12421383647798742]}, {\"line\": {\"color\": \"rgba(255, 255, 51, 0.9148936170212765)\", \"dash\": \"solid\", \"shape\": \"linear\", \"width\": 1.3}, \"mode\": \"lines\", \"name\": \"17\", \"text\": \"\", \"type\": \"scatter\", \"x\": [0, 1, 2, 3, 4, 5, 6, 7, 8, 9, 10, 11], \"y\": [0.14798694232861806, 0.020674646354733407, 0.09031556039173014, 0.025027203482045703, 0.15669205658324264, 0.06528835690968444, 0.05005440696409141, 0.12840043525571274, 0.023939064200217627, 0.16757344940152338, 0.002176278563656148, 0.12187159956474429]}, {\"line\": {\"color\": \"rgba(128, 128, 0, 0.9148936170212765)\", \"dash\": \"solid\", \"shape\": \"linear\", \"width\": 1.3}, \"mode\": \"lines\", \"name\": \"18\", \"text\": \"\", \"type\": \"scatter\", \"x\": [0, 1, 2, 3, 4, 5, 6, 7, 8, 9, 10, 11], \"y\": [0.11541666666666667, 0.020833333333333332, 0.15611111111111112, 0.07333333333333333, 0.03847222222222222, 0.11305555555555556, 0.03888888888888889, 0.14652777777777778, 0.025833333333333333, 0.12597222222222224, 0.13305555555555557, 0.0125]}, {\"line\": {\"color\": \"rgba(251, 128, 114, 0.9148936170212765)\", \"dash\": \"solid\", \"shape\": \"linear\", \"width\": 1.3}, \"mode\": \"lines\", \"name\": \"19\", \"text\": \"\", \"type\": \"scatter\", \"x\": [0, 1, 2, 3, 4, 5, 6, 7, 8, 9, 10, 11], \"y\": [0.11597938144329897, 0.01752577319587629, 0.18350515463917524, 0.08762886597938144, 0.027835051546391754, 0.07835051546391752, 0.0443298969072165, 0.17835051546391753, 0.01443298969072165, 0.12577319587628866, 0.10927835051546392, 0.017010309278350514]}, {\"line\": {\"color\": \"rgba(251, 128, 114, 0.8297872340425532)\", \"dash\": \"solid\", \"shape\": \"linear\", \"width\": 1.3}, \"mode\": \"lines\", \"name\": \"20\", \"text\": \"\", \"type\": \"scatter\", \"x\": [0, 1, 2, 3, 4, 5, 6, 7, 8, 9, 10, 11], \"y\": [0.11717921527041357, 0.014846235418875928, 0.19989395546129374, 0.07794273594909862, 0.02545068928950159, 0.07211028632025451, 0.05408271474019088, 0.17815482502651114, 0.012725344644750796, 0.1102863202545069, 0.1224814422057264, 0.014846235418875928]}, {\"line\": {\"color\": \"rgba(128, 177, 211, 0.8297872340425532)\", \"dash\": \"solid\", \"shape\": \"linear\", \"width\": 1.3}, \"mode\": \"lines\", \"name\": \"21\", \"text\": \"\", \"type\": \"scatter\", \"x\": [0, 1, 2, 3, 4, 5, 6, 7, 8, 9, 10, 11], \"y\": [0.08697411003236245, 0.03802588996763754, 0.11812297734627832, 0.11326860841423948, 0.06310679611650485, 0.07281553398058252, 0.046521035598705504, 0.23179611650485438, 0.01820388349514563, 0.08495145631067962, 0.07928802588996764, 0.04692556634304207]}, {\"line\": {\"color\": \"rgba(255, 153, 51, 0.8297872340425532)\", \"dash\": \"solid\", \"shape\": \"linear\", \"width\": 1.3}, \"mode\": \"lines\", \"name\": \"22\", \"text\": \"\", \"type\": \"scatter\", \"x\": [0, 1, 2, 3, 4, 5, 6, 7, 8, 9, 10, 11], \"y\": [0.09159034138218151, 0.03913405495420483, 0.11809603108520678, 0.11199000832639468, 0.0568970302525673, 0.07306411323896753, 0.04274215931168471, 0.2402164862614488, 0.01706910907577019, 0.08409658617818484, 0.07847626977518735, 0.0466278101582015]}, {\"line\": {\"color\": \"rgba(55, 128, 191, 0.8297872340425532)\", \"dash\": \"solid\", \"shape\": \"linear\", \"width\": 1.3}, \"mode\": \"lines\", \"name\": \"23\", \"text\": \"\", \"type\": \"scatter\", \"x\": [0, 1, 2, 3, 4, 5, 6, 7, 8, 9, 10, 11], \"y\": [0.08518518518518518, 0.009259259259259259, 0.17222222222222222, 0.053703703703703705, 0.03888888888888889, 0.07777777777777778, 0.03148148148148148, 0.2537037037037037, 0.003703703703703704, 0.13333333333333333, 0.13148148148148148, 0.009259259259259259]}, {\"line\": {\"color\": \"rgba(50, 171, 96, 0.8297872340425532)\", \"dash\": \"solid\", \"shape\": \"linear\", \"width\": 1.3}, \"mode\": \"lines\", \"name\": \"24\", \"text\": \"\", \"type\": \"scatter\", \"x\": [0, 1, 2, 3, 4, 5, 6, 7, 8, 9, 10, 11], \"y\": [0.125, \"\", 0.14322916666666666, \"\", 0.036458333333333336, \"\", 0.033854166666666664, 0.4140625, \"\", 0.09114583333333333, \"\", 0.15625]}, {\"line\": {\"color\": \"rgba(128, 0, 128, 0.8297872340425532)\", \"dash\": \"solid\", \"shape\": \"linear\", \"width\": 1.3}, \"mode\": \"lines\", \"name\": \"25\", \"text\": \"\", \"type\": \"scatter\", \"x\": [0, 1, 2, 3, 4, 5, 6, 7, 8, 9, 10, 11], \"y\": [0.10138248847926268, 0.025806451612903226, 0.1640552995391705, 0.053456221198156684, 0.08110599078341015, 0.08202764976958525, 0.04055299539170507, 0.17419354838709677, 0.009216589861751152, 0.1400921658986175, 0.11059907834101383, 0.017511520737327188]}, {\"line\": {\"color\": \"rgba(219, 64, 82, 0.8297872340425532)\", \"dash\": \"solid\", \"shape\": \"linear\", \"width\": 1.3}, \"mode\": \"lines\", \"name\": \"26\", \"text\": \"\", \"type\": \"scatter\", \"x\": [0, 1, 2, 3, 4, 5, 6, 7, 8, 9, 10, 11], \"y\": [0.16533912623702632, 0.008206613565049481, 0.12720251025826695, 0.02293024378469708, 0.09932416123581946, 0.1541153753318851, 0.007482500603427468, 0.13927105961863384, 0.008447984552256819, 0.1348056963552981, 0.09087617668356264, 0.041998551774076756]}, {\"line\": {\"color\": \"rgba(0, 128, 128, 0.8297872340425532)\", \"dash\": \"solid\", \"shape\": \"linear\", \"width\": 1.3}, \"mode\": \"lines\", \"name\": \"27\", \"text\": \"\", \"type\": \"scatter\", \"x\": [0, 1, 2, 3, 4, 5, 6, 7, 8, 9, 10, 11], \"y\": [0.1848425835767608, 0.013631937682570594, 0.10272638753651411, 0.01590392729633236, 0.09688412852969815, 0.16780266147354755, 0.014281077572216812, 0.14492048036351834, 0.006491398896462188, 0.11879259980525804, 0.07724764686790003, 0.05647517039922103]}, {\"line\": {\"color\": \"rgba(255, 255, 51, 0.8297872340425532)\", \"dash\": \"solid\", \"shape\": \"linear\", \"width\": 1.3}, \"mode\": \"lines\", \"name\": \"28\", \"text\": \"\", \"type\": \"scatter\", \"x\": [0, 1, 2, 3, 4, 5, 6, 7, 8, 9, 10, 11], \"y\": [0.1939799331103679, 0.0033444816053511705, 0.11705685618729098, 0.016722408026755852, 0.08528428093645485, 0.20819397993311037, 0.015050167224080268, 0.14715719063545152, \"\", 0.10618729096989966, 0.09531772575250837, 0.011705685618729096]}, {\"line\": {\"color\": \"rgba(128, 128, 0, 0.8297872340425532)\", \"dash\": \"solid\", \"shape\": \"linear\", \"width\": 1.3}, \"mode\": \"lines\", \"name\": \"29\", \"text\": \"\", \"type\": \"scatter\", \"x\": [0, 1, 2, 3, 4, 5, 6, 7, 8, 9, 10, 11], \"y\": [0.17573872472783825, 0.02177293934681182, 0.12441679626749612, 0.026049766718507, 0.06998444790046657, 0.16990668740279938, 0.008553654743390357, 0.16057542768273717, 0.01671850699844479, 0.09214618973561431, 0.1026438569206843, 0.031493001555209954]}, {\"line\": {\"color\": \"rgba(128, 128, 0, 0.7446808510638296)\", \"dash\": \"solid\", \"shape\": \"linear\", \"width\": 1.3}, \"mode\": \"lines\", \"name\": \"30\", \"text\": \"\", \"type\": \"scatter\", \"x\": [0, 1, 2, 3, 4, 5, 6, 7, 8, 9, 10, 11], \"y\": [0.15, 0.014285714285714285, 0.12857142857142856, 0.004761904761904762, 0.10119047619047619, 0.2130952380952381, 0.002380952380952381, 0.15833333333333333, \"\", 0.11904761904761904, 0.08333333333333333, 0.025]}, {\"line\": {\"color\": \"rgba(251, 128, 114, 0.7446808510638296)\", \"dash\": \"solid\", \"shape\": \"linear\", \"width\": 1.3}, \"mode\": \"lines\", \"name\": \"31\", \"text\": \"\", \"type\": \"scatter\", \"x\": [0, 1, 2, 3, 4, 5, 6, 7, 8, 9, 10, 11], \"y\": [0.0658682634730539, 0.08183632734530938, 0.21756487025948104, 0.011976047904191617, 0.10578842315369262, 0.11177644710578842, \"\", 0.11177644710578842, \"\", 0.17564870259481039, 0.08582834331337326, 0.031936127744510975]}, {\"line\": {\"color\": \"rgba(128, 177, 211, 0.7446808510638296)\", \"dash\": \"solid\", \"shape\": \"linear\", \"width\": 1.3}, \"mode\": \"lines\", \"name\": \"32\", \"text\": \"\", \"type\": \"scatter\", \"x\": [0, 1, 2, 3, 4, 5, 6, 7, 8, 9, 10, 11], \"y\": [0.17022149302707137, 0.014766201804757998, 0.14807219031993438, 0.008203445447087777, 0.09392945036915505, 0.14561115668580804, 0.020508613617719443, 0.1292042657916325, \"\", 0.1681706316652994, 0.0734208367514356, 0.02789171452009844]}, {\"line\": {\"color\": \"rgba(255, 153, 51, 0.7446808510638296)\", \"dash\": \"solid\", \"shape\": \"linear\", \"width\": 1.3}, \"mode\": \"lines\", \"name\": \"33\", \"text\": \"\", \"type\": \"scatter\", \"x\": [0, 1, 2, 3, 4, 5, 6, 7, 8, 9, 10, 11], \"y\": [0.07538802660753881, 0.05565410199556541, 0.08248337028824834, 0.04501108647450111, 0.15997782705099778, 0.009977827050997782, 0.13259423503325943, 0.11862527716186252, 0.016186252771618625, 0.11208425720620843, 0.025498891352549888, 0.16651884700665187]}, {\"line\": {\"color\": \"rgba(55, 128, 191, 0.7446808510638296)\", \"dash\": \"solid\", \"shape\": \"linear\", \"width\": 1.3}, \"mode\": \"lines\", \"name\": \"34\", \"text\": \"\", \"type\": \"scatter\", \"x\": [0, 1, 2, 3, 4, 5, 6, 7, 8, 9, 10, 11], \"y\": [0.03980099502487562, 0.06716417910447761, 0.06119402985074627, 0.05323383084577114, 0.2019900497512438, 0.009950248756218905, 0.13880597014925372, 0.08557213930348259, 0.022885572139303482, 0.09054726368159204, 0.04079601990049751, 0.1880597014925373]}, {\"line\": {\"color\": \"rgba(50, 171, 96, 0.7446808510638296)\", \"dash\": \"solid\", \"shape\": \"linear\", \"width\": 1.3}, \"mode\": \"lines\", \"name\": \"35\", \"text\": \"\", \"type\": \"scatter\", \"x\": [0, 1, 2, 3, 4, 5, 6, 7, 8, 9, 10, 11], \"y\": [0.04928806133625411, 0.04463307776560788, 0.08461117196056955, 0.049835706462212484, 0.17661555312157723, 0.004381161007667032, 0.12568455640744797, 0.11062431544359255, 0.01642935377875137, 0.1593647316538883, 0.007667031763417305, 0.17086527929901424]}, {\"line\": {\"color\": \"rgba(128, 0, 128, 0.7446808510638296)\", \"dash\": \"solid\", \"shape\": \"linear\", \"width\": 1.3}, \"mode\": \"lines\", \"name\": \"36\", \"text\": \"\", \"type\": \"scatter\", \"x\": [0, 1, 2, 3, 4, 5, 6, 7, 8, 9, 10, 11], \"y\": [0.05944055944055944, 0.037296037296037296, 0.09265734265734266, 0.03496503496503497, 0.17132867132867133, 0.017482517482517484, 0.11946386946386946, 0.12121212121212122, 0.03904428904428905, 0.13694638694638694, 0.008158508158508158, 0.16200466200466201]}, {\"line\": {\"color\": \"rgba(219, 64, 82, 0.7446808510638296)\", \"dash\": \"solid\", \"shape\": \"linear\", \"width\": 1.3}, \"mode\": \"lines\", \"name\": \"37\", \"text\": \"\", \"type\": \"scatter\", \"x\": [0, 1, 2, 3, 4, 5, 6, 7, 8, 9, 10, 11], \"y\": [0.05672268907563025, 0.01995798319327731, 0.06722689075630252, 0.0273109243697479, 0.17436974789915966, 0.007352941176470588, 0.15966386554621848, 0.17857142857142858, 0.01050420168067227, 0.12710084033613445, 0.005252100840336135, 0.16596638655462184]}, {\"line\": {\"color\": \"rgba(0, 128, 128, 0.7446808510638296)\", \"dash\": \"solid\", \"shape\": \"linear\", \"width\": 1.3}, \"mode\": \"lines\", \"name\": \"38\", \"text\": \"\", \"type\": \"scatter\", \"x\": [0, 1, 2, 3, 4, 5, 6, 7, 8, 9, 10, 11], \"y\": [\"\", 0.08604651162790698, 0.002325581395348837, 0.06744186046511629, 0.26046511627906976, \"\", 0.1372093023255814, \"\", 0.1186046511627907, 0.09767441860465116, 0.03953488372093023, 0.19069767441860466]}, {\"line\": {\"color\": \"rgba(255, 255, 51, 0.7446808510638296)\", \"dash\": \"solid\", \"shape\": \"linear\", \"width\": 1.3}, \"mode\": \"lines\", \"name\": \"39\", \"text\": \"\", \"type\": \"scatter\", \"x\": [0, 1, 2, 3, 4, 5, 6, 7, 8, 9, 10, 11], \"y\": [0.06798245614035088, 0.0533625730994152, 0.0804093567251462, 0.05482456140350877, 0.17324561403508773, 0.009502923976608187, 0.1286549707602339, 0.09722222222222222, 0.021198830409356724, 0.10307017543859649, 0.027046783625730993, 0.1834795321637427]}, {\"line\": {\"color\": \"rgba(255, 255, 51, 0.6595744680851063)\", \"dash\": \"solid\", \"shape\": \"linear\", \"width\": 1.3}, \"mode\": \"lines\", \"name\": \"40\", \"text\": \"\", \"type\": \"scatter\", \"x\": [0, 1, 2, 3, 4, 5, 6, 7, 8, 9, 10, 11], \"y\": [0.12253584229390681, 0.030745967741935484, 0.15165770609318996, 0.016129032258064516, 0.1190076164874552, 0.11312724014336918, 0.02139336917562724, 0.12007168458781362, 0.02139336917562724, 0.1609543010752688, 0.07806899641577061, 0.04491487455197132]}, {\"line\": {\"color\": \"rgba(128, 128, 0, 0.6595744680851063)\", \"dash\": \"solid\", \"shape\": \"linear\", \"width\": 1.3}, \"mode\": \"lines\", \"name\": \"41\", \"text\": \"\", \"type\": \"scatter\", \"x\": [0, 1, 2, 3, 4, 5, 6, 7, 8, 9, 10, 11], \"y\": [0.07547993019197208, 0.056282722513089, 0.16928446771378708, 0.017452006980802792, 0.12696335078534032, 0.09598603839441536, 0.02225130890052356, 0.11649214659685864, 0.0231239092495637, 0.17582897033158812, 0.07504363001745201, 0.04581151832460733]}, {\"line\": {\"color\": \"rgba(251, 128, 114, 0.6595744680851063)\", \"dash\": \"solid\", \"shape\": \"linear\", \"width\": 1.3}, \"mode\": \"lines\", \"name\": \"42\", \"text\": \"\", \"type\": \"scatter\", \"x\": [0, 1, 2, 3, 4, 5, 6, 7, 8, 9, 10, 11], \"y\": [0.08943089430894309, 0.03948896631823461, 0.17828106852497097, 0.018583042973286876, 0.12020905923344948, 0.10801393728222997, 0.029616724738675958, 0.12253193960511034, 0.013937282229965157, 0.16608594657375145, 0.08943089430894309, 0.024390243902439025]}, {\"line\": {\"color\": \"rgba(128, 177, 211, 0.6595744680851063)\", \"dash\": \"solid\", \"shape\": \"linear\", \"width\": 1.3}, \"mode\": \"lines\", \"name\": \"43\", \"text\": \"\", \"type\": \"scatter\", \"x\": [0, 1, 2, 3, 4, 5, 6, 7, 8, 9, 10, 11], \"y\": [0.0896551724137931, 0.07349137931034483, 0.16379310344827586, 0.006896551724137931, 0.12306034482758621, 0.10517241379310345, 0.02586206896551724, 0.12758620689655173, 0.017241379310344827, 0.16379310344827586, 0.07241379310344828, 0.03103448275862069]}, {\"line\": {\"color\": \"rgba(255, 153, 51, 0.6595744680851063)\", \"dash\": \"solid\", \"shape\": \"linear\", \"width\": 1.3}, \"mode\": \"lines\", \"name\": \"44\", \"text\": \"\", \"type\": \"scatter\", \"x\": [0, 1, 2, 3, 4, 5, 6, 7, 8, 9, 10, 11], \"y\": [0.07557117750439367, 0.07513181019332162, 0.14982425307557118, 0.0017574692442882249, 0.12697715289982425, 0.10676625659050967, 0.03163444639718805, 0.12038664323374342, 0.013181019332161687, 0.18189806678383127, 0.07557117750439367, 0.04130052724077329]}, {\"line\": {\"color\": \"rgba(55, 128, 191, 0.6595744680851063)\", \"dash\": \"solid\", \"shape\": \"linear\", \"width\": 1.3}, \"mode\": \"lines\", \"name\": \"45\", \"text\": \"\", \"type\": \"scatter\", \"x\": [0, 1, 2, 3, 4, 5, 6, 7, 8, 9, 10, 11], \"y\": [0.07963446475195822, 0.04569190600522193, 0.19255874673629242, 0.009138381201044387, 0.11357702349869452, 0.09856396866840732, 0.01174934725848564, 0.16318537859007834, 0.0013054830287206266, 0.17754569190600522, 0.08093994778067885, 0.02610966057441253]}, {\"line\": {\"color\": \"rgba(50, 171, 96, 0.6595744680851063)\", \"dash\": \"solid\", \"shape\": \"linear\", \"width\": 1.3}, \"mode\": \"lines\", \"name\": \"46\", \"text\": \"\", \"type\": \"scatter\", \"x\": [0, 1, 2, 3, 4, 5, 6, 7, 8, 9, 10, 11], \"y\": [0.01485148514851485, 0.03217821782178218, 0.3193069306930693, \"\", 0.13613861386138615, \"\", 0.18811881188118812, 0.11262376237623763, 0.009900990099009901, 0.125, \"\", 0.06188118811881188]}, {\"line\": {\"color\": \"rgba(128, 0, 128, 0.6595744680851063)\", \"dash\": \"solid\", \"shape\": \"linear\", \"width\": 1.3}, \"mode\": \"lines\", \"name\": \"47\", \"text\": \"\", \"type\": \"scatter\", \"x\": [0, 1, 2, 3, 4, 5, 6, 7, 8, 9, 10, 11], \"y\": [0.0547945205479452, 0.05870841487279843, 0.16503587736464448, 0.030006523157208087, 0.12557077625570776, 0.06457925636007827, 0.040117416829745595, 0.06914546640574037, 0.04044357469015003, 0.23679060665362034, 0.060665362035225046, 0.05414220482713633]}, {\"line\": {\"color\": \"rgba(219, 64, 82, 0.6595744680851063)\", \"dash\": \"solid\", \"shape\": \"linear\", \"width\": 1.3}, \"mode\": \"lines\", \"name\": \"48\", \"text\": \"\", \"type\": \"scatter\", \"x\": [0, 1, 2, 3, 4, 5, 6, 7, 8, 9, 10, 11], \"y\": [0.06515957446808511, 0.06471631205673758, 0.1950354609929078, 0.030141843971631204, 0.08156028368794327, 0.09884751773049645, 0.022163120567375887, 0.12677304964539007, 0.005319148936170213, 0.17952127659574468, 0.1201241134751773, 0.010638297872340425]}, {\"line\": {\"color\": \"rgba(0, 128, 128, 0.6595744680851063)\", \"dash\": \"solid\", \"shape\": \"linear\", \"width\": 1.3}, \"mode\": \"lines\", \"name\": \"49\", \"text\": \"\", \"type\": \"scatter\", \"x\": [0, 1, 2, 3, 4, 5, 6, 7, 8, 9, 10, 11], \"y\": [0.06408839779005525, 0.045303867403314914, 0.19005524861878453, 0.014364640883977901, 0.09502762430939227, 0.08729281767955802, 0.03867403314917127, 0.13701657458563535, 0.0022099447513812156, 0.212707182320442, 0.09613259668508287, 0.01712707182320442]}, {\"line\": {\"color\": \"rgba(0, 128, 128, 0.5744680851063828)\", \"dash\": \"solid\", \"shape\": \"linear\", \"width\": 1.3}, \"mode\": \"lines\", \"name\": \"50\", \"text\": \"\", \"type\": \"scatter\", \"x\": [0, 1, 2, 3, 4, 5, 6, 7, 8, 9, 10, 11], \"y\": [0.04745166959578207, 0.070298769771529, 0.17398945518453426, 0.033391915641476276, 0.10193321616871705, 0.06854130052724078, 0.0492091388400703, 0.13708260105448156, 0.014059753954305799, 0.18453427065026362, 0.1054481546572935, 0.014059753954305799]}, {\"line\": {\"color\": \"rgba(255, 255, 51, 0.5744680851063828)\", \"dash\": \"solid\", \"shape\": \"linear\", \"width\": 1.3}, \"mode\": \"lines\", \"name\": \"51\", \"text\": \"\", \"type\": \"scatter\", \"x\": [0, 1, 2, 3, 4, 5, 6, 7, 8, 9, 10, 11], \"y\": [0.083710407239819, 0.02262443438914027, 0.2149321266968326, 0.00904977375565611, 0.08144796380090498, 0.16855203619909503, 0.004524886877828055, 0.08257918552036199, 0.013574660633484163, 0.20927601809954752, 0.08144796380090498, 0.02828054298642534]}, {\"line\": {\"color\": \"rgba(128, 128, 0, 0.5744680851063828)\", \"dash\": \"solid\", \"shape\": \"linear\", \"width\": 1.3}, \"mode\": \"lines\", \"name\": \"52\", \"text\": \"\", \"type\": \"scatter\", \"x\": [0, 1, 2, 3, 4, 5, 6, 7, 8, 9, 10, 11], \"y\": [0.05626780626780627, 0.04415954415954416, 0.18945868945868946, 0.0014245014245014246, 0.11609686609686609, 0.16951566951566951, 0.008547008547008548, 0.1502849002849003, \"\", 0.18091168091168092, 0.0754985754985755, 0.007834757834757835]}, {\"line\": {\"color\": \"rgba(251, 128, 114, 0.5744680851063828)\", \"dash\": \"solid\", \"shape\": \"linear\", \"width\": 1.3}, \"mode\": \"lines\", \"name\": \"53\", \"text\": \"\", \"type\": \"scatter\", \"x\": [0, 1, 2, 3, 4, 5, 6, 7, 8, 9, 10, 11], \"y\": [0.07632263660017347, 0.0585429314830876, 0.18647007805724197, \"\", 0.1491760624457936, 0.09193408499566348, 0.021248915871639202, 0.09496964440589765, 0.02818733738074588, 0.16435385949696443, 0.05724197745013009, 0.07155247181266262]}, {\"line\": {\"color\": \"rgba(128, 177, 211, 0.5744680851063828)\", \"dash\": \"solid\", \"shape\": \"linear\", \"width\": 1.3}, \"mode\": \"lines\", \"name\": \"54\", \"text\": \"\", \"type\": \"scatter\", \"x\": [0, 1, 2, 3, 4, 5, 6, 7, 8, 9, 10, 11], \"y\": [0.1794717887154862, 0.021608643457382955, 0.09663865546218488, 0.10264105642256903, 0.022809123649459785, 0.11884753901560624, 0.012605042016806723, 0.18307322929171668, 0.11644657863145258, 0.010804321728691477, 0.10084033613445378, 0.034213685474189674]}, {\"line\": {\"color\": \"rgba(255, 153, 51, 0.5744680851063828)\", \"dash\": \"solid\", \"shape\": \"linear\", \"width\": 1.3}, \"mode\": \"lines\", \"name\": \"55\", \"text\": \"\", \"type\": \"scatter\", \"x\": [0, 1, 2, 3, 4, 5, 6, 7, 8, 9, 10, 11], \"y\": [0.15155807365439095, 0.026912181303116147, 0.11614730878186968, 0.12464589235127478, 0.021246458923512748, 0.12464589235127478, 0.0113314447592068, 0.1558073654390935, 0.10198300283286119, 0.025495750708215296, 0.1048158640226629, 0.03541076487252125]}, {\"line\": {\"color\": \"rgba(55, 128, 191, 0.5744680851063828)\", \"dash\": \"solid\", \"shape\": \"linear\", \"width\": 1.3}, \"mode\": \"lines\", \"name\": \"56\", \"text\": \"\", \"type\": \"scatter\", \"x\": [0, 1, 2, 3, 4, 5, 6, 7, 8, 9, 10, 11], \"y\": [0.1751207729468599, 0.012077294685990338, 0.09359903381642512, 0.11835748792270531, 0.018115942028985508, 0.11714975845410629, 0.024154589371980676, 0.18055555555555555, 0.08393719806763285, 0.04528985507246377, 0.09057971014492754, 0.04106280193236715]}, {\"line\": {\"color\": \"rgba(50, 171, 96, 0.5744680851063828)\", \"dash\": \"solid\", \"shape\": \"linear\", \"width\": 1.3}, \"mode\": \"lines\", \"name\": \"57\", \"text\": \"\", \"type\": \"scatter\", \"x\": [0, 1, 2, 3, 4, 5, 6, 7, 8, 9, 10, 11], \"y\": [0.16727941176470587, \"\", 0.11213235294117647, 0.16544117647058823, 0.011029411764705883, 0.11948529411764706, 0.009191176470588236, 0.15625, 0.07352941176470588, 0.04595588235294118, 0.09375, 0.04595588235294118]}, {\"line\": {\"color\": \"rgba(128, 0, 128, 0.5744680851063828)\", \"dash\": \"solid\", \"shape\": \"linear\", \"width\": 1.3}, \"mode\": \"lines\", \"name\": \"58\", \"text\": \"\", \"type\": \"scatter\", \"x\": [0, 1, 2, 3, 4, 5, 6, 7, 8, 9, 10, 11], \"y\": [0.16137566137566137, 0.005291005291005291, 0.12698412698412698, 0.15608465608465608, 0.026455026455026454, 0.18518518518518517, \"\", 0.12962962962962962, 0.082010582010582, 0.023809523809523808, 0.05026455026455026, 0.05291005291005291]}, {\"line\": {\"color\": \"rgba(219, 64, 82, 0.5744680851063828)\", \"dash\": \"solid\", \"shape\": \"linear\", \"width\": 1.3}, \"mode\": \"lines\", \"name\": \"59\", \"text\": \"\", \"type\": \"scatter\", \"x\": [0, 1, 2, 3, 4, 5, 6, 7, 8, 9, 10, 11], \"y\": [0.16024340770791076, 0.006085192697768763, 0.10040567951318459, 0.11663286004056796, 0.016227180527383367, 0.15212981744421908, 0.008113590263691683, 0.1643002028397566, 0.11561866125760649, 0.028397565922920892, 0.08417849898580122, 0.04766734279918864]}, {\"line\": {\"color\": \"rgba(219, 64, 82, 0.48936170212765956)\", \"dash\": \"solid\", \"shape\": \"linear\", \"width\": 1.3}, \"mode\": \"lines\", \"name\": \"60\", \"text\": \"\", \"type\": \"scatter\", \"x\": [0, 1, 2, 3, 4, 5, 6, 7, 8, 9, 10, 11], \"y\": [0.008860759493670886, 0.10759493670886076, 0.09873417721518987, 0.021518987341772152, 0.12531645569620253, 0.020253164556962026, 0.1848101265822785, 0.08607594936708861, 0.027848101265822784, 0.0759493670886076, 0.049367088607594936, 0.19367088607594937]}, {\"line\": {\"color\": \"rgba(0, 128, 128, 0.48936170212765956)\", \"dash\": \"solid\", \"shape\": \"linear\", \"width\": 1.3}, \"mode\": \"lines\", \"name\": \"61\", \"text\": \"\", \"type\": \"scatter\", \"x\": [0, 1, 2, 3, 4, 5, 6, 7, 8, 9, 10, 11], \"y\": [0.010982658959537572, 0.13988439306358383, 0.10982658959537572, 0.017341040462427744, 0.1069364161849711, 0.016184971098265895, 0.18439306358381502, 0.06820809248554913, 0.03121387283236994, 0.07514450867052024, 0.04682080924855491, 0.1930635838150289]}, {\"line\": {\"color\": \"rgba(255, 255, 51, 0.48936170212765956)\", \"dash\": \"solid\", \"shape\": \"linear\", \"width\": 1.3}, \"mode\": \"lines\", \"name\": \"62\", \"text\": \"\", \"type\": \"scatter\", \"x\": [0, 1, 2, 3, 4, 5, 6, 7, 8, 9, 10, 11], \"y\": [0.013777267508610792, 0.10218140068886337, 0.15269804822043628, 0.016073478760045924, 0.1182548794489093, 0.016073478760045924, 0.19690011481056258, 0.05683122847301952, 0.040183696900114814, 0.10332950631458095, 0.027554535017221583, 0.15614236509758897]}, {\"line\": {\"color\": \"rgba(128, 128, 0, 0.48936170212765956)\", \"dash\": \"solid\", \"shape\": \"linear\", \"width\": 1.3}, \"mode\": \"lines\", \"name\": \"63\", \"text\": \"\", \"type\": \"scatter\", \"x\": [0, 1, 2, 3, 4, 5, 6, 7, 8, 9, 10, 11], \"y\": [\"\", 0.1188707280832095, 0.14710252600297177, 0.01188707280832095, 0.1025260029717682, 0.010401188707280832, 0.1575037147102526, 0.0787518573551263, 0.020802377414561663, 0.09955423476968796, 0.03863298662704309, 0.2139673105497771]}, {\"line\": {\"color\": \"rgba(251, 128, 114, 0.48936170212765956)\", \"dash\": \"solid\", \"shape\": \"linear\", \"width\": 1.3}, \"mode\": \"lines\", \"name\": \"64\", \"text\": \"\", \"type\": \"scatter\", \"x\": [0, 1, 2, 3, 4, 5, 6, 7, 8, 9, 10, 11], \"y\": [0.0011574074074074073, 0.10532407407407407, 0.15162037037037038, 0.004629629629629629, 0.09722222222222222, 0.011574074074074073, 0.2199074074074074, 0.037037037037037035, 0.032407407407407406, 0.09490740740740741, 0.05092592592592592, 0.19328703703703703]}, {\"line\": {\"color\": \"rgba(128, 177, 211, 0.48936170212765956)\", \"dash\": \"solid\", \"shape\": \"linear\", \"width\": 1.3}, \"mode\": \"lines\", \"name\": \"65\", \"text\": \"\", \"type\": \"scatter\", \"x\": [0, 1, 2, 3, 4, 5, 6, 7, 8, 9, 10, 11], \"y\": [0.014184397163120567, 0.0591016548463357, 0.11583924349881797, 0.037825059101654845, 0.13829787234042554, \"\", 0.1690307328605201, 0.1182033096926714, 0.0070921985815602835, 0.1016548463356974, 0.06382978723404255, 0.17494089834515367]}, {\"line\": {\"color\": \"rgba(255, 153, 51, 0.48936170212765956)\", \"dash\": \"solid\", \"shape\": \"linear\", \"width\": 1.3}, \"mode\": \"lines\", \"name\": \"66\", \"text\": \"\", \"type\": \"scatter\", \"x\": [0, 1, 2, 3, 4, 5, 6, 7, 8, 9, 10, 11], \"y\": [0.007509386733416771, 0.11013767209011265, 0.13454317897371715, 0.0050062578222778474, 0.13391739674593242, 0.008760951188986232, 0.17334167709637047, 0.07008760951188986, 0.05819774718397998, 0.12265331664580725, 0.017521902377972465, 0.1583229036295369]}, {\"line\": {\"color\": \"rgba(55, 128, 191, 0.48936170212765956)\", \"dash\": \"solid\", \"shape\": \"linear\", \"width\": 1.3}, \"mode\": \"lines\", \"name\": \"67\", \"text\": \"\", \"type\": \"scatter\", \"x\": [0, 1, 2, 3, 4, 5, 6, 7, 8, 9, 10, 11], \"y\": [0.12567132116004295, 0.007518796992481203, 0.09022556390977443, 0.1535982814178303, 0.01611170784103115, 0.14930182599355532, 0.0053705692803437165, 0.1439312567132116, 0.09452201933404941, 0.013963480128893663, 0.17185821697099893, 0.027926960257787327]}, {\"line\": {\"color\": \"rgba(50, 171, 96, 0.48936170212765956)\", \"dash\": \"solid\", \"shape\": \"linear\", \"width\": 1.3}, \"mode\": \"lines\", \"name\": \"68\", \"text\": \"\", \"type\": \"scatter\", \"x\": [0, 1, 2, 3, 4, 5, 6, 7, 8, 9, 10, 11], \"y\": [0.10721098817245327, 0.021365890881343, 0.08698969858832507, 0.1545211751239985, 0.020602823349866465, 0.1598626478443342, \"\", 0.1446012972148035, 0.08813429988553988, 0.03548264021365891, 0.17054559328500574, 0.0106829454406715]}, {\"line\": {\"color\": \"rgba(128, 0, 128, 0.48936170212765956)\", \"dash\": \"solid\", \"shape\": \"linear\", \"width\": 1.3}, \"mode\": \"lines\", \"name\": \"69\", \"text\": \"\", \"type\": \"scatter\", \"x\": [0, 1, 2, 3, 4, 5, 6, 7, 8, 9, 10, 11], \"y\": [0.09541984732824428, 0.062340966921119595, 0.07888040712468193, 0.11704834605597965, 0.031806615776081425, 0.14631043256997456, \"\", 0.12086513994910941, 0.11323155216284987, 0.019083969465648856, 0.21501272264631044, \"\"]}, {\"line\": {\"color\": \"rgba(128, 0, 128, 0.40425531914893603)\", \"dash\": \"solid\", \"shape\": \"linear\", \"width\": 1.3}, \"mode\": \"lines\", \"name\": \"70\", \"text\": \"\", \"type\": \"scatter\", \"x\": [0, 1, 2, 3, 4, 5, 6, 7, 8, 9, 10, 11], \"y\": [0.12083333333333333, 0.022222222222222223, 0.09861111111111111, 0.1527777777777778, 0.019444444444444445, 0.11944444444444445, 0.005555555555555556, 0.15, 0.11666666666666667, 0.013888888888888888, 0.1638888888888889, 0.016666666666666666]}, {\"line\": {\"color\": \"rgba(219, 64, 82, 0.40425531914893603)\", \"dash\": \"solid\", \"shape\": \"linear\", \"width\": 1.3}, \"mode\": \"lines\", \"name\": \"71\", \"text\": \"\", \"type\": \"scatter\", \"x\": [0, 1, 2, 3, 4, 5, 6, 7, 8, 9, 10, 11], \"y\": [0.13003095975232198, 0.010835913312693499, 0.09442724458204334, 0.18575851393188855, 0.009287925696594427, 0.14086687306501547, \"\", 0.13312693498452013, 0.07894736842105263, 0.03560371517027864, 0.16718266253869968, 0.01393188854489164]}, {\"line\": {\"color\": \"rgba(0, 128, 128, 0.40425531914893603)\", \"dash\": \"solid\", \"shape\": \"linear\", \"width\": 1.3}, \"mode\": \"lines\", \"name\": \"72\", \"text\": \"\", \"type\": \"scatter\", \"x\": [0, 1, 2, 3, 4, 5, 6, 7, 8, 9, 10, 11], \"y\": [0.06944444444444445, 0.037037037037037035, 0.07407407407407407, 0.22453703703703703, 0.004629629629629629, 0.1388888888888889, \"\", 0.14583333333333334, 0.10416666666666667, 0.013888888888888888, 0.1875, \"\"]}, {\"line\": {\"color\": \"rgba(255, 255, 51, 0.40425531914893603)\", \"dash\": \"solid\", \"shape\": \"linear\", \"width\": 1.3}, \"mode\": \"lines\", \"name\": \"73\", \"text\": \"\", \"type\": \"scatter\", \"x\": [0, 1, 2, 3, 4, 5, 6, 7, 8, 9, 10, 11], \"y\": [0.11507936507936507, 0.009259259259259259, 0.11375661375661375, 0.16137566137566137, 0.003968253968253968, 0.15476190476190477, \"\", 0.12896825396825398, 0.09722222222222222, 0.01521164021164021, 0.18584656084656084, 0.01455026455026455]}, {\"line\": {\"color\": \"rgba(128, 128, 0, 0.40425531914893603)\", \"dash\": \"solid\", \"shape\": \"linear\", \"width\": 1.3}, \"mode\": \"lines\", \"name\": \"74\", \"text\": \"\", \"type\": \"scatter\", \"x\": [0, 1, 2, 3, 4, 5, 6, 7, 8, 9, 10, 11], \"y\": [0.07089898053753475, 0.03521779425393883, 0.18257645968489342, 0.018535681186283594, 0.11631139944392957, 0.013901760889712697, 0.09360518999073215, 0.19462465245597776, 0.0009267840593141798, 0.1459684893419833, 0.006487488415199258, 0.12094531974050046]}, {\"line\": {\"color\": \"rgba(251, 128, 114, 0.40425531914893603)\", \"dash\": \"solid\", \"shape\": \"linear\", \"width\": 1.3}, \"mode\": \"lines\", \"name\": \"75\", \"text\": \"\", \"type\": \"scatter\", \"x\": [0, 1, 2, 3, 4, 5, 6, 7, 8, 9, 10, 11], \"y\": [0.08091787439613526, 0.028985507246376812, 0.1497584541062802, 0.012077294685990338, 0.14009661835748793, 0.0036231884057971015, 0.11835748792270531, 0.17149758454106281, \"\", 0.14130434782608695, \"\", 0.15338164251207728]}, {\"line\": {\"color\": \"rgba(128, 177, 211, 0.40425531914893603)\", \"dash\": \"solid\", \"shape\": \"linear\", \"width\": 1.3}, \"mode\": \"lines\", \"name\": \"76\", \"text\": \"\", \"type\": \"scatter\", \"x\": [0, 1, 2, 3, 4, 5, 6, 7, 8, 9, 10, 11], \"y\": [0.11825980392156864, 0.026470588235294117, 0.16200980392156863, 0.011764705882352941, 0.11446078431372549, 0.011029411764705883, 0.10857843137254901, 0.19289215686274508, 0.0014705882352941176, 0.14142156862745098, \"\", 0.1116421568627451]}, {\"line\": {\"color\": \"rgba(255, 153, 51, 0.40425531914893603)\", \"dash\": \"solid\", \"shape\": \"linear\", \"width\": 1.3}, \"mode\": \"lines\", \"name\": \"77\", \"text\": \"\", \"type\": \"scatter\", \"x\": [0, 1, 2, 3, 4, 5, 6, 7, 8, 9, 10, 11], \"y\": [0.0830188679245283, 0.026415094339622643, 0.16037735849056603, 0.026415094339622643, 0.09622641509433963, 0.0037735849056603774, 0.13773584905660377, 0.15471698113207547, \"\", 0.17547169811320754, \"\", 0.13584905660377358]}, {\"line\": {\"color\": \"rgba(55, 128, 191, 0.40425531914893603)\", \"dash\": \"solid\", \"shape\": \"linear\", \"width\": 1.3}, \"mode\": \"lines\", \"name\": \"78\", \"text\": \"\", \"type\": \"scatter\", \"x\": [0, 1, 2, 3, 4, 5, 6, 7, 8, 9, 10, 11], \"y\": [0.07556935817805382, 0.016563146997929608, 0.16149068322981366, 0.016563146997929608, 0.10766045548654245, 0.006211180124223602, 0.08488612836438923, 0.21325051759834368, 0.008281573498964804, 0.12215320910973085, 0.004140786749482402, 0.18322981366459629]}, {\"line\": {\"color\": \"rgba(50, 171, 96, 0.40425531914893603)\", \"dash\": \"solid\", \"shape\": \"linear\", \"width\": 1.3}, \"mode\": \"lines\", \"name\": \"79\", \"text\": \"\", \"type\": \"scatter\", \"x\": [0, 1, 2, 3, 4, 5, 6, 7, 8, 9, 10, 11], \"y\": [0.07775768535262206, 0.0162748643761302, 0.15913200723327306, 0.009945750452079566, 0.08408679927667269, 0.019891500904159132, 0.11482820976491863, 0.18264014466546113, 0.0045207956600361665, 0.17992766726943943, \"\", 0.15099457504520797]}, {\"line\": {\"color\": \"rgba(50, 171, 96, 0.3191489361702127)\", \"dash\": \"solid\", \"shape\": \"linear\", \"width\": 1.3}, \"mode\": \"lines\", \"name\": \"80\", \"text\": \"\", \"type\": \"scatter\", \"x\": [0, 1, 2, 3, 4, 5, 6, 7, 8, 9, 10, 11], \"y\": [0.07858546168958742, 0.0366732154551408, 0.17550753110674525, 0.016371971185330715, 0.12311722331368696, 0.007203667321545514, 0.1191879502292076, 0.14341846758349705, 0.008513425016371971, 0.1696136214800262, \"\", 0.12180746561886051]}, {\"line\": {\"color\": \"rgba(128, 0, 128, 0.3191489361702127)\", \"dash\": \"solid\", \"shape\": \"linear\", \"width\": 1.3}, \"mode\": \"lines\", \"name\": \"81\", \"text\": \"\", \"type\": \"scatter\", \"x\": [0, 1, 2, 3, 4, 5, 6, 7, 8, 9, 10, 11], \"y\": [0.012557077625570776, 0.10844748858447488, 0.01141552511415525, 0.10388127853881278, 0.17922374429223745, \"\", 0.1689497716894977, 0.0045662100456621, 0.11986301369863013, 0.09817351598173515, 0.025684931506849314, 0.16723744292237444]}, {\"line\": {\"color\": \"rgba(219, 64, 82, 0.3191489361702127)\", \"dash\": \"solid\", \"shape\": \"linear\", \"width\": 1.3}, \"mode\": \"lines\", \"name\": \"82\", \"text\": \"\", \"type\": \"scatter\", \"x\": [0, 1, 2, 3, 4, 5, 6, 7, 8, 9, 10, 11], \"y\": [0.03288490284005979, 0.12705530642750373, 0.0029895366218236174, 0.13004484304932734, 0.13452914798206278, 0.008968609865470852, 0.14349775784753363, \"\", 0.12406576980568013, 0.11061285500747384, 0.02242152466367713, 0.16292974588938713]}, {\"line\": {\"color\": \"rgba(0, 128, 128, 0.3191489361702127)\", \"dash\": \"solid\", \"shape\": \"linear\", \"width\": 1.3}, \"mode\": \"lines\", \"name\": \"83\", \"text\": \"\", \"type\": \"scatter\", \"x\": [0, 1, 2, 3, 4, 5, 6, 7, 8, 9, 10, 11], \"y\": [0.019891500904159132, 0.1518987341772152, 0.0189873417721519, 0.07866184448462929, 0.13652802893309224, 0.02305605786618445, 0.16365280289330922, \"\", 0.1089511754068716, 0.08770343580470162, 0.026220614828209764, 0.1844484629294756]}, {\"line\": {\"color\": \"rgba(255, 255, 51, 0.3191489361702127)\", \"dash\": \"solid\", \"shape\": \"linear\", \"width\": 1.3}, \"mode\": \"lines\", \"name\": \"84\", \"text\": \"\", \"type\": \"scatter\", \"x\": [0, 1, 2, 3, 4, 5, 6, 7, 8, 9, 10, 11], \"y\": [0.00663716814159292, 0.09955752212389381, 0.015486725663716814, 0.08517699115044247, 0.16482300884955753, 0.01327433628318584, 0.17146017699115043, \"\", 0.13606194690265486, 0.125, 0.0055309734513274336, 0.17699115044247787]}, {\"line\": {\"color\": \"rgba(128, 128, 0, 0.3191489361702127)\", \"dash\": \"solid\", \"shape\": \"linear\", \"width\": 1.3}, \"mode\": \"lines\", \"name\": \"85\", \"text\": \"\", \"type\": \"scatter\", \"x\": [0, 1, 2, 3, 4, 5, 6, 7, 8, 9, 10, 11], \"y\": [0.022569444444444444, 0.1371527777777778, 0.017361111111111112, 0.11284722222222222, 0.1875, 0.010416666666666666, 0.11805555555555555, 0.003472222222222222, 0.140625, 0.08333333333333333, 0.027777777777777776, 0.1388888888888889]}, {\"line\": {\"color\": \"rgba(251, 128, 114, 0.3191489361702127)\", \"dash\": \"solid\", \"shape\": \"linear\", \"width\": 1.3}, \"mode\": \"lines\", \"name\": \"86\", \"text\": \"\", \"type\": \"scatter\", \"x\": [0, 1, 2, 3, 4, 5, 6, 7, 8, 9, 10, 11], \"y\": [0.010542168674698794, 0.11596385542168675, 0.0015060240963855422, 0.1280120481927711, 0.13855421686746988, 0.007530120481927711, 0.17319277108433734, \"\", 0.15060240963855423, 0.08132530120481928, 0.018072289156626505, 0.1746987951807229]}, {\"line\": {\"color\": \"rgba(128, 177, 211, 0.3191489361702127)\", \"dash\": \"solid\", \"shape\": \"linear\", \"width\": 1.3}, \"mode\": \"lines\", \"name\": \"87\", \"text\": \"\", \"type\": \"scatter\", \"x\": [0, 1, 2, 3, 4, 5, 6, 7, 8, 9, 10, 11], \"y\": [0.0027726432532347504, 0.09426987060998152, 0.02865064695009242, 0.0878003696857671, 0.16820702402957485, 0.019408502772643253, 0.1414048059149723, 0.0036968576709796672, 0.13863216266173753, 0.0988909426987061, 0.04528650646950092, 0.1709796672828096]}, {\"line\": {\"color\": \"rgba(255, 153, 51, 0.3191489361702127)\", \"dash\": \"solid\", \"shape\": \"linear\", \"width\": 1.3}, \"mode\": \"lines\", \"name\": \"88\", \"text\": \"\", \"type\": \"scatter\", \"x\": [0, 1, 2, 3, 4, 5, 6, 7, 8, 9, 10, 11], \"y\": [0.007142857142857143, 0.07142857142857142, 0.0035714285714285713, 0.11785714285714285, 0.18571428571428572, \"\", 0.1357142857142857, \"\", 0.15357142857142858, 0.10357142857142858, 0.025, 0.19642857142857142]}, {\"line\": {\"color\": \"rgba(55, 128, 191, 0.3191489361702127)\", \"dash\": \"solid\", \"shape\": \"linear\", \"width\": 1.3}, \"mode\": \"lines\", \"name\": \"89\", \"text\": \"\", \"type\": \"scatter\", \"x\": [0, 1, 2, 3, 4, 5, 6, 7, 8, 9, 10, 11], \"y\": [0.19116982836495033, 0.09417344173441734, 0.0247289972899729, 0.09462511291779584, 0.05916892502258356, 0.15266485998193316, 0.019986449864498646, 0.10060975609756098, 0.11709575429087625, 0.011404697380307135, 0.10986901535682023, 0.02450316169828365]}, {\"line\": {\"color\": \"rgba(55, 128, 191, 0.2340425531914892)\", \"dash\": \"solid\", \"shape\": \"linear\", \"width\": 1.3}, \"mode\": \"lines\", \"name\": \"90\", \"text\": \"\", \"type\": \"scatter\", \"x\": [0, 1, 2, 3, 4, 5, 6, 7, 8, 9, 10, 11], \"y\": [0.2150776053215078, 0.013303769401330379, 0.08861260690528984, 0.0031675641431738997, 0.10468799493189739, 0.20953436807095346, 0.0038010769718086796, 0.1317706683560342, 0.005147291732657587, 0.09740259740259741, 0.10381691479252456, 0.0236775419702249]}, {\"line\": {\"color\": \"rgba(50, 171, 96, 0.2340425531914892)\", \"dash\": \"solid\", \"shape\": \"linear\", \"width\": 1.3}, \"mode\": \"lines\", \"name\": \"91\", \"text\": \"\", \"type\": \"scatter\", \"x\": [0, 1, 2, 3, 4, 5, 6, 7, 8, 9, 10, 11], \"y\": [0.20845814977973567, 0.05850220264317181, 0.03700440528634361, 0.055506607929515416, 0.06343612334801763, 0.13779735682819383, 0.004405286343612335, 0.11066079295154184, 0.09691629955947137, 0.06784140969162995, 0.12158590308370044, 0.03788546255506608]}, {\"line\": {\"color\": \"rgba(128, 0, 128, 0.2340425531914892)\", \"dash\": \"solid\", \"shape\": \"linear\", \"width\": 1.3}, \"mode\": \"lines\", \"name\": \"92\", \"text\": \"\", \"type\": \"scatter\", \"x\": [0, 1, 2, 3, 4, 5, 6, 7, 8, 9, 10, 11], \"y\": [0.20838048850368884, 0.07383425256070482, 0.0292958957094764, 0.12308573884392233, 0.0430484922283504, 0.1052933170976291, 0.014182365160088818, 0.13838550247116968, 0.1279277988682759, 0.012463290595229567, 0.09301625958025929, 0.03108659838120478]}, {\"line\": {\"color\": \"rgba(219, 64, 82, 0.2340425531914892)\", \"dash\": \"solid\", \"shape\": \"linear\", \"width\": 1.3}, \"mode\": \"lines\", \"name\": \"93\", \"text\": \"\", \"type\": \"scatter\", \"x\": [0, 1, 2, 3, 4, 5, 6, 7, 8, 9, 10, 11], \"y\": [0.2282712511938873, 0.0028653295128939827, 0.110792741165234, \"\", 0.13228271251193888, 0.06781279847182427, 0.013371537726838587, 0.33858643744030564, \"\", 0.02865329512893983, \"\", 0.07736389684813753]}],                        {\"legend\": {\"bgcolor\": \"#FFFFFF\", \"font\": {\"color\": \"#4D5663\"}}, \"paper_bgcolor\": \"#FFFFFF\", \"plot_bgcolor\": \"#FFFFFF\", \"template\": {\"data\": {\"bar\": [{\"error_x\": {\"color\": \"#2a3f5f\"}, \"error_y\": {\"color\": \"#2a3f5f\"}, \"marker\": {\"line\": {\"color\": \"#E5ECF6\", \"width\": 0.5}}, \"type\": \"bar\"}], \"barpolar\": [{\"marker\": {\"line\": {\"color\": \"#E5ECF6\", \"width\": 0.5}}, \"type\": \"barpolar\"}], \"carpet\": [{\"aaxis\": {\"endlinecolor\": \"#2a3f5f\", \"gridcolor\": \"white\", \"linecolor\": \"white\", \"minorgridcolor\": \"white\", \"startlinecolor\": \"#2a3f5f\"}, \"baxis\": {\"endlinecolor\": \"#2a3f5f\", \"gridcolor\": \"white\", \"linecolor\": \"white\", \"minorgridcolor\": \"white\", \"startlinecolor\": \"#2a3f5f\"}, \"type\": \"carpet\"}], \"choropleth\": [{\"colorbar\": {\"outlinewidth\": 0, \"ticks\": \"\"}, \"type\": \"choropleth\"}], \"contour\": [{\"colorbar\": {\"outlinewidth\": 0, \"ticks\": \"\"}, \"colorscale\": [[0.0, \"#0d0887\"], [0.1111111111111111, \"#46039f\"], [0.2222222222222222, \"#7201a8\"], [0.3333333333333333, \"#9c179e\"], [0.4444444444444444, \"#bd3786\"], [0.5555555555555556, \"#d8576b\"], [0.6666666666666666, \"#ed7953\"], [0.7777777777777778, \"#fb9f3a\"], [0.8888888888888888, \"#fdca26\"], [1.0, \"#f0f921\"]], \"type\": \"contour\"}], \"contourcarpet\": [{\"colorbar\": {\"outlinewidth\": 0, \"ticks\": \"\"}, \"type\": \"contourcarpet\"}], \"heatmap\": [{\"colorbar\": {\"outlinewidth\": 0, \"ticks\": \"\"}, \"colorscale\": [[0.0, \"#0d0887\"], [0.1111111111111111, \"#46039f\"], [0.2222222222222222, \"#7201a8\"], [0.3333333333333333, \"#9c179e\"], [0.4444444444444444, \"#bd3786\"], [0.5555555555555556, \"#d8576b\"], [0.6666666666666666, \"#ed7953\"], [0.7777777777777778, \"#fb9f3a\"], [0.8888888888888888, \"#fdca26\"], [1.0, \"#f0f921\"]], \"type\": \"heatmap\"}], \"heatmapgl\": [{\"colorbar\": {\"outlinewidth\": 0, \"ticks\": \"\"}, \"colorscale\": [[0.0, \"#0d0887\"], [0.1111111111111111, \"#46039f\"], [0.2222222222222222, \"#7201a8\"], [0.3333333333333333, \"#9c179e\"], [0.4444444444444444, \"#bd3786\"], [0.5555555555555556, \"#d8576b\"], [0.6666666666666666, \"#ed7953\"], [0.7777777777777778, \"#fb9f3a\"], [0.8888888888888888, \"#fdca26\"], [1.0, \"#f0f921\"]], \"type\": \"heatmapgl\"}], \"histogram\": [{\"marker\": {\"colorbar\": {\"outlinewidth\": 0, \"ticks\": \"\"}}, \"type\": \"histogram\"}], \"histogram2d\": [{\"colorbar\": {\"outlinewidth\": 0, \"ticks\": \"\"}, \"colorscale\": [[0.0, \"#0d0887\"], [0.1111111111111111, \"#46039f\"], [0.2222222222222222, \"#7201a8\"], [0.3333333333333333, \"#9c179e\"], [0.4444444444444444, \"#bd3786\"], [0.5555555555555556, \"#d8576b\"], [0.6666666666666666, \"#ed7953\"], [0.7777777777777778, \"#fb9f3a\"], [0.8888888888888888, \"#fdca26\"], [1.0, \"#f0f921\"]], \"type\": \"histogram2d\"}], \"histogram2dcontour\": [{\"colorbar\": {\"outlinewidth\": 0, \"ticks\": \"\"}, \"colorscale\": [[0.0, \"#0d0887\"], [0.1111111111111111, \"#46039f\"], [0.2222222222222222, \"#7201a8\"], [0.3333333333333333, \"#9c179e\"], [0.4444444444444444, \"#bd3786\"], [0.5555555555555556, \"#d8576b\"], [0.6666666666666666, \"#ed7953\"], [0.7777777777777778, \"#fb9f3a\"], [0.8888888888888888, \"#fdca26\"], [1.0, \"#f0f921\"]], \"type\": \"histogram2dcontour\"}], \"mesh3d\": [{\"colorbar\": {\"outlinewidth\": 0, \"ticks\": \"\"}, \"type\": \"mesh3d\"}], \"parcoords\": [{\"line\": {\"colorbar\": {\"outlinewidth\": 0, \"ticks\": \"\"}}, \"type\": \"parcoords\"}], \"pie\": [{\"automargin\": true, \"type\": \"pie\"}], \"scatter\": [{\"marker\": {\"colorbar\": {\"outlinewidth\": 0, \"ticks\": \"\"}}, \"type\": \"scatter\"}], \"scatter3d\": [{\"line\": {\"colorbar\": {\"outlinewidth\": 0, \"ticks\": \"\"}}, \"marker\": {\"colorbar\": {\"outlinewidth\": 0, \"ticks\": \"\"}}, \"type\": \"scatter3d\"}], \"scattercarpet\": [{\"marker\": {\"colorbar\": {\"outlinewidth\": 0, \"ticks\": \"\"}}, \"type\": \"scattercarpet\"}], \"scattergeo\": [{\"marker\": {\"colorbar\": {\"outlinewidth\": 0, \"ticks\": \"\"}}, \"type\": \"scattergeo\"}], \"scattergl\": [{\"marker\": {\"colorbar\": {\"outlinewidth\": 0, \"ticks\": \"\"}}, \"type\": \"scattergl\"}], \"scattermapbox\": [{\"marker\": {\"colorbar\": {\"outlinewidth\": 0, \"ticks\": \"\"}}, \"type\": \"scattermapbox\"}], \"scatterpolar\": [{\"marker\": {\"colorbar\": {\"outlinewidth\": 0, \"ticks\": \"\"}}, \"type\": \"scatterpolar\"}], \"scatterpolargl\": [{\"marker\": {\"colorbar\": {\"outlinewidth\": 0, \"ticks\": \"\"}}, \"type\": \"scatterpolargl\"}], \"scatterternary\": [{\"marker\": {\"colorbar\": {\"outlinewidth\": 0, \"ticks\": \"\"}}, \"type\": \"scatterternary\"}], \"surface\": [{\"colorbar\": {\"outlinewidth\": 0, \"ticks\": \"\"}, \"colorscale\": [[0.0, \"#0d0887\"], [0.1111111111111111, \"#46039f\"], [0.2222222222222222, \"#7201a8\"], [0.3333333333333333, \"#9c179e\"], [0.4444444444444444, \"#bd3786\"], [0.5555555555555556, \"#d8576b\"], [0.6666666666666666, \"#ed7953\"], [0.7777777777777778, \"#fb9f3a\"], [0.8888888888888888, \"#fdca26\"], [1.0, \"#f0f921\"]], \"type\": \"surface\"}], \"table\": [{\"cells\": {\"fill\": {\"color\": \"#EBF0F8\"}, \"line\": {\"color\": \"white\"}}, \"header\": {\"fill\": {\"color\": \"#C8D4E3\"}, \"line\": {\"color\": \"white\"}}, \"type\": \"table\"}]}, \"layout\": {\"annotationdefaults\": {\"arrowcolor\": \"#2a3f5f\", \"arrowhead\": 0, \"arrowwidth\": 1}, \"autotypenumbers\": \"strict\", \"coloraxis\": {\"colorbar\": {\"outlinewidth\": 0, \"ticks\": \"\"}}, \"colorscale\": {\"diverging\": [[0, \"#8e0152\"], [0.1, \"#c51b7d\"], [0.2, \"#de77ae\"], [0.3, \"#f1b6da\"], [0.4, \"#fde0ef\"], [0.5, \"#f7f7f7\"], [0.6, \"#e6f5d0\"], [0.7, \"#b8e186\"], [0.8, \"#7fbc41\"], [0.9, \"#4d9221\"], [1, \"#276419\"]], \"sequential\": [[0.0, \"#0d0887\"], [0.1111111111111111, \"#46039f\"], [0.2222222222222222, \"#7201a8\"], [0.3333333333333333, \"#9c179e\"], [0.4444444444444444, \"#bd3786\"], [0.5555555555555556, \"#d8576b\"], [0.6666666666666666, \"#ed7953\"], [0.7777777777777778, \"#fb9f3a\"], [0.8888888888888888, \"#fdca26\"], [1.0, \"#f0f921\"]], \"sequentialminus\": [[0.0, \"#0d0887\"], [0.1111111111111111, \"#46039f\"], [0.2222222222222222, \"#7201a8\"], [0.3333333333333333, \"#9c179e\"], [0.4444444444444444, \"#bd3786\"], [0.5555555555555556, \"#d8576b\"], [0.6666666666666666, \"#ed7953\"], [0.7777777777777778, \"#fb9f3a\"], [0.8888888888888888, \"#fdca26\"], [1.0, \"#f0f921\"]]}, \"colorway\": [\"#636efa\", \"#EF553B\", \"#00cc96\", \"#ab63fa\", \"#FFA15A\", \"#19d3f3\", \"#FF6692\", \"#B6E880\", \"#FF97FF\", \"#FECB52\"], \"font\": {\"color\": \"#2a3f5f\"}, \"geo\": {\"bgcolor\": \"white\", \"lakecolor\": \"white\", \"landcolor\": \"#E5ECF6\", \"showlakes\": true, \"showland\": true, \"subunitcolor\": \"white\"}, \"hoverlabel\": {\"align\": \"left\"}, \"hovermode\": \"closest\", \"mapbox\": {\"style\": \"light\"}, \"paper_bgcolor\": \"white\", \"plot_bgcolor\": \"#E5ECF6\", \"polar\": {\"angularaxis\": {\"gridcolor\": \"white\", \"linecolor\": \"white\", \"ticks\": \"\"}, \"bgcolor\": \"#E5ECF6\", \"radialaxis\": {\"gridcolor\": \"white\", \"linecolor\": \"white\", \"ticks\": \"\"}}, \"scene\": {\"xaxis\": {\"backgroundcolor\": \"#E5ECF6\", \"gridcolor\": \"white\", \"gridwidth\": 2, \"linecolor\": \"white\", \"showbackground\": true, \"ticks\": \"\", \"zerolinecolor\": \"white\"}, \"yaxis\": {\"backgroundcolor\": \"#E5ECF6\", \"gridcolor\": \"white\", \"gridwidth\": 2, \"linecolor\": \"white\", \"showbackground\": true, \"ticks\": \"\", \"zerolinecolor\": \"white\"}, \"zaxis\": {\"backgroundcolor\": \"#E5ECF6\", \"gridcolor\": \"white\", \"gridwidth\": 2, \"linecolor\": \"white\", \"showbackground\": true, \"ticks\": \"\", \"zerolinecolor\": \"white\"}}, \"shapedefaults\": {\"line\": {\"color\": \"#2a3f5f\"}}, \"ternary\": {\"aaxis\": {\"gridcolor\": \"white\", \"linecolor\": \"white\", \"ticks\": \"\"}, \"baxis\": {\"gridcolor\": \"white\", \"linecolor\": \"white\", \"ticks\": \"\"}, \"bgcolor\": \"#E5ECF6\", \"caxis\": {\"gridcolor\": \"white\", \"linecolor\": \"white\", \"ticks\": \"\"}}, \"title\": {\"x\": 0.05}, \"xaxis\": {\"automargin\": true, \"gridcolor\": \"white\", \"linecolor\": \"white\", \"ticks\": \"\", \"title\": {\"standoff\": 15}, \"zerolinecolor\": \"white\", \"zerolinewidth\": 2}, \"yaxis\": {\"automargin\": true, \"gridcolor\": \"white\", \"linecolor\": \"white\", \"ticks\": \"\", \"title\": {\"standoff\": 15}, \"zerolinecolor\": \"white\", \"zerolinewidth\": 2}}}, \"title\": {\"font\": {\"color\": \"#4D5663\"}, \"text\": \"Normalised pitch class duration distributions of all pieces\"}, \"xaxis\": {\"gridcolor\": \"#E1E5ED\", \"showgrid\": true, \"tickfont\": {\"color\": \"#4D5663\"}, \"title\": {\"font\": {\"color\": \"#4D5663\"}, \"text\": \"Chromatic pitch class\"}, \"zerolinecolor\": \"#E1E5ED\"}, \"yaxis\": {\"gridcolor\": \"#E1E5ED\", \"showgrid\": true, \"tickfont\": {\"color\": \"#4D5663\"}, \"title\": {\"font\": {\"color\": \"#4D5663\"}, \"text\": \"Fraction of summed durations\"}, \"zerolinecolor\": \"#E1E5ED\"}},                        {\"showLink\": true, \"linkText\": \"Export to plot.ly\", \"plotlyServerURL\": \"https://plot.ly\", \"responsive\": true}                    ).then(function(){\n",
       "                            \n",
       "var gd = document.getElementById('564cc309-74c5-433f-9df3-3d9d48b9c2bf');\n",
       "var x = new MutationObserver(function (mutations, observer) {{\n",
       "        var display = window.getComputedStyle(gd).display;\n",
       "        if (!display || display === 'none') {{\n",
       "            console.log([gd, 'removed!']);\n",
       "            Plotly.purge(gd);\n",
       "            observer.disconnect();\n",
       "        }}\n",
       "}});\n",
       "\n",
       "// Listen for the removal of the full notebook cells\n",
       "var notebookContainer = gd.closest('#notebook-container');\n",
       "if (notebookContainer) {{\n",
       "    x.observe(notebookContainer, {childList: true});\n",
       "}}\n",
       "\n",
       "// Listen for the clearing of the current output cell\n",
       "var outputEl = gd.closest('.output');\n",
       "if (outputEl) {{\n",
       "    x.observe(outputEl, {childList: true});\n",
       "}}\n",
       "\n",
       "                        })                };                });            </script>        </div>"
      ]
     },
     "metadata": {},
     "output_type": "display_data"
    }
   ],
   "source": [
    "pc_durations = notes.groupby(['id', 'pc']).duration.sum().unstack()\n",
    "pc_durations = norm(pc_durations).astype(float)\n",
    "pc_durations.T.iplot(title='Normalised pitch class duration distributions of all pieces', xTitle='Chromatic pitch class', yTitle='Fraction of summed durations')"
   ]
  },
  {
   "cell_type": "markdown",
   "metadata": {},
   "source": [
    "# Assignment: Tonal Hierarchy\n",
    "\n",
    "* As you see, different pieces favour different sets of pitches.\n",
    "* Use your knowledge about tonal hierarchies to infer from the data for every piece its global key, that is\n",
    "    * its root\n",
    "    * whether it is in minor or major.\n",
    "* Use the distributions of pitch durations rather than those of pitch counts.\n",
    "* Small caveat: You can expect the root and the fifth above it to be the two most frequent pitches, but in many cases, the fifth is more frequent than the root. Why do you think is that and how can we solve the problem?\n",
    "* Solve the problem with the MIDI information (i.e., pitch classes) and compare it to the ground truth. Note that from the chromatic pitch class that you name as root, you can only guess the correct tonal pitch class.\n",
    "\n",
    "## Additional task for digging deeper\n",
    "\n",
    "How does the task change if we use tonal pitch classes for finding the key?\n",
    "\n",
    "### Hint 1\n",
    "\n",
    "One way to go at it would consist in transposing the tone distributions to set the root to 0. You can apply this function to rotate a row by n:"
   ]
  },
  {
   "cell_type": "code",
   "execution_count": 12,
   "metadata": {},
   "outputs": [],
   "source": [
    "import numpy as np\n",
    "rotate_series = lambda row, n: pd.Series(np.roll(row, n))"
   ]
  },
  {
   "cell_type": "markdown",
   "metadata": {},
   "source": [
    "### Hint 2\n",
    "This is what the mean of the ground truth for major and minor looks like:"
   ]
  },
  {
   "cell_type": "code",
   "execution_count": 13,
   "metadata": {},
   "outputs": [
    {
     "data": {
      "application/vnd.plotly.v1+json": {
       "config": {
        "linkText": "Export to plot.ly",
        "plotlyServerURL": "https://plot.ly",
        "showLink": true
       },
       "data": [
        {
         "marker": {
          "color": "rgba(255, 153, 51, 0.6)",
          "line": {
           "color": "rgba(255, 153, 51, 1.0)",
           "width": 1
          }
         },
         "name": "None",
         "orientation": "v",
         "text": "",
         "type": "bar",
         "x": [
          0,
          1,
          2,
          3,
          4,
          5,
          6,
          7,
          8,
          9,
          10,
          11
         ],
         "y": [
          0.1792334741300649,
          0.016194246522623856,
          0.12655280537743901,
          0.025386044326330903,
          0.12121976418935039,
          0.09207725352852898,
          0.02930039349131656,
          0.19473155624848157,
          0.02324467767869272,
          0.09867587704734578,
          0.024848467922041463,
          0.08326001666922679
         ]
        }
       ],
       "layout": {
        "legend": {
         "bgcolor": "#FFFFFF",
         "font": {
          "color": "#4D5663"
         }
        },
        "paper_bgcolor": "#FFFFFF",
        "plot_bgcolor": "#FFFFFF",
        "template": {
         "data": {
          "bar": [
           {
            "error_x": {
             "color": "#2a3f5f"
            },
            "error_y": {
             "color": "#2a3f5f"
            },
            "marker": {
             "line": {
              "color": "#E5ECF6",
              "width": 0.5
             }
            },
            "type": "bar"
           }
          ],
          "barpolar": [
           {
            "marker": {
             "line": {
              "color": "#E5ECF6",
              "width": 0.5
             }
            },
            "type": "barpolar"
           }
          ],
          "carpet": [
           {
            "aaxis": {
             "endlinecolor": "#2a3f5f",
             "gridcolor": "white",
             "linecolor": "white",
             "minorgridcolor": "white",
             "startlinecolor": "#2a3f5f"
            },
            "baxis": {
             "endlinecolor": "#2a3f5f",
             "gridcolor": "white",
             "linecolor": "white",
             "minorgridcolor": "white",
             "startlinecolor": "#2a3f5f"
            },
            "type": "carpet"
           }
          ],
          "choropleth": [
           {
            "colorbar": {
             "outlinewidth": 0,
             "ticks": ""
            },
            "type": "choropleth"
           }
          ],
          "contour": [
           {
            "colorbar": {
             "outlinewidth": 0,
             "ticks": ""
            },
            "colorscale": [
             [
              0,
              "#0d0887"
             ],
             [
              0.1111111111111111,
              "#46039f"
             ],
             [
              0.2222222222222222,
              "#7201a8"
             ],
             [
              0.3333333333333333,
              "#9c179e"
             ],
             [
              0.4444444444444444,
              "#bd3786"
             ],
             [
              0.5555555555555556,
              "#d8576b"
             ],
             [
              0.6666666666666666,
              "#ed7953"
             ],
             [
              0.7777777777777778,
              "#fb9f3a"
             ],
             [
              0.8888888888888888,
              "#fdca26"
             ],
             [
              1,
              "#f0f921"
             ]
            ],
            "type": "contour"
           }
          ],
          "contourcarpet": [
           {
            "colorbar": {
             "outlinewidth": 0,
             "ticks": ""
            },
            "type": "contourcarpet"
           }
          ],
          "heatmap": [
           {
            "colorbar": {
             "outlinewidth": 0,
             "ticks": ""
            },
            "colorscale": [
             [
              0,
              "#0d0887"
             ],
             [
              0.1111111111111111,
              "#46039f"
             ],
             [
              0.2222222222222222,
              "#7201a8"
             ],
             [
              0.3333333333333333,
              "#9c179e"
             ],
             [
              0.4444444444444444,
              "#bd3786"
             ],
             [
              0.5555555555555556,
              "#d8576b"
             ],
             [
              0.6666666666666666,
              "#ed7953"
             ],
             [
              0.7777777777777778,
              "#fb9f3a"
             ],
             [
              0.8888888888888888,
              "#fdca26"
             ],
             [
              1,
              "#f0f921"
             ]
            ],
            "type": "heatmap"
           }
          ],
          "heatmapgl": [
           {
            "colorbar": {
             "outlinewidth": 0,
             "ticks": ""
            },
            "colorscale": [
             [
              0,
              "#0d0887"
             ],
             [
              0.1111111111111111,
              "#46039f"
             ],
             [
              0.2222222222222222,
              "#7201a8"
             ],
             [
              0.3333333333333333,
              "#9c179e"
             ],
             [
              0.4444444444444444,
              "#bd3786"
             ],
             [
              0.5555555555555556,
              "#d8576b"
             ],
             [
              0.6666666666666666,
              "#ed7953"
             ],
             [
              0.7777777777777778,
              "#fb9f3a"
             ],
             [
              0.8888888888888888,
              "#fdca26"
             ],
             [
              1,
              "#f0f921"
             ]
            ],
            "type": "heatmapgl"
           }
          ],
          "histogram": [
           {
            "marker": {
             "colorbar": {
              "outlinewidth": 0,
              "ticks": ""
             }
            },
            "type": "histogram"
           }
          ],
          "histogram2d": [
           {
            "colorbar": {
             "outlinewidth": 0,
             "ticks": ""
            },
            "colorscale": [
             [
              0,
              "#0d0887"
             ],
             [
              0.1111111111111111,
              "#46039f"
             ],
             [
              0.2222222222222222,
              "#7201a8"
             ],
             [
              0.3333333333333333,
              "#9c179e"
             ],
             [
              0.4444444444444444,
              "#bd3786"
             ],
             [
              0.5555555555555556,
              "#d8576b"
             ],
             [
              0.6666666666666666,
              "#ed7953"
             ],
             [
              0.7777777777777778,
              "#fb9f3a"
             ],
             [
              0.8888888888888888,
              "#fdca26"
             ],
             [
              1,
              "#f0f921"
             ]
            ],
            "type": "histogram2d"
           }
          ],
          "histogram2dcontour": [
           {
            "colorbar": {
             "outlinewidth": 0,
             "ticks": ""
            },
            "colorscale": [
             [
              0,
              "#0d0887"
             ],
             [
              0.1111111111111111,
              "#46039f"
             ],
             [
              0.2222222222222222,
              "#7201a8"
             ],
             [
              0.3333333333333333,
              "#9c179e"
             ],
             [
              0.4444444444444444,
              "#bd3786"
             ],
             [
              0.5555555555555556,
              "#d8576b"
             ],
             [
              0.6666666666666666,
              "#ed7953"
             ],
             [
              0.7777777777777778,
              "#fb9f3a"
             ],
             [
              0.8888888888888888,
              "#fdca26"
             ],
             [
              1,
              "#f0f921"
             ]
            ],
            "type": "histogram2dcontour"
           }
          ],
          "mesh3d": [
           {
            "colorbar": {
             "outlinewidth": 0,
             "ticks": ""
            },
            "type": "mesh3d"
           }
          ],
          "parcoords": [
           {
            "line": {
             "colorbar": {
              "outlinewidth": 0,
              "ticks": ""
             }
            },
            "type": "parcoords"
           }
          ],
          "pie": [
           {
            "automargin": true,
            "type": "pie"
           }
          ],
          "scatter": [
           {
            "marker": {
             "colorbar": {
              "outlinewidth": 0,
              "ticks": ""
             }
            },
            "type": "scatter"
           }
          ],
          "scatter3d": [
           {
            "line": {
             "colorbar": {
              "outlinewidth": 0,
              "ticks": ""
             }
            },
            "marker": {
             "colorbar": {
              "outlinewidth": 0,
              "ticks": ""
             }
            },
            "type": "scatter3d"
           }
          ],
          "scattercarpet": [
           {
            "marker": {
             "colorbar": {
              "outlinewidth": 0,
              "ticks": ""
             }
            },
            "type": "scattercarpet"
           }
          ],
          "scattergeo": [
           {
            "marker": {
             "colorbar": {
              "outlinewidth": 0,
              "ticks": ""
             }
            },
            "type": "scattergeo"
           }
          ],
          "scattergl": [
           {
            "marker": {
             "colorbar": {
              "outlinewidth": 0,
              "ticks": ""
             }
            },
            "type": "scattergl"
           }
          ],
          "scattermapbox": [
           {
            "marker": {
             "colorbar": {
              "outlinewidth": 0,
              "ticks": ""
             }
            },
            "type": "scattermapbox"
           }
          ],
          "scatterpolar": [
           {
            "marker": {
             "colorbar": {
              "outlinewidth": 0,
              "ticks": ""
             }
            },
            "type": "scatterpolar"
           }
          ],
          "scatterpolargl": [
           {
            "marker": {
             "colorbar": {
              "outlinewidth": 0,
              "ticks": ""
             }
            },
            "type": "scatterpolargl"
           }
          ],
          "scatterternary": [
           {
            "marker": {
             "colorbar": {
              "outlinewidth": 0,
              "ticks": ""
             }
            },
            "type": "scatterternary"
           }
          ],
          "surface": [
           {
            "colorbar": {
             "outlinewidth": 0,
             "ticks": ""
            },
            "colorscale": [
             [
              0,
              "#0d0887"
             ],
             [
              0.1111111111111111,
              "#46039f"
             ],
             [
              0.2222222222222222,
              "#7201a8"
             ],
             [
              0.3333333333333333,
              "#9c179e"
             ],
             [
              0.4444444444444444,
              "#bd3786"
             ],
             [
              0.5555555555555556,
              "#d8576b"
             ],
             [
              0.6666666666666666,
              "#ed7953"
             ],
             [
              0.7777777777777778,
              "#fb9f3a"
             ],
             [
              0.8888888888888888,
              "#fdca26"
             ],
             [
              1,
              "#f0f921"
             ]
            ],
            "type": "surface"
           }
          ],
          "table": [
           {
            "cells": {
             "fill": {
              "color": "#EBF0F8"
             },
             "line": {
              "color": "white"
             }
            },
            "header": {
             "fill": {
              "color": "#C8D4E3"
             },
             "line": {
              "color": "white"
             }
            },
            "type": "table"
           }
          ]
         },
         "layout": {
          "annotationdefaults": {
           "arrowcolor": "#2a3f5f",
           "arrowhead": 0,
           "arrowwidth": 1
          },
          "autotypenumbers": "strict",
          "coloraxis": {
           "colorbar": {
            "outlinewidth": 0,
            "ticks": ""
           }
          },
          "colorscale": {
           "diverging": [
            [
             0,
             "#8e0152"
            ],
            [
             0.1,
             "#c51b7d"
            ],
            [
             0.2,
             "#de77ae"
            ],
            [
             0.3,
             "#f1b6da"
            ],
            [
             0.4,
             "#fde0ef"
            ],
            [
             0.5,
             "#f7f7f7"
            ],
            [
             0.6,
             "#e6f5d0"
            ],
            [
             0.7,
             "#b8e186"
            ],
            [
             0.8,
             "#7fbc41"
            ],
            [
             0.9,
             "#4d9221"
            ],
            [
             1,
             "#276419"
            ]
           ],
           "sequential": [
            [
             0,
             "#0d0887"
            ],
            [
             0.1111111111111111,
             "#46039f"
            ],
            [
             0.2222222222222222,
             "#7201a8"
            ],
            [
             0.3333333333333333,
             "#9c179e"
            ],
            [
             0.4444444444444444,
             "#bd3786"
            ],
            [
             0.5555555555555556,
             "#d8576b"
            ],
            [
             0.6666666666666666,
             "#ed7953"
            ],
            [
             0.7777777777777778,
             "#fb9f3a"
            ],
            [
             0.8888888888888888,
             "#fdca26"
            ],
            [
             1,
             "#f0f921"
            ]
           ],
           "sequentialminus": [
            [
             0,
             "#0d0887"
            ],
            [
             0.1111111111111111,
             "#46039f"
            ],
            [
             0.2222222222222222,
             "#7201a8"
            ],
            [
             0.3333333333333333,
             "#9c179e"
            ],
            [
             0.4444444444444444,
             "#bd3786"
            ],
            [
             0.5555555555555556,
             "#d8576b"
            ],
            [
             0.6666666666666666,
             "#ed7953"
            ],
            [
             0.7777777777777778,
             "#fb9f3a"
            ],
            [
             0.8888888888888888,
             "#fdca26"
            ],
            [
             1,
             "#f0f921"
            ]
           ]
          },
          "colorway": [
           "#636efa",
           "#EF553B",
           "#00cc96",
           "#ab63fa",
           "#FFA15A",
           "#19d3f3",
           "#FF6692",
           "#B6E880",
           "#FF97FF",
           "#FECB52"
          ],
          "font": {
           "color": "#2a3f5f"
          },
          "geo": {
           "bgcolor": "white",
           "lakecolor": "white",
           "landcolor": "#E5ECF6",
           "showlakes": true,
           "showland": true,
           "subunitcolor": "white"
          },
          "hoverlabel": {
           "align": "left"
          },
          "hovermode": "closest",
          "mapbox": {
           "style": "light"
          },
          "paper_bgcolor": "white",
          "plot_bgcolor": "#E5ECF6",
          "polar": {
           "angularaxis": {
            "gridcolor": "white",
            "linecolor": "white",
            "ticks": ""
           },
           "bgcolor": "#E5ECF6",
           "radialaxis": {
            "gridcolor": "white",
            "linecolor": "white",
            "ticks": ""
           }
          },
          "scene": {
           "xaxis": {
            "backgroundcolor": "#E5ECF6",
            "gridcolor": "white",
            "gridwidth": 2,
            "linecolor": "white",
            "showbackground": true,
            "ticks": "",
            "zerolinecolor": "white"
           },
           "yaxis": {
            "backgroundcolor": "#E5ECF6",
            "gridcolor": "white",
            "gridwidth": 2,
            "linecolor": "white",
            "showbackground": true,
            "ticks": "",
            "zerolinecolor": "white"
           },
           "zaxis": {
            "backgroundcolor": "#E5ECF6",
            "gridcolor": "white",
            "gridwidth": 2,
            "linecolor": "white",
            "showbackground": true,
            "ticks": "",
            "zerolinecolor": "white"
           }
          },
          "shapedefaults": {
           "line": {
            "color": "#2a3f5f"
           }
          },
          "ternary": {
           "aaxis": {
            "gridcolor": "white",
            "linecolor": "white",
            "ticks": ""
           },
           "baxis": {
            "gridcolor": "white",
            "linecolor": "white",
            "ticks": ""
           },
           "bgcolor": "#E5ECF6",
           "caxis": {
            "gridcolor": "white",
            "linecolor": "white",
            "ticks": ""
           }
          },
          "title": {
           "x": 0.05
          },
          "xaxis": {
           "automargin": true,
           "gridcolor": "white",
           "linecolor": "white",
           "ticks": "",
           "title": {
            "standoff": 15
           },
           "zerolinecolor": "white",
           "zerolinewidth": 2
          },
          "yaxis": {
           "automargin": true,
           "gridcolor": "white",
           "linecolor": "white",
           "ticks": "",
           "title": {
            "standoff": 15
           },
           "zerolinecolor": "white",
           "zerolinewidth": 2
          }
         }
        },
        "title": {
         "font": {
          "color": "#4D5663"
         },
         "text": "major"
        },
        "xaxis": {
         "gridcolor": "#E1E5ED",
         "showgrid": true,
         "tickfont": {
          "color": "#4D5663"
         },
         "title": {
          "font": {
           "color": "#4D5663"
          },
          "text": ""
         },
         "zerolinecolor": "#E1E5ED"
        },
        "yaxis": {
         "gridcolor": "#E1E5ED",
         "showgrid": true,
         "tickfont": {
          "color": "#4D5663"
         },
         "title": {
          "font": {
           "color": "#4D5663"
          },
          "text": ""
         },
         "zerolinecolor": "#E1E5ED"
        }
       }
      },
      "text/html": [
       "<div>                            <div id=\"73e13190-ccd9-4d23-85be-1512fa655240\" class=\"plotly-graph-div\" style=\"height:525px; width:100%;\"></div>            <script type=\"text/javascript\">                require([\"plotly\"], function(Plotly) {                    window.PLOTLYENV=window.PLOTLYENV || {};\n",
       "                    window.PLOTLYENV.BASE_URL='https://plot.ly';                                    if (document.getElementById(\"73e13190-ccd9-4d23-85be-1512fa655240\")) {                    Plotly.newPlot(                        \"73e13190-ccd9-4d23-85be-1512fa655240\",                        [{\"marker\": {\"color\": \"rgba(255, 153, 51, 0.6)\", \"line\": {\"color\": \"rgba(255, 153, 51, 1.0)\", \"width\": 1}}, \"name\": \"None\", \"orientation\": \"v\", \"text\": \"\", \"type\": \"bar\", \"x\": [0, 1, 2, 3, 4, 5, 6, 7, 8, 9, 10, 11], \"y\": [0.1792334741300649, 0.016194246522623856, 0.12655280537743901, 0.025386044326330903, 0.12121976418935039, 0.09207725352852898, 0.02930039349131656, 0.19473155624848157, 0.02324467767869272, 0.09867587704734578, 0.024848467922041463, 0.08326001666922679]}],                        {\"legend\": {\"bgcolor\": \"#FFFFFF\", \"font\": {\"color\": \"#4D5663\"}}, \"paper_bgcolor\": \"#FFFFFF\", \"plot_bgcolor\": \"#FFFFFF\", \"template\": {\"data\": {\"bar\": [{\"error_x\": {\"color\": \"#2a3f5f\"}, \"error_y\": {\"color\": \"#2a3f5f\"}, \"marker\": {\"line\": {\"color\": \"#E5ECF6\", \"width\": 0.5}}, \"type\": \"bar\"}], \"barpolar\": [{\"marker\": {\"line\": {\"color\": \"#E5ECF6\", \"width\": 0.5}}, \"type\": \"barpolar\"}], \"carpet\": [{\"aaxis\": {\"endlinecolor\": \"#2a3f5f\", \"gridcolor\": \"white\", \"linecolor\": \"white\", \"minorgridcolor\": \"white\", \"startlinecolor\": \"#2a3f5f\"}, \"baxis\": {\"endlinecolor\": \"#2a3f5f\", \"gridcolor\": \"white\", \"linecolor\": \"white\", \"minorgridcolor\": \"white\", \"startlinecolor\": \"#2a3f5f\"}, \"type\": \"carpet\"}], \"choropleth\": [{\"colorbar\": {\"outlinewidth\": 0, \"ticks\": \"\"}, \"type\": \"choropleth\"}], \"contour\": [{\"colorbar\": {\"outlinewidth\": 0, \"ticks\": \"\"}, \"colorscale\": [[0.0, \"#0d0887\"], [0.1111111111111111, \"#46039f\"], [0.2222222222222222, \"#7201a8\"], [0.3333333333333333, \"#9c179e\"], [0.4444444444444444, \"#bd3786\"], [0.5555555555555556, \"#d8576b\"], [0.6666666666666666, \"#ed7953\"], [0.7777777777777778, \"#fb9f3a\"], [0.8888888888888888, \"#fdca26\"], [1.0, \"#f0f921\"]], \"type\": \"contour\"}], \"contourcarpet\": [{\"colorbar\": {\"outlinewidth\": 0, \"ticks\": \"\"}, \"type\": \"contourcarpet\"}], \"heatmap\": [{\"colorbar\": {\"outlinewidth\": 0, \"ticks\": \"\"}, \"colorscale\": [[0.0, \"#0d0887\"], [0.1111111111111111, \"#46039f\"], [0.2222222222222222, \"#7201a8\"], [0.3333333333333333, \"#9c179e\"], [0.4444444444444444, \"#bd3786\"], [0.5555555555555556, \"#d8576b\"], [0.6666666666666666, \"#ed7953\"], [0.7777777777777778, \"#fb9f3a\"], [0.8888888888888888, \"#fdca26\"], [1.0, \"#f0f921\"]], \"type\": \"heatmap\"}], \"heatmapgl\": [{\"colorbar\": {\"outlinewidth\": 0, \"ticks\": \"\"}, \"colorscale\": [[0.0, \"#0d0887\"], [0.1111111111111111, \"#46039f\"], [0.2222222222222222, \"#7201a8\"], [0.3333333333333333, \"#9c179e\"], [0.4444444444444444, \"#bd3786\"], [0.5555555555555556, \"#d8576b\"], [0.6666666666666666, \"#ed7953\"], [0.7777777777777778, \"#fb9f3a\"], [0.8888888888888888, \"#fdca26\"], [1.0, \"#f0f921\"]], \"type\": \"heatmapgl\"}], \"histogram\": [{\"marker\": {\"colorbar\": {\"outlinewidth\": 0, \"ticks\": \"\"}}, \"type\": \"histogram\"}], \"histogram2d\": [{\"colorbar\": {\"outlinewidth\": 0, \"ticks\": \"\"}, \"colorscale\": [[0.0, \"#0d0887\"], [0.1111111111111111, \"#46039f\"], [0.2222222222222222, \"#7201a8\"], [0.3333333333333333, \"#9c179e\"], [0.4444444444444444, \"#bd3786\"], [0.5555555555555556, \"#d8576b\"], [0.6666666666666666, \"#ed7953\"], [0.7777777777777778, \"#fb9f3a\"], [0.8888888888888888, \"#fdca26\"], [1.0, \"#f0f921\"]], \"type\": \"histogram2d\"}], \"histogram2dcontour\": [{\"colorbar\": {\"outlinewidth\": 0, \"ticks\": \"\"}, \"colorscale\": [[0.0, \"#0d0887\"], [0.1111111111111111, \"#46039f\"], [0.2222222222222222, \"#7201a8\"], [0.3333333333333333, \"#9c179e\"], [0.4444444444444444, \"#bd3786\"], [0.5555555555555556, \"#d8576b\"], [0.6666666666666666, \"#ed7953\"], [0.7777777777777778, \"#fb9f3a\"], [0.8888888888888888, \"#fdca26\"], [1.0, \"#f0f921\"]], \"type\": \"histogram2dcontour\"}], \"mesh3d\": [{\"colorbar\": {\"outlinewidth\": 0, \"ticks\": \"\"}, \"type\": \"mesh3d\"}], \"parcoords\": [{\"line\": {\"colorbar\": {\"outlinewidth\": 0, \"ticks\": \"\"}}, \"type\": \"parcoords\"}], \"pie\": [{\"automargin\": true, \"type\": \"pie\"}], \"scatter\": [{\"marker\": {\"colorbar\": {\"outlinewidth\": 0, \"ticks\": \"\"}}, \"type\": \"scatter\"}], \"scatter3d\": [{\"line\": {\"colorbar\": {\"outlinewidth\": 0, \"ticks\": \"\"}}, \"marker\": {\"colorbar\": {\"outlinewidth\": 0, \"ticks\": \"\"}}, \"type\": \"scatter3d\"}], \"scattercarpet\": [{\"marker\": {\"colorbar\": {\"outlinewidth\": 0, \"ticks\": \"\"}}, \"type\": \"scattercarpet\"}], \"scattergeo\": [{\"marker\": {\"colorbar\": {\"outlinewidth\": 0, \"ticks\": \"\"}}, \"type\": \"scattergeo\"}], \"scattergl\": [{\"marker\": {\"colorbar\": {\"outlinewidth\": 0, \"ticks\": \"\"}}, \"type\": \"scattergl\"}], \"scattermapbox\": [{\"marker\": {\"colorbar\": {\"outlinewidth\": 0, \"ticks\": \"\"}}, \"type\": \"scattermapbox\"}], \"scatterpolar\": [{\"marker\": {\"colorbar\": {\"outlinewidth\": 0, \"ticks\": \"\"}}, \"type\": \"scatterpolar\"}], \"scatterpolargl\": [{\"marker\": {\"colorbar\": {\"outlinewidth\": 0, \"ticks\": \"\"}}, \"type\": \"scatterpolargl\"}], \"scatterternary\": [{\"marker\": {\"colorbar\": {\"outlinewidth\": 0, \"ticks\": \"\"}}, \"type\": \"scatterternary\"}], \"surface\": [{\"colorbar\": {\"outlinewidth\": 0, \"ticks\": \"\"}, \"colorscale\": [[0.0, \"#0d0887\"], [0.1111111111111111, \"#46039f\"], [0.2222222222222222, \"#7201a8\"], [0.3333333333333333, \"#9c179e\"], [0.4444444444444444, \"#bd3786\"], [0.5555555555555556, \"#d8576b\"], [0.6666666666666666, \"#ed7953\"], [0.7777777777777778, \"#fb9f3a\"], [0.8888888888888888, \"#fdca26\"], [1.0, \"#f0f921\"]], \"type\": \"surface\"}], \"table\": [{\"cells\": {\"fill\": {\"color\": \"#EBF0F8\"}, \"line\": {\"color\": \"white\"}}, \"header\": {\"fill\": {\"color\": \"#C8D4E3\"}, \"line\": {\"color\": \"white\"}}, \"type\": \"table\"}]}, \"layout\": {\"annotationdefaults\": {\"arrowcolor\": \"#2a3f5f\", \"arrowhead\": 0, \"arrowwidth\": 1}, \"autotypenumbers\": \"strict\", \"coloraxis\": {\"colorbar\": {\"outlinewidth\": 0, \"ticks\": \"\"}}, \"colorscale\": {\"diverging\": [[0, \"#8e0152\"], [0.1, \"#c51b7d\"], [0.2, \"#de77ae\"], [0.3, \"#f1b6da\"], [0.4, \"#fde0ef\"], [0.5, \"#f7f7f7\"], [0.6, \"#e6f5d0\"], [0.7, \"#b8e186\"], [0.8, \"#7fbc41\"], [0.9, \"#4d9221\"], [1, \"#276419\"]], \"sequential\": [[0.0, \"#0d0887\"], [0.1111111111111111, \"#46039f\"], [0.2222222222222222, \"#7201a8\"], [0.3333333333333333, \"#9c179e\"], [0.4444444444444444, \"#bd3786\"], [0.5555555555555556, \"#d8576b\"], [0.6666666666666666, \"#ed7953\"], [0.7777777777777778, \"#fb9f3a\"], [0.8888888888888888, \"#fdca26\"], [1.0, \"#f0f921\"]], \"sequentialminus\": [[0.0, \"#0d0887\"], [0.1111111111111111, \"#46039f\"], [0.2222222222222222, \"#7201a8\"], [0.3333333333333333, \"#9c179e\"], [0.4444444444444444, \"#bd3786\"], [0.5555555555555556, \"#d8576b\"], [0.6666666666666666, \"#ed7953\"], [0.7777777777777778, \"#fb9f3a\"], [0.8888888888888888, \"#fdca26\"], [1.0, \"#f0f921\"]]}, \"colorway\": [\"#636efa\", \"#EF553B\", \"#00cc96\", \"#ab63fa\", \"#FFA15A\", \"#19d3f3\", \"#FF6692\", \"#B6E880\", \"#FF97FF\", \"#FECB52\"], \"font\": {\"color\": \"#2a3f5f\"}, \"geo\": {\"bgcolor\": \"white\", \"lakecolor\": \"white\", \"landcolor\": \"#E5ECF6\", \"showlakes\": true, \"showland\": true, \"subunitcolor\": \"white\"}, \"hoverlabel\": {\"align\": \"left\"}, \"hovermode\": \"closest\", \"mapbox\": {\"style\": \"light\"}, \"paper_bgcolor\": \"white\", \"plot_bgcolor\": \"#E5ECF6\", \"polar\": {\"angularaxis\": {\"gridcolor\": \"white\", \"linecolor\": \"white\", \"ticks\": \"\"}, \"bgcolor\": \"#E5ECF6\", \"radialaxis\": {\"gridcolor\": \"white\", \"linecolor\": \"white\", \"ticks\": \"\"}}, \"scene\": {\"xaxis\": {\"backgroundcolor\": \"#E5ECF6\", \"gridcolor\": \"white\", \"gridwidth\": 2, \"linecolor\": \"white\", \"showbackground\": true, \"ticks\": \"\", \"zerolinecolor\": \"white\"}, \"yaxis\": {\"backgroundcolor\": \"#E5ECF6\", \"gridcolor\": \"white\", \"gridwidth\": 2, \"linecolor\": \"white\", \"showbackground\": true, \"ticks\": \"\", \"zerolinecolor\": \"white\"}, \"zaxis\": {\"backgroundcolor\": \"#E5ECF6\", \"gridcolor\": \"white\", \"gridwidth\": 2, \"linecolor\": \"white\", \"showbackground\": true, \"ticks\": \"\", \"zerolinecolor\": \"white\"}}, \"shapedefaults\": {\"line\": {\"color\": \"#2a3f5f\"}}, \"ternary\": {\"aaxis\": {\"gridcolor\": \"white\", \"linecolor\": \"white\", \"ticks\": \"\"}, \"baxis\": {\"gridcolor\": \"white\", \"linecolor\": \"white\", \"ticks\": \"\"}, \"bgcolor\": \"#E5ECF6\", \"caxis\": {\"gridcolor\": \"white\", \"linecolor\": \"white\", \"ticks\": \"\"}}, \"title\": {\"x\": 0.05}, \"xaxis\": {\"automargin\": true, \"gridcolor\": \"white\", \"linecolor\": \"white\", \"ticks\": \"\", \"title\": {\"standoff\": 15}, \"zerolinecolor\": \"white\", \"zerolinewidth\": 2}, \"yaxis\": {\"automargin\": true, \"gridcolor\": \"white\", \"linecolor\": \"white\", \"ticks\": \"\", \"title\": {\"standoff\": 15}, \"zerolinecolor\": \"white\", \"zerolinewidth\": 2}}}, \"title\": {\"font\": {\"color\": \"#4D5663\"}, \"text\": \"major\"}, \"xaxis\": {\"gridcolor\": \"#E1E5ED\", \"showgrid\": true, \"tickfont\": {\"color\": \"#4D5663\"}, \"title\": {\"font\": {\"color\": \"#4D5663\"}, \"text\": \"\"}, \"zerolinecolor\": \"#E1E5ED\"}, \"yaxis\": {\"gridcolor\": \"#E1E5ED\", \"showgrid\": true, \"tickfont\": {\"color\": \"#4D5663\"}, \"title\": {\"font\": {\"color\": \"#4D5663\"}, \"text\": \"\"}, \"zerolinecolor\": \"#E1E5ED\"}},                        {\"showLink\": true, \"linkText\": \"Export to plot.ly\", \"plotlyServerURL\": \"https://plot.ly\", \"responsive\": true}                    ).then(function(){\n",
       "                            \n",
       "var gd = document.getElementById('73e13190-ccd9-4d23-85be-1512fa655240');\n",
       "var x = new MutationObserver(function (mutations, observer) {{\n",
       "        var display = window.getComputedStyle(gd).display;\n",
       "        if (!display || display === 'none') {{\n",
       "            console.log([gd, 'removed!']);\n",
       "            Plotly.purge(gd);\n",
       "            observer.disconnect();\n",
       "        }}\n",
       "}});\n",
       "\n",
       "// Listen for the removal of the full notebook cells\n",
       "var notebookContainer = gd.closest('#notebook-container');\n",
       "if (notebookContainer) {{\n",
       "    x.observe(notebookContainer, {childList: true});\n",
       "}}\n",
       "\n",
       "// Listen for the clearing of the current output cell\n",
       "var outputEl = gd.closest('.output');\n",
       "if (outputEl) {{\n",
       "    x.observe(outputEl, {childList: true});\n",
       "}}\n",
       "\n",
       "                        })                };                });            </script>        </div>"
      ]
     },
     "metadata": {},
     "output_type": "display_data"
    },
    {
     "data": {
      "application/vnd.plotly.v1+json": {
       "config": {
        "linkText": "Export to plot.ly",
        "plotlyServerURL": "https://plot.ly",
        "showLink": true
       },
       "data": [
        {
         "marker": {
          "color": "rgba(255, 153, 51, 0.6)",
          "line": {
           "color": "rgba(255, 153, 51, 1.0)",
           "width": 1
          }
         },
         "name": "None",
         "orientation": "v",
         "text": "",
         "type": "bar",
         "x": [
          0,
          1,
          2,
          3,
          4,
          5,
          6,
          7,
          8,
          9,
          10,
          11
         ],
         "y": [
          0.16195224046022005,
          0.03014516030424735,
          0.08993909167778845,
          0.1261668911358516,
          0.02821709371392731,
          0.12078263380972043,
          0.023455154424039615,
          0.16359499887584905,
          0.08642460807252482,
          0.032053164535953325,
          0.10712390344531529,
          0.039598903486405754
         ]
        }
       ],
       "layout": {
        "legend": {
         "bgcolor": "#FFFFFF",
         "font": {
          "color": "#4D5663"
         }
        },
        "paper_bgcolor": "#FFFFFF",
        "plot_bgcolor": "#FFFFFF",
        "template": {
         "data": {
          "bar": [
           {
            "error_x": {
             "color": "#2a3f5f"
            },
            "error_y": {
             "color": "#2a3f5f"
            },
            "marker": {
             "line": {
              "color": "#E5ECF6",
              "width": 0.5
             }
            },
            "type": "bar"
           }
          ],
          "barpolar": [
           {
            "marker": {
             "line": {
              "color": "#E5ECF6",
              "width": 0.5
             }
            },
            "type": "barpolar"
           }
          ],
          "carpet": [
           {
            "aaxis": {
             "endlinecolor": "#2a3f5f",
             "gridcolor": "white",
             "linecolor": "white",
             "minorgridcolor": "white",
             "startlinecolor": "#2a3f5f"
            },
            "baxis": {
             "endlinecolor": "#2a3f5f",
             "gridcolor": "white",
             "linecolor": "white",
             "minorgridcolor": "white",
             "startlinecolor": "#2a3f5f"
            },
            "type": "carpet"
           }
          ],
          "choropleth": [
           {
            "colorbar": {
             "outlinewidth": 0,
             "ticks": ""
            },
            "type": "choropleth"
           }
          ],
          "contour": [
           {
            "colorbar": {
             "outlinewidth": 0,
             "ticks": ""
            },
            "colorscale": [
             [
              0,
              "#0d0887"
             ],
             [
              0.1111111111111111,
              "#46039f"
             ],
             [
              0.2222222222222222,
              "#7201a8"
             ],
             [
              0.3333333333333333,
              "#9c179e"
             ],
             [
              0.4444444444444444,
              "#bd3786"
             ],
             [
              0.5555555555555556,
              "#d8576b"
             ],
             [
              0.6666666666666666,
              "#ed7953"
             ],
             [
              0.7777777777777778,
              "#fb9f3a"
             ],
             [
              0.8888888888888888,
              "#fdca26"
             ],
             [
              1,
              "#f0f921"
             ]
            ],
            "type": "contour"
           }
          ],
          "contourcarpet": [
           {
            "colorbar": {
             "outlinewidth": 0,
             "ticks": ""
            },
            "type": "contourcarpet"
           }
          ],
          "heatmap": [
           {
            "colorbar": {
             "outlinewidth": 0,
             "ticks": ""
            },
            "colorscale": [
             [
              0,
              "#0d0887"
             ],
             [
              0.1111111111111111,
              "#46039f"
             ],
             [
              0.2222222222222222,
              "#7201a8"
             ],
             [
              0.3333333333333333,
              "#9c179e"
             ],
             [
              0.4444444444444444,
              "#bd3786"
             ],
             [
              0.5555555555555556,
              "#d8576b"
             ],
             [
              0.6666666666666666,
              "#ed7953"
             ],
             [
              0.7777777777777778,
              "#fb9f3a"
             ],
             [
              0.8888888888888888,
              "#fdca26"
             ],
             [
              1,
              "#f0f921"
             ]
            ],
            "type": "heatmap"
           }
          ],
          "heatmapgl": [
           {
            "colorbar": {
             "outlinewidth": 0,
             "ticks": ""
            },
            "colorscale": [
             [
              0,
              "#0d0887"
             ],
             [
              0.1111111111111111,
              "#46039f"
             ],
             [
              0.2222222222222222,
              "#7201a8"
             ],
             [
              0.3333333333333333,
              "#9c179e"
             ],
             [
              0.4444444444444444,
              "#bd3786"
             ],
             [
              0.5555555555555556,
              "#d8576b"
             ],
             [
              0.6666666666666666,
              "#ed7953"
             ],
             [
              0.7777777777777778,
              "#fb9f3a"
             ],
             [
              0.8888888888888888,
              "#fdca26"
             ],
             [
              1,
              "#f0f921"
             ]
            ],
            "type": "heatmapgl"
           }
          ],
          "histogram": [
           {
            "marker": {
             "colorbar": {
              "outlinewidth": 0,
              "ticks": ""
             }
            },
            "type": "histogram"
           }
          ],
          "histogram2d": [
           {
            "colorbar": {
             "outlinewidth": 0,
             "ticks": ""
            },
            "colorscale": [
             [
              0,
              "#0d0887"
             ],
             [
              0.1111111111111111,
              "#46039f"
             ],
             [
              0.2222222222222222,
              "#7201a8"
             ],
             [
              0.3333333333333333,
              "#9c179e"
             ],
             [
              0.4444444444444444,
              "#bd3786"
             ],
             [
              0.5555555555555556,
              "#d8576b"
             ],
             [
              0.6666666666666666,
              "#ed7953"
             ],
             [
              0.7777777777777778,
              "#fb9f3a"
             ],
             [
              0.8888888888888888,
              "#fdca26"
             ],
             [
              1,
              "#f0f921"
             ]
            ],
            "type": "histogram2d"
           }
          ],
          "histogram2dcontour": [
           {
            "colorbar": {
             "outlinewidth": 0,
             "ticks": ""
            },
            "colorscale": [
             [
              0,
              "#0d0887"
             ],
             [
              0.1111111111111111,
              "#46039f"
             ],
             [
              0.2222222222222222,
              "#7201a8"
             ],
             [
              0.3333333333333333,
              "#9c179e"
             ],
             [
              0.4444444444444444,
              "#bd3786"
             ],
             [
              0.5555555555555556,
              "#d8576b"
             ],
             [
              0.6666666666666666,
              "#ed7953"
             ],
             [
              0.7777777777777778,
              "#fb9f3a"
             ],
             [
              0.8888888888888888,
              "#fdca26"
             ],
             [
              1,
              "#f0f921"
             ]
            ],
            "type": "histogram2dcontour"
           }
          ],
          "mesh3d": [
           {
            "colorbar": {
             "outlinewidth": 0,
             "ticks": ""
            },
            "type": "mesh3d"
           }
          ],
          "parcoords": [
           {
            "line": {
             "colorbar": {
              "outlinewidth": 0,
              "ticks": ""
             }
            },
            "type": "parcoords"
           }
          ],
          "pie": [
           {
            "automargin": true,
            "type": "pie"
           }
          ],
          "scatter": [
           {
            "marker": {
             "colorbar": {
              "outlinewidth": 0,
              "ticks": ""
             }
            },
            "type": "scatter"
           }
          ],
          "scatter3d": [
           {
            "line": {
             "colorbar": {
              "outlinewidth": 0,
              "ticks": ""
             }
            },
            "marker": {
             "colorbar": {
              "outlinewidth": 0,
              "ticks": ""
             }
            },
            "type": "scatter3d"
           }
          ],
          "scattercarpet": [
           {
            "marker": {
             "colorbar": {
              "outlinewidth": 0,
              "ticks": ""
             }
            },
            "type": "scattercarpet"
           }
          ],
          "scattergeo": [
           {
            "marker": {
             "colorbar": {
              "outlinewidth": 0,
              "ticks": ""
             }
            },
            "type": "scattergeo"
           }
          ],
          "scattergl": [
           {
            "marker": {
             "colorbar": {
              "outlinewidth": 0,
              "ticks": ""
             }
            },
            "type": "scattergl"
           }
          ],
          "scattermapbox": [
           {
            "marker": {
             "colorbar": {
              "outlinewidth": 0,
              "ticks": ""
             }
            },
            "type": "scattermapbox"
           }
          ],
          "scatterpolar": [
           {
            "marker": {
             "colorbar": {
              "outlinewidth": 0,
              "ticks": ""
             }
            },
            "type": "scatterpolar"
           }
          ],
          "scatterpolargl": [
           {
            "marker": {
             "colorbar": {
              "outlinewidth": 0,
              "ticks": ""
             }
            },
            "type": "scatterpolargl"
           }
          ],
          "scatterternary": [
           {
            "marker": {
             "colorbar": {
              "outlinewidth": 0,
              "ticks": ""
             }
            },
            "type": "scatterternary"
           }
          ],
          "surface": [
           {
            "colorbar": {
             "outlinewidth": 0,
             "ticks": ""
            },
            "colorscale": [
             [
              0,
              "#0d0887"
             ],
             [
              0.1111111111111111,
              "#46039f"
             ],
             [
              0.2222222222222222,
              "#7201a8"
             ],
             [
              0.3333333333333333,
              "#9c179e"
             ],
             [
              0.4444444444444444,
              "#bd3786"
             ],
             [
              0.5555555555555556,
              "#d8576b"
             ],
             [
              0.6666666666666666,
              "#ed7953"
             ],
             [
              0.7777777777777778,
              "#fb9f3a"
             ],
             [
              0.8888888888888888,
              "#fdca26"
             ],
             [
              1,
              "#f0f921"
             ]
            ],
            "type": "surface"
           }
          ],
          "table": [
           {
            "cells": {
             "fill": {
              "color": "#EBF0F8"
             },
             "line": {
              "color": "white"
             }
            },
            "header": {
             "fill": {
              "color": "#C8D4E3"
             },
             "line": {
              "color": "white"
             }
            },
            "type": "table"
           }
          ]
         },
         "layout": {
          "annotationdefaults": {
           "arrowcolor": "#2a3f5f",
           "arrowhead": 0,
           "arrowwidth": 1
          },
          "autotypenumbers": "strict",
          "coloraxis": {
           "colorbar": {
            "outlinewidth": 0,
            "ticks": ""
           }
          },
          "colorscale": {
           "diverging": [
            [
             0,
             "#8e0152"
            ],
            [
             0.1,
             "#c51b7d"
            ],
            [
             0.2,
             "#de77ae"
            ],
            [
             0.3,
             "#f1b6da"
            ],
            [
             0.4,
             "#fde0ef"
            ],
            [
             0.5,
             "#f7f7f7"
            ],
            [
             0.6,
             "#e6f5d0"
            ],
            [
             0.7,
             "#b8e186"
            ],
            [
             0.8,
             "#7fbc41"
            ],
            [
             0.9,
             "#4d9221"
            ],
            [
             1,
             "#276419"
            ]
           ],
           "sequential": [
            [
             0,
             "#0d0887"
            ],
            [
             0.1111111111111111,
             "#46039f"
            ],
            [
             0.2222222222222222,
             "#7201a8"
            ],
            [
             0.3333333333333333,
             "#9c179e"
            ],
            [
             0.4444444444444444,
             "#bd3786"
            ],
            [
             0.5555555555555556,
             "#d8576b"
            ],
            [
             0.6666666666666666,
             "#ed7953"
            ],
            [
             0.7777777777777778,
             "#fb9f3a"
            ],
            [
             0.8888888888888888,
             "#fdca26"
            ],
            [
             1,
             "#f0f921"
            ]
           ],
           "sequentialminus": [
            [
             0,
             "#0d0887"
            ],
            [
             0.1111111111111111,
             "#46039f"
            ],
            [
             0.2222222222222222,
             "#7201a8"
            ],
            [
             0.3333333333333333,
             "#9c179e"
            ],
            [
             0.4444444444444444,
             "#bd3786"
            ],
            [
             0.5555555555555556,
             "#d8576b"
            ],
            [
             0.6666666666666666,
             "#ed7953"
            ],
            [
             0.7777777777777778,
             "#fb9f3a"
            ],
            [
             0.8888888888888888,
             "#fdca26"
            ],
            [
             1,
             "#f0f921"
            ]
           ]
          },
          "colorway": [
           "#636efa",
           "#EF553B",
           "#00cc96",
           "#ab63fa",
           "#FFA15A",
           "#19d3f3",
           "#FF6692",
           "#B6E880",
           "#FF97FF",
           "#FECB52"
          ],
          "font": {
           "color": "#2a3f5f"
          },
          "geo": {
           "bgcolor": "white",
           "lakecolor": "white",
           "landcolor": "#E5ECF6",
           "showlakes": true,
           "showland": true,
           "subunitcolor": "white"
          },
          "hoverlabel": {
           "align": "left"
          },
          "hovermode": "closest",
          "mapbox": {
           "style": "light"
          },
          "paper_bgcolor": "white",
          "plot_bgcolor": "#E5ECF6",
          "polar": {
           "angularaxis": {
            "gridcolor": "white",
            "linecolor": "white",
            "ticks": ""
           },
           "bgcolor": "#E5ECF6",
           "radialaxis": {
            "gridcolor": "white",
            "linecolor": "white",
            "ticks": ""
           }
          },
          "scene": {
           "xaxis": {
            "backgroundcolor": "#E5ECF6",
            "gridcolor": "white",
            "gridwidth": 2,
            "linecolor": "white",
            "showbackground": true,
            "ticks": "",
            "zerolinecolor": "white"
           },
           "yaxis": {
            "backgroundcolor": "#E5ECF6",
            "gridcolor": "white",
            "gridwidth": 2,
            "linecolor": "white",
            "showbackground": true,
            "ticks": "",
            "zerolinecolor": "white"
           },
           "zaxis": {
            "backgroundcolor": "#E5ECF6",
            "gridcolor": "white",
            "gridwidth": 2,
            "linecolor": "white",
            "showbackground": true,
            "ticks": "",
            "zerolinecolor": "white"
           }
          },
          "shapedefaults": {
           "line": {
            "color": "#2a3f5f"
           }
          },
          "ternary": {
           "aaxis": {
            "gridcolor": "white",
            "linecolor": "white",
            "ticks": ""
           },
           "baxis": {
            "gridcolor": "white",
            "linecolor": "white",
            "ticks": ""
           },
           "bgcolor": "#E5ECF6",
           "caxis": {
            "gridcolor": "white",
            "linecolor": "white",
            "ticks": ""
           }
          },
          "title": {
           "x": 0.05
          },
          "xaxis": {
           "automargin": true,
           "gridcolor": "white",
           "linecolor": "white",
           "ticks": "",
           "title": {
            "standoff": 15
           },
           "zerolinecolor": "white",
           "zerolinewidth": 2
          },
          "yaxis": {
           "automargin": true,
           "gridcolor": "white",
           "linecolor": "white",
           "ticks": "",
           "title": {
            "standoff": 15
           },
           "zerolinecolor": "white",
           "zerolinewidth": 2
          }
         }
        },
        "title": {
         "font": {
          "color": "#4D5663"
         },
         "text": "minor"
        },
        "xaxis": {
         "gridcolor": "#E1E5ED",
         "showgrid": true,
         "tickfont": {
          "color": "#4D5663"
         },
         "title": {
          "font": {
           "color": "#4D5663"
          },
          "text": ""
         },
         "zerolinecolor": "#E1E5ED"
        },
        "yaxis": {
         "gridcolor": "#E1E5ED",
         "showgrid": true,
         "tickfont": {
          "color": "#4D5663"
         },
         "title": {
          "font": {
           "color": "#4D5663"
          },
          "text": ""
         },
         "zerolinecolor": "#E1E5ED"
        }
       }
      },
      "text/html": [
       "<div>                            <div id=\"81fbcac2-6c81-4dcd-ab17-bb786b7ec780\" class=\"plotly-graph-div\" style=\"height:525px; width:100%;\"></div>            <script type=\"text/javascript\">                require([\"plotly\"], function(Plotly) {                    window.PLOTLYENV=window.PLOTLYENV || {};\n",
       "                    window.PLOTLYENV.BASE_URL='https://plot.ly';                                    if (document.getElementById(\"81fbcac2-6c81-4dcd-ab17-bb786b7ec780\")) {                    Plotly.newPlot(                        \"81fbcac2-6c81-4dcd-ab17-bb786b7ec780\",                        [{\"marker\": {\"color\": \"rgba(255, 153, 51, 0.6)\", \"line\": {\"color\": \"rgba(255, 153, 51, 1.0)\", \"width\": 1}}, \"name\": \"None\", \"orientation\": \"v\", \"text\": \"\", \"type\": \"bar\", \"x\": [0, 1, 2, 3, 4, 5, 6, 7, 8, 9, 10, 11], \"y\": [0.16195224046022005, 0.03014516030424735, 0.08993909167778845, 0.1261668911358516, 0.02821709371392731, 0.12078263380972043, 0.023455154424039615, 0.16359499887584905, 0.08642460807252482, 0.032053164535953325, 0.10712390344531529, 0.039598903486405754]}],                        {\"legend\": {\"bgcolor\": \"#FFFFFF\", \"font\": {\"color\": \"#4D5663\"}}, \"paper_bgcolor\": \"#FFFFFF\", \"plot_bgcolor\": \"#FFFFFF\", \"template\": {\"data\": {\"bar\": [{\"error_x\": {\"color\": \"#2a3f5f\"}, \"error_y\": {\"color\": \"#2a3f5f\"}, \"marker\": {\"line\": {\"color\": \"#E5ECF6\", \"width\": 0.5}}, \"type\": \"bar\"}], \"barpolar\": [{\"marker\": {\"line\": {\"color\": \"#E5ECF6\", \"width\": 0.5}}, \"type\": \"barpolar\"}], \"carpet\": [{\"aaxis\": {\"endlinecolor\": \"#2a3f5f\", \"gridcolor\": \"white\", \"linecolor\": \"white\", \"minorgridcolor\": \"white\", \"startlinecolor\": \"#2a3f5f\"}, \"baxis\": {\"endlinecolor\": \"#2a3f5f\", \"gridcolor\": \"white\", \"linecolor\": \"white\", \"minorgridcolor\": \"white\", \"startlinecolor\": \"#2a3f5f\"}, \"type\": \"carpet\"}], \"choropleth\": [{\"colorbar\": {\"outlinewidth\": 0, \"ticks\": \"\"}, \"type\": \"choropleth\"}], \"contour\": [{\"colorbar\": {\"outlinewidth\": 0, \"ticks\": \"\"}, \"colorscale\": [[0.0, \"#0d0887\"], [0.1111111111111111, \"#46039f\"], [0.2222222222222222, \"#7201a8\"], [0.3333333333333333, \"#9c179e\"], [0.4444444444444444, \"#bd3786\"], [0.5555555555555556, \"#d8576b\"], [0.6666666666666666, \"#ed7953\"], [0.7777777777777778, \"#fb9f3a\"], [0.8888888888888888, \"#fdca26\"], [1.0, \"#f0f921\"]], \"type\": \"contour\"}], \"contourcarpet\": [{\"colorbar\": {\"outlinewidth\": 0, \"ticks\": \"\"}, \"type\": \"contourcarpet\"}], \"heatmap\": [{\"colorbar\": {\"outlinewidth\": 0, \"ticks\": \"\"}, \"colorscale\": [[0.0, \"#0d0887\"], [0.1111111111111111, \"#46039f\"], [0.2222222222222222, \"#7201a8\"], [0.3333333333333333, \"#9c179e\"], [0.4444444444444444, \"#bd3786\"], [0.5555555555555556, \"#d8576b\"], [0.6666666666666666, \"#ed7953\"], [0.7777777777777778, \"#fb9f3a\"], [0.8888888888888888, \"#fdca26\"], [1.0, \"#f0f921\"]], \"type\": \"heatmap\"}], \"heatmapgl\": [{\"colorbar\": {\"outlinewidth\": 0, \"ticks\": \"\"}, \"colorscale\": [[0.0, \"#0d0887\"], [0.1111111111111111, \"#46039f\"], [0.2222222222222222, \"#7201a8\"], [0.3333333333333333, \"#9c179e\"], [0.4444444444444444, \"#bd3786\"], [0.5555555555555556, \"#d8576b\"], [0.6666666666666666, \"#ed7953\"], [0.7777777777777778, \"#fb9f3a\"], [0.8888888888888888, \"#fdca26\"], [1.0, \"#f0f921\"]], \"type\": \"heatmapgl\"}], \"histogram\": [{\"marker\": {\"colorbar\": {\"outlinewidth\": 0, \"ticks\": \"\"}}, \"type\": \"histogram\"}], \"histogram2d\": [{\"colorbar\": {\"outlinewidth\": 0, \"ticks\": \"\"}, \"colorscale\": [[0.0, \"#0d0887\"], [0.1111111111111111, \"#46039f\"], [0.2222222222222222, \"#7201a8\"], [0.3333333333333333, \"#9c179e\"], [0.4444444444444444, \"#bd3786\"], [0.5555555555555556, \"#d8576b\"], [0.6666666666666666, \"#ed7953\"], [0.7777777777777778, \"#fb9f3a\"], [0.8888888888888888, \"#fdca26\"], [1.0, \"#f0f921\"]], \"type\": \"histogram2d\"}], \"histogram2dcontour\": [{\"colorbar\": {\"outlinewidth\": 0, \"ticks\": \"\"}, \"colorscale\": [[0.0, \"#0d0887\"], [0.1111111111111111, \"#46039f\"], [0.2222222222222222, \"#7201a8\"], [0.3333333333333333, \"#9c179e\"], [0.4444444444444444, \"#bd3786\"], [0.5555555555555556, \"#d8576b\"], [0.6666666666666666, \"#ed7953\"], [0.7777777777777778, \"#fb9f3a\"], [0.8888888888888888, \"#fdca26\"], [1.0, \"#f0f921\"]], \"type\": \"histogram2dcontour\"}], \"mesh3d\": [{\"colorbar\": {\"outlinewidth\": 0, \"ticks\": \"\"}, \"type\": \"mesh3d\"}], \"parcoords\": [{\"line\": {\"colorbar\": {\"outlinewidth\": 0, \"ticks\": \"\"}}, \"type\": \"parcoords\"}], \"pie\": [{\"automargin\": true, \"type\": \"pie\"}], \"scatter\": [{\"marker\": {\"colorbar\": {\"outlinewidth\": 0, \"ticks\": \"\"}}, \"type\": \"scatter\"}], \"scatter3d\": [{\"line\": {\"colorbar\": {\"outlinewidth\": 0, \"ticks\": \"\"}}, \"marker\": {\"colorbar\": {\"outlinewidth\": 0, \"ticks\": \"\"}}, \"type\": \"scatter3d\"}], \"scattercarpet\": [{\"marker\": {\"colorbar\": {\"outlinewidth\": 0, \"ticks\": \"\"}}, \"type\": \"scattercarpet\"}], \"scattergeo\": [{\"marker\": {\"colorbar\": {\"outlinewidth\": 0, \"ticks\": \"\"}}, \"type\": \"scattergeo\"}], \"scattergl\": [{\"marker\": {\"colorbar\": {\"outlinewidth\": 0, \"ticks\": \"\"}}, \"type\": \"scattergl\"}], \"scattermapbox\": [{\"marker\": {\"colorbar\": {\"outlinewidth\": 0, \"ticks\": \"\"}}, \"type\": \"scattermapbox\"}], \"scatterpolar\": [{\"marker\": {\"colorbar\": {\"outlinewidth\": 0, \"ticks\": \"\"}}, \"type\": \"scatterpolar\"}], \"scatterpolargl\": [{\"marker\": {\"colorbar\": {\"outlinewidth\": 0, \"ticks\": \"\"}}, \"type\": \"scatterpolargl\"}], \"scatterternary\": [{\"marker\": {\"colorbar\": {\"outlinewidth\": 0, \"ticks\": \"\"}}, \"type\": \"scatterternary\"}], \"surface\": [{\"colorbar\": {\"outlinewidth\": 0, \"ticks\": \"\"}, \"colorscale\": [[0.0, \"#0d0887\"], [0.1111111111111111, \"#46039f\"], [0.2222222222222222, \"#7201a8\"], [0.3333333333333333, \"#9c179e\"], [0.4444444444444444, \"#bd3786\"], [0.5555555555555556, \"#d8576b\"], [0.6666666666666666, \"#ed7953\"], [0.7777777777777778, \"#fb9f3a\"], [0.8888888888888888, \"#fdca26\"], [1.0, \"#f0f921\"]], \"type\": \"surface\"}], \"table\": [{\"cells\": {\"fill\": {\"color\": \"#EBF0F8\"}, \"line\": {\"color\": \"white\"}}, \"header\": {\"fill\": {\"color\": \"#C8D4E3\"}, \"line\": {\"color\": \"white\"}}, \"type\": \"table\"}]}, \"layout\": {\"annotationdefaults\": {\"arrowcolor\": \"#2a3f5f\", \"arrowhead\": 0, \"arrowwidth\": 1}, \"autotypenumbers\": \"strict\", \"coloraxis\": {\"colorbar\": {\"outlinewidth\": 0, \"ticks\": \"\"}}, \"colorscale\": {\"diverging\": [[0, \"#8e0152\"], [0.1, \"#c51b7d\"], [0.2, \"#de77ae\"], [0.3, \"#f1b6da\"], [0.4, \"#fde0ef\"], [0.5, \"#f7f7f7\"], [0.6, \"#e6f5d0\"], [0.7, \"#b8e186\"], [0.8, \"#7fbc41\"], [0.9, \"#4d9221\"], [1, \"#276419\"]], \"sequential\": [[0.0, \"#0d0887\"], [0.1111111111111111, \"#46039f\"], [0.2222222222222222, \"#7201a8\"], [0.3333333333333333, \"#9c179e\"], [0.4444444444444444, \"#bd3786\"], [0.5555555555555556, \"#d8576b\"], [0.6666666666666666, \"#ed7953\"], [0.7777777777777778, \"#fb9f3a\"], [0.8888888888888888, \"#fdca26\"], [1.0, \"#f0f921\"]], \"sequentialminus\": [[0.0, \"#0d0887\"], [0.1111111111111111, \"#46039f\"], [0.2222222222222222, \"#7201a8\"], [0.3333333333333333, \"#9c179e\"], [0.4444444444444444, \"#bd3786\"], [0.5555555555555556, \"#d8576b\"], [0.6666666666666666, \"#ed7953\"], [0.7777777777777778, \"#fb9f3a\"], [0.8888888888888888, \"#fdca26\"], [1.0, \"#f0f921\"]]}, \"colorway\": [\"#636efa\", \"#EF553B\", \"#00cc96\", \"#ab63fa\", \"#FFA15A\", \"#19d3f3\", \"#FF6692\", \"#B6E880\", \"#FF97FF\", \"#FECB52\"], \"font\": {\"color\": \"#2a3f5f\"}, \"geo\": {\"bgcolor\": \"white\", \"lakecolor\": \"white\", \"landcolor\": \"#E5ECF6\", \"showlakes\": true, \"showland\": true, \"subunitcolor\": \"white\"}, \"hoverlabel\": {\"align\": \"left\"}, \"hovermode\": \"closest\", \"mapbox\": {\"style\": \"light\"}, \"paper_bgcolor\": \"white\", \"plot_bgcolor\": \"#E5ECF6\", \"polar\": {\"angularaxis\": {\"gridcolor\": \"white\", \"linecolor\": \"white\", \"ticks\": \"\"}, \"bgcolor\": \"#E5ECF6\", \"radialaxis\": {\"gridcolor\": \"white\", \"linecolor\": \"white\", \"ticks\": \"\"}}, \"scene\": {\"xaxis\": {\"backgroundcolor\": \"#E5ECF6\", \"gridcolor\": \"white\", \"gridwidth\": 2, \"linecolor\": \"white\", \"showbackground\": true, \"ticks\": \"\", \"zerolinecolor\": \"white\"}, \"yaxis\": {\"backgroundcolor\": \"#E5ECF6\", \"gridcolor\": \"white\", \"gridwidth\": 2, \"linecolor\": \"white\", \"showbackground\": true, \"ticks\": \"\", \"zerolinecolor\": \"white\"}, \"zaxis\": {\"backgroundcolor\": \"#E5ECF6\", \"gridcolor\": \"white\", \"gridwidth\": 2, \"linecolor\": \"white\", \"showbackground\": true, \"ticks\": \"\", \"zerolinecolor\": \"white\"}}, \"shapedefaults\": {\"line\": {\"color\": \"#2a3f5f\"}}, \"ternary\": {\"aaxis\": {\"gridcolor\": \"white\", \"linecolor\": \"white\", \"ticks\": \"\"}, \"baxis\": {\"gridcolor\": \"white\", \"linecolor\": \"white\", \"ticks\": \"\"}, \"bgcolor\": \"#E5ECF6\", \"caxis\": {\"gridcolor\": \"white\", \"linecolor\": \"white\", \"ticks\": \"\"}}, \"title\": {\"x\": 0.05}, \"xaxis\": {\"automargin\": true, \"gridcolor\": \"white\", \"linecolor\": \"white\", \"ticks\": \"\", \"title\": {\"standoff\": 15}, \"zerolinecolor\": \"white\", \"zerolinewidth\": 2}, \"yaxis\": {\"automargin\": true, \"gridcolor\": \"white\", \"linecolor\": \"white\", \"ticks\": \"\", \"title\": {\"standoff\": 15}, \"zerolinecolor\": \"white\", \"zerolinewidth\": 2}}}, \"title\": {\"font\": {\"color\": \"#4D5663\"}, \"text\": \"minor\"}, \"xaxis\": {\"gridcolor\": \"#E1E5ED\", \"showgrid\": true, \"tickfont\": {\"color\": \"#4D5663\"}, \"title\": {\"font\": {\"color\": \"#4D5663\"}, \"text\": \"\"}, \"zerolinecolor\": \"#E1E5ED\"}, \"yaxis\": {\"gridcolor\": \"#E1E5ED\", \"showgrid\": true, \"tickfont\": {\"color\": \"#4D5663\"}, \"title\": {\"font\": {\"color\": \"#4D5663\"}, \"text\": \"\"}, \"zerolinecolor\": \"#E1E5ED\"}},                        {\"showLink\": true, \"linkText\": \"Export to plot.ly\", \"plotlyServerURL\": \"https://plot.ly\", \"responsive\": true}                    ).then(function(){\n",
       "                            \n",
       "var gd = document.getElementById('81fbcac2-6c81-4dcd-ab17-bb786b7ec780');\n",
       "var x = new MutationObserver(function (mutations, observer) {{\n",
       "        var display = window.getComputedStyle(gd).display;\n",
       "        if (!display || display === 'none') {{\n",
       "            console.log([gd, 'removed!']);\n",
       "            Plotly.purge(gd);\n",
       "            observer.disconnect();\n",
       "        }}\n",
       "}});\n",
       "\n",
       "// Listen for the removal of the full notebook cells\n",
       "var notebookContainer = gd.closest('#notebook-container');\n",
       "if (notebookContainer) {{\n",
       "    x.observe(notebookContainer, {childList: true});\n",
       "}}\n",
       "\n",
       "// Listen for the clearing of the current output cell\n",
       "var outputEl = gd.closest('.output');\n",
       "if (outputEl) {{\n",
       "    x.observe(outputEl, {childList: true});\n",
       "}}\n",
       "\n",
       "                        })                };                });            </script>        </div>"
      ]
     },
     "metadata": {},
     "output_type": "display_data"
    }
   ],
   "source": [
    "major_mean_pc_duration = {\n",
    " 0: 0.1792334741300649,\n",
    " 1: 0.016194246522623856,\n",
    " 2: 0.12655280537743901,\n",
    " 3: 0.025386044326330903,\n",
    " 4: 0.12121976418935039,\n",
    " 5: 0.09207725352852898,\n",
    " 6: 0.02930039349131656,\n",
    " 7: 0.19473155624848157,\n",
    " 8: 0.02324467767869272,\n",
    " 9: 0.09867587704734578,\n",
    " 10: 0.024848467922041463,\n",
    " 11: 0.08326001666922679}\n",
    "\n",
    "minor_mean_pc_duration = {\n",
    " 0: 0.16195224046022005,\n",
    " 1: 0.03014516030424735,\n",
    " 2: 0.08993909167778845,\n",
    " 3: 0.1261668911358516,\n",
    " 4: 0.02821709371392731,\n",
    " 5: 0.12078263380972043,\n",
    " 6: 0.023455154424039615,\n",
    " 7: 0.16359499887584905,\n",
    " 8: 0.08642460807252482,\n",
    " 9: 0.032053164535953325,\n",
    " 10: 0.10712390344531529,\n",
    " 11: 0.039598903486405754}\n",
    "pd.Series(major_mean_pc_duration).iplot('bar', title='major')\n",
    "pd.Series(minor_mean_pc_duration).iplot('bar', title='minor')"
   ]
  },
  {
   "cell_type": "markdown",
   "metadata": {},
   "source": [
    "### Loading the ground truth"
   ]
  },
  {
   "cell_type": "code",
   "execution_count": 14,
   "metadata": {},
   "outputs": [
    {
     "data": {
      "text/html": [
       "<div>\n",
       "<style scoped>\n",
       "    .dataframe tbody tr th:only-of-type {\n",
       "        vertical-align: middle;\n",
       "    }\n",
       "\n",
       "    .dataframe tbody tr th {\n",
       "        vertical-align: top;\n",
       "    }\n",
       "\n",
       "    .dataframe thead th {\n",
       "        text-align: right;\n",
       "    }\n",
       "</style>\n",
       "<table border=\"1\" class=\"dataframe\">\n",
       "  <thead>\n",
       "    <tr style=\"text-align: right;\">\n",
       "      <th></th>\n",
       "      <th>globalkey</th>\n",
       "      <th>mode</th>\n",
       "    </tr>\n",
       "    <tr>\n",
       "      <th>id</th>\n",
       "      <th></th>\n",
       "      <th></th>\n",
       "    </tr>\n",
       "  </thead>\n",
       "  <tbody>\n",
       "    <tr>\n",
       "      <th>0</th>\n",
       "      <td>A</td>\n",
       "      <td>major</td>\n",
       "    </tr>\n",
       "    <tr>\n",
       "      <th>1</th>\n",
       "      <td>A</td>\n",
       "      <td>major</td>\n",
       "    </tr>\n",
       "    <tr>\n",
       "      <th>2</th>\n",
       "      <td>A</td>\n",
       "      <td>major</td>\n",
       "    </tr>\n",
       "    <tr>\n",
       "      <th>3</th>\n",
       "      <td>A</td>\n",
       "      <td>major</td>\n",
       "    </tr>\n",
       "    <tr>\n",
       "      <th>4</th>\n",
       "      <td>A</td>\n",
       "      <td>major</td>\n",
       "    </tr>\n",
       "    <tr>\n",
       "      <th>5</th>\n",
       "      <td>A</td>\n",
       "      <td>major</td>\n",
       "    </tr>\n",
       "    <tr>\n",
       "      <th>6</th>\n",
       "      <td>A</td>\n",
       "      <td>major</td>\n",
       "    </tr>\n",
       "    <tr>\n",
       "      <th>7</th>\n",
       "      <td>A</td>\n",
       "      <td>major</td>\n",
       "    </tr>\n",
       "    <tr>\n",
       "      <th>8</th>\n",
       "      <td>a</td>\n",
       "      <td>minor</td>\n",
       "    </tr>\n",
       "    <tr>\n",
       "      <th>9</th>\n",
       "      <td>A</td>\n",
       "      <td>major</td>\n",
       "    </tr>\n",
       "    <tr>\n",
       "      <th>10</th>\n",
       "      <td>a</td>\n",
       "      <td>minor</td>\n",
       "    </tr>\n",
       "  </tbody>\n",
       "</table>\n",
       "</div>"
      ],
      "text/plain": [
       "   globalkey   mode\n",
       "id                 \n",
       "0          A  major\n",
       "1          A  major\n",
       "2          A  major\n",
       "3          A  major\n",
       "4          A  major\n",
       "5          A  major\n",
       "6          A  major\n",
       "7          A  major\n",
       "8          a  minor\n",
       "9          A  major\n",
       "10         a  minor"
      ]
     },
     "execution_count": 14,
     "metadata": {},
     "output_type": "execute_result"
    }
   ],
   "source": [
    "keys = pd.read_csv('keys.tsv', sep='\\t', index_col=0)\n",
    "keys['mode'] = keys.globalkey.str.isupper().replace({True: 'major', False:'minor'})\n",
    "keys.head(11)"
   ]
  }
 ],
 "metadata": {
  "kernelspec": {
   "display_name": "pitch_profiles",
   "language": "python",
   "name": "pitch_profiles"
  },
  "language_info": {
   "codemirror_mode": {
    "name": "ipython",
    "version": 3
   },
   "file_extension": ".py",
   "mimetype": "text/x-python",
   "name": "python",
   "nbconvert_exporter": "python",
   "pygments_lexer": "ipython3",
   "version": "3.8.8"
  }
 },
 "nbformat": 4,
 "nbformat_minor": 4
}
